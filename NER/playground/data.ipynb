{
 "cells": [
  {
   "cell_type": "code",
   "execution_count": 5,
   "id": "9c1000f9-99b3-4e80-8444-f02543f77008",
   "metadata": {},
   "outputs": [],
   "source": [
    "import pandas as pd"
   ]
  },
  {
   "cell_type": "markdown",
   "id": "faa7c206-4edb-48b1-be87-514e9bcee811",
   "metadata": {},
   "source": [
    "### 1.1. Download Data"
   ]
  },
  {
   "cell_type": "code",
   "execution_count": 6,
   "id": "1ef95324-2226-4b90-9086-3631d90acfd1",
   "metadata": {},
   "outputs": [
    {
     "name": "stdout",
     "output_type": "stream",
     "text": [
      "Warning: Looks like you're using an outdated `kagglehub` version (installed: 0.3.6), please consider upgrading to the latest version (0.3.12).\n",
      "Path to dataset files: /Users/emulie/.cache/kagglehub/datasets/naseralqaydeh/named-entity-recognition-ner-corpus/versions/3\n"
     ]
    }
   ],
   "source": [
    "import kagglehub\n",
    "\n",
    "# Download latest version\n",
    "path = kagglehub.dataset_download(\"naseralqaydeh/named-entity-recognition-ner-corpus\")\n",
    "\n",
    "print(\"Path to dataset files:\", path)"
   ]
  },
  {
   "cell_type": "code",
   "execution_count": null,
   "id": "f3eeb8ae-ad64-4964-8b31-fb19f4d66492",
   "metadata": {},
   "outputs": [],
   "source": []
  },
  {
   "cell_type": "markdown",
   "id": "56403b33-2ab3-4a85-a02d-f98f472fd08b",
   "metadata": {},
   "source": [
    "### 1.2. Read Data"
   ]
  },
  {
   "cell_type": "code",
   "execution_count": 7,
   "id": "c8133042-69b2-47b9-bfac-77ca022247c1",
   "metadata": {},
   "outputs": [],
   "source": [
    "data = pd.read_csv(f\"{path}/ner.csv\")"
   ]
  },
  {
   "cell_type": "code",
   "execution_count": 8,
   "id": "dd4be1a5-31f7-4db1-bb7e-e681ba13ba6f",
   "metadata": {},
   "outputs": [
    {
     "name": "stdout",
     "output_type": "stream",
     "text": [
      "Thousands of demonstrators have marched through London to protest the war in Iraq and demand the withdrawal of British troops from that country .\n",
      "['NNS', 'IN', 'NNS', 'VBP', 'VBN', 'IN', 'NNP', 'TO', 'VB', 'DT', 'NN', 'IN', 'NNP', 'CC', 'VB', 'DT', 'NN', 'IN', 'JJ', 'NNS', 'IN', 'DT', 'NN', '.']\n",
      "['O', 'O', 'O', 'O', 'O', 'O', 'B-geo', 'O', 'O', 'O', 'O', 'O', 'B-geo', 'O', 'O', 'O', 'O', 'O', 'B-gpe', 'O', 'O', 'O', 'O', 'O']\n"
     ]
    }
   ],
   "source": [
    "print(data['Sentence'].iloc[0])\n",
    "print(data['POS'].iloc[0])\n",
    "print(data['Tag'].iloc[0])"
   ]
  },
  {
   "cell_type": "code",
   "execution_count": 9,
   "id": "1ea96442-bf45-4286-8756-a9670dbbeeac",
   "metadata": {},
   "outputs": [
    {
     "data": {
      "text/plain": [
       "47959"
      ]
     },
     "execution_count": 9,
     "metadata": {},
     "output_type": "execute_result"
    }
   ],
   "source": [
    "len(data)"
   ]
  },
  {
   "cell_type": "code",
   "execution_count": 10,
   "id": "be07b8d5-2542-49cd-9629-55e8babd1b1e",
   "metadata": {},
   "outputs": [],
   "source": [
    "sentences = data['Sentence']\n",
    "pos = data['POS']\n",
    "tags = data['Tag']"
   ]
  },
  {
   "cell_type": "code",
   "execution_count": 11,
   "id": "8b50a3e7-c549-4525-b9be-70e0c58832d5",
   "metadata": {},
   "outputs": [],
   "source": [
    "# --- read tags as array instead of string\n",
    "tags = [tag[2:-2].split(\"', '\") for tag in tags]"
   ]
  },
  {
   "cell_type": "code",
   "execution_count": null,
   "id": "9115ae83-c96e-4e7e-b339-01964b090821",
   "metadata": {},
   "outputs": [],
   "source": []
  },
  {
   "cell_type": "markdown",
   "id": "6a028d59-1d06-4f42-b2b2-a1c8b2675cd5",
   "metadata": {},
   "source": [
    "### 1.3. Split the data"
   ]
  },
  {
   "cell_type": "code",
   "execution_count": 12,
   "id": "ea583195-4de1-4598-a839-15508e78fecd",
   "metadata": {},
   "outputs": [],
   "source": [
    "from sklearn.model_selection import train_test_split\n",
    "\n",
    "X_train, X_tmp, y_train, y_tmp = train_test_split(sentences, tags, test_size=0.5, random_state=420)\n",
    "X_val, X_test, y_val, y_test = train_test_split(X_tmp, y_tmp, test_size=0.2, random_state=420)\n"
   ]
  },
  {
   "cell_type": "code",
   "execution_count": null,
   "id": "635b6fa7-da66-4b44-b5bf-d3594c8d6e15",
   "metadata": {},
   "outputs": [],
   "source": []
  },
  {
   "cell_type": "markdown",
   "id": "06061c6f-c6ed-46c7-8912-557af2bd7e18",
   "metadata": {},
   "source": [
    "### 2.1. Preprocessing - Tokenization"
   ]
  },
  {
   "cell_type": "code",
   "execution_count": 13,
   "id": "b0d9b7be-bdba-44cc-9168-c348c0025462",
   "metadata": {},
   "outputs": [
    {
     "name": "stderr",
     "output_type": "stream",
     "text": [
      "\n",
      "A module that was compiled using NumPy 1.x cannot be run in\n",
      "NumPy 2.2.4 as it may crash. To support both 1.x and 2.x\n",
      "versions of NumPy, modules must be compiled with NumPy 2.0.\n",
      "Some module may need to rebuild instead e.g. with 'pybind11>=2.12'.\n",
      "\n",
      "If you are a user of the module, the easiest solution will be to\n",
      "downgrade to 'numpy<2' or try to upgrade the affected module.\n",
      "We expect that some modules will need time to support NumPy 2.\n",
      "\n",
      "Traceback (most recent call last):  File \"/Library/Frameworks/Python.framework/Versions/3.10/lib/python3.10/runpy.py\", line 196, in _run_module_as_main\n",
      "    return _run_code(code, main_globals, None,\n",
      "  File \"/Library/Frameworks/Python.framework/Versions/3.10/lib/python3.10/runpy.py\", line 86, in _run_code\n",
      "    exec(code, run_globals)\n",
      "  File \"/Library/Frameworks/Python.framework/Versions/3.10/lib/python3.10/site-packages/ipykernel_launcher.py\", line 18, in <module>\n",
      "    app.launch_new_instance()\n",
      "  File \"/Library/Frameworks/Python.framework/Versions/3.10/lib/python3.10/site-packages/traitlets/config/application.py\", line 1075, in launch_instance\n",
      "    app.start()\n",
      "  File \"/Library/Frameworks/Python.framework/Versions/3.10/lib/python3.10/site-packages/ipykernel/kernelapp.py\", line 739, in start\n",
      "    self.io_loop.start()\n",
      "  File \"/Library/Frameworks/Python.framework/Versions/3.10/lib/python3.10/site-packages/tornado/platform/asyncio.py\", line 205, in start\n",
      "    self.asyncio_loop.run_forever()\n",
      "  File \"/Library/Frameworks/Python.framework/Versions/3.10/lib/python3.10/asyncio/base_events.py\", line 595, in run_forever\n",
      "    self._run_once()\n",
      "  File \"/Library/Frameworks/Python.framework/Versions/3.10/lib/python3.10/asyncio/base_events.py\", line 1881, in _run_once\n",
      "    handle._run()\n",
      "  File \"/Library/Frameworks/Python.framework/Versions/3.10/lib/python3.10/asyncio/events.py\", line 80, in _run\n",
      "    self._context.run(self._callback, *self._args)\n",
      "  File \"/Library/Frameworks/Python.framework/Versions/3.10/lib/python3.10/site-packages/ipykernel/kernelbase.py\", line 545, in dispatch_queue\n",
      "    await self.process_one()\n",
      "  File \"/Library/Frameworks/Python.framework/Versions/3.10/lib/python3.10/site-packages/ipykernel/kernelbase.py\", line 534, in process_one\n",
      "    await dispatch(*args)\n",
      "  File \"/Library/Frameworks/Python.framework/Versions/3.10/lib/python3.10/site-packages/ipykernel/kernelbase.py\", line 437, in dispatch_shell\n",
      "    await result\n",
      "  File \"/Library/Frameworks/Python.framework/Versions/3.10/lib/python3.10/site-packages/ipykernel/ipkernel.py\", line 362, in execute_request\n",
      "    await super().execute_request(stream, ident, parent)\n",
      "  File \"/Library/Frameworks/Python.framework/Versions/3.10/lib/python3.10/site-packages/ipykernel/kernelbase.py\", line 778, in execute_request\n",
      "    reply_content = await reply_content\n",
      "  File \"/Library/Frameworks/Python.framework/Versions/3.10/lib/python3.10/site-packages/ipykernel/ipkernel.py\", line 449, in do_execute\n",
      "    res = shell.run_cell(\n",
      "  File \"/Library/Frameworks/Python.framework/Versions/3.10/lib/python3.10/site-packages/ipykernel/zmqshell.py\", line 549, in run_cell\n",
      "    return super().run_cell(*args, **kwargs)\n",
      "  File \"/Library/Frameworks/Python.framework/Versions/3.10/lib/python3.10/site-packages/IPython/core/interactiveshell.py\", line 3075, in run_cell\n",
      "    result = self._run_cell(\n",
      "  File \"/Library/Frameworks/Python.framework/Versions/3.10/lib/python3.10/site-packages/IPython/core/interactiveshell.py\", line 3130, in _run_cell\n",
      "    result = runner(coro)\n",
      "  File \"/Library/Frameworks/Python.framework/Versions/3.10/lib/python3.10/site-packages/IPython/core/async_helpers.py\", line 128, in _pseudo_sync_runner\n",
      "    coro.send(None)\n",
      "  File \"/Library/Frameworks/Python.framework/Versions/3.10/lib/python3.10/site-packages/IPython/core/interactiveshell.py\", line 3334, in run_cell_async\n",
      "    has_raised = await self.run_ast_nodes(code_ast.body, cell_name,\n",
      "  File \"/Library/Frameworks/Python.framework/Versions/3.10/lib/python3.10/site-packages/IPython/core/interactiveshell.py\", line 3517, in run_ast_nodes\n",
      "    if await self.run_code(code, result, async_=asy):\n",
      "  File \"/Library/Frameworks/Python.framework/Versions/3.10/lib/python3.10/site-packages/IPython/core/interactiveshell.py\", line 3577, in run_code\n",
      "    exec(code_obj, self.user_global_ns, self.user_ns)\n",
      "  File \"/var/folders/rq/6nv9m_7j7wnb5x_4cztrwm0h0000gp/T/ipykernel_55494/3075263834.py\", line 1, in <module>\n",
      "    import spacy\n",
      "  File \"/Users/emulie/Library/Python/3.10/lib/python/site-packages/spacy/__init__.py\", line 6, in <module>\n",
      "    from .errors import setup_default_warnings\n",
      "  File \"/Users/emulie/Library/Python/3.10/lib/python/site-packages/spacy/errors.py\", line 3, in <module>\n",
      "    from .compat import Literal\n",
      "  File \"/Users/emulie/Library/Python/3.10/lib/python/site-packages/spacy/compat.py\", line 4, in <module>\n",
      "    from thinc.util import copy_array\n",
      "  File \"/Users/emulie/Library/Python/3.10/lib/python/site-packages/thinc/__init__.py\", line 5, in <module>\n",
      "    from .config import registry\n",
      "  File \"/Users/emulie/Library/Python/3.10/lib/python/site-packages/thinc/config.py\", line 5, in <module>\n",
      "    from .types import Decorator\n",
      "  File \"/Users/emulie/Library/Python/3.10/lib/python/site-packages/thinc/types.py\", line 25, in <module>\n",
      "    from .compat import cupy, has_cupy\n",
      "  File \"/Users/emulie/Library/Python/3.10/lib/python/site-packages/thinc/compat.py\", line 35, in <module>\n",
      "    import torch\n",
      "  File \"/Library/Frameworks/Python.framework/Versions/3.10/lib/python3.10/site-packages/torch/__init__.py\", line 1477, in <module>\n",
      "    from .functional import *  # noqa: F403\n",
      "  File \"/Library/Frameworks/Python.framework/Versions/3.10/lib/python3.10/site-packages/torch/functional.py\", line 9, in <module>\n",
      "    import torch.nn.functional as F\n",
      "  File \"/Library/Frameworks/Python.framework/Versions/3.10/lib/python3.10/site-packages/torch/nn/__init__.py\", line 1, in <module>\n",
      "    from .modules import *  # noqa: F403\n",
      "  File \"/Library/Frameworks/Python.framework/Versions/3.10/lib/python3.10/site-packages/torch/nn/modules/__init__.py\", line 35, in <module>\n",
      "    from .transformer import TransformerEncoder, TransformerDecoder, \\\n",
      "  File \"/Library/Frameworks/Python.framework/Versions/3.10/lib/python3.10/site-packages/torch/nn/modules/transformer.py\", line 20, in <module>\n",
      "    device: torch.device = torch.device(torch._C._get_default_device()),  # torch.device('cpu'),\n",
      "/Library/Frameworks/Python.framework/Versions/3.10/lib/python3.10/site-packages/torch/nn/modules/transformer.py:20: UserWarning: Failed to initialize NumPy: _ARRAY_API not found (Triggered internally at /Users/runner/work/pytorch/pytorch/pytorch/torch/csrc/utils/tensor_numpy.cpp:84.)\n",
      "  device: torch.device = torch.device(torch._C._get_default_device()),  # torch.device('cpu'),\n"
     ]
    }
   ],
   "source": [
    "import spacy\n",
    "\n",
    "tokenizer = spacy.load(\"en_core_web_sm\")"
   ]
  },
  {
   "cell_type": "code",
   "execution_count": 14,
   "id": "1294fe84-165e-4d49-bf64-f4752d2fc807",
   "metadata": {},
   "outputs": [],
   "source": [
    "doc = tokenizer(sentences[0])"
   ]
  },
  {
   "cell_type": "code",
   "execution_count": 15,
   "id": "d2a371ff-252c-4e22-a9a1-3f8b2c10d86c",
   "metadata": {},
   "outputs": [
    {
     "data": {
      "text/plain": [
       "1"
      ]
     },
     "execution_count": 15,
     "metadata": {},
     "output_type": "execute_result"
    }
   ],
   "source": [
    "from collections import defaultdict \n",
    "\n",
    "vocab = defaultdict(lambda: len(vocab))\n",
    "UNK_TOKEN = \"<unk>\"\n",
    "PAD_TOKEN = \"<pad>\"\n",
    "vocab[UNK_TOKEN]\n",
    "vocab[PAD_TOKEN]"
   ]
  },
  {
   "cell_type": "code",
   "execution_count": 16,
   "id": "4f0856dc-c361-4e29-ace3-228ec2a7117d",
   "metadata": {},
   "outputs": [],
   "source": [
    "def tokenize_sentence(sentence, vocab):\n",
    "    doc = tokenizer(sentence)\n",
    "    return [vocab[token.text.lower()] for token in doc]"
   ]
  },
  {
   "cell_type": "code",
   "execution_count": 17,
   "id": "aa814758-c325-4312-b0fe-70baaabaf56e",
   "metadata": {},
   "outputs": [],
   "source": [
    "tokenized_sentences = [tokenize_sentence(sentence, vocab) for sentence in sentences]"
   ]
  },
  {
   "cell_type": "code",
   "execution_count": 18,
   "id": "324a0c74-acb8-4831-854a-9c5e20bdbed9",
   "metadata": {},
   "outputs": [],
   "source": [
    "# --- OPTIONAL: pad sequence to be the same length (for Neural Network Solution)"
   ]
  },
  {
   "cell_type": "code",
   "execution_count": 19,
   "id": "e54e5639-e2e2-4562-9a42-c1996e0e51a1",
   "metadata": {},
   "outputs": [],
   "source": [
    "longest = max([len(seq) for seq in tokenized_sentences])\n",
    "padded_sentences = [seq + [vocab[PAD_TOKEN]] * (longest - len(seq)) for seq in tokenized_sentences]"
   ]
  },
  {
   "cell_type": "code",
   "execution_count": null,
   "id": "2527a4b4-8033-44e6-b4ee-882a8f8b3031",
   "metadata": {},
   "outputs": [],
   "source": []
  },
  {
   "cell_type": "markdown",
   "id": "07063d08-a529-4442-b7fc-4a582f07dc64",
   "metadata": {},
   "source": [
    "### 2.2. Preprocessing - Encoding Label"
   ]
  },
  {
   "cell_type": "code",
   "execution_count": 20,
   "id": "ad367ef5-3ba3-4fa3-93f7-15ec57bea49d",
   "metadata": {},
   "outputs": [
    {
     "data": {
      "text/plain": [
       "0"
      ]
     },
     "execution_count": 20,
     "metadata": {},
     "output_type": "execute_result"
    }
   ],
   "source": [
    "labels = defaultdict(lambda: len(labels))\n",
    "PAD_TAG = \"B-UNK\"\n",
    "labels[PAD_TAG]"
   ]
  },
  {
   "cell_type": "code",
   "execution_count": 24,
   "id": "2c8c6550-3a4b-4da9-aa11-eb5b58c9b966",
   "metadata": {},
   "outputs": [
    {
     "data": {
      "text/plain": [
       "defaultdict(<function __main__.<lambda>()>,\n",
       "            {'B-UNK': 0,\n",
       "             '<pad>': 1,\n",
       "             'O': 2,\n",
       "             'B-geo': 3,\n",
       "             'B-gpe': 4,\n",
       "             'B-per': 5,\n",
       "             'I-geo': 6,\n",
       "             'B-org': 7,\n",
       "             'I-org': 8,\n",
       "             'B-tim': 9,\n",
       "             'B-art': 10,\n",
       "             'I-art': 11,\n",
       "             'I-per': 12,\n",
       "             'I-gpe': 13,\n",
       "             'I-tim': 14,\n",
       "             'B-nat': 15,\n",
       "             'B-eve': 16,\n",
       "             'I-eve': 17,\n",
       "             'I-nat': 18})"
      ]
     },
     "execution_count": 24,
     "metadata": {},
     "output_type": "execute_result"
    }
   ],
   "source": [
    "labels"
   ]
  },
  {
   "cell_type": "code",
   "execution_count": 21,
   "id": "a8a5af86-094b-48fc-a2c2-5d354a3937ff",
   "metadata": {},
   "outputs": [],
   "source": [
    "padded_tags = [seq + [labels[PAD_TOKEN]] * (longest - len(seq)) for seq in tags]"
   ]
  },
  {
   "cell_type": "code",
   "execution_count": null,
   "id": "cd50040b-55a3-40e4-8608-b853bfb0c373",
   "metadata": {},
   "outputs": [],
   "source": []
  },
  {
   "cell_type": "code",
   "execution_count": 22,
   "id": "2f0d7bcc-5212-4092-a353-cae651d5e25f",
   "metadata": {},
   "outputs": [],
   "source": [
    "def tokenize_label(tag, labels):\n",
    "    return [labels[t] for t in tag]"
   ]
  },
  {
   "cell_type": "code",
   "execution_count": 23,
   "id": "b39fd5cf-26ef-4d76-89b3-617642af572c",
   "metadata": {},
   "outputs": [],
   "source": [
    "tokenized_tags = [tokenize_label(tag, labels) for tag in tags]"
   ]
  },
  {
   "cell_type": "code",
   "execution_count": null,
   "id": "58d25e75-9be7-41a9-8086-5b54b336a0ef",
   "metadata": {},
   "outputs": [],
   "source": []
  },
  {
   "cell_type": "code",
   "execution_count": null,
   "id": "1a316c2c-24a1-4cda-8e77-1d563ae22236",
   "metadata": {},
   "outputs": [],
   "source": [
    "print(len(vocab))\n",
    "print(len(labels))"
   ]
  },
  {
   "cell_type": "markdown",
   "id": "d5b1510a-b120-4698-af15-bc7b89000cc8",
   "metadata": {},
   "source": [
    "### 3.0. Defining Masked Loss and Masked Accuracy Functions"
   ]
  },
  {
   "cell_type": "markdown",
   "id": "714fca87-b2ea-4ff9-af1e-e515f2d64666",
   "metadata": {},
   "source": [
    "Notes:\n",
    "- We need to define a \"masked\" loss and \"masked\" accuracy to account for sequence with\n",
    "  different lengths. Because neural network need fixed-size input, we need to pad shorter\n",
    "  sequence with a special token\n",
    "- This padding shouldn't be taken into account toward loss and accuracy, so we need to\n",
    "  ignore these \"padded\" parts during loss and accuracy calculation"
   ]
  },
  {
   "cell_type": "code",
   "execution_count": 20,
   "id": "44258710-59c2-42a1-a261-7993ef5d6263",
   "metadata": {},
   "outputs": [],
   "source": [
    "def masked_loss(y_pred, y_true, ignore_index=0):\n",
    "    \n",
    "    pass"
   ]
  },
  {
   "cell_type": "code",
   "execution_count": 21,
   "id": "9d1bf76d-0bd3-42ba-b7a8-5bf6469c24ef",
   "metadata": {},
   "outputs": [],
   "source": [
    "def masked_accuracy(y_pred, y_true, ignore_index=0):\n",
    "    pass"
   ]
  },
  {
   "cell_type": "markdown",
   "id": "1b17c44e-c893-4cde-b7aa-77bab29ee55b",
   "metadata": {},
   "source": [
    "### 3.1. Model - Bidirectional LSTM"
   ]
  },
  {
   "cell_type": "code",
   "execution_count": 22,
   "id": "de0fea07-6dc6-45c8-8012-153600b82651",
   "metadata": {},
   "outputs": [],
   "source": [
    "import torch\n",
    "import torch.nn as nn\n",
    "import torch.nn.functional as F"
   ]
  },
  {
   "cell_type": "code",
   "execution_count": 23,
   "id": "294c5734-6137-42e5-9a28-ea5bd7bc2ebd",
   "metadata": {},
   "outputs": [],
   "source": [
    "class NERLSTM(nn.Module):\n",
    "    \"\"\"\n",
    "    1. Embedding => vocab_size, embedding_dim\n",
    "    2. LSTM => \n",
    "    3. Classifier (Linear Layer) =>\n",
    "    \"\"\"\n",
    "\n",
    "    def __init__(self, vocab_size, embedding_dim, hidden_dim, output_dim, padding_idx=0, \n",
    "                device='cpu'):\n",
    "        super(NERLSTM, self).__init__()\n",
    "        self.embedding = nn.Embedding(num_embeddings=vocab_size, embedding_dim=embedding_dim, \n",
    "            padding_idx=padding_idx).to(device)\n",
    "        self.lstm = nn.LSTM(input_size=embedding_dim, hidden_size=hidden_dim, \n",
    "                            batch_first=True).to(device)\n",
    "        self.fc = nn.Linear(in_features=hidden_dim, out_features=output_dim).to(device)\n",
    "\n",
    "    def forward(self, x):\n",
    "        x = x.to(device)\n",
    "        embedded = self.embedding(x)\n",
    "        output, _ = self.lstm(x)\n",
    "        pred = self.linear(output)\n",
    "        return F.log_softmax(pred, dim=1)"
   ]
  },
  {
   "cell_type": "code",
   "execution_count": null,
   "id": "ff120f55-3c0c-4d9b-b9b2-222137389525",
   "metadata": {},
   "outputs": [],
   "source": []
  },
  {
   "cell_type": "code",
   "execution_count": 24,
   "id": "25331084-fa12-459c-8391-5573f126e16c",
   "metadata": {},
   "outputs": [],
   "source": [
    "device = torch.device('mps')"
   ]
  },
  {
   "cell_type": "code",
   "execution_count": 25,
   "id": "02827c0c-1817-4086-b22b-419fb3996bed",
   "metadata": {},
   "outputs": [],
   "source": [
    "model = NERLSTM(vocab_size=len(vocab), embedding_dim=128, hidden_dim=256, \n",
    "                output_dim=len(labels), device=device)\n",
    "optimizer = torch.optim.Adam(model.parameters(), lr=0.01)"
   ]
  },
  {
   "cell_type": "code",
   "execution_count": 26,
   "id": "a20cfe65-310c-4649-a191-9b3c8ae936b7",
   "metadata": {},
   "outputs": [],
   "source": [
    "X = torch.tensor(padded_sentences).long()"
   ]
  },
  {
   "cell_type": "code",
   "execution_count": 27,
   "id": "80e11f1c-226c-4345-9e6b-9bbcd5b4579f",
   "metadata": {},
   "outputs": [],
   "source": [
    "x0 = X[:32].to(device)"
   ]
  },
  {
   "cell_type": "code",
   "execution_count": 1,
   "id": "943bffad-e632-4a2a-b074-f20fe619d9f2",
   "metadata": {},
   "outputs": [
    {
     "ename": "NameError",
     "evalue": "name 'vocab' is not defined",
     "output_type": "error",
     "traceback": [
      "\u001b[0;31m---------------------------------------------------------------------------\u001b[0m",
      "\u001b[0;31mNameError\u001b[0m                                 Traceback (most recent call last)",
      "Cell \u001b[0;32mIn[1], line 1\u001b[0m\n\u001b[0;32m----> 1\u001b[0m \u001b[38;5;28mprint\u001b[39m(\u001b[38;5;28mlen\u001b[39m(\u001b[43mvocab\u001b[49m))\n\u001b[1;32m      2\u001b[0m \u001b[38;5;28mprint\u001b[39m(\u001b[38;5;28mlen\u001b[39m(labels))\n",
      "\u001b[0;31mNameError\u001b[0m: name 'vocab' is not defined"
     ]
    }
   ],
   "source": []
  },
  {
   "cell_type": "code",
   "execution_count": null,
   "id": "69f117d9-d079-445b-bdd4-8b2c51b29515",
   "metadata": {},
   "outputs": [],
   "source": [
    "model(x0)"
   ]
  },
  {
   "cell_type": "code",
   "execution_count": null,
   "id": "f223d151-53dc-417e-a21a-723369aacf1b",
   "metadata": {},
   "outputs": [],
   "source": []
  },
  {
   "cell_type": "code",
   "execution_count": null,
   "id": "aa6eb791-c89b-407d-8273-c37847fb03a2",
   "metadata": {},
   "outputs": [],
   "source": []
  },
  {
   "cell_type": "code",
   "execution_count": null,
   "id": "59d24f0b-46a8-4c01-ab87-eb4a25fd0ac4",
   "metadata": {},
   "outputs": [],
   "source": []
  }
 ],
 "metadata": {
  "kernelspec": {
   "display_name": "Python 3 (ipykernel)",
   "language": "python",
   "name": "python3"
  },
  "language_info": {
   "codemirror_mode": {
    "name": "ipython",
    "version": 3
   },
   "file_extension": ".py",
   "mimetype": "text/x-python",
   "name": "python",
   "nbconvert_exporter": "python",
   "pygments_lexer": "ipython3",
   "version": "3.10.2"
  }
 },
 "nbformat": 4,
 "nbformat_minor": 5
}
