{
 "cells": [
  {
   "cell_type": "code",
   "execution_count": 2,
   "id": "81af4bcf-0911-4f1d-80a8-0a75eb80d37e",
   "metadata": {},
   "outputs": [],
   "source": [
    "import pandas as pd"
   ]
  },
  {
   "cell_type": "markdown",
   "id": "a30c151d-2c4e-45eb-af4e-32e5ce75dc06",
   "metadata": {},
   "source": [
    "### 1.1. Download Data"
   ]
  },
  {
   "cell_type": "code",
   "execution_count": 4,
   "id": "4dbed76c-4fd8-481b-b95b-a103fb6aacb5",
   "metadata": {},
   "outputs": [
    {
     "name": "stderr",
     "output_type": "stream",
     "text": [
      "/Users/emulie/Library/Python/3.10/lib/python/site-packages/tqdm/auto.py:21: TqdmWarning: IProgress not found. Please update jupyter and ipywidgets. See https://ipywidgets.readthedocs.io/en/stable/user_install.html\n",
      "  from .autonotebook import tqdm as notebook_tqdm\n"
     ]
    },
    {
     "name": "stdout",
     "output_type": "stream",
     "text": [
      "Warning: Looks like you're using an outdated `kagglehub` version (installed: 0.3.6), please consider upgrading to the latest version (0.3.12).\n",
      "Path to dataset files: /Users/emulie/.cache/kagglehub/datasets/naseralqaydeh/named-entity-recognition-ner-corpus/versions/3\n"
     ]
    }
   ],
   "source": [
    "import kagglehub\n",
    "\n",
    "# Download latest version\n",
    "path = kagglehub.dataset_download(\"naseralqaydeh/named-entity-recognition-ner-corpus\")\n",
    "\n",
    "print(\"Path to dataset files:\", path)"
   ]
  },
  {
   "cell_type": "code",
   "execution_count": 5,
   "id": "e964d25f-98b8-41b6-8e28-b114f251d8ad",
   "metadata": {},
   "outputs": [],
   "source": [
    "data = pd.read_csv(f\"{path}/ner.csv\")"
   ]
  },
  {
   "cell_type": "code",
   "execution_count": 6,
   "id": "30cade7f-3e1d-4265-ab5b-dce808e76f9e",
   "metadata": {
    "scrolled": true
   },
   "outputs": [
    {
     "name": "stdout",
     "output_type": "stream",
     "text": [
      "Thousands of demonstrators have marched through London to protest the war in Iraq and demand the withdrawal of British troops from that country .\n",
      "['NNS', 'IN', 'NNS', 'VBP', 'VBN', 'IN', 'NNP', 'TO', 'VB', 'DT', 'NN', 'IN', 'NNP', 'CC', 'VB', 'DT', 'NN', 'IN', 'JJ', 'NNS', 'IN', 'DT', 'NN', '.']\n",
      "['O', 'O', 'O', 'O', 'O', 'O', 'B-geo', 'O', 'O', 'O', 'O', 'O', 'B-geo', 'O', 'O', 'O', 'O', 'O', 'B-gpe', 'O', 'O', 'O', 'O', 'O']\n"
     ]
    }
   ],
   "source": [
    "print(data['Sentence'].iloc[0])\n",
    "print(data['POS'].iloc[0])\n",
    "print(data['Tag'].iloc[0])"
   ]
  },
  {
   "cell_type": "code",
   "execution_count": 31,
   "id": "4c659d02-c2cc-49f0-8a5d-4a84f988a11b",
   "metadata": {},
   "outputs": [],
   "source": [
    "# --- read tags as array instead of string\n",
    "data['Tag'] = [tag[2:-2].split(\"', '\") for tag in data['Tag']]"
   ]
  },
  {
   "cell_type": "markdown",
   "id": "83b63fca-b33f-4e9f-a52f-cf03be60348b",
   "metadata": {},
   "source": [
    "### 2. Create Train/Test Dataset"
   ]
  },
  {
   "cell_type": "markdown",
   "id": "ef8fc3ec-a9cc-4df3-8314-c22515f8ecc5",
   "metadata": {},
   "source": [
    "#### 2.1. Create Dataset in spacy format"
   ]
  },
  {
   "cell_type": "markdown",
   "id": "b50a219d-048b-44c0-84a4-a9009c1f2f28",
   "metadata": {},
   "source": [
    "Create train data for what spacy NER expect: ` (\"Some text here\", {\"entities\": [(start_char, end_char, \"LABEL\")]}),`"
   ]
  },
  {
   "cell_type": "code",
   "execution_count": 81,
   "id": "ada295c0-1153-4f17-8bf1-368a68e46235",
   "metadata": {},
   "outputs": [],
   "source": [
    "def bio_to_spacy_format(data):\n",
    "    formatted_data = []\n",
    "    \n",
    "    for i in range(len(data)):\n",
    "        sentence = data['Sentence'][i]\n",
    "        pos_tags = data['POS'][i]      # Not needed for NER\n",
    "        ner_tags = data['Tag'][i]\n",
    "        \n",
    "        words = sentence.split()       # Assuming space tokenization\n",
    "        entities = []\n",
    "        start, end = 0, 0\n",
    "\n",
    "        # print(sentence, ner_tags)\n",
    "        \n",
    "        for word, tag in zip(words, ner_tags):\n",
    "            # print(word, tag)\n",
    "            if tag.startswith('B-'):    # Beginning of an entity\n",
    "                label = tag[2:]\n",
    "                end += len(word) + 1\n",
    "            elif tag.startswith('I-'):\n",
    "                end += len(word) + 1\n",
    "            elif tag.startswith('O') and start != end:\n",
    "                entities.append((start, end, label))\n",
    "                end += len(word) + 1\n",
    "                start = end\n",
    "            else: \n",
    "                end += len(word) + 1\n",
    "                start = end\n",
    "\n",
    "        formatted_data.append((sentence, {\"entities\": entities}))\n",
    "    \n",
    "    return formatted_data"
   ]
  },
  {
   "cell_type": "code",
   "execution_count": 82,
   "id": "b4759b9d-b968-429e-bd8c-18690c82ace7",
   "metadata": {},
   "outputs": [],
   "source": [
    "DATASET = bio_to_spacy_format(data)"
   ]
  },
  {
   "cell_type": "code",
   "execution_count": 60,
   "id": "8bdc158f-c2d3-49bb-8e0f-963ffd1d4e3e",
   "metadata": {},
   "outputs": [
    {
     "data": {
      "text/plain": [
       "[('Thousands of demonstrators have marched through London to protest the war in Iraq and demand the withdrawal of British troops from that country .',\n",
       "  {'entities': [(48, 55, 'geo'), (77, 82, 'geo'), (111, 119, 'gpe')]}),\n",
       " ('Families of soldiers killed in the conflict joined the protesters who carried banners with such slogans as \" Bush Number One Terrorist \" and \" Stop the Bombings . \"',\n",
       "  {'entities': [(109, 114, 'per')]}),\n",
       " ('They marched from the Houses of Parliament to a rally in Hyde Park .',\n",
       "  {'entities': [(57, 67, 'geo')]}),\n",
       " ('Police put the number of marchers at 10,000 while organizers claimed it was 1,00,000 .',\n",
       "  {'entities': []}),\n",
       " (\"The protest comes on the eve of the annual conference of Britain 's ruling Labor Party in the southern English seaside resort of Brighton .\",\n",
       "  {'entities': [(57, 65, 'geo'),\n",
       "    (75, 87, 'org'),\n",
       "    (103, 111, 'gpe'),\n",
       "    (129, 138, 'geo')]})]"
      ]
     },
     "execution_count": 60,
     "metadata": {},
     "output_type": "execute_result"
    }
   ],
   "source": [
    "DATASET[:5]"
   ]
  },
  {
   "cell_type": "markdown",
   "id": "b1a78951-0139-48bd-a803-c1ff11aedf28",
   "metadata": {},
   "source": [
    "#### 2.2. Split Train/Test"
   ]
  },
  {
   "cell_type": "code",
   "execution_count": 79,
   "id": "9ef38c47-6f5b-4fb4-b9f9-e480b5591d61",
   "metadata": {},
   "outputs": [],
   "source": [
    "N = int(len(DATASET) * 0.8)\n",
    "TRAIN_DATA = DATASET[:N]\n",
    "TEST_DATA = DATASET[N:]"
   ]
  },
  {
   "cell_type": "code",
   "execution_count": null,
   "id": "f275231b-67a5-460c-8632-af364b8f8271",
   "metadata": {},
   "outputs": [],
   "source": []
  },
  {
   "cell_type": "markdown",
   "id": "e797e4f6-0af7-4dd6-b31f-380364483f16",
   "metadata": {},
   "source": [
    "### 3. Create Spacy Model from scratch"
   ]
  },
  {
   "cell_type": "markdown",
   "id": "3b47d863-65a3-47d3-8490-473daac39cb3",
   "metadata": {},
   "source": [
    "#### 3.1. Init spacy model"
   ]
  },
  {
   "cell_type": "code",
   "execution_count": 62,
   "id": "58eeb629-923d-409e-97c6-c46bb6795c25",
   "metadata": {},
   "outputs": [],
   "source": [
    "nlp = spacy.blank(\"en\")\n",
    "\n",
    "if \"ner\" not in nlp.pipe_names:\n",
    "    ner = nlp.add_pipe(\"ner\")\n",
    "else:\n",
    "    ner = nlp.get_pipe(\"ner\")"
   ]
  },
  {
   "cell_type": "markdown",
   "id": "b33f9c39-44b1-48e9-9da3-9d36f6d06e0e",
   "metadata": {},
   "source": [
    "#### 3.2. Add labels to training data"
   ]
  },
  {
   "cell_type": "code",
   "execution_count": 67,
   "id": "1bfd94e2-c692-47f0-b409-a89b2d191552",
   "metadata": {},
   "outputs": [],
   "source": [
    "for _, annotations in TRAIN_DATA:\n",
    "    for _, _, label in annotations.get(\"entities\"):\n",
    "        ner.add_label(label)"
   ]
  },
  {
   "cell_type": "markdown",
   "id": "810ad746-a6f5-4467-9062-edd089e940d8",
   "metadata": {},
   "source": [
    "#### 3.3. Create DocBin"
   ]
  },
  {
   "cell_type": "code",
   "execution_count": 69,
   "id": "9af2718b-4212-4ef7-b257-6b0f5b286fcb",
   "metadata": {},
   "outputs": [
    {
     "name": "stdout",
     "output_type": "stream",
     "text": [
      "Skipping entity: (48, 55, B-geo) in 'Thousands of demonstrators have marched through London to protest the war in Iraq and demand the withdrawal of British troops from that country .'\n",
      "Skipping entity: (77, 82, B-geo) in 'Thousands of demonstrators have marched through London to protest the war in Iraq and demand the withdrawal of British troops from that country .'\n",
      "Skipping entity: (111, 119, B-gpe) in 'Thousands of demonstrators have marched through London to protest the war in Iraq and demand the withdrawal of British troops from that country .'\n",
      "Skipping entity: (109, 114, B-per) in 'Families of soldiers killed in the conflict joined the protesters who carried banners with such slogans as \" Bush Number One Terrorist \" and \" Stop the Bombings . \"'\n",
      "Skipping entity: (57, 67, B-geo) in 'They marched from the Houses of Parliament to a rally in Hyde Park .'\n"
     ]
    }
   ],
   "source": [
    "import spacy\n",
    "from spacy.tokens import DocBin\n",
    "\n",
    "doc_bin = DocBin()\n",
    "for text, annotations in TRAIN_DATA:\n",
    "    doc = nlp.make_doc(text)\n",
    "    ents = []\n",
    "    for start, end, label in annotations.get(\"entities\"):\n",
    "        span = doc.char_span(start, end, label=label)\n",
    "        if span is None:\n",
    "            print(f\"Skipping entity: ({start}, {end}, {label}) in '{text}'\")\n",
    "        else:\n",
    "            ents.append(span)\n",
    "    doc.ents = ents\n",
    "    doc_bin.add(doc)"
   ]
  },
  {
   "cell_type": "markdown",
   "id": "ac69527a-1479-48f5-9e77-f4ec4b7f6604",
   "metadata": {},
   "source": [
    "#### 3.4. Train Model"
   ]
  },
  {
   "cell_type": "code",
   "execution_count": 73,
   "id": "1681f507-a0df-4903-9c3a-da05f5fe3951",
   "metadata": {},
   "outputs": [
    {
     "name": "stderr",
     "output_type": "stream",
     "text": [
      "/Users/emulie/Library/Python/3.10/lib/python/site-packages/spacy/training/iob_utils.py:149: UserWarning: [W030] Some entities could not be aligned in the text \"Thousands of demonstrators have marched through Lo...\" with entities \"[(48, 55, 'B-geo'), (77, 82, 'B-geo'), (111, 119, ...\". Use `spacy.training.offsets_to_biluo_tags(nlp.make_doc(text), entities)` to check the alignment. Misaligned entities ('-') will be ignored during training.\n",
      "  warnings.warn(\n",
      "/Users/emulie/Library/Python/3.10/lib/python/site-packages/spacy/training/iob_utils.py:149: UserWarning: [W030] Some entities could not be aligned in the text \"They marched from the Houses of Parliament to a ra...\" with entities \"[(57, 67, 'B-geo')]\". Use `spacy.training.offsets_to_biluo_tags(nlp.make_doc(text), entities)` to check the alignment. Misaligned entities ('-') will be ignored during training.\n",
      "  warnings.warn(\n",
      "/Users/emulie/Library/Python/3.10/lib/python/site-packages/spacy/training/iob_utils.py:149: UserWarning: [W030] Some entities could not be aligned in the text \"Families of soldiers killed in the conflict joined...\" with entities \"[(109, 114, 'B-per')]\". Use `spacy.training.offsets_to_biluo_tags(nlp.make_doc(text), entities)` to check the alignment. Misaligned entities ('-') will be ignored during training.\n",
      "  warnings.warn(\n"
     ]
    },
    {
     "name": "stdout",
     "output_type": "stream",
     "text": [
      "Iteration 1: Losses {'ner': np.float32(68.996544)}\n",
      "Iteration 2: Losses {'ner': np.float32(60.278744)}\n",
      "Iteration 3: Losses {'ner': np.float32(41.84245)}\n",
      "Iteration 4: Losses {'ner': np.float32(19.052116)}\n",
      "Iteration 5: Losses {'ner': np.float32(6.4499598)}\n",
      "Iteration 6: Losses {'ner': np.float32(0.6770032)}\n",
      "Iteration 7: Losses {'ner': np.float32(0.0059725484)}\n",
      "Iteration 8: Losses {'ner': np.float32(0.0043411567)}\n",
      "Iteration 9: Losses {'ner': np.float32(0.0016240174)}\n",
      "Iteration 10: Losses {'ner': np.float32(4.35259e-09)}\n",
      "Iteration 11: Losses {'ner': np.float32(3.9147862e-11)}\n",
      "Iteration 12: Losses {'ner': np.float32(1.074587e-11)}\n",
      "Iteration 13: Losses {'ner': np.float32(1.2737922e-09)}\n",
      "Iteration 14: Losses {'ner': np.float32(1.9643908e-13)}\n",
      "Iteration 15: Losses {'ner': np.float32(1.4210276e-10)}\n",
      "Iteration 16: Losses {'ner': np.float32(2.5201201e-05)}\n",
      "Iteration 17: Losses {'ner': np.float32(3.8844406e-15)}\n",
      "Iteration 18: Losses {'ner': np.float32(5.472135e-13)}\n",
      "Iteration 19: Losses {'ner': np.float32(2.6116713e-12)}\n",
      "Iteration 20: Losses {'ner': np.float32(3.9139855e-10)}\n",
      "Iteration 21: Losses {'ner': np.float32(1.9572649e-11)}\n",
      "Iteration 22: Losses {'ner': np.float32(1.7238468e-15)}\n",
      "Iteration 23: Losses {'ner': np.float32(1.0356603e-12)}\n",
      "Iteration 24: Losses {'ner': np.float32(5.728127e-12)}\n",
      "Iteration 25: Losses {'ner': np.float32(6.058613e-12)}\n",
      "Iteration 26: Losses {'ner': np.float32(1.6811852e-15)}\n",
      "Iteration 27: Losses {'ner': np.float32(1.5414902e-09)}\n",
      "Iteration 28: Losses {'ner': np.float32(8.344122e-13)}\n",
      "Iteration 29: Losses {'ner': np.float32(6.627047e-12)}\n",
      "Iteration 30: Losses {'ner': np.float32(9.148233e-15)}\n"
     ]
    }
   ],
   "source": [
    "import random\n",
    "from spacy.training.example import Example\n",
    "\n",
    "n_iterations = 30\n",
    "other_pipes = [pipe for pipe in nlp.pipe_names if pipe != \"ner\"]\n",
    "with nlp.disable_pipes(*other_pipes):\n",
    "    optimizer = nlp.begin_training()\n",
    "    for iteration in range(n_iterations):\n",
    "        random.shuffle(TRAIN_DATA)\n",
    "        losses = {}\n",
    "\n",
    "        for text, annotations in TRAIN_DATA:\n",
    "            doc = nlp.make_doc(text)\n",
    "            example = Example.from_dict(doc, annotations)\n",
    "            nlp.update([example], drop=0.5, sgd=optimizer, losses=losses)\n",
    "\n",
    "        print(f\"Iteration {iteration + 1}: Losses {losses}\")"
   ]
  },
  {
   "cell_type": "code",
   "execution_count": 74,
   "id": "727e7d7f-37ce-4257-9985-e2888cb4e4bb",
   "metadata": {},
   "outputs": [],
   "source": [
    "OUTPUT_MODEL = \"./custom_ner_model\"\n",
    "nlp.to_disk(OUTPUT_MODEL)"
   ]
  },
  {
   "cell_type": "code",
   "execution_count": null,
   "id": "5a9b9a0f-cbc5-47f8-9cc7-eeff0488b92e",
   "metadata": {},
   "outputs": [],
   "source": []
  },
  {
   "cell_type": "markdown",
   "id": "65945682-6c89-4ca8-8f11-da4c2856729e",
   "metadata": {},
   "source": [
    "### 4. Compare with out-of-box solution"
   ]
  },
  {
   "cell_type": "markdown",
   "id": "1b70a1c5-1397-4138-9cf0-3b5e0c43d400",
   "metadata": {},
   "source": [
    "#### 4.1. Custom Model Performance"
   ]
  },
  {
   "cell_type": "code",
   "execution_count": 75,
   "id": "b8ad48e2-775c-452e-8182-c2539f3b1e7c",
   "metadata": {},
   "outputs": [
    {
     "data": {
      "text/plain": [
       "[('Thousands of demonstrators have marched through London to protest the war in Iraq and demand the withdrawal of British troops from that country .',\n",
       "  {'entities': [(48, 55, 'B-geo'), (77, 82, 'B-geo'), (111, 119, 'B-gpe')]}),\n",
       " ('Families of soldiers killed in the conflict joined the protesters who carried banners with such slogans as \" Bush Number One Terrorist \" and \" Stop the Bombings . \"',\n",
       "  {'entities': [(109, 114, 'B-per')]}),\n",
       " ('They marched from the Houses of Parliament to a rally in Hyde Park .',\n",
       "  {'entities': [(57, 67, 'B-geo')]}),\n",
       " ('Police put the number of marchers at 10,000 while organizers claimed it was 1,00,000 .',\n",
       "  {'entities': []})]"
      ]
     },
     "execution_count": 75,
     "metadata": {},
     "output_type": "execute_result"
    }
   ],
   "source": [
    "TEST_DATA"
   ]
  },
  {
   "cell_type": "code",
   "execution_count": null,
   "id": "0bff150c-2b26-47d9-a155-2e0c66b34f32",
   "metadata": {},
   "outputs": [],
   "source": []
  },
  {
   "cell_type": "code",
   "execution_count": null,
   "id": "91212c64-49b7-4234-986c-d59b586f561e",
   "metadata": {},
   "outputs": [],
   "source": []
  },
  {
   "cell_type": "markdown",
   "id": "345618bc-8225-47fc-92dc-e95262a867be",
   "metadata": {},
   "source": [
    "#### 4.2. Out-of-Box Performance"
   ]
  },
  {
   "cell_type": "code",
   "execution_count": null,
   "id": "4d7db50e-e954-4c4a-806b-e4be66480936",
   "metadata": {},
   "outputs": [],
   "source": []
  },
  {
   "cell_type": "code",
   "execution_count": null,
   "id": "82d14b7a-c08e-4cee-9bc3-866c0427892e",
   "metadata": {},
   "outputs": [],
   "source": []
  },
  {
   "cell_type": "code",
   "execution_count": null,
   "id": "e7d767a9-56e1-465b-ae59-6a07c36e05dc",
   "metadata": {},
   "outputs": [],
   "source": []
  }
 ],
 "metadata": {
  "kernelspec": {
   "display_name": "Python 3 (ipykernel)",
   "language": "python",
   "name": "python3"
  },
  "language_info": {
   "codemirror_mode": {
    "name": "ipython",
    "version": 3
   },
   "file_extension": ".py",
   "mimetype": "text/x-python",
   "name": "python",
   "nbconvert_exporter": "python",
   "pygments_lexer": "ipython3",
   "version": "3.10.2"
  }
 },
 "nbformat": 4,
 "nbformat_minor": 5
}
