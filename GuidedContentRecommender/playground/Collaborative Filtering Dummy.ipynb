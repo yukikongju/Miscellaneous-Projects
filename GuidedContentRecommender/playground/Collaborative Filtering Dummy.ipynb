{
 "cells": [
  {
   "cell_type": "code",
   "execution_count": 6,
   "id": "d98364cc-da05-43a6-a75d-f39ab6980df7",
   "metadata": {},
   "outputs": [],
   "source": [
    "import pandas as pd\n",
    "import numpy as np"
   ]
  },
  {
   "cell_type": "markdown",
   "id": "e8052912-1520-42aa-bfed-e5d9784fd97a",
   "metadata": {},
   "source": [
    "https://realpython.com/build-recommendation-engine-collaborative-filtering/"
   ]
  },
  {
   "cell_type": "markdown",
   "id": "3c9721e5-bd6b-442c-ab35-46b7f62ed7e9",
   "metadata": {},
   "source": [
    "### Generating User-Level listening events"
   ]
  },
  {
   "cell_type": "markdown",
   "id": "5ae3b306-5072-4d1d-8328-9d0c11fbf77c",
   "metadata": {},
   "source": [
    "variables:\n",
    "- N: num users\n",
    "- M: num contents"
   ]
  },
  {
   "cell_type": "code",
   "execution_count": 2,
   "id": "f3126e61-8f67-4018-b7f9-8f95cab73dc0",
   "metadata": {},
   "outputs": [],
   "source": [
    "N, M = 10000, 1000"
   ]
  },
  {
   "cell_type": "code",
   "execution_count": 18,
   "id": "56a090ca-30ac-4034-a9ac-df561c4a1aaa",
   "metadata": {},
   "outputs": [],
   "source": [
    "import random\n",
    "\n",
    "# generating random event (i-th user, k-th content, rating)\n",
    "num_events = 1000000\n",
    "listening_events = [[random.randint(0, N), random.randint(0, M), random.randint(0, 5)] for _ in range(num_events)]"
   ]
  },
  {
   "cell_type": "code",
   "execution_count": 27,
   "id": "d4187544-b17f-4eb8-97f0-a687616a0e5d",
   "metadata": {},
   "outputs": [],
   "source": [
    "df_listenings = pd.DataFrame(listening_events, columns=['userId', 'contentId', 'rating'])"
   ]
  },
  {
   "cell_type": "code",
   "execution_count": 44,
   "id": "605e33b9-e8db-4652-b778-f06a97af5d80",
   "metadata": {},
   "outputs": [],
   "source": [
    "df_ratings = df_listenings.groupby(['userId', 'contentId']).agg({'rating': ['mean']}).reset_index()\n",
    "renamed_columns = [col[0] for col in df_ratings.columns]\n",
    "df_ratings.columns = renamed_columns"
   ]
  },
  {
   "cell_type": "code",
   "execution_count": 54,
   "id": "d2dfd0bf-779b-48a1-88c8-88405378d6e1",
   "metadata": {},
   "outputs": [],
   "source": [
    "# df_ratings"
   ]
  },
  {
   "cell_type": "code",
   "execution_count": 53,
   "id": "dd7a8119-9ab3-46ee-9a71-6f37f0f44383",
   "metadata": {},
   "outputs": [],
   "source": [
    "df_matrix = pd.pivot_table(df_ratings, index=['userId'], columns=['contentId'], values=['rating'])\n",
    "df_matrix = df_matrix.fillna(0.0)\n",
    "matrix = df_matrix.to_numpy()"
   ]
  },
  {
   "cell_type": "code",
   "execution_count": 9,
   "id": "db449f35-ed36-489d-a3f2-841f62f0e4db",
   "metadata": {},
   "outputs": [],
   "source": [
    "# --- co-occurence matrix\n",
    "# matrix = np.zeros((N+1, N+1))\n",
    "# for user, content in listening_events:\n",
    "#     matrix[user, content] += 1"
   ]
  },
  {
   "cell_type": "code",
   "execution_count": null,
   "id": "eac85b4a-8d04-492a-8e3f-9852a748fabc",
   "metadata": {},
   "outputs": [],
   "source": []
  },
  {
   "cell_type": "markdown",
   "id": "c804aff1-a5b3-4125-a2cd-bb3e37592230",
   "metadata": {},
   "source": [
    "### Collaborative Filtering - Memory-based Approach"
   ]
  },
  {
   "cell_type": "markdown",
   "id": "c0f94aa6-7a40-46be-bcdd-57e005fdab26",
   "metadata": {},
   "source": [
    "Steps:\n",
    "1. Determine which users are similar to user U\n",
    "2. Compute the rating R that user U would give to item I\n",
    "\n",
    "Variables:\n",
    "- C: number of closest users\n",
    "- S_u: Similarity Score between user U and other users => shape: [1, C]\n",
    "- R_u: Ranking given by other users => shape: [C, M]\n",
    "- R_w: Ranking given by other users, weighted by their similarity score => shape: [C, M]\n",
    "- R_U: Estimated Ranking given by user U => [1, M]"
   ]
  },
  {
   "cell_type": "code",
   "execution_count": 96,
   "id": "62641b96-f146-416a-854b-3d9345d67364",
   "metadata": {},
   "outputs": [],
   "source": [
    "from collections import defaultdict\n",
    "from numpy.linalg import norm\n",
    "from numpy import dot\n",
    "\n",
    "def get_closest_users(matrix: np.array, userId: int, top_n: int = 100):\n",
    "    num_users = matrix.shape[0]\n",
    "    distances = defaultdict(float)\n",
    "    user = matrix[userId]\n",
    "    for i in range(num_users):\n",
    "        if i == userId: \n",
    "            continue\n",
    "        other = matrix[i]\n",
    "        distances[i] = (dot(user, other) / (norm(user) * norm(other))).item()\n",
    "    distances = sorted(distances.items(), key=lambda kv: kv[1], reverse=True)[:top_n] # TODO: keep only positive similarity score\n",
    "    distances = np.array(distances)\n",
    "    return distances"
   ]
  },
  {
   "cell_type": "code",
   "execution_count": 99,
   "id": "255a7796-9ff6-4017-80f8-31692efee49a",
   "metadata": {},
   "outputs": [],
   "source": [
    "users_similarity = get_closest_users(matrix, userId=0)"
   ]
  },
  {
   "cell_type": "code",
   "execution_count": 100,
   "id": "f0dcf46d-5748-4d7a-b84c-32af5789aa0d",
   "metadata": {},
   "outputs": [
    {
     "data": {
      "text/plain": [
       "array([[8.91300000e+03, 2.15225317e-01],\n",
       "       [5.84900000e+03, 1.91296331e-01],\n",
       "       [6.13000000e+02, 1.89854209e-01],\n",
       "       [4.31000000e+03, 1.85684416e-01],\n",
       "       [8.51000000e+02, 1.85356062e-01]])"
      ]
     },
     "execution_count": 100,
     "metadata": {},
     "output_type": "execute_result"
    }
   ],
   "source": [
    "users_similarity[:5]"
   ]
  },
  {
   "cell_type": "code",
   "execution_count": 164,
   "id": "4dd2b728-926c-45b7-8371-bbf0fa93822e",
   "metadata": {},
   "outputs": [],
   "source": [
    "closest_users_indexes = list(map(int, users_similarity[:, 0])) # -- convert numpy array to int\n",
    "S_u = users_similarity[:, 1].reshape((1, -1))\n",
    "R_u = matrix[closest_users_indexes]\n",
    "R_w = np.multiply(R_u, np.transpose(S_u))\n",
    "R_U = R_w.sum(axis=0) / S_u.sum()"
   ]
  },
  {
   "cell_type": "code",
   "execution_count": 176,
   "id": "6778347d-4339-43d8-b9e8-ca8f0a712f92",
   "metadata": {},
   "outputs": [],
   "source": [
    "sorted_contents = [(i.item(), R_U[i].item()) for i in R_U.argsort()[::-1]] # (item, estimated rating)"
   ]
  },
  {
   "cell_type": "code",
   "execution_count": null,
   "id": "466089da-60af-4b1b-9234-80f23fd4eb5e",
   "metadata": {},
   "outputs": [],
   "source": []
  },
  {
   "cell_type": "code",
   "execution_count": null,
   "id": "98251f4f-e7a8-46ad-aed5-69f2251f4142",
   "metadata": {},
   "outputs": [],
   "source": []
  },
  {
   "cell_type": "markdown",
   "id": "d1295dd5-23c9-4eae-b561-bd12d8a9f279",
   "metadata": {},
   "source": [
    "### Collaborative Filtering - Model-based Approach"
   ]
  },
  {
   "cell_type": "code",
   "execution_count": null,
   "id": "67550170-bbb0-467a-bfe0-af04204f4457",
   "metadata": {},
   "outputs": [],
   "source": []
  },
  {
   "cell_type": "code",
   "execution_count": null,
   "id": "e9d79588-40d1-427a-acc4-23c5202eccbd",
   "metadata": {},
   "outputs": [],
   "source": []
  },
  {
   "cell_type": "code",
   "execution_count": null,
   "id": "b15c3919-4f2d-46f7-924a-6d52dc6889a4",
   "metadata": {},
   "outputs": [],
   "source": []
  },
  {
   "cell_type": "code",
   "execution_count": null,
   "id": "206995be-cbd2-41b9-abff-7b437079816e",
   "metadata": {},
   "outputs": [],
   "source": []
  },
  {
   "cell_type": "code",
   "execution_count": null,
   "id": "c76542b9-51db-4d26-a8c3-1a37f60544d5",
   "metadata": {},
   "outputs": [],
   "source": []
  }
 ],
 "metadata": {
  "kernelspec": {
   "display_name": "Python 3 (ipykernel)",
   "language": "python",
   "name": "python3"
  },
  "language_info": {
   "codemirror_mode": {
    "name": "ipython",
    "version": 3
   },
   "file_extension": ".py",
   "mimetype": "text/x-python",
   "name": "python",
   "nbconvert_exporter": "python",
   "pygments_lexer": "ipython3",
   "version": "3.10.2"
  }
 },
 "nbformat": 4,
 "nbformat_minor": 5
}
