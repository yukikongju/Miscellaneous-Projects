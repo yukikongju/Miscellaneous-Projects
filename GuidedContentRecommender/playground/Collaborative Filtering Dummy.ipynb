{
 "cells": [
  {
   "cell_type": "code",
   "execution_count": null,
   "id": "0",
   "metadata": {},
   "outputs": [],
   "source": [
    "import pandas as pd\n",
    "import numpy as np"
   ]
  },
  {
   "cell_type": "markdown",
   "id": "1",
   "metadata": {},
   "source": [
    "https://realpython.com/build-recommendation-engine-collaborative-filtering/"
   ]
  },
  {
   "cell_type": "markdown",
   "id": "2",
   "metadata": {},
   "source": [
    "### Generating User-Level listening events"
   ]
  },
  {
   "cell_type": "markdown",
   "id": "3",
   "metadata": {},
   "source": [
    "variables:\n",
    "- N: num users\n",
    "- M: num contents"
   ]
  },
  {
   "cell_type": "code",
   "execution_count": null,
   "id": "4",
   "metadata": {},
   "outputs": [],
   "source": [
    "N, M = 10000, 1000"
   ]
  },
  {
   "cell_type": "code",
   "execution_count": null,
   "id": "5",
   "metadata": {},
   "outputs": [],
   "source": [
    "import random\n",
    "\n",
    "# generating random event (i-th user, k-th content, rating)\n",
    "num_events = 1000000\n",
    "listening_events = [[random.randint(0, N), random.randint(0, M), random.randint(0, 5)] for _ in range(num_events)]"
   ]
  },
  {
   "cell_type": "code",
   "execution_count": null,
   "id": "6",
   "metadata": {},
   "outputs": [],
   "source": [
    "df_listenings = pd.DataFrame(listening_events, columns=['userId', 'contentId', 'rating'])"
   ]
  },
  {
   "cell_type": "code",
   "execution_count": null,
   "id": "7",
   "metadata": {},
   "outputs": [],
   "source": [
    "df_ratings = df_listenings.groupby(['userId', 'contentId']).agg({'rating': ['mean']}).reset_index()\n",
    "renamed_columns = [col[0] for col in df_ratings.columns]\n",
    "df_ratings.columns = renamed_columns"
   ]
  },
  {
   "cell_type": "code",
   "execution_count": null,
   "id": "8",
   "metadata": {},
   "outputs": [],
   "source": [
    "# df_ratings"
   ]
  },
  {
   "cell_type": "code",
   "execution_count": null,
   "id": "9",
   "metadata": {},
   "outputs": [],
   "source": [
    "df_matrix = pd.pivot_table(df_ratings, index=['userId'], columns=['contentId'], values=['rating'])\n",
    "df_matrix = df_matrix.fillna(0.0)\n",
    "matrix = df_matrix.to_numpy()"
   ]
  },
  {
   "cell_type": "code",
   "execution_count": null,
   "id": "10",
   "metadata": {},
   "outputs": [],
   "source": [
    "# --- co-occurence matrix\n",
    "# matrix = np.zeros((N+1, N+1))\n",
    "# for user, content in listening_events:\n",
    "#     matrix[user, content] += 1"
   ]
  },
  {
   "cell_type": "code",
   "execution_count": null,
   "id": "11",
   "metadata": {},
   "outputs": [],
   "source": []
  },
  {
   "cell_type": "markdown",
   "id": "12",
   "metadata": {},
   "source": [
    "### Collaborative Filtering - Memory-based Approach"
   ]
  },
  {
   "cell_type": "markdown",
   "id": "13",
   "metadata": {},
   "source": [
    "Steps:\n",
    "1. Determine which users are similar to user U\n",
    "2. Compute the rating R that user U would give to item I\n",
    "\n",
    "Variables:\n",
    "- C: number of closest users\n",
    "- S_u: Similarity Score between user U and other users => shape: [1, C]\n",
    "- R_u: Ranking given by other users => shape: [C, M]\n",
    "- R_w: Ranking given by other users, weighted by their similarity score => shape: [C, M]\n",
    "- R_U: Estimated Ranking given by user U => [1, M]\n",
    "\n",
    "Caveats: TODO\n",
    "- What happens when matrix is sparse? ie most users haven't listened to all contents\n",
    "- What happends when user hasn't listened to anything yet?\n",
    "    - Cold Start Problem: We are unable to estimate what they like because they haven't liked anything yet. We use static popular content\n",
    "- Normalize based on user mean => a user may rate everything systematically less than another users even though they liked it the\n",
    "  same because their view of what it means to be good is different"
   ]
  },
  {
   "cell_type": "code",
   "execution_count": null,
   "id": "14",
   "metadata": {},
   "outputs": [],
   "source": [
    "from collections import defaultdict\n",
    "from numpy.linalg import norm\n",
    "from numpy import dot\n",
    "\n",
    "def get_closest_users(matrix: np.array, userId: int, top_n: int = 100):\n",
    "    num_users = matrix.shape[0]\n",
    "    distances = defaultdict(float)\n",
    "    user = matrix[userId]\n",
    "    for i in range(num_users):\n",
    "        if i == userId: \n",
    "            continue\n",
    "        other = matrix[i]\n",
    "        distances[i] = (dot(user, other) / (norm(user) * norm(other))).item()\n",
    "    distances = sorted(distances.items(), key=lambda kv: kv[1], reverse=True)[:top_n] # TODO: keep only positive similarity score\n",
    "    distances = np.array(distances)\n",
    "    return distances"
   ]
  },
  {
   "cell_type": "code",
   "execution_count": null,
   "id": "15",
   "metadata": {},
   "outputs": [],
   "source": [
    "userId=0\n",
    "users_similarity = get_closest_users(matrix, userId=userId)"
   ]
  },
  {
   "cell_type": "code",
   "execution_count": null,
   "id": "16",
   "metadata": {},
   "outputs": [],
   "source": [
    "users_similarity[:5]"
   ]
  },
  {
   "cell_type": "code",
   "execution_count": null,
   "id": "17",
   "metadata": {},
   "outputs": [],
   "source": [
    "closest_users_indexes = list(map(int, users_similarity[:, 0])) # -- convert numpy array to int\n",
    "S_u = users_similarity[:, 1].reshape((1, -1))\n",
    "R_u = matrix[closest_users_indexes]\n",
    "R_w = np.multiply(R_u, np.transpose(S_u))\n",
    "R_U = R_w.sum(axis=0) / S_u.sum()"
   ]
  },
  {
   "cell_type": "code",
   "execution_count": null,
   "id": "18",
   "metadata": {},
   "outputs": [],
   "source": [
    "sorted_contents = [(i.item(), R_U[i].item()) for i in R_U.argsort()[::-1]] # (item, estimated rating)"
   ]
  },
  {
   "cell_type": "code",
   "execution_count": null,
   "id": "19",
   "metadata": {},
   "outputs": [],
   "source": [
    "sorted_contents[:5]"
   ]
  },
  {
   "cell_type": "code",
   "execution_count": null,
   "id": "20",
   "metadata": {},
   "outputs": [],
   "source": [
    "# filtering out content already listened to\n",
    "already_listened = set([i for i, rating in enumerate(matrix[userId]) if rating])\n",
    "suggestions = [(item, rating) for item, rating in sorted_contents if item not in already_listened]"
   ]
  },
  {
   "cell_type": "code",
   "execution_count": null,
   "id": "21",
   "metadata": {},
   "outputs": [],
   "source": []
  },
  {
   "cell_type": "markdown",
   "id": "22",
   "metadata": {},
   "source": [
    "### Collaborative Filtering - Model-based Approach"
   ]
  },
  {
   "cell_type": "markdown",
   "id": "23",
   "metadata": {},
   "source": [
    "Steps:\n",
    "1. Factorize co-occurence matrix to get get U and C\n",
    "2. Compute estimate content rating for user U\n",
    "3. Rank content suggestions based on rating estimates\n",
    "\n",
    "Variables:\n",
    "- T: Number of themes (arbitrary number ie hyperparams)\n",
    "- R: Co-occurence matrix => shape: [N, M]\n",
    "- U: User-Theme matrix => shape: [N, T]\n",
    "- C: Content-Theme matrix => shape: [T, M]\n",
    "- R = U x C\n",
    "- U_U: User U theme likeliness vector => shape: [1, T]\n",
    "- R_U: Contents Rating for user U => R_U = U_U x C => shape: [1, M] "
   ]
  },
  {
   "cell_type": "code",
   "execution_count": null,
   "id": "24",
   "metadata": {},
   "outputs": [],
   "source": []
  },
  {
   "cell_type": "code",
   "execution_count": null,
   "id": "25",
   "metadata": {},
   "outputs": [],
   "source": []
  },
  {
   "cell_type": "markdown",
   "id": "26",
   "metadata": {},
   "source": [
    "### Comparing Collaborative Filtering Approaches - Memory-based vs Model-based"
   ]
  },
  {
   "cell_type": "code",
   "execution_count": null,
   "id": "27",
   "metadata": {},
   "outputs": [],
   "source": []
  }
 ],
 "metadata": {
  "kernelspec": {
   "display_name": "Python 3 (ipykernel)",
   "language": "python",
   "name": "python3"
  },
  "language_info": {
   "codemirror_mode": {
    "name": "ipython",
    "version": 3
   },
   "file_extension": ".py",
   "mimetype": "text/x-python",
   "name": "python",
   "nbconvert_exporter": "python",
   "pygments_lexer": "ipython3",
   "version": "3.10.2"
  }
 },
 "nbformat": 4,
 "nbformat_minor": 5
}
