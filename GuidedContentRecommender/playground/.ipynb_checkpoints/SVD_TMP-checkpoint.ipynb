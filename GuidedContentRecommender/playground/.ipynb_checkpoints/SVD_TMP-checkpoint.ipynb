{
 "cells": [
  {
   "cell_type": "markdown",
   "id": "0",
   "metadata": {},
   "source": [
    "Scaling Score:\n",
    "- Min-Max Scaling (0-100) = \\frac{score - min(scores)}{max(scores) - min(scores)} x 100\n",
    "- Cosine Similarity (0-1) = \\frac{cosine_similarity + 1}{2}\n",
    "\n",
    "Considerations:\n",
    "- if similarity score is too low, user won't like it => how to artificially crank them up\n"
   ]
  },
  {
   "cell_type": "code",
   "execution_count": null,
   "id": "1",
   "metadata": {},
   "outputs": [],
   "source": [
    "import numpy as np\n",
    "import pandas as pd\n",
    "from surprise import SVD, Dataset, Reader\n",
    "from surprise.model_selection import train_test_split\n",
    "from surprise import accuracy\n",
    "\n",
    "from sklearn.preprocessing import MinMaxScaler\n",
    "from sklearn.metrics.pairwise import cosine_similarity"
   ]
  },
  {
   "cell_type": "code",
   "execution_count": null,
   "id": "2",
   "metadata": {},
   "outputs": [],
   "source": [
    "\n",
    "\n",
    "# Step 1: Create sample data (User-Content interactions)\n",
    "data = pd.DataFrame({\n",
    "    'user': [1, 1, 1, 2, 2, 3, 3, 4, 4, 5, 5],\n",
    "    'content': [1, 2, 5, 1, 4, 3, 4, 2, 3, 1, 4],\n",
    "    'rating':  [5, 3, 4, 4, 1, 0, 5, 1, 5, 2, 5]  # Listening frequency or favorites\n",
    "})\n",
    "\n",
    "# Step 2: Prepare Data for Surprise\n",
    "reader = Reader(rating_scale=(0, 5))\n",
    "dataset = Dataset.load_from_df(data[['user', 'content', 'rating']], reader)\n",
    "\n",
    "# Step 3: Train an SVD Model\n",
    "trainset, testset = train_test_split(dataset, test_size=0.2)\n",
    "model = SVD(n_factors=10)  # Latent factors\n",
    "model.fit(trainset)\n",
    "\n",
    "# Step 4: Predict & Evaluate\n",
    "predictions = model.test(testset)\n",
    "rmse = accuracy.rmse(predictions)\n",
    "\n",
    "# Step 5: Get Content Similarity from Matrix\n",
    "content_factors = model.qi  # Content latent factors\n",
    "similarity_matrix = np.dot(content_factors, content_factors.T)  # Cosine similarity\n",
    "\n",
    "print(\"Content Similarity Matrix:\\n\", similarity_matrix)\n"
   ]
  },
  {
   "cell_type": "code",
   "execution_count": null,
   "id": "3",
   "metadata": {},
   "outputs": [],
   "source": [
    "def get_content_similarity(model, user_id: int):\n",
    "    \"\"\"\n",
    "    Compute dot product between U[user] and content matrix\n",
    "    \"\"\"\n",
    "    user_vector = model.pu[user_id]\n",
    "    content_matrix = model.qi\n",
    "    # print(f\"User Vector Shape: {user_vector.shape}\")\n",
    "    # print(f\"Content Vector Shape: {content_vector.shape}\")\n",
    "\n",
    "    # - compute similarity score and make them fall between 0-100 with MinMaxScaler\n",
    "    content_scores = np.dot(content_matrix, user_vector)\n",
    "    scaler = MinMaxScaler(feature_range=(0, 100))\n",
    "    normalized_scores = scaler.fit_transform(content_scores.reshape(-1, 1)).flatten()\n",
    "\n",
    "    # - normalize using cosine similarity\n",
    "    # cosine_scores = cosine_similarity([user_vector], content_vectors).flatten()\n",
    "    # normalized_scores = (cosine_scores + 1) / 2\n",
    "\n",
    "    # TODO: recommend content user hasn't listened to yet\n",
    "    recommended_contents = np.argsort(normalized_scores)[::-1]\n",
    "    return normalized_scores, recommended_contents"
   ]
  },
  {
   "cell_type": "code",
   "execution_count": null,
   "id": "4",
   "metadata": {},
   "outputs": [],
   "source": [
    "content_score, recommended_contents = get_recommended_content(model, 0)"
   ]
  },
  {
   "cell_type": "code",
   "execution_count": null,
   "id": "5",
   "metadata": {},
   "outputs": [],
   "source": [
    "def get_content_recommendations(model, liked_contents: [int]):\n",
    "    \"\"\"\n",
    "    1. Get content the user liked (from listening or favorites)\n",
    "    2. Retrieve latent vector V from those liked contents\n",
    "    3. Compute cosine similarity between liked content and all other content\n",
    "    4. return top similar content\n",
    "    \"\"\"\n",
    "    content_vectors = model.qi\n",
    "    liked_vectors = content_vectors[liked_contents]\n",
    "    similarities = cosine_similarity(liked_vectors, content_vectors)\n",
    "    content_similarity_scores = np.mean(similarities, axis=0)\n",
    "    similar_content = np.argsort(content_similarity_scores)[::-1]\n",
    "    return similar_content"
   ]
  },
  {
   "cell_type": "code",
   "execution_count": null,
   "id": "6",
   "metadata": {},
   "outputs": [],
   "source": [
    "get_content_recommendations(model, [0, 3]) # why not same shape as num of content?"
   ]
  },
  {
   "cell_type": "code",
   "execution_count": null,
   "id": "7",
   "metadata": {},
   "outputs": [],
   "source": []
  },
  {
   "cell_type": "code",
   "execution_count": null,
   "id": "8",
   "metadata": {},
   "outputs": [],
   "source": []
  },
  {
   "cell_type": "code",
   "execution_count": null,
   "id": "9",
   "metadata": {},
   "outputs": [],
   "source": []
  },
  {
   "cell_type": "code",
   "execution_count": null,
   "id": "10",
   "metadata": {},
   "outputs": [],
   "source": []
  },
  {
   "cell_type": "code",
   "execution_count": null,
   "id": "11",
   "metadata": {},
   "outputs": [],
   "source": []
  }
 ],
 "metadata": {
  "kernelspec": {
   "display_name": "Python 3 (ipykernel)",
   "language": "python",
   "name": "python3"
  },
  "language_info": {
   "codemirror_mode": {
    "name": "ipython",
    "version": 3
   },
   "file_extension": ".py",
   "mimetype": "text/x-python",
   "name": "python",
   "nbconvert_exporter": "python",
   "pygments_lexer": "ipython3",
   "version": "3.10.2"
  }
 },
 "nbformat": 4,
 "nbformat_minor": 5
}
