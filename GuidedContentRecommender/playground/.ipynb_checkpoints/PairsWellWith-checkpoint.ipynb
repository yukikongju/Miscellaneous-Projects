{
 "cells": [
  {
   "cell_type": "markdown",
   "id": "0",
   "metadata": {},
   "source": [
    "Query:\n",
    "\n",
    "```{sql}\n",
    "select \n",
    "  sounds \n",
    "from `relax-melodies-android.test_cumulative_events_table.listening_events_staging`\n",
    "where \n",
    "  sounds is not null \n",
    "```"
   ]
  },
  {
   "cell_type": "markdown",
   "id": "1",
   "metadata": {},
   "source": [
    "### Reading the data"
   ]
  },
  {
   "cell_type": "code",
   "execution_count": null,
   "id": "2",
   "metadata": {},
   "outputs": [],
   "source": [
    "import pandas as pd\n",
    "\n",
    "df = pd.read_csv(\"/Users/emulie/Downloads/bquxjob_294361a5_197b912ea51.csv\")"
   ]
  },
  {
   "cell_type": "code",
   "execution_count": null,
   "id": "3",
   "metadata": {},
   "outputs": [],
   "source": [
    "df.head()"
   ]
  },
  {
   "cell_type": "markdown",
   "id": "4",
   "metadata": {},
   "source": [
    "### Data Transformation"
   ]
  },
  {
   "cell_type": "markdown",
   "id": "5",
   "metadata": {},
   "source": [
    "Sources:\n",
    "- tracks: => [list]\n",
    "- singles: all different content that can be listened to => list\n",
    "    - soundscape_singles\n",
    "    - music_singles\n",
    "    - ambience_singles\n",
    "    - solfeggio_singles\n",
    "    - asmr_singles\n",
    "    - binaural_singles\n",
    "    - isochronics_singles\n",
    "- prefixes:\n"
   ]
  },
  {
   "cell_type": "code",
   "execution_count": null,
   "id": "6",
   "metadata": {},
   "outputs": [],
   "source": [
    "import ast \n",
    "\n",
    "tracks = []\n",
    "skipped = 0\n",
    "for i, item in enumerate(df['sounds']):\n",
    "    try: \n",
    "        track = ast.literal_eval(item)\n",
    "        tracks.append(track)\n",
    "    except:\n",
    "        # print(f\"{item}\") --- removing rows where \n",
    "        skipped += 1\n",
    "\n",
    "print(f\"Skipped {skipped / len(df['sounds']) * 100.0}\\%\")"
   ]
  },
  {
   "cell_type": "code",
   "execution_count": null,
   "id": "7",
   "metadata": {},
   "outputs": [],
   "source": [
    "for track in tracks:\n",
    "    track.sort()"
   ]
  },
  {
   "cell_type": "code",
   "execution_count": null,
   "id": "8",
   "metadata": {},
   "outputs": [],
   "source": [
    "tracks[:5]"
   ]
  },
  {
   "cell_type": "code",
   "execution_count": null,
   "id": "9",
   "metadata": {},
   "outputs": [],
   "source": [
    "singles = list(set([item for track in tracks for item in track]))\n",
    "singles.sort()"
   ]
  },
  {
   "cell_type": "code",
   "execution_count": null,
   "id": "10",
   "metadata": {},
   "outputs": [],
   "source": [
    "prefixes = list(set([item.split('.')[0] for item in singles if len(item.split('.')) > 1] ))"
   ]
  },
  {
   "cell_type": "code",
   "execution_count": null,
   "id": "11",
   "metadata": {},
   "outputs": [],
   "source": [
    "prefixes"
   ]
  },
  {
   "cell_type": "code",
   "execution_count": null,
   "id": "12",
   "metadata": {},
   "outputs": [],
   "source": [
    "soundscape_singles = set([item for item in singles if 'soundscape' in item])\n",
    "music_singles = set([item for item in singles if 'music.' in item])\n",
    "asmr_singles = set([item for item in singles if 'asmr' in item])\n",
    "ambience_singles = set([item for item in singles if 'ambience' in item])\n",
    "solfeggio_singles = set([item for item in singles if 'solfeggio' in item])\n",
    "moves_singles = set([item for item in singles if 'moves' in item])\n",
    "binaural_singles = set([item for item in singles if 'binaural' in item])\n",
    "isochronics_singles = set([item for item in singles if 'isochronics' in item or 'isochronic' in item])"
   ]
  },
  {
   "cell_type": "code",
   "execution_count": null,
   "id": "13",
   "metadata": {},
   "outputs": [],
   "source": []
  },
  {
   "cell_type": "markdown",
   "id": "14",
   "metadata": {},
   "source": [
    "### Use case 1 - Sounds that pairs well together"
   ]
  },
  {
   "cell_type": "markdown",
   "id": "15",
   "metadata": {},
   "source": [
    "Steps:\n",
    "- In each rows, filter only for \"soundscape\" and \"ambience\"\n",
    "- Dict Count for each mixes\n",
    "- For each sound, rank mixes\n",
    "- make co-occurence matrix"
   ]
  },
  {
   "cell_type": "code",
   "execution_count": null,
   "id": "16",
   "metadata": {},
   "outputs": [],
   "source": [
    "# sounds_pairings = [[item for item in track if item in soundscape_singles or item in ambience_singles] for track in tracks]\n",
    "sounds_pairings = [[item for item in track if item in ambience_singles] for track in tracks]\n",
    "sounds_pairings = [track for track in sounds_pairings if track]\n",
    "for track in sounds_pairings:\n",
    "    track.sort()"
   ]
  },
  {
   "cell_type": "code",
   "execution_count": null,
   "id": "17",
   "metadata": {},
   "outputs": [],
   "source": [
    "from collections import defaultdict\n",
    "\n",
    "sound_pairings_count = defaultdict(int)\n",
    "for track in sounds_pairings:\n",
    "    sound_pairings_count[f'{track}'] += 1"
   ]
  },
  {
   "cell_type": "code",
   "execution_count": null,
   "id": "18",
   "metadata": {},
   "outputs": [],
   "source": [
    "sound_pairings_count = sorted(sound_pairings_count.items(), key=lambda kv: kv[1], reverse=True)\n",
    "sound_pairings_count = [(eval(track), count) for track, count in sound_pairings_count]\n",
    "sound_pairings_count = [(track, count) for track, count in sound_pairings_count if len(track) > 1]"
   ]
  },
  {
   "cell_type": "code",
   "execution_count": null,
   "id": "19",
   "metadata": {},
   "outputs": [],
   "source": []
  },
  {
   "cell_type": "code",
   "execution_count": null,
   "id": "20",
   "metadata": {},
   "outputs": [],
   "source": [
    "sound_pairings_count[:5]"
   ]
  },
  {
   "cell_type": "markdown",
   "id": "21",
   "metadata": {},
   "source": [
    "##### Making Co-occurence Matrix"
   ]
  },
  {
   "cell_type": "code",
   "execution_count": null,
   "id": "22",
   "metadata": {},
   "outputs": [],
   "source": [
    "# sounds_singles = soundscape_singles | ambience_singles\n",
    "sounds_singles = ambience_singles\n",
    "idx_to_sounds = {i: single for i, single in enumerate(sounds_singles)}\n",
    "sounds_to_idx = {single: i for i, single in enumerate(sounds_singles)}\n",
    "N = len(sounds_singles)"
   ]
  },
  {
   "cell_type": "code",
   "execution_count": null,
   "id": "23",
   "metadata": {},
   "outputs": [],
   "source": [
    "import numpy as np\n",
    "\n",
    "sounds_occurences = np.zeros((N, N))\n",
    "for track, count in sound_pairings_count:\n",
    "    num_tracks = len(track)    \n",
    "    for i in range(num_tracks):\n",
    "        for j in range(i, num_tracks):\n",
    "            idx_i = sounds_to_idx[track[i]]\n",
    "            idx_j = sounds_to_idx[track[j]]\n",
    "            if i != j and idx_i and idx_j:\n",
    "                sounds_occurences[idx_i, idx_j] += count\n",
    "                sounds_occurences[idx_j, idx_i] += count"
   ]
  },
  {
   "cell_type": "code",
   "execution_count": null,
   "id": "24",
   "metadata": {},
   "outputs": [],
   "source": [
    "sounds_perc = sounds_occurences / sounds_occurences.sum(axis=1, keepdims=True)\n",
    "sounds_perc = np.nan_to_num(sounds_perc, 0.0)"
   ]
  },
  {
   "cell_type": "code",
   "execution_count": null,
   "id": "25",
   "metadata": {},
   "outputs": [],
   "source": []
  },
  {
   "cell_type": "markdown",
   "id": "26",
   "metadata": {},
   "source": [
    "##### Rank Sound Suggestions for each sound => For each sounds, suggest sound to add (complete)"
   ]
  },
  {
   "cell_type": "code",
   "execution_count": null,
   "id": "27",
   "metadata": {},
   "outputs": [],
   "source": [
    "sounds_ranking = defaultdict(list)\n",
    "for i, percentages in enumerate(sounds_perc):\n",
    "    sorted_indices = np.argsort(percentages).tolist()[::-1]\n",
    "    rank = [(k, idx_to_sounds[k], percentages[k].item()) for k in sorted_indices if percentages[k]]\n",
    "    sounds_ranking[i] = rank"
   ]
  },
  {
   "cell_type": "code",
   "execution_count": null,
   "id": "28",
   "metadata": {},
   "outputs": [],
   "source": [
    "# sounds_ranking"
   ]
  },
  {
   "cell_type": "markdown",
   "id": "29",
   "metadata": {},
   "source": [
    "##### Rank Mixes for each sound => for each sound, suggest mixes (complete)"
   ]
  },
  {
   "cell_type": "code",
   "execution_count": null,
   "id": "30",
   "metadata": {},
   "outputs": [],
   "source": [
    "mixes_occurences = defaultdict(list)\n",
    "for track, count in sound_pairings_count:\n",
    "    # print(track, len(track))\n",
    "    num_tracks = len(track)\n",
    "    for i in range(num_tracks):\n",
    "        # print(track[i])\n",
    "        idx_single = sounds_to_idx[track[i]]\n",
    "        mix_complement = track[:i] + track[i+1:]\n",
    "        if mix_complement:\n",
    "            mixes_occurences[idx_single].append((mix_complement, count))"
   ]
  },
  {
   "cell_type": "code",
   "execution_count": null,
   "id": "31",
   "metadata": {},
   "outputs": [],
   "source": [
    "for i in mixes_occurences:\n",
    "    sorted(mixes_occurences[i], key=lambda kv: kv[1], reverse=True)"
   ]
  },
  {
   "cell_type": "code",
   "execution_count": null,
   "id": "32",
   "metadata": {},
   "outputs": [],
   "source": [
    "# mixes_occurences"
   ]
  },
  {
   "cell_type": "markdown",
   "id": "33",
   "metadata": {},
   "source": [
    "##### Rank Mixes for each Mixes => for each mixes, suggest sounds to add (incomplete)"
   ]
  },
  {
   "cell_type": "code",
   "execution_count": null,
   "id": "34",
   "metadata": {},
   "outputs": [],
   "source": []
  },
  {
   "cell_type": "markdown",
   "id": "35",
   "metadata": {},
   "source": [
    "### Use case 2 - Mixes that pairs well with music"
   ]
  },
  {
   "cell_type": "markdown",
   "id": "36",
   "metadata": {},
   "source": [
    "Steps:\n",
    "- Get tracks with music in them + sort music such that it's the last element of track\n",
    "- "
   ]
  },
  {
   "cell_type": "code",
   "execution_count": null,
   "id": "37",
   "metadata": {},
   "outputs": [],
   "source": [
    "music_tracks = [track for track in tracks for item in track if item in music_singles]\n",
    "music_tracks = [track for track in music_tracks if len(track) > 1]"
   ]
  },
  {
   "cell_type": "code",
   "execution_count": null,
   "id": "38",
   "metadata": {},
   "outputs": [],
   "source": [
    "idx_to_music = {i: single for i, single in enumerate(music_singles)}\n",
    "music_to_idx = {single: i for i, single in enumerate(music_singles)}"
   ]
  },
  {
   "cell_type": "code",
   "execution_count": null,
   "id": "39",
   "metadata": {},
   "outputs": [],
   "source": [
    "music_pairings_count = defaultdict(int)\n",
    "for track in music_tracks:\n",
    "    music_pairings_count[f'{track}'] += 1\n",
    "music_pairings_count = [(eval(track), count) for track, count in music_pairings_count.items()]"
   ]
  },
  {
   "cell_type": "code",
   "execution_count": null,
   "id": "40",
   "metadata": {},
   "outputs": [],
   "source": [
    "# music_pairings_count"
   ]
  },
  {
   "cell_type": "markdown",
   "id": "41",
   "metadata": {},
   "source": [
    "##### Rank Mixes for each music => for each music, suggest mixes to add (complete)"
   ]
  },
  {
   "cell_type": "code",
   "execution_count": null,
   "id": "42",
   "metadata": {},
   "outputs": [],
   "source": [
    "music_mixes_occurences = defaultdict(list)\n",
    "for track, count in music_pairings_count:\n",
    "    num_tracks = len(track)\n",
    "    for i in range(num_tracks):\n",
    "        single = track[i]\n",
    "        if single in music_singles:\n",
    "            idx_music = music_to_idx[single]\n",
    "            mix = track[:i] + track[i+1:]\n",
    "            music_mixes_occurences[idx_music].append((mix, count))"
   ]
  },
  {
   "cell_type": "code",
   "execution_count": null,
   "id": "43",
   "metadata": {},
   "outputs": [],
   "source": [
    "for i in music_mixes_occurences:\n",
    "    music_mixes_occurences[i] = sorted(music_mixes_occurences[i], key=lambda kv: kv[1], reverse=True)"
   ]
  },
  {
   "cell_type": "code",
   "execution_count": null,
   "id": "44",
   "metadata": {},
   "outputs": [],
   "source": [
    "# music_mixes_occurences"
   ]
  },
  {
   "cell_type": "code",
   "execution_count": null,
   "id": "45",
   "metadata": {},
   "outputs": [],
   "source": []
  }
 ],
 "metadata": {
  "kernelspec": {
   "display_name": "Python 3 (ipykernel)",
   "language": "python",
   "name": "python3"
  },
  "language_info": {
   "codemirror_mode": {
    "name": "ipython",
    "version": 3
   },
   "file_extension": ".py",
   "mimetype": "text/x-python",
   "name": "python",
   "nbconvert_exporter": "python",
   "pygments_lexer": "ipython3",
   "version": "3.10.2"
  }
 },
 "nbformat": 4,
 "nbformat_minor": 5
}
