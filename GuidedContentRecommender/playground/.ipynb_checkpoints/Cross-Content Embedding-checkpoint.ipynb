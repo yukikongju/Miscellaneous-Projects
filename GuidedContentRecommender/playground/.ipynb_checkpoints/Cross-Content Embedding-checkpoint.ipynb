{
 "cells": [
  {
   "cell_type": "code",
   "execution_count": null,
   "id": "0",
   "metadata": {},
   "outputs": [],
   "source": [
    "import os\n",
    "import pandas as pd\n",
    "import numpy as np\n",
    "\n",
    "import collections\n",
    "from scipy.spatial.distance import minkowski"
   ]
  },
  {
   "cell_type": "markdown",
   "id": "1",
   "metadata": {},
   "source": [
    "What is in this notebook:\n",
    "- Creating a mix for a guided content by finding N closest sound to vectorized guided content (if above given threshold)\n",
    "- Use the sounds tags (?)"
   ]
  },
  {
   "cell_type": "markdown",
   "id": "2",
   "metadata": {},
   "source": [
    "### Import Guided Content Verbatim Data"
   ]
  },
  {
   "cell_type": "code",
   "execution_count": null,
   "id": "3",
   "metadata": {},
   "outputs": [],
   "source": [
    "import re\n",
    "\n",
    "def filter_EN_content(files: [str]):\n",
    "    substrings = ['FR', 'SP', 'RU', 'JP', 'ES', 'PT', 'é', r'(\\d)', 'jpn', 'Portugese', 'MX', 'Spanish', 'JA', 'GHI', 'ST']\n",
    "    pattern = re.compile('|'.join(substrings))\n",
    "    valid_files = [file for file in files if not pattern.search(file)]\n",
    "    return valid_files\n",
    "\n",
    "class Document:\n",
    "    \n",
    "    def __init__(self, i: int, word_file_path: str, guided_content_type: str):\n",
    "        self.index = i\n",
    "        self.word_file_path = word_file_path\n",
    "        self.guided_content_type = guided_content_type\n",
    "        self.title = os.path.splitext(os.path.basename(word_file_path))[0]\n",
    "        # print(self.title)\n",
    "        self.content = self._read_word_document()\n",
    "        \n",
    "    def _read_word_document(self):\n",
    "        content = []\n",
    "        with open(self.word_file_path, 'r') as f:\n",
    "            for line in f.readlines():\n",
    "                l = line.strip()\n",
    "                if l != '':\n",
    "                    content.append(l)\n",
    "        return content\n",
    "    "
   ]
  },
  {
   "cell_type": "code",
   "execution_count": null,
   "id": "4",
   "metadata": {},
   "outputs": [],
   "source": [
    "# --- read meditations files\n",
    "meditations_dir = \"/Users/emulie/Data/Meditations_CLEAN\"\n",
    "meditations_docs = [Document(i, os.path.join(meditations_dir, word_file), 'meditations') for i, word_file in enumerate(filter_EN_content(os.listdir(meditations_dir)))]\n",
    "# --- read sleeptales files\n",
    "sleeptales_dir = \"/Users/emulie/Data/SleepTales_CLEAN\"\n",
    "sleeptales_docs = [Document(i, os.path.join(sleeptales_dir, word_file), 'sleeptales') for i, word_file in enumerate(filter_EN_content(os.listdir(sleeptales_dir)))]"
   ]
  },
  {
   "cell_type": "code",
   "execution_count": null,
   "id": "5",
   "metadata": {},
   "outputs": [],
   "source": [
    "from nltk.corpus import stopwords\n",
    "import gensim\n",
    "\n",
    "# define corpus\n",
    "def read_corpus(i, document: str):\n",
    "    tokens = []\n",
    "    for line in document.content:\n",
    "        # remove stopwords \n",
    "        preprocessed_line = ' '.join([word for word in line.split() if word.isalnum() and word not in stop_words])\n",
    "        tokens += gensim.utils.simple_preprocess(preprocessed_line)\n",
    "    \n",
    "    return gensim.models.doc2vec.TaggedDocument(tokens, [i])\n",
    "\n",
    "stop_words = set(stopwords.words('english'))\n",
    "train_documents = sleeptales_docs + meditations_docs\n",
    "# train_documents = meditations_docs\n",
    "train_corpus = [read_corpus(i, doc) for i, doc in enumerate(train_documents)]"
   ]
  },
  {
   "cell_type": "code",
   "execution_count": null,
   "id": "6",
   "metadata": {},
   "outputs": [],
   "source": [
    "print(f\"Number of contents: {len(train_documents)}\")\n",
    "\n",
    "# compute average number of words per document\n",
    "docs_content_length = [len(' '.join(doc.content).split(' ')) for doc in train_documents]\n",
    "print(f\"Average Words per content: {np.mean(docs_content_length):.2f}\")"
   ]
  },
  {
   "cell_type": "code",
   "execution_count": null,
   "id": "7",
   "metadata": {},
   "outputs": [],
   "source": [
    "titles = [doc.title for doc in train_documents]"
   ]
  },
  {
   "cell_type": "code",
   "execution_count": null,
   "id": "8",
   "metadata": {},
   "outputs": [],
   "source": [
    "titles[:5]"
   ]
  },
  {
   "cell_type": "markdown",
   "id": "9",
   "metadata": {},
   "source": [
    "### Import the sounds data"
   ]
  },
  {
   "cell_type": "code",
   "execution_count": null,
   "id": "10",
   "metadata": {},
   "outputs": [],
   "source": [
    "SOUNDS_PATH = \"/Users/emulie/Downloads/sounds_db/Ambient Sounds 3c130430a27048578933d92bfca60113_all.csv\"\n",
    "df_sounds = pd.read_csv(SOUNDS_PATH)"
   ]
  },
  {
   "cell_type": "code",
   "execution_count": null,
   "id": "11",
   "metadata": {},
   "outputs": [],
   "source": [
    "df_sounds.head()"
   ]
  },
  {
   "cell_type": "code",
   "execution_count": null,
   "id": "12",
   "metadata": {},
   "outputs": [],
   "source": [
    "print(f\"Num sounds: {len(df_sounds['Unique ID'].unique())}\")"
   ]
  },
  {
   "cell_type": "code",
   "execution_count": null,
   "id": "13",
   "metadata": {},
   "outputs": [],
   "source": []
  },
  {
   "cell_type": "code",
   "execution_count": null,
   "id": "14",
   "metadata": {},
   "outputs": [],
   "source": []
  },
  {
   "cell_type": "markdown",
   "id": "15",
   "metadata": {},
   "source": [
    "### Train the model"
   ]
  },
  {
   "cell_type": "code",
   "execution_count": null,
   "id": "16",
   "metadata": {},
   "outputs": [],
   "source": [
    "# --- train the model\n",
    "\n",
    "def get_doc2vec_model(train_corpus, hyperparams: dict):\n",
    "    model = gensim.models.doc2vec.Doc2Vec(vector_size=hyperparams['vector_size'], min_count=hyperparams['min_count'],\n",
    "                                          epochs=hyperparams['train_epochs'], window=hyperparams['window_size'], dm=hyperparams['dm'])\n",
    "    model.build_vocab(train_corpus)\n",
    "    model.train(train_corpus, total_examples=model.corpus_count, epochs=model.epochs)\n",
    "    return model"
   ]
  },
  {
   "cell_type": "code",
   "execution_count": null,
   "id": "17",
   "metadata": {},
   "outputs": [],
   "source": []
  },
  {
   "cell_type": "code",
   "execution_count": null,
   "id": "18",
   "metadata": {},
   "outputs": [],
   "source": [
    "# --- model assessment\n",
    "def get_self_similarity_score(model, train_corpus):\n",
    "    ranks = []\n",
    "    second_ranks = []\n",
    "    for doc_id in range(len(train_corpus)):\n",
    "        inferred_vector = model.infer_vector(train_corpus[doc_id].words)\n",
    "        train_documents[doc_id].vector = inferred_vector # add vectorization to document\n",
    "        sims = model.dv.most_similar([inferred_vector], topn=len(model.dv))\n",
    "        rank = [docid for docid, sim in sims].index(doc_id)\n",
    "        ranks.append(rank)\n",
    "    \n",
    "        second_ranks.append(sims[1])\n",
    "\n",
    "    counter = collections.Counter(ranks)\n",
    "    # print(counter)\n",
    "\n",
    "    self_similarity_score = round(counter[0]/len(ranks) * 100)\n",
    "    return self_similarity_score"
   ]
  },
  {
   "cell_type": "code",
   "execution_count": null,
   "id": "19",
   "metadata": {},
   "outputs": [],
   "source": [
    "hyperparams = {\n",
    "    \"vector_size\": 300,\n",
    "    \"window_size\": 15,\n",
    "    \"min_count\": 5,\n",
    "    # \"sampling_threshold\": 1e-5,\n",
    "    # \"negative_size\": 5,\n",
    "    \"train_epochs\": 100,\n",
    "    \"dm\": 0,  # 0 = dbow; 1 = dmpv\n",
    "    # \"worker_count\": 1 # number of parallel processes\n",
    "}\n",
    "model = get_doc2vec_model(train_corpus, hyperparams)"
   ]
  },
  {
   "cell_type": "code",
   "execution_count": null,
   "id": "20",
   "metadata": {},
   "outputs": [],
   "source": [
    "self_similarity_score = get_self_similarity_score(model, train_corpus)"
   ]
  },
  {
   "cell_type": "markdown",
   "id": "21",
   "metadata": {},
   "source": [
    "### Vectorize the sounds using the model"
   ]
  },
  {
   "cell_type": "code",
   "execution_count": null,
   "id": "22",
   "metadata": {},
   "outputs": [],
   "source": [
    "# --- vectorized sounds (sound_id, vectorized_sounds)\n",
    "dct_vectorized_sound = {row['Unique ID']: model.infer_vector([row['Name']]) for _, row in df_sounds.iterrows()}\n"
   ]
  },
  {
   "cell_type": "code",
   "execution_count": null,
   "id": "23",
   "metadata": {},
   "outputs": [],
   "source": []
  },
  {
   "cell_type": "markdown",
   "id": "24",
   "metadata": {},
   "source": [
    "### Find the closest sounds to a given guided content\n"
   ]
  },
  {
   "cell_type": "code",
   "execution_count": null,
   "id": "25",
   "metadata": {},
   "outputs": [],
   "source": [
    "def get_closest_sounds_from_content(content_idx: int):\n",
    "    # --- compute distance for each sounds \n",
    "    guided_vec = train_documents[content_idx].vector\n",
    "\n",
    "    # --- sort and get the closest\n",
    "    distances = np.array([minkowski(sound_vec, guided_vec) for sound_vec in list(dct_vectorized_sound.values())])\n",
    "    "
   ]
  },
  {
   "cell_type": "code",
   "execution_count": null,
   "id": "26",
   "metadata": {},
   "outputs": [],
   "source": [
    "content_idx = 19\n",
    "guided_vec = train_documents[content_idx].vector\n",
    "distances = np.array([minkowski(sound_vec, guided_vec) for sound_vec in list(dct_vectorized_sound.values())])"
   ]
  },
  {
   "cell_type": "code",
   "execution_count": null,
   "id": "27",
   "metadata": {},
   "outputs": [],
   "source": [
    "num_sounds = len(df_sounds)\n",
    "indexes = np.argpartition(distances, num_sounds-1)[-num_sounds:]"
   ]
  },
  {
   "cell_type": "code",
   "execution_count": null,
   "id": "28",
   "metadata": {},
   "outputs": [],
   "source": [
    "distances"
   ]
  },
  {
   "cell_type": "markdown",
   "id": "29",
   "metadata": {},
   "source": [
    "Since all distances are about the same, the embedding with text method is not a good one."
   ]
  },
  {
   "cell_type": "code",
   "execution_count": null,
   "id": "30",
   "metadata": {},
   "outputs": [],
   "source": []
  },
  {
   "cell_type": "code",
   "execution_count": null,
   "id": "31",
   "metadata": {},
   "outputs": [],
   "source": []
  },
  {
   "cell_type": "code",
   "execution_count": null,
   "id": "32",
   "metadata": {},
   "outputs": [],
   "source": []
  },
  {
   "cell_type": "code",
   "execution_count": null,
   "id": "33",
   "metadata": {},
   "outputs": [],
   "source": []
  }
 ],
 "metadata": {
  "kernelspec": {
   "display_name": "Python 3 (ipykernel)",
   "language": "python",
   "name": "python3"
  },
  "language_info": {
   "codemirror_mode": {
    "name": "ipython",
    "version": 3
   },
   "file_extension": ".py",
   "mimetype": "text/x-python",
   "name": "python",
   "nbconvert_exporter": "python",
   "pygments_lexer": "ipython3",
   "version": "3.10.2"
  }
 },
 "nbformat": 4,
 "nbformat_minor": 5
}
