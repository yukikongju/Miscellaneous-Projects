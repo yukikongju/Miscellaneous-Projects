{
 "cells": [
  {
   "cell_type": "markdown",
   "id": "34861d3a-cf10-4709-8e71-3a3dbf9534cf",
   "metadata": {},
   "source": [
    "Query:\n",
    "\n",
    "```{sql}\n",
    "select \n",
    "  sounds \n",
    "from `relax-melodies-android.test_cumulative_events_table.listening_events_staging`\n",
    "where \n",
    "  sounds is not null \n",
    "```"
   ]
  },
  {
   "cell_type": "markdown",
   "id": "e34e0d7a-166b-4aa6-9987-efc4c106aac6",
   "metadata": {},
   "source": [
    "### Reading the data"
   ]
  },
  {
   "cell_type": "code",
   "execution_count": 3,
   "id": "16c3079b-69ac-4196-bc10-40cdef8e7fd4",
   "metadata": {},
   "outputs": [],
   "source": [
    "import pandas as pd\n",
    "\n",
    "df = pd.read_csv(\"/Users/emulie/Downloads/bquxjob_294361a5_197b912ea51.csv\")"
   ]
  },
  {
   "cell_type": "code",
   "execution_count": 4,
   "id": "4f358abb-9c2f-4902-8b7e-e75cf76f8c7e",
   "metadata": {},
   "outputs": [
    {
     "data": {
      "text/html": [
       "<div>\n",
       "<style scoped>\n",
       "    .dataframe tbody tr th:only-of-type {\n",
       "        vertical-align: middle;\n",
       "    }\n",
       "\n",
       "    .dataframe tbody tr th {\n",
       "        vertical-align: top;\n",
       "    }\n",
       "\n",
       "    .dataframe thead th {\n",
       "        text-align: right;\n",
       "    }\n",
       "</style>\n",
       "<table border=\"1\" class=\"dataframe\">\n",
       "  <thead>\n",
       "    <tr style=\"text-align: right;\">\n",
       "      <th></th>\n",
       "      <th>sounds</th>\n",
       "    </tr>\n",
       "  </thead>\n",
       "  <tbody>\n",
       "    <tr>\n",
       "      <th>0</th>\n",
       "      <td>[\"ambience.brownnoise\", \"music.dreamydelight\",...</td>\n",
       "    </tr>\n",
       "    <tr>\n",
       "      <th>1</th>\n",
       "      <td>[\"music.emotionalrelease\", \"ambience.rain\"]</td>\n",
       "    </tr>\n",
       "    <tr>\n",
       "      <th>2</th>\n",
       "      <td>[\"music.nessiedream\"]</td>\n",
       "    </tr>\n",
       "    <tr>\n",
       "      <th>3</th>\n",
       "      <td>[\"ambience.vacuum\"]</td>\n",
       "    </tr>\n",
       "    <tr>\n",
       "      <th>4</th>\n",
       "      <td>[\"music.underwatercity_music\", \"ambience.etern...</td>\n",
       "    </tr>\n",
       "  </tbody>\n",
       "</table>\n",
       "</div>"
      ],
      "text/plain": [
       "                                              sounds\n",
       "0  [\"ambience.brownnoise\", \"music.dreamydelight\",...\n",
       "1        [\"music.emotionalrelease\", \"ambience.rain\"]\n",
       "2                              [\"music.nessiedream\"]\n",
       "3                                [\"ambience.vacuum\"]\n",
       "4  [\"music.underwatercity_music\", \"ambience.etern..."
      ]
     },
     "execution_count": 4,
     "metadata": {},
     "output_type": "execute_result"
    }
   ],
   "source": [
    "df.head()"
   ]
  },
  {
   "cell_type": "markdown",
   "id": "1f15c4a5-4c82-4127-8672-9ad99fa38ecd",
   "metadata": {},
   "source": [
    "### Data Transformation"
   ]
  },
  {
   "cell_type": "markdown",
   "id": "e5e8756c-377d-4021-acb9-54adb6ad67e8",
   "metadata": {},
   "source": [
    "Sources:\n",
    "- tracks: => [list]\n",
    "- singles: all different content that can be listened to => list\n",
    "    - soundscape_singles\n",
    "    - music_singles\n",
    "    - ambience_singles\n",
    "    - solfeggio_singles\n",
    "    - asmr_singles\n",
    "    - binaural_singles\n",
    "    - isochronics_singles\n",
    "- prefixes:\n"
   ]
  },
  {
   "cell_type": "code",
   "execution_count": 309,
   "id": "eb766407-3ece-4562-813e-0a8c960b0ad7",
   "metadata": {},
   "outputs": [
    {
     "name": "stdout",
     "output_type": "stream",
     "text": [
      "Skipped 0.021003082511227383\\%\n"
     ]
    }
   ],
   "source": [
    "import ast \n",
    "\n",
    "tracks = []\n",
    "skipped = 0\n",
    "for i, item in enumerate(df['sounds']):\n",
    "    try: \n",
    "        track = ast.literal_eval(item)\n",
    "        tracks.append(track)\n",
    "    except:\n",
    "        # print(f\"{item}\") --- removing rows where \n",
    "        skipped += 1\n",
    "\n",
    "print(f\"Skipped {skipped / len(df['sounds']) * 100.0}\\%\")"
   ]
  },
  {
   "cell_type": "code",
   "execution_count": 310,
   "id": "0cf0975a-8c1e-4a8f-8946-5d6c2e6657c5",
   "metadata": {},
   "outputs": [],
   "source": [
    "for track in tracks:\n",
    "    track.sort()"
   ]
  },
  {
   "cell_type": "code",
   "execution_count": 311,
   "id": "4136da40-4c5e-4925-bd91-e2dde0589365",
   "metadata": {},
   "outputs": [
    {
     "data": {
      "text/plain": [
       "[['ambience.brownnoise',\n",
       "  'ambience.rainonroof',\n",
       "  'isochronic.isochronic4hz',\n",
       "  'music.dreamydelight'],\n",
       " ['ambience.rain', 'music.emotionalrelease'],\n",
       " ['music.nessiedream'],\n",
       " ['ambience.vacuum'],\n",
       " ['ambience.eternity', 'music.underwatercity_music']]"
      ]
     },
     "execution_count": 311,
     "metadata": {},
     "output_type": "execute_result"
    }
   ],
   "source": [
    "tracks[:5]"
   ]
  },
  {
   "cell_type": "code",
   "execution_count": 312,
   "id": "19396c53-848a-4a02-90f4-8423adc59f6c",
   "metadata": {},
   "outputs": [],
   "source": [
    "singles = list(set([item for track in tracks for item in track]))\n",
    "singles.sort()"
   ]
  },
  {
   "cell_type": "code",
   "execution_count": 313,
   "id": "ede5bd07-82d5-47d9-93dc-74c18f3e6033",
   "metadata": {},
   "outputs": [],
   "source": [
    "prefixes = list(set([item.split('.')[0] for item in singles if len(item.split('.')) > 1] ))"
   ]
  },
  {
   "cell_type": "code",
   "execution_count": 314,
   "id": "e36a6f62-ab0b-4402-948b-d274de45c3e3",
   "metadata": {},
   "outputs": [
    {
     "data": {
      "text/plain": [
       "['isochronics',\n",
       " 'music',\n",
       " 'asmr',\n",
       " 'isochronic',\n",
       " 'soundscape',\n",
       " 'ambience',\n",
       " 'solfeggio',\n",
       " 'moves',\n",
       " 'binaural']"
      ]
     },
     "execution_count": 314,
     "metadata": {},
     "output_type": "execute_result"
    }
   ],
   "source": [
    "prefixes"
   ]
  },
  {
   "cell_type": "code",
   "execution_count": 315,
   "id": "dbc2fab9-3789-4a10-8d46-586b1719fafb",
   "metadata": {},
   "outputs": [],
   "source": [
    "soundscape_singles = set([item for item in singles if 'soundscape' in item])\n",
    "music_singles = set([item for item in singles if 'music.' in item])\n",
    "asmr_singles = set([item for item in singles if 'asmr' in item])\n",
    "ambience_singles = set([item for item in singles if 'ambience' in item])\n",
    "solfeggio_singles = set([item for item in singles if 'solfeggio' in item])\n",
    "moves_singles = set([item for item in singles if 'moves' in item])\n",
    "binaural_singles = set([item for item in singles if 'binaural' in item])\n",
    "isochronics_singles = set([item for item in singles if 'isochronics' in item or 'isochronic' in item])"
   ]
  },
  {
   "cell_type": "code",
   "execution_count": null,
   "id": "cf4f16da-0cf1-48a1-95f4-863234705103",
   "metadata": {},
   "outputs": [],
   "source": []
  },
  {
   "cell_type": "markdown",
   "id": "2490e028-77cf-4858-aa96-9782319d746d",
   "metadata": {},
   "source": [
    "### Use case 1 - Sounds that pairs well together"
   ]
  },
  {
   "cell_type": "markdown",
   "id": "f1b45a9d-7f9a-4cba-801a-41e9c950ce3f",
   "metadata": {},
   "source": [
    "Steps:\n",
    "- In each rows, filter only for \"soundscape\" and \"ambience\"\n",
    "- Dict Count for each mixes\n",
    "- For each sound, rank mixes\n",
    "- make co-occurence matrix"
   ]
  },
  {
   "cell_type": "code",
   "execution_count": 316,
   "id": "b2275309-9f62-4526-ba5a-916ff4218090",
   "metadata": {},
   "outputs": [],
   "source": [
    "# sounds_pairings = [[item for item in track if item in soundscape_singles or item in ambience_singles] for track in tracks]\n",
    "sounds_pairings = [[item for item in track if item in ambience_singles] for track in tracks]\n",
    "sounds_pairings = [track for track in sounds_pairings if track]\n",
    "for track in sounds_pairings:\n",
    "    track.sort()"
   ]
  },
  {
   "cell_type": "code",
   "execution_count": 257,
   "id": "d978c591-e9e4-4dfb-bd6c-fe167c8750c0",
   "metadata": {},
   "outputs": [],
   "source": [
    "from collections import defaultdict\n",
    "\n",
    "sound_pairings_count = defaultdict(int)\n",
    "for track in sounds_pairings:\n",
    "    sound_pairings_count[f'{track}'] += 1"
   ]
  },
  {
   "cell_type": "code",
   "execution_count": 258,
   "id": "85a4fef0-7db4-4ce8-b793-54fe88be3b40",
   "metadata": {},
   "outputs": [],
   "source": [
    "sound_pairings_count = sorted(sound_pairings_count.items(), key=lambda kv: kv[1], reverse=True)\n",
    "sound_pairings_count = [(eval(track), count) for track, count in sound_pairings_count]\n",
    "sound_pairings_count = [(track, count) for track, count in sound_pairings_count if len(track) > 1]"
   ]
  },
  {
   "cell_type": "code",
   "execution_count": null,
   "id": "353b30bf-49af-41bb-bf83-f48010cc0d2b",
   "metadata": {},
   "outputs": [],
   "source": []
  },
  {
   "cell_type": "code",
   "execution_count": 259,
   "id": "8fd46d0c-79bf-48f6-bf2c-b9203e97d778",
   "metadata": {},
   "outputs": [
    {
     "data": {
      "text/plain": [
       "[(['ambience.birds', 'ambience.eternity', 'ambience.ocean'], 5452),\n",
       " (['ambience.ocean', 'ambience.rain'], 2544),\n",
       " (['ambience.eternity', 'ambience.windintrees'], 2279),\n",
       " (['ambience.ocean', 'ambience.rain', 'ambience.windintrees'], 1937),\n",
       " (['ambience.eternity', 'ambience.rain'], 1602)]"
      ]
     },
     "execution_count": 259,
     "metadata": {},
     "output_type": "execute_result"
    }
   ],
   "source": [
    "sound_pairings_count[:5]"
   ]
  },
  {
   "cell_type": "markdown",
   "id": "de1c478b-cc6b-4380-bc47-685ec2595f44",
   "metadata": {},
   "source": [
    "##### Making Co-occurence Matrix"
   ]
  },
  {
   "cell_type": "code",
   "execution_count": 260,
   "id": "4d953dc0-2c5b-44a6-83a4-4916caa26957",
   "metadata": {},
   "outputs": [],
   "source": [
    "# sounds_singles = soundscape_singles | ambience_singles\n",
    "sounds_singles = ambience_singles\n",
    "idx_to_sounds = {i: single for i, single in enumerate(sounds_singles)}\n",
    "sounds_to_idx = {single: i for i, single in enumerate(sounds_singles)}\n",
    "N = len(sounds_singles)"
   ]
  },
  {
   "cell_type": "code",
   "execution_count": 261,
   "id": "79543a7a-ab40-4551-bc4b-8055955e83e5",
   "metadata": {},
   "outputs": [],
   "source": [
    "import numpy as np\n",
    "\n",
    "sounds_occurences = np.zeros((N, N))\n",
    "for track, count in sound_pairings_count:\n",
    "    num_tracks = len(track)    \n",
    "    for i in range(num_tracks):\n",
    "        for j in range(i, num_tracks):\n",
    "            idx_i = sounds_to_idx[track[i]]\n",
    "            idx_j = sounds_to_idx[track[j]]\n",
    "            if i != j and idx_i and idx_j:\n",
    "                sounds_occurences[idx_i, idx_j] += count\n",
    "                sounds_occurences[idx_j, idx_i] += count"
   ]
  },
  {
   "cell_type": "code",
   "execution_count": 262,
   "id": "6c187981-7b6d-4052-8de0-036c78821c7c",
   "metadata": {},
   "outputs": [
    {
     "name": "stderr",
     "output_type": "stream",
     "text": [
      "/var/folders/rq/6nv9m_7j7wnb5x_4cztrwm0h0000gp/T/ipykernel_42625/1206048817.py:1: RuntimeWarning: invalid value encountered in divide\n",
      "  sounds_perc = sounds_occurences / sounds_occurences.sum(axis=1, keepdims=True)\n"
     ]
    }
   ],
   "source": [
    "sounds_perc = sounds_occurences / sounds_occurences.sum(axis=1, keepdims=True)\n",
    "sounds_perc = np.nan_to_num(sounds_perc, 0.0)"
   ]
  },
  {
   "cell_type": "code",
   "execution_count": null,
   "id": "2ca61017-106a-4a35-b55a-d21938f4958f",
   "metadata": {},
   "outputs": [],
   "source": []
  },
  {
   "cell_type": "markdown",
   "id": "3da6bb79-476f-4f16-8f49-18fb96d0fba8",
   "metadata": {},
   "source": [
    "##### Rank Sound Suggestions for each sound => For each sounds, suggest sound to add (complete)"
   ]
  },
  {
   "cell_type": "code",
   "execution_count": 263,
   "id": "7bd6a800-b787-4ddb-8f0f-6287567a6f64",
   "metadata": {},
   "outputs": [],
   "source": [
    "sounds_ranking = defaultdict(list)\n",
    "for i, percentages in enumerate(sounds_perc):\n",
    "    sorted_indices = np.argsort(percentages).tolist()[::-1]\n",
    "    rank = [(k, idx_to_sounds[k], percentages[k].item()) for k in sorted_indices if percentages[k]]\n",
    "    sounds_ranking[i] = rank"
   ]
  },
  {
   "cell_type": "code",
   "execution_count": 264,
   "id": "d2652d36-87c0-4403-99b7-d9a318f1f3da",
   "metadata": {},
   "outputs": [],
   "source": [
    "# sounds_ranking"
   ]
  },
  {
   "cell_type": "markdown",
   "id": "6db5cd6f-880f-4e07-b0de-7dba8f210bc8",
   "metadata": {},
   "source": [
    "##### Rank Mixes for each sound => for each sound, suggest mixes (complete)"
   ]
  },
  {
   "cell_type": "code",
   "execution_count": 281,
   "id": "eedf1c8e-3108-45e4-8c86-ce68a5d91119",
   "metadata": {},
   "outputs": [],
   "source": [
    "mixes_occurences = defaultdict(list)\n",
    "for track, count in sound_pairings_count:\n",
    "    # print(track, len(track))\n",
    "    num_tracks = len(track)\n",
    "    for i in range(num_tracks):\n",
    "        # print(track[i])\n",
    "        idx_single = sounds_to_idx[track[i]]\n",
    "        mix_complement = track[:i] + track[i+1:]\n",
    "        if mix_complement:\n",
    "            mixes_occurences[idx_single].append((mix_complement, count))"
   ]
  },
  {
   "cell_type": "code",
   "execution_count": 293,
   "id": "59975f33-d919-4525-9841-c6e60e78fa9a",
   "metadata": {},
   "outputs": [],
   "source": [
    "for i in mixes_occurences:\n",
    "    sorted(mixes_occurences[i], key=lambda kv: kv[1], reverse=True)"
   ]
  },
  {
   "cell_type": "code",
   "execution_count": 337,
   "id": "6cff0545-eb0e-4e94-8587-13a553c62c4f",
   "metadata": {},
   "outputs": [],
   "source": [
    "# mixes_occurences"
   ]
  },
  {
   "cell_type": "markdown",
   "id": "ebf38583-507d-4178-baea-cec224f48675",
   "metadata": {},
   "source": [
    "##### Rank Mixes for each Mixes => for each mixes, suggest sounds to add (incomplete)"
   ]
  },
  {
   "cell_type": "code",
   "execution_count": null,
   "id": "b60b084d-6ac9-4383-9773-8ca729a08490",
   "metadata": {},
   "outputs": [],
   "source": []
  },
  {
   "cell_type": "markdown",
   "id": "d7030519-a0a3-47f7-9edd-dd847e665e9a",
   "metadata": {},
   "source": [
    "### Use case 2 - Mixes that pairs well with music"
   ]
  },
  {
   "cell_type": "markdown",
   "id": "3bf75a64-bbea-49fe-8f84-f7f605b5a963",
   "metadata": {},
   "source": [
    "Steps:\n",
    "- Get tracks with music in them + sort music such that it's the last element of track\n",
    "- "
   ]
  },
  {
   "cell_type": "code",
   "execution_count": 360,
   "id": "27dfc55f-429f-42e0-b127-b226f5de6618",
   "metadata": {},
   "outputs": [],
   "source": [
    "music_tracks = [track for track in tracks for item in track if item in music_singles]\n",
    "music_tracks = [track for track in music_tracks if len(track) > 1]"
   ]
  },
  {
   "cell_type": "code",
   "execution_count": 361,
   "id": "2be6a25e-80cd-499c-896b-37fc91590dac",
   "metadata": {},
   "outputs": [],
   "source": [
    "idx_to_music = {i: single for i, single in enumerate(music_singles)}\n",
    "music_to_idx = {single: i for i, single in enumerate(music_singles)}"
   ]
  },
  {
   "cell_type": "code",
   "execution_count": 362,
   "id": "3658f330-3eae-4e43-8c0d-da44ce7119c3",
   "metadata": {},
   "outputs": [],
   "source": [
    "music_pairings_count = defaultdict(int)\n",
    "for track in music_tracks:\n",
    "    music_pairings_count[f'{track}'] += 1\n",
    "music_pairings_count = [(eval(track), count) for track, count in music_pairings_count.items()]"
   ]
  },
  {
   "cell_type": "code",
   "execution_count": 363,
   "id": "e70a28ae-ebc6-4c63-b816-577b23ac688c",
   "metadata": {},
   "outputs": [],
   "source": [
    "# music_pairings_count"
   ]
  },
  {
   "cell_type": "markdown",
   "id": "f4e59d6c-2414-4c53-83ac-ec20defdc4f3",
   "metadata": {},
   "source": [
    "##### Rank Mixes for each music => for each music, suggest mixes to add (complete)"
   ]
  },
  {
   "cell_type": "code",
   "execution_count": 364,
   "id": "f0addda1-c887-4754-8a07-283df5fd6e31",
   "metadata": {},
   "outputs": [],
   "source": [
    "music_mixes_occurences = defaultdict(list)\n",
    "for track, count in music_pairings_count:\n",
    "    num_tracks = len(track)\n",
    "    for i in range(num_tracks):\n",
    "        single = track[i]\n",
    "        if single in music_singles:\n",
    "            idx_music = music_to_idx[single]\n",
    "            mix = track[:i] + track[i+1:]\n",
    "            music_mixes_occurences[idx_music].append((mix, count))"
   ]
  },
  {
   "cell_type": "code",
   "execution_count": 367,
   "id": "1f65a8b5-ec07-45f2-8ada-934e3e591e59",
   "metadata": {},
   "outputs": [],
   "source": [
    "for i in music_mixes_occurences:\n",
    "    music_mixes_occurences[i] = sorted(music_mixes_occurences[i], key=lambda kv: kv[1], reverse=True)"
   ]
  },
  {
   "cell_type": "code",
   "execution_count": 369,
   "id": "97f9bc09-2f37-4c67-8fef-d5e980b8fdb3",
   "metadata": {},
   "outputs": [],
   "source": [
    "# music_mixes_occurences"
   ]
  },
  {
   "cell_type": "code",
   "execution_count": null,
   "id": "227989c5-a182-48b6-bdbd-93c26d995b22",
   "metadata": {},
   "outputs": [],
   "source": []
  }
 ],
 "metadata": {
  "kernelspec": {
   "display_name": "Python 3 (ipykernel)",
   "language": "python",
   "name": "python3"
  },
  "language_info": {
   "codemirror_mode": {
    "name": "ipython",
    "version": 3
   },
   "file_extension": ".py",
   "mimetype": "text/x-python",
   "name": "python",
   "nbconvert_exporter": "python",
   "pygments_lexer": "ipython3",
   "version": "3.10.2"
  }
 },
 "nbformat": 4,
 "nbformat_minor": 5
}
