{
 "cells": [
  {
   "cell_type": "code",
   "execution_count": null,
   "id": "0",
   "metadata": {},
   "outputs": [],
   "source": [
    "import pandas as pd\n",
    "import numpy as np\n",
    "import gensim \n",
    "import spacy\n",
    "import nltk\n",
    "import mlflow\n",
    "\n",
    "import os\n",
    "from datetime import datetime\n",
    "import collections"
   ]
  },
  {
   "cell_type": "code",
   "execution_count": null,
   "id": "1",
   "metadata": {},
   "outputs": [],
   "source": [
    "!pwd"
   ]
  },
  {
   "cell_type": "markdown",
   "id": "2",
   "metadata": {},
   "source": [
    "### Import data"
   ]
  },
  {
   "cell_type": "code",
   "execution_count": null,
   "id": "3",
   "metadata": {},
   "outputs": [],
   "source": [
    "import re\n",
    "\n",
    "def filter_EN_content(files: [str]):\n",
    "    substrings = ['FR', 'SP', 'RU', 'JP', 'ES', 'PT', 'é', r'(\\d)']\n",
    "    pattern = re.compile('|'.join(substrings))\n",
    "    valid_files = [file for file in files if not pattern.search(file)]\n",
    "    return valid_files"
   ]
  },
  {
   "cell_type": "code",
   "execution_count": null,
   "id": "4",
   "metadata": {},
   "outputs": [],
   "source": [
    "class Document:\n",
    "    \n",
    "    def __init__(self, i: int, word_file_path: str, guided_content_type: str):\n",
    "        self.index = i\n",
    "        self.word_file_path = word_file_path\n",
    "        self.guided_content_type = guided_content_type\n",
    "        self.title = os.path.splitext(os.path.basename(word_file_path))[0]\n",
    "        # print(self.title)\n",
    "        self.content = self._read_word_document()\n",
    "        \n",
    "    def _read_word_document(self):\n",
    "        content = []\n",
    "        with open(self.word_file_path, 'r') as f:\n",
    "            for line in f.readlines():\n",
    "                l = line.strip()\n",
    "                if l != '':\n",
    "                    content.append(l)\n",
    "        return content\n",
    "    "
   ]
  },
  {
   "cell_type": "code",
   "execution_count": null,
   "id": "5",
   "metadata": {},
   "outputs": [],
   "source": [
    "# --- read meditations files\n",
    "meditations_dir = \"/Users/emulie/Data/Meditations_CLEAN\"\n",
    "\n",
    "meditations_docs = [Document(i, os.path.join(meditations_dir, word_file), 'meditations') for i, word_file in enumerate(filter_EN_content(os.listdir(meditations_dir)))]"
   ]
  },
  {
   "cell_type": "code",
   "execution_count": null,
   "id": "6",
   "metadata": {},
   "outputs": [],
   "source": []
  },
  {
   "cell_type": "code",
   "execution_count": null,
   "id": "7",
   "metadata": {},
   "outputs": [],
   "source": [
    "# --- TODO: read sleeptales files\n",
    "# sleeptales_dir = '../data/sleeptales'\n",
    "# sleeptales_docs = [Document(i, os.path.join(sleeptales_dir, word_file), 'sleeptales') for i, word_file in enumerate(os.listdir(sleeptales_dir))]"
   ]
  },
  {
   "cell_type": "code",
   "execution_count": null,
   "id": "8",
   "metadata": {},
   "outputs": [],
   "source": [
    "from nltk.corpus import stopwords\n",
    "\n",
    "# define corpus\n",
    "def read_corpus(i, document: str):\n",
    "    tokens = []\n",
    "    for line in document.content:\n",
    "        # remove stopwords \n",
    "        preprocessed_line = ' '.join([word for word in line.split() if word.isalnum() and word not in stop_words])\n",
    "        tokens += gensim.utils.simple_preprocess(preprocessed_line)\n",
    "    \n",
    "    return gensim.models.doc2vec.TaggedDocument(tokens, [i])\n",
    "\n",
    "stop_words = set(stopwords.words('english'))\n",
    "# train_documents = sleeptales_docs + meditations_docs\n",
    "train_documents = meditations_docs\n",
    "train_corpus = [read_corpus(i, doc) for i, doc in enumerate(train_documents)]"
   ]
  },
  {
   "cell_type": "code",
   "execution_count": null,
   "id": "9",
   "metadata": {},
   "outputs": [],
   "source": [
    "print(f\"Number of contents: {len(train_documents)}\")\n",
    "\n",
    "# compute average number of words per document\n",
    "docs_content_length = [len(' '.join(doc.content).split(' ')) for doc in train_documents]\n",
    "print(f\"Average Words per content: {np.mean(docs_content_length):.2f}\")"
   ]
  },
  {
   "cell_type": "code",
   "execution_count": null,
   "id": "10",
   "metadata": {},
   "outputs": [],
   "source": []
  },
  {
   "cell_type": "markdown",
   "id": "11",
   "metadata": {},
   "source": [
    "### Importing MLFlow URI"
   ]
  },
  {
   "cell_type": "code",
   "execution_count": null,
   "id": "12",
   "metadata": {},
   "outputs": [],
   "source": [
    "import os\n",
    "import configparser\n",
    "import ssl\n",
    "\n",
    "# missing ssh import needed to connect to model URI\n",
    "ssl._create_default_https_context = ssl._create_unverified_context\n",
    "\n",
    "# \n",
    "# script_dir = os.path.dirname(os.path.abspath(__file__))\n",
    "script_dir = os.path.dirname(os.path.abspath(\"\"))\n",
    "config_path = os.path.join(script_dir, \"config.ini\")\n",
    "print(f\"config_path: {config_path}\")\n",
    "\n",
    "# parse \n",
    "config = configparser.ConfigParser()\n",
    "config.read(config_path)\n",
    "\n",
    "# define mlflow uri\n",
    "mlflow_uri = config[\"mlflow-server\"][\"Url\"]\n",
    "TRACKING_URI = mlflow_uri"
   ]
  },
  {
   "cell_type": "code",
   "execution_count": null,
   "id": "13",
   "metadata": {},
   "outputs": [],
   "source": [
    "mlflow.set_tracking_uri(TRACKING_URI)"
   ]
  },
  {
   "cell_type": "code",
   "execution_count": null,
   "id": "14",
   "metadata": {},
   "outputs": [],
   "source": [
    "experiment_name = 'GuidedContentEmbedding'\n",
    "if not mlflow.get_experiment_by_name(name=experiment_name):\n",
    "    mlflow.create_experiment(name=experiment_name)\n",
    "experiment = mlflow.get_experiment_by_name(experiment_name)\n"
   ]
  },
  {
   "cell_type": "markdown",
   "id": "15",
   "metadata": {},
   "source": [
    "### Training the model in MLFlow"
   ]
  },
  {
   "cell_type": "markdown",
   "id": "16",
   "metadata": {},
   "source": [
    "Documentation:\n",
    "- https://radimrehurek.com/gensim/auto_examples/tutorials/run_doc2vec_lee.html\n",
    "- https://tedboy.github.io/nlps/generated/generated/gensim.models.Doc2Vec.html"
   ]
  },
  {
   "cell_type": "code",
   "execution_count": null,
   "id": "17",
   "metadata": {},
   "outputs": [],
   "source": [
    "# --- define hyperparameters\n",
    "\n",
    "hyperparams = {\n",
    "    \"vector_size\": 300,\n",
    "    \"window_size\": 15,\n",
    "    \"min_count\": 5,\n",
    "    # \"sampling_threshold\": 1e-5,\n",
    "    # \"negative_size\": 5,\n",
    "    \"train_epochs\": 100,\n",
    "    \"dm\": 0,  # 0 = dbow; 1 = dmpv\n",
    "    # \"worker_count\": 1 # number of parallel processes\n",
    "}"
   ]
  },
  {
   "cell_type": "code",
   "execution_count": null,
   "id": "18",
   "metadata": {},
   "outputs": [],
   "source": [
    "run_name = f\"MeditationDoc2VecEmbedding_{datetime.now().strftime('%Y-%m-%d_%H:%M')}\"\n",
    "tags = {\n",
    "    \"env\": \"test\",\n",
    "    \"data_date\": datetime.now().strftime('%Y-%m-%d_%H:%M'),\n",
    "    \"model_type\": \"Doc2Vec\",\n",
    "    \"experiment_description\": \"Doc2Vec Embedding for Meditations content\",\n",
    "}"
   ]
  },
  {
   "cell_type": "code",
   "execution_count": null,
   "id": "19",
   "metadata": {},
   "outputs": [],
   "source": [
    "# --- train the model\n",
    "model = gensim.models.doc2vec.Doc2Vec(vector_size=vector_size, min_count=min_count, epochs=train_epochs, \n",
    "                                     window=window_size, dm=dm)\n",
    "model.build_vocab(train_corpus)\n",
    "model.train(train_corpus, total_examples=model.corpus_count, epochs=model.epochs)"
   ]
  },
  {
   "cell_type": "code",
   "execution_count": null,
   "id": "20",
   "metadata": {},
   "outputs": [],
   "source": [
    "# --- model assessment\n",
    "def get_self_similarity_score(model, train_corpus):\n",
    "    ranks = []\n",
    "    second_ranks = []\n",
    "    for doc_id in range(len(train_corpus)):\n",
    "        inferred_vector = model.infer_vector(train_corpus[doc_id].words)\n",
    "        train_documents[doc_id].vector = inferred_vector # add vectorization to document\n",
    "        sims = model.dv.most_similar([inferred_vector], topn=len(model.dv))\n",
    "        rank = [docid for docid, sim in sims].index(doc_id)\n",
    "        ranks.append(rank)\n",
    "    \n",
    "        second_ranks.append(sims[1])\n",
    "\n",
    "    counter = collections.Counter(ranks)\n",
    "    print(counter)\n",
    "\n",
    "    self_similarity_score = round(counter[0]/len(ranks) * 100)\n",
    "    return self_similarity_score\n",
    "\n"
   ]
  },
  {
   "cell_type": "code",
   "execution_count": null,
   "id": "21",
   "metadata": {},
   "outputs": [],
   "source": [
    "self_similarity_score = get_self_similarity_score(model, train_corpus)"
   ]
  },
  {
   "cell_type": "code",
   "execution_count": null,
   "id": "22",
   "metadata": {},
   "outputs": [],
   "source": [
    "model_metrics = {\n",
    "    \"self_similarity_score\": self_similarity_score,\n",
    "}"
   ]
  },
  {
   "cell_type": "code",
   "execution_count": null,
   "id": "23",
   "metadata": {},
   "outputs": [],
   "source": [
    "# --- visualize document embedding\n",
    "from sklearn.manifold import TSNE\n",
    "import plotly.express as px\n",
    "import plotly.express as px\n",
    "import plotly.offline as pyo\n",
    "import plotly.graph_objs as go\n",
    "import plotly.io as pio\n",
    "pio.renderers.default = 'iframe'\n",
    "\n",
    "\n",
    "def plot_embedding():\n",
    "    # Get all vectors and labels\n",
    "    vectors = np.array([model.dv[idx] for idx in range(len(train_corpus))])\n",
    "    titles = [doc.title for doc in train_documents]\n",
    "    guided_content_types = [doc.guided_content_type for doc in train_documents]\n",
    "\n",
    "    # Apply t-SNE to reduce the dimensionality for visualization\n",
    "    tsne_model = TSNE(n_components=2, random_state=42)\n",
    "    tsne_vectors = tsne_model.fit_transform(vectors)\n",
    "\n",
    "    # Create a DataFrame for easier visualization using seaborn\n",
    "    df = pd.DataFrame({'X': tsne_vectors[:, 0], 'Y': tsne_vectors[:, 1], 'Title': titles, \n",
    "                       'Content Type': guided_content_types})\n",
    "    # create plot\n",
    "    fig = px.scatter(df, x='X', y='Y', hover_data=['Title', 'Content Type'], \n",
    "                     title='t-sne visualisation of document embeddings')\n",
    "    fig.show()\n",
    "\n",
    "\n",
    "    return fig\n",
    "    \n",
    "fig = plot_embedding()"
   ]
  },
  {
   "cell_type": "code",
   "execution_count": null,
   "id": "24",
   "metadata": {},
   "outputs": [],
   "source": []
  },
  {
   "cell_type": "code",
   "execution_count": null,
   "id": "25",
   "metadata": {},
   "outputs": [],
   "source": [
    "vectors = np.array([model.dv[idx] for idx in range(len(train_corpus))])\n",
    "titles = [doc.title for doc in train_documents]\n",
    "guided_content_types = [doc.guided_content_type for doc in train_documents]\n"
   ]
  },
  {
   "cell_type": "code",
   "execution_count": null,
   "id": "26",
   "metadata": {},
   "outputs": [],
   "source": []
  },
  {
   "cell_type": "code",
   "execution_count": null,
   "id": "27",
   "metadata": {},
   "outputs": [],
   "source": [
    "with mlflow.start_run(experiment_id=experiment.experiment_id, run_name=run_name, tags=tags):\n",
    "    # logging parameters\n",
    "    for hyperparam, value in hyperparams.items():\n",
    "        mlflow.log_param(hyperparam, value)\n",
    "\n",
    "    # logging metrics\n",
    "    for metric, value in model_metrics.items():\n",
    "        mlflow.log_metric(metric, value)\n",
    "        \n",
    "    # logging plots - FIXME: kaleido package\n",
    "    # mlflow.log_figure(fig, \"embedding.png\")"
   ]
  },
  {
   "cell_type": "code",
   "execution_count": null,
   "id": "28",
   "metadata": {},
   "outputs": [],
   "source": [
    "print(len(model.dv))\n",
    "print(len(train_corpus))"
   ]
  },
  {
   "cell_type": "code",
   "execution_count": null,
   "id": "29",
   "metadata": {},
   "outputs": [],
   "source": []
  }
 ],
 "metadata": {
  "kernelspec": {
   "display_name": "Python 3 (ipykernel)",
   "language": "python",
   "name": "python3"
  },
  "language_info": {
   "codemirror_mode": {
    "name": "ipython",
    "version": 3
   },
   "file_extension": ".py",
   "mimetype": "text/x-python",
   "name": "python",
   "nbconvert_exporter": "python",
   "pygments_lexer": "ipython3",
   "version": "3.10.2"
  }
 },
 "nbformat": 4,
 "nbformat_minor": 5
}
