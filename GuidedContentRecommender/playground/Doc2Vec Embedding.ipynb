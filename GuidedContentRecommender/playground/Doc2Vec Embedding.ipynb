{
 "cells": [
  {
   "cell_type": "code",
   "execution_count": null,
   "id": "0",
   "metadata": {},
   "outputs": [],
   "source": [
    "import pandas as pd\n",
    "import numpy as np\n",
    "import gensim \n",
    "import spacy\n",
    "import nltk\n",
    "import mlflow\n",
    "\n",
    "import os\n",
    "from datetime import datetime\n",
    "import collections"
   ]
  },
  {
   "cell_type": "code",
   "execution_count": null,
   "id": "1",
   "metadata": {},
   "outputs": [],
   "source": [
    "!pwd"
   ]
  },
  {
   "cell_type": "markdown",
   "id": "2",
   "metadata": {},
   "source": [
    "### Import data"
   ]
  },
  {
   "cell_type": "code",
   "execution_count": null,
   "id": "3",
   "metadata": {},
   "outputs": [],
   "source": [
    "import re\n",
    "\n",
    "def filter_EN_content(files: [str]):\n",
    "    substrings = ['FR', 'SP', 'RU', 'JP', 'ES', 'PT', 'é', r'(\\d)', 'jpn', 'Portugese', 'MX', 'Spanish', 'JA', 'GHI', 'ST']\n",
    "    pattern = re.compile('|'.join(substrings))\n",
    "    valid_files = [file for file in files if not pattern.search(file)]\n",
    "    return valid_files"
   ]
  },
  {
   "cell_type": "code",
   "execution_count": null,
   "id": "4",
   "metadata": {},
   "outputs": [],
   "source": [
    "class Document:\n",
    "    \n",
    "    def __init__(self, i: int, word_file_path: str, guided_content_type: str):\n",
    "        self.index = i\n",
    "        self.word_file_path = word_file_path\n",
    "        self.guided_content_type = guided_content_type\n",
    "        self.title = os.path.splitext(os.path.basename(word_file_path))[0]\n",
    "        # print(self.title)\n",
    "        self.content = self._read_word_document()\n",
    "        \n",
    "    def _read_word_document(self):\n",
    "        content = []\n",
    "        with open(self.word_file_path, 'r') as f:\n",
    "            for line in f.readlines():\n",
    "                l = line.strip()\n",
    "                if l != '':\n",
    "                    content.append(l)\n",
    "        return content\n",
    "    "
   ]
  },
  {
   "cell_type": "code",
   "execution_count": null,
   "id": "5",
   "metadata": {},
   "outputs": [],
   "source": []
  },
  {
   "cell_type": "code",
   "execution_count": null,
   "id": "6",
   "metadata": {},
   "outputs": [],
   "source": [
    "# --- read meditations files\n",
    "meditations_dir = \"/Users/emulie/Data/Meditations_CLEAN\"\n",
    "meditations_docs = [Document(i, os.path.join(meditations_dir, word_file), 'meditations') for i, word_file in enumerate(filter_EN_content(os.listdir(meditations_dir)))]"
   ]
  },
  {
   "cell_type": "code",
   "execution_count": null,
   "id": "7",
   "metadata": {},
   "outputs": [],
   "source": []
  },
  {
   "cell_type": "code",
   "execution_count": null,
   "id": "8",
   "metadata": {},
   "outputs": [],
   "source": [
    "# --- read sleeptales files\n",
    "sleeptales_dir = \"/Users/emulie/Data/SleepTales_CLEAN\"\n",
    "sleeptales_docs = [Document(i, os.path.join(sleeptales_dir, word_file), 'sleeptales') for i, word_file in enumerate(filter_EN_content(os.listdir(sleeptales_dir)))]"
   ]
  },
  {
   "cell_type": "code",
   "execution_count": null,
   "id": "9",
   "metadata": {},
   "outputs": [],
   "source": [
    "from nltk.corpus import stopwords\n",
    "\n",
    "# define corpus\n",
    "def read_corpus(i, document: str):\n",
    "    tokens = []\n",
    "    for line in document.content:\n",
    "        # remove stopwords \n",
    "        preprocessed_line = ' '.join([word for word in line.split() if word.isalnum() and word not in stop_words])\n",
    "        tokens += gensim.utils.simple_preprocess(preprocessed_line)\n",
    "    \n",
    "    return gensim.models.doc2vec.TaggedDocument(tokens, [i])\n",
    "\n",
    "stop_words = set(stopwords.words('english'))\n",
    "train_documents = sleeptales_docs + meditations_docs\n",
    "# train_documents = meditations_docs\n",
    "train_corpus = [read_corpus(i, doc) for i, doc in enumerate(train_documents)]"
   ]
  },
  {
   "cell_type": "code",
   "execution_count": null,
   "id": "10",
   "metadata": {},
   "outputs": [],
   "source": [
    "print(f\"Number of contents: {len(train_documents)}\")\n",
    "\n",
    "# compute average number of words per document\n",
    "docs_content_length = [len(' '.join(doc.content).split(' ')) for doc in train_documents]\n",
    "print(f\"Average Words per content: {np.mean(docs_content_length):.2f}\")"
   ]
  },
  {
   "cell_type": "code",
   "execution_count": null,
   "id": "11",
   "metadata": {},
   "outputs": [],
   "source": []
  },
  {
   "cell_type": "markdown",
   "id": "12",
   "metadata": {},
   "source": [
    "### Importing MLFlow URI"
   ]
  },
  {
   "cell_type": "code",
   "execution_count": null,
   "id": "13",
   "metadata": {},
   "outputs": [],
   "source": [
    "import os\n",
    "import configparser\n",
    "import ssl\n",
    "\n",
    "# missing ssh import needed to connect to model URI\n",
    "ssl._create_default_https_context = ssl._create_unverified_context\n",
    "\n",
    "# \n",
    "# script_dir = os.path.dirname(os.path.abspath(__file__))\n",
    "script_dir = os.path.dirname(os.path.abspath(\"\"))\n",
    "config_path = os.path.join(script_dir, \"config.ini\")\n",
    "print(f\"config_path: {config_path}\")\n",
    "\n",
    "# parse \n",
    "config = configparser.ConfigParser()\n",
    "config.read(config_path)\n",
    "\n",
    "# define mlflow uri\n",
    "mlflow_uri = config[\"mlflow-server\"][\"Url\"]\n",
    "TRACKING_URI = mlflow_uri"
   ]
  },
  {
   "cell_type": "code",
   "execution_count": null,
   "id": "14",
   "metadata": {},
   "outputs": [],
   "source": [
    "mlflow.set_tracking_uri(TRACKING_URI)"
   ]
  },
  {
   "cell_type": "code",
   "execution_count": null,
   "id": "15",
   "metadata": {},
   "outputs": [],
   "source": [
    "experiment_name = 'GuidedContentEmbedding'\n",
    "if not mlflow.get_experiment_by_name(name=experiment_name):\n",
    "    mlflow.create_experiment(name=experiment_name)\n",
    "experiment = mlflow.get_experiment_by_name(experiment_name)\n"
   ]
  },
  {
   "cell_type": "markdown",
   "id": "16",
   "metadata": {},
   "source": [
    "### Training the model in MLFlow"
   ]
  },
  {
   "cell_type": "markdown",
   "id": "17",
   "metadata": {},
   "source": [
    "Documentation:\n",
    "- https://radimrehurek.com/gensim/auto_examples/tutorials/run_doc2vec_lee.html\n",
    "- https://tedboy.github.io/nlps/generated/generated/gensim.models.Doc2Vec.html"
   ]
  },
  {
   "cell_type": "code",
   "execution_count": null,
   "id": "18",
   "metadata": {},
   "outputs": [],
   "source": []
  },
  {
   "cell_type": "code",
   "execution_count": null,
   "id": "19",
   "metadata": {},
   "outputs": [],
   "source": []
  },
  {
   "cell_type": "code",
   "execution_count": null,
   "id": "20",
   "metadata": {},
   "outputs": [],
   "source": [
    "# --- train the model\n",
    "\n",
    "def get_doc2vec_model(train_corpus, hyperparams: dict):\n",
    "    model = gensim.models.doc2vec.Doc2Vec(vector_size=hyperparams['vector_size'], min_count=hyperparams['min_count'],\n",
    "                                          epochs=hyperparams['train_epochs'], window=hyperparams['window_size'], dm=hyperparams['dm'])\n",
    "    model.build_vocab(train_corpus)\n",
    "    model.train(train_corpus, total_examples=model.corpus_count, epochs=model.epochs)\n",
    "    return model"
   ]
  },
  {
   "cell_type": "code",
   "execution_count": null,
   "id": "21",
   "metadata": {},
   "outputs": [],
   "source": [
    "# --- model assessment\n",
    "def get_self_similarity_score(model, train_corpus):\n",
    "    ranks = []\n",
    "    second_ranks = []\n",
    "    for doc_id in range(len(train_corpus)):\n",
    "        inferred_vector = model.infer_vector(train_corpus[doc_id].words)\n",
    "        train_documents[doc_id].vector = inferred_vector # add vectorization to document\n",
    "        sims = model.dv.most_similar([inferred_vector], topn=len(model.dv))\n",
    "        rank = [docid for docid, sim in sims].index(doc_id)\n",
    "        ranks.append(rank)\n",
    "    \n",
    "        second_ranks.append(sims[1])\n",
    "\n",
    "    counter = collections.Counter(ranks)\n",
    "    # print(counter)\n",
    "\n",
    "    self_similarity_score = round(counter[0]/len(ranks) * 100)\n",
    "    return self_similarity_score"
   ]
  },
  {
   "cell_type": "code",
   "execution_count": null,
   "id": "22",
   "metadata": {},
   "outputs": [],
   "source": []
  },
  {
   "cell_type": "code",
   "execution_count": null,
   "id": "23",
   "metadata": {},
   "outputs": [],
   "source": []
  },
  {
   "cell_type": "code",
   "execution_count": null,
   "id": "24",
   "metadata": {},
   "outputs": [],
   "source": [
    "# --- visualize document embedding in 2D\n",
    "from sklearn.manifold import TSNE\n",
    "import plotly.express as px\n",
    "import plotly.express as px\n",
    "import plotly.offline as pyo\n",
    "import plotly.graph_objs as go\n",
    "import plotly.io as pio\n",
    "pio.renderers.default = 'iframe'\n",
    "\n",
    "\n",
    "def plot_embedding():\n",
    "    # Get all vectors and labels\n",
    "    vectors = np.array([model.dv[idx] for idx in range(len(train_corpus))])\n",
    "    titles = [doc.title for doc in train_documents]\n",
    "    guided_content_types = [doc.guided_content_type for doc in train_documents]\n",
    "\n",
    "    # Apply t-SNE to reduce the dimensionality for visualization\n",
    "    tsne_model = TSNE(n_components=2, random_state=42)\n",
    "    tsne_vectors = tsne_model.fit_transform(vectors)\n",
    "\n",
    "    # Create a DataFrame for easier visualization using seaborn\n",
    "    df = pd.DataFrame({'X': tsne_vectors[:, 0], 'Y': tsne_vectors[:, 1], 'Title': titles, \n",
    "                       'Content Type': guided_content_types})\n",
    "    # create plot\n",
    "    fig = px.scatter(df, x='X', y='Y', hover_data=['Title', 'Content Type'], color='Content Type', \n",
    "                     title='t-sne visualisation of document embeddings')\n",
    "    # fig.show()\n",
    "\n",
    "\n",
    "    return fig"
   ]
  },
  {
   "cell_type": "code",
   "execution_count": null,
   "id": "25",
   "metadata": {},
   "outputs": [],
   "source": [
    "# --- visualize document embedding in 3D (and with color) \n",
    "\n",
    "def plot_embedding(num_dimensions: int):\n",
    "    # Get all vectors and labels\n",
    "    vectors = np.array([model.dv[idx] for idx in range(len(train_corpus))])\n",
    "    titles = [doc.title for doc in train_documents]\n",
    "    guided_content_types = [doc.guided_content_type for doc in train_documents]\n",
    "\n",
    "    # Apply t-SNE to reduce the dimensionality for visualization\n",
    "    tsne_model = TSNE(n_components=num_dimensions, random_state=42)\n",
    "    tsne_vectors = tsne_model.fit_transform(vectors)\n",
    "\n",
    "    # Create a DataFrame for easier visualization using seaborn\n",
    "    if num_dimensions == 2:\n",
    "        df = pd.DataFrame({'X': tsne_vectors[:, 0], 'Y': tsne_vectors[:, 1], 'Title': titles, \n",
    "                           'Content Type': guided_content_types})\n",
    "        fig = px.scatter(df, x='X', y='Y', hover_data=['Title', 'Content Type'], color='Content Type', \n",
    "                     title='t-sne visualisation of document embeddings')\n",
    "    elif num_dimensions == 3: \n",
    "        df = pd.DataFrame({'X': tsne_vectors[:, 0], 'Y': tsne_vectors[:, 1], 'Z': tsne_vectors[:, 2], 'Title': titles, \n",
    "                           'Content Type': guided_content_types})\n",
    "        fig = px.scatter_3d(df, x='X', y='Y', z='Z', hover_data=['Title', 'Content Type'], color='Content Type', \n",
    "                     title='t-sne visualisation of document embeddings')\n",
    "    \n",
    "    else:\n",
    "        raise ValueError(f\"Num of dimensions {num_dimensions} unsuported.\")\n",
    "\n",
    "    # fig.show()\n",
    "\n",
    "    return fig"
   ]
  },
  {
   "cell_type": "code",
   "execution_count": null,
   "id": "26",
   "metadata": {},
   "outputs": [],
   "source": [
    "fig = plot_embedding(num_dimensions=2)\n",
    "fig.show()"
   ]
  },
  {
   "cell_type": "code",
   "execution_count": null,
   "id": "27",
   "metadata": {},
   "outputs": [],
   "source": [
    "fig = plot_embedding(num_dimensions=3)\n",
    "fig.show()"
   ]
  },
  {
   "cell_type": "code",
   "execution_count": null,
   "id": "28",
   "metadata": {},
   "outputs": [],
   "source": []
  },
  {
   "cell_type": "code",
   "execution_count": null,
   "id": "29",
   "metadata": {},
   "outputs": [],
   "source": [
    "class Doc2VecModelWrapper(mlflow.pyfunc.PythonModel):\n",
    "    \n",
    "    def load_context(self, context):\n",
    "        import gensim\n",
    "        self.model = gensim.models.Doc2Vec.load(context.artifacts[\"doc2vec_model\"])\n",
    "\n",
    "    def predict(self, context, model_input):\n",
    "        # Assuming model_input is a list of tokenized documents\n",
    "        return [self.model.infer_vector(doc) for doc in model_input]\n"
   ]
  },
  {
   "cell_type": "code",
   "execution_count": null,
   "id": "30",
   "metadata": {},
   "outputs": [],
   "source": []
  },
  {
   "cell_type": "code",
   "execution_count": null,
   "id": "31",
   "metadata": {},
   "outputs": [],
   "source": [
    "# --- Embedding for Meditations\n",
    "\n",
    "hyperparams = {\n",
    "    \"vector_size\": 300,\n",
    "    \"window_size\": 15,\n",
    "    \"min_count\": 5,\n",
    "    # \"sampling_threshold\": 1e-5,\n",
    "    # \"negative_size\": 5,\n",
    "    \"train_epochs\": 100,\n",
    "    \"dm\": 0,  # 0 = dbow; 1 = dmpv\n",
    "    # \"worker_count\": 1 # number of parallel processes\n",
    "}\n",
    "run_name = f\"Meditation&SleepTales_Doc2VecEmbedding_{datetime.now().strftime('%Y-%m-%d_%H:%M')}\"\n",
    "tags = {\n",
    "    \"env\": \"test\",\n",
    "    \"data_date\": datetime.now().strftime('%Y-%m-%d_%H:%M'),\n",
    "    \"model_type\": \"Doc2Vec\",\n",
    "    # \"experiment_description\": \"Doc2Vec Embedding for Meditations content\",\n",
    "    \"experiment_description\": \"Doc2Vec Embedding for Meditations & SleepTales content\",\n",
    "}\n",
    "\n",
    "model = get_doc2vec_model(train_corpus, hyperparams)\n",
    "model_metrics = {\n",
    "    \"self_similarity_score\": get_self_similarity_score(model, train_corpus),\n",
    "}\n",
    "fig = plot_embedding()"
   ]
  },
  {
   "cell_type": "code",
   "execution_count": null,
   "id": "32",
   "metadata": {},
   "outputs": [],
   "source": [
    "with mlflow.start_run(experiment_id=experiment.experiment_id, run_name=run_name, tags=tags):\n",
    "    # logging parameters\n",
    "    for hyperparam, value in hyperparams.items():\n",
    "        mlflow.log_param(hyperparam, value)\n",
    "\n",
    "    # logging metrics\n",
    "    for metric, value in model_metrics.items():\n",
    "        mlflow.log_metric(metric, value)\n",
    "        \n",
    "    # logging plots\n",
    "    fig.write_html(\"embedding.html\")\n",
    "    mlflow.log_artifact(\"embedding.html\", artifact_path=\"plot\")\n",
    "\n",
    "    # save the model\n",
    "    model_path = \"doc2vec.model\"\n",
    "    model.save(model_path)\n",
    "    artifacts = {\"doc2vec_model\": model_path}\n",
    "    mlflow.pyfunc.log_model(\n",
    "        artifact_path=\"doc2vec_model\",\n",
    "        python_model=Doc2VecModelWrapper(),\n",
    "        artifacts=artifacts\n",
    "    )"
   ]
  },
  {
   "cell_type": "code",
   "execution_count": null,
   "id": "33",
   "metadata": {},
   "outputs": [],
   "source": [
    "print(len(model.dv))\n",
    "print(len(train_corpus))"
   ]
  },
  {
   "cell_type": "code",
   "execution_count": null,
   "id": "34",
   "metadata": {},
   "outputs": [],
   "source": [
    "# --- get vector for each guided content\n",
    "v = model.infer_vector(train_corpus[0].words)"
   ]
  },
  {
   "cell_type": "code",
   "execution_count": null,
   "id": "35",
   "metadata": {},
   "outputs": [],
   "source": [
    "model.dv.most_similar(v, topn=10)"
   ]
  },
  {
   "cell_type": "code",
   "execution_count": null,
   "id": "36",
   "metadata": {},
   "outputs": [],
   "source": []
  },
  {
   "cell_type": "markdown",
   "id": "37",
   "metadata": {},
   "source": [
    "### Loading the model from MLFlow"
   ]
  },
  {
   "cell_type": "code",
   "execution_count": null,
   "id": "38",
   "metadata": {},
   "outputs": [],
   "source": [
    "# # --- Not working\n",
    "# DOC2VEC_MLFLOW_PATH = \"runs:/413751bb61a540bcb450c83ec43dac3a/artifacts/doc2vec_model\"\n",
    "# loaded_model = mlflow.pyfunc.load_model(DOC2VEC_MLFLOW_PATH)"
   ]
  },
  {
   "cell_type": "code",
   "execution_count": null,
   "id": "39",
   "metadata": {},
   "outputs": [],
   "source": [
    "artifact_path = mlflow.artifacts.download_artifacts(\n",
    "    run_id=\"413751bb61a540bcb450c83ec43dac3a\",\n",
    "    artifact_path=\"doc2vec_model\"\n",
    ")"
   ]
  },
  {
   "cell_type": "code",
   "execution_count": null,
   "id": "40",
   "metadata": {},
   "outputs": [],
   "source": [
    "artifact_path"
   ]
  },
  {
   "cell_type": "code",
   "execution_count": null,
   "id": "41",
   "metadata": {},
   "outputs": [],
   "source": [
    "loaded_model = gensim.models.Doc2Vec.load(os.path.join(artifact_path, \"artifacts/doc2vec.model\"))"
   ]
  },
  {
   "cell_type": "code",
   "execution_count": null,
   "id": "42",
   "metadata": {},
   "outputs": [],
   "source": []
  },
  {
   "cell_type": "code",
   "execution_count": null,
   "id": "43",
   "metadata": {},
   "outputs": [],
   "source": []
  },
  {
   "cell_type": "markdown",
   "id": "44",
   "metadata": {},
   "source": [
    "### Use the model for user predictions"
   ]
  },
  {
   "cell_type": "markdown",
   "id": "45",
   "metadata": {},
   "source": [
    "We get the list of all the liked/listened guided content to create a user vector and check the items closest"
   ]
  },
  {
   "cell_type": "code",
   "execution_count": null,
   "id": "46",
   "metadata": {},
   "outputs": [],
   "source": [
    "def get_user_vector(liked_content_indexes: [int]):\n",
    "    vectors = np.array([train_documents[i].vector for i in liked_content_indexes])\n",
    "    user_vector = np.mean(vectors, axis=0)\n",
    "    return user_vector\n",
    "\n",
    "def get_recommendations(user_vector: np.array):\n",
    "    recommendations = [] # (title, proba)\n",
    "    for i, proba in model.dv.most_similar([user_vector], topn=10):\n",
    "        recommendations.append([train_documents[i].title, proba])\n",
    "    return recommendations\n",
    "\n",
    "    \n",
    "liked_content_indexes = [np.random.randint(0, len(train_documents)) for _ in range(5)]\n",
    "user_vector = get_user_vector(liked_content_indexes)\n",
    "recommendations = get_recommendations(user_vector)    "
   ]
  },
  {
   "cell_type": "code",
   "execution_count": null,
   "id": "47",
   "metadata": {},
   "outputs": [],
   "source": []
  },
  {
   "cell_type": "markdown",
   "id": "48",
   "metadata": {},
   "source": [
    "### Use model for single guided recommendations content"
   ]
  },
  {
   "cell_type": "markdown",
   "id": "49",
   "metadata": {},
   "source": []
  },
  {
   "cell_type": "code",
   "execution_count": null,
   "id": "50",
   "metadata": {},
   "outputs": [],
   "source": []
  },
  {
   "cell_type": "code",
   "execution_count": null,
   "id": "51",
   "metadata": {},
   "outputs": [],
   "source": []
  },
  {
   "cell_type": "markdown",
   "id": "52",
   "metadata": {},
   "source": [
    "### Read tags dataframe"
   ]
  },
  {
   "cell_type": "code",
   "execution_count": null,
   "id": "53",
   "metadata": {},
   "outputs": [],
   "source": [
    "df_tags = pd.read_csv(\"/Users/emulie/Data/content-en.csv\")"
   ]
  },
  {
   "cell_type": "code",
   "execution_count": null,
   "id": "54",
   "metadata": {},
   "outputs": [],
   "source": [
    "df_tags.head()"
   ]
  },
  {
   "cell_type": "code",
   "execution_count": null,
   "id": "55",
   "metadata": {},
   "outputs": [],
   "source": [
    "print(len(train_corpus))\n",
    "print(len(df_tags))"
   ]
  },
  {
   "cell_type": "code",
   "execution_count": null,
   "id": "56",
   "metadata": {},
   "outputs": [],
   "source": [
    "# --- filter for guided content only\n",
    "is_guided_content_mask = df_tags['type'] != 'music'\n",
    "df_tags = df_tags[is_guided_content_mask]"
   ]
  },
  {
   "cell_type": "code",
   "execution_count": null,
   "id": "57",
   "metadata": {},
   "outputs": [],
   "source": [
    "print(len(train_corpus))\n",
    "print(len(df_tags))"
   ]
  },
  {
   "cell_type": "code",
   "execution_count": null,
   "id": "58",
   "metadata": {},
   "outputs": [],
   "source": [
    "df_tags['author'].value_counts()"
   ]
  },
  {
   "cell_type": "code",
   "execution_count": null,
   "id": "59",
   "metadata": {},
   "outputs": [],
   "source": [
    "df_tags['narratorName'].value_counts()"
   ]
  },
  {
   "cell_type": "code",
   "execution_count": null,
   "id": "60",
   "metadata": {},
   "outputs": [],
   "source": [
    "df_tags['narratorGender'].value_counts()"
   ]
  },
  {
   "cell_type": "code",
   "execution_count": null,
   "id": "61",
   "metadata": {},
   "outputs": [],
   "source": [
    "# -- get all unique tags\n",
    "unique_tags = set([tag.strip() for tag in ','.join([tag for tag in list(df_tags['tags']) if str(tag) != 'nan']).split(',')])"
   ]
  },
  {
   "cell_type": "code",
   "execution_count": null,
   "id": "62",
   "metadata": {},
   "outputs": [],
   "source": [
    "dct_i_to_tags = {i: tag for i, tag in enumerate(unique_tags)}\n",
    "dct_tags_to_i = {tag: i for i, tag in enumerate(unique_tags)}"
   ]
  },
  {
   "cell_type": "code",
   "execution_count": null,
   "id": "63",
   "metadata": {},
   "outputs": [],
   "source": []
  },
  {
   "cell_type": "code",
   "execution_count": null,
   "id": "64",
   "metadata": {},
   "outputs": [],
   "source": [
    "# --- create tag matrix from df_tags\n",
    "matrix_tags = np.zeros((df_tags.shape[0], len(dct_i_to_tags)))\n",
    "for i, row in df_tags.iterrows():\n",
    "    if str(row['tags']) == 'nan':\n",
    "        continue\n",
    "        \n",
    "    tags = row['tags'].split(', ')\n",
    "    for tag in tags:\n",
    "        matrix_tags[i, dct_tags_to_i[tag]] += 1"
   ]
  },
  {
   "cell_type": "code",
   "execution_count": null,
   "id": "65",
   "metadata": {},
   "outputs": [],
   "source": [
    "# --- count number of content for each tag\n",
    "df_count = pd.DataFrame(matrix_tags.sum(axis=0))\n",
    "df_count.index = list(dct_tags_to_i.keys())"
   ]
  },
  {
   "cell_type": "code",
   "execution_count": null,
   "id": "66",
   "metadata": {},
   "outputs": [],
   "source": [
    "df_count"
   ]
  },
  {
   "cell_type": "code",
   "execution_count": null,
   "id": "67",
   "metadata": {},
   "outputs": [],
   "source": []
  },
  {
   "cell_type": "code",
   "execution_count": null,
   "id": "68",
   "metadata": {},
   "outputs": [],
   "source": []
  },
  {
   "cell_type": "code",
   "execution_count": null,
   "id": "69",
   "metadata": {},
   "outputs": [],
   "source": []
  },
  {
   "cell_type": "markdown",
   "id": "70",
   "metadata": {},
   "source": [
    "### Deeper Model Evaluation using tags (TODO)"
   ]
  },
  {
   "cell_type": "code",
   "execution_count": null,
   "id": "71",
   "metadata": {},
   "outputs": [],
   "source": [
    "titles = [doc.title for doc in train_documents]"
   ]
  },
  {
   "cell_type": "code",
   "execution_count": null,
   "id": "72",
   "metadata": {},
   "outputs": [],
   "source": [
    "titles"
   ]
  },
  {
   "cell_type": "code",
   "execution_count": null,
   "id": "73",
   "metadata": {},
   "outputs": [],
   "source": []
  },
  {
   "cell_type": "markdown",
   "id": "74",
   "metadata": {},
   "source": [
    "### Use case 1: Top 10 most similar files for each guided content"
   ]
  },
  {
   "cell_type": "code",
   "execution_count": null,
   "id": "75",
   "metadata": {},
   "outputs": [],
   "source": []
  },
  {
   "cell_type": "code",
   "execution_count": null,
   "id": "76",
   "metadata": {},
   "outputs": [],
   "source": [
    "def get_top_n(model, doc_id: int, n: int):\n",
    "    inferred_vector = model.infer_vector(train_corpus[doc_id].words)\n",
    "    train_documents[doc_id].vector = inferred_vector # add vectorization to document\n",
    "    sims = model.dv.most_similar([inferred_vector], topn=n)\n",
    "    return sims"
   ]
  },
  {
   "cell_type": "code",
   "execution_count": null,
   "id": "77",
   "metadata": {},
   "outputs": [],
   "source": [
    "\n",
    "sims1 = get_top_n(model, 0, 10)"
   ]
  },
  {
   "cell_type": "code",
   "execution_count": null,
   "id": "78",
   "metadata": {},
   "outputs": [],
   "source": [
    "sims1"
   ]
  },
  {
   "cell_type": "code",
   "execution_count": null,
   "id": "79",
   "metadata": {},
   "outputs": [],
   "source": [
    "top_10_titles = [titles[idx] for idx, similarity in sims1]"
   ]
  },
  {
   "cell_type": "code",
   "execution_count": null,
   "id": "80",
   "metadata": {},
   "outputs": [],
   "source": [
    "top_10_titles"
   ]
  },
  {
   "cell_type": "code",
   "execution_count": null,
   "id": "81",
   "metadata": {},
   "outputs": [],
   "source": []
  },
  {
   "cell_type": "markdown",
   "id": "82",
   "metadata": {},
   "source": [
    "### Use Case 2: vectorized favorited content"
   ]
  },
  {
   "cell_type": "code",
   "execution_count": null,
   "id": "83",
   "metadata": {},
   "outputs": [],
   "source": [
    "def get_user_vector_from_liked_contents(model, liked_idx: [int]):\n",
    "    vectors = np.array([model.infer_vector(train_corpus[idx].words) for idx in liked_idx])\n",
    "    inferred_vector = vectors.mean(axis=0)\n",
    "    return inferred_vector\n",
    "    \n",
    "def get_top_n_from_vector(model, vector, n: int):\n",
    "    sims = model.dv.most_similar([vector], topn=n)\n",
    "    return sims"
   ]
  },
  {
   "cell_type": "code",
   "execution_count": null,
   "id": "84",
   "metadata": {},
   "outputs": [],
   "source": [
    "liked_idxs = [12, 4, 6]\n",
    "user_vector = get_user_vector_from_liked_contents(model, liked_idxs)\n",
    "sims1 = get_top_n_from_vector(model, user_vector, 10)"
   ]
  },
  {
   "cell_type": "code",
   "execution_count": null,
   "id": "85",
   "metadata": {},
   "outputs": [],
   "source": [
    "sims1"
   ]
  },
  {
   "cell_type": "code",
   "execution_count": null,
   "id": "86",
   "metadata": {},
   "outputs": [],
   "source": [
    "# --- sanity check with Underwater City\n",
    "for i, t in enumerate(titles):\n",
    "    if 'city' in t.lower():\n",
    "        print(i, t)"
   ]
  },
  {
   "cell_type": "code",
   "execution_count": null,
   "id": "87",
   "metadata": {},
   "outputs": [],
   "source": [
    "liked_idxs = [166, 84]\n",
    "user_vector = get_user_vector_from_liked_contents(model, liked_idxs)\n",
    "sims1 = get_top_n_from_vector(model, user_vector, 10)"
   ]
  },
  {
   "cell_type": "code",
   "execution_count": null,
   "id": "88",
   "metadata": {},
   "outputs": [],
   "source": [
    "[(idx, titles[idx]) for idx, _ in sims1]"
   ]
  },
  {
   "cell_type": "code",
   "execution_count": null,
   "id": "89",
   "metadata": {},
   "outputs": [],
   "source": [
    "# --- sanity check with Gizmo\n",
    "for i, t in enumerate(titles):\n",
    "    if 'gizmo' in t.lower():\n",
    "        print(i, t)"
   ]
  },
  {
   "cell_type": "code",
   "execution_count": null,
   "id": "90",
   "metadata": {},
   "outputs": [],
   "source": [
    "liked_idxs = [49]\n",
    "user_vector = get_user_vector_from_liked_contents(model, liked_idxs)\n",
    "sims1 = get_top_n_from_vector(model, user_vector, 10)\n",
    "[(idx, titles[idx]) for idx, _ in sims1]"
   ]
  },
  {
   "cell_type": "markdown",
   "id": "91",
   "metadata": {},
   "source": []
  },
  {
   "cell_type": "code",
   "execution_count": null,
   "id": "92",
   "metadata": {},
   "outputs": [],
   "source": []
  },
  {
   "cell_type": "code",
   "execution_count": null,
   "id": "93",
   "metadata": {},
   "outputs": [],
   "source": []
  },
  {
   "cell_type": "markdown",
   "id": "94",
   "metadata": {},
   "source": [
    "Next Steps:\n",
    "- what to do with new content? \n",
    "- convert mlflow model to CoreML (ios) and LiteRL (android) => ?? => devs only needs a list of content ids\n",
    "- everyday (or other period), update inferred vector for each active user => don't use the app to send us anything, just use the 'events'\n",
    "  table [ model inference job ]\n",
    "- Preprocessing approaches:\n",
    "    - only considering EN\n",
    "- N-Grams (with negations)\n",
    "\n",
    "Other usage cases:\n",
    "- collaborative filtering (more robust way of generating user vector) => perform matrix co-occurence and factorize it => get vector for users and content\n"
   ]
  },
  {
   "cell_type": "markdown",
   "id": "95",
   "metadata": {},
   "source": []
  },
  {
   "cell_type": "code",
   "execution_count": null,
   "id": "96",
   "metadata": {},
   "outputs": [],
   "source": [
    "titles"
   ]
  },
  {
   "cell_type": "code",
   "execution_count": null,
   "id": "97",
   "metadata": {},
   "outputs": [],
   "source": []
  },
  {
   "cell_type": "code",
   "execution_count": null,
   "id": "98",
   "metadata": {},
   "outputs": [],
   "source": []
  },
  {
   "cell_type": "code",
   "execution_count": null,
   "id": "99",
   "metadata": {},
   "outputs": [],
   "source": []
  }
 ],
 "metadata": {
  "kernelspec": {
   "display_name": "Python 3 (ipykernel)",
   "language": "python",
   "name": "python3"
  },
  "language_info": {
   "codemirror_mode": {
    "name": "ipython",
    "version": 3
   },
   "file_extension": ".py",
   "mimetype": "text/x-python",
   "name": "python",
   "nbconvert_exporter": "python",
   "pygments_lexer": "ipython3",
   "version": "3.10.2"
  }
 },
 "nbformat": 4,
 "nbformat_minor": 5
}
