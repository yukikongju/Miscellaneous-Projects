{
 "cells": [
  {
   "cell_type": "code",
   "execution_count": 59,
   "id": "a5fbf2d5-1975-4223-9580-ca0097a4b75b",
   "metadata": {},
   "outputs": [],
   "source": [
    "import pandas as pd\n",
    "import typing\n",
    "from datetime import datetime, date\n",
    "import requests\n",
    "import json\n",
    "\n",
    "from typing import List\n",
    "\n",
    "from pydantic import BaseModel, validator\n",
    "from pydantic_extra_types.country import CountryAlpha2\n",
    "from pydantic.functional_validators import AfterValidator\n",
    "from pydantic.dataclasses import dataclass"
   ]
  },
  {
   "cell_type": "markdown",
   "id": "ed68edad-24ff-4e68-935a-a45b52161285",
   "metadata": {},
   "source": [
    "### Defining the goals\n",
    "\n",
    "1. Define a pydantic date class to ensure that date format is 'YYYY-MM-DD' ie '%Y-%m-%d'\n",
    "2. complete *get_holiday_calendar(country, year)* function which requests holiday. Define the function parameters (year and country) with pydantic types\n",
    "3. Define *HolidayCalendar* which inherits from pydantic *BaseModel*\n",
    "4. Use functional programming paradigm for the following:\n",
    "   - *concatenate_dataframes(df1, df2)* which concatenates 2 dataframes of the same pydantic type\n",
    "   - *filter_country()* and *filter_year()*\n",
    "   - *get_new_holiday()* [ to define ]"
   ]
  },
  {
   "cell_type": "markdown",
   "id": "724935d0-0f4f-4a6f-9b11-05d54b2f0480",
   "metadata": {},
   "source": [
    "More:\n",
    "- Verify that date is not before 1980"
   ]
  },
  {
   "cell_type": "markdown",
   "id": "543ee5d8-441b-4b11-86e9-32e5b7d9b02a",
   "metadata": {},
   "source": [
    "### Define pydantic dates"
   ]
  },
  {
   "cell_type": "code",
   "execution_count": 58,
   "id": "143b0f9d-1880-48b2-a5dc-c1da47920321",
   "metadata": {},
   "outputs": [],
   "source": [
    "def validate_yyyymmdd_dateformat(v: str):\n",
    "    assert datetime.strptime(v, '%Y-%m-%d'), f\"{v} format is not YYYY-MM-DD\"\n",
    "    return v\n",
    "\n",
    "def validate_dateformat(v: str, date_format: str = '%Y-%m-%d'):\n",
    "    assert datetime.strptime(v, date_format), f\"{v} format is not {date_format}\"\n",
    "    return v\n",
    "\n",
    "yyyymmdd_date_format = typing.Annotated[str, AfterValidator(validate_yyyymmdd_dateformat)]\n",
    "calendar_date_format = typing.Annotated[str, AfterValidator(lambda v: validate_dateformat(v, date_format='%Y'))]\n",
    "\n",
    "class YearDateModel(BaseModel):\n",
    "    date: calendar_date_format"
   ]
  },
  {
   "cell_type": "code",
   "execution_count": 56,
   "id": "4586b231-2d7f-476a-b01d-aa3a7e500649",
   "metadata": {},
   "outputs": [
    {
     "name": "stdout",
     "output_type": "stream",
     "text": [
      "date='2024'\n"
     ]
    }
   ],
   "source": [
    "print(YearDateModel(date='2024')) "
   ]
  },
  {
   "cell_type": "markdown",
   "id": "025fe35d-86f0-4857-86d4-6dd357f5853a",
   "metadata": {},
   "source": [
    "### Requesting data"
   ]
  },
  {
   "cell_type": "code",
   "execution_count": 51,
   "id": "959ae827-70d7-4c4a-bce8-ea3e974dee34",
   "metadata": {},
   "outputs": [],
   "source": [
    "def get_holiday_calendar(country: CountryAlpha2, year: YearDateModel):\n",
    "    HOLIDAY_URL = \"https://date.nager.at/api/v2/publicholidays\"\n",
    "    url = f\"{HOLIDAY_URL}/{year}/{country}\"\n",
    "    resp = requests.get(url)\n",
    "\n",
    "    if resp.status_code != 200:\n",
    "        raise requests.exceptions.RequestException(f\"An error has occured when requesting {url}\")\n",
    "\n",
    "    return pd.json_normalize(resp.json())    "
   ]
  },
  {
   "cell_type": "code",
   "execution_count": 52,
   "id": "f071f26b-baac-4f1a-b21f-b210624fd33a",
   "metadata": {},
   "outputs": [],
   "source": [
    "t = get_holiday_calendar(country='US', year=2024)"
   ]
  },
  {
   "cell_type": "code",
   "execution_count": 54,
   "id": "13ccebda-3200-40ad-ac82-0b8c94b40e3e",
   "metadata": {},
   "outputs": [
    {
     "data": {
      "text/html": [
       "<div>\n",
       "<style scoped>\n",
       "    .dataframe tbody tr th:only-of-type {\n",
       "        vertical-align: middle;\n",
       "    }\n",
       "\n",
       "    .dataframe tbody tr th {\n",
       "        vertical-align: top;\n",
       "    }\n",
       "\n",
       "    .dataframe thead th {\n",
       "        text-align: right;\n",
       "    }\n",
       "</style>\n",
       "<table border=\"1\" class=\"dataframe\">\n",
       "  <thead>\n",
       "    <tr style=\"text-align: right;\">\n",
       "      <th></th>\n",
       "      <th>date</th>\n",
       "      <th>localName</th>\n",
       "      <th>name</th>\n",
       "      <th>countryCode</th>\n",
       "      <th>fixed</th>\n",
       "      <th>global</th>\n",
       "      <th>counties</th>\n",
       "      <th>launchYear</th>\n",
       "      <th>type</th>\n",
       "    </tr>\n",
       "  </thead>\n",
       "  <tbody>\n",
       "    <tr>\n",
       "      <th>0</th>\n",
       "      <td>2024-01-01</td>\n",
       "      <td>New Year's Day</td>\n",
       "      <td>New Year's Day</td>\n",
       "      <td>US</td>\n",
       "      <td>False</td>\n",
       "      <td>True</td>\n",
       "      <td>None</td>\n",
       "      <td>None</td>\n",
       "      <td>0</td>\n",
       "    </tr>\n",
       "    <tr>\n",
       "      <th>1</th>\n",
       "      <td>2024-01-15</td>\n",
       "      <td>Martin Luther King, Jr. Day</td>\n",
       "      <td>Martin Luther King, Jr. Day</td>\n",
       "      <td>US</td>\n",
       "      <td>False</td>\n",
       "      <td>True</td>\n",
       "      <td>None</td>\n",
       "      <td>None</td>\n",
       "      <td>0</td>\n",
       "    </tr>\n",
       "    <tr>\n",
       "      <th>2</th>\n",
       "      <td>2024-02-19</td>\n",
       "      <td>Washington's Birthday</td>\n",
       "      <td>Presidents Day</td>\n",
       "      <td>US</td>\n",
       "      <td>False</td>\n",
       "      <td>True</td>\n",
       "      <td>None</td>\n",
       "      <td>None</td>\n",
       "      <td>0</td>\n",
       "    </tr>\n",
       "    <tr>\n",
       "      <th>3</th>\n",
       "      <td>2024-03-29</td>\n",
       "      <td>Good Friday</td>\n",
       "      <td>Good Friday</td>\n",
       "      <td>US</td>\n",
       "      <td>False</td>\n",
       "      <td>False</td>\n",
       "      <td>[US-CT, US-DE, US-HI, US-IN, US-KY, US-LA, US-...</td>\n",
       "      <td>None</td>\n",
       "      <td>0</td>\n",
       "    </tr>\n",
       "    <tr>\n",
       "      <th>4</th>\n",
       "      <td>2024-03-29</td>\n",
       "      <td>Good Friday</td>\n",
       "      <td>Good Friday</td>\n",
       "      <td>US</td>\n",
       "      <td>False</td>\n",
       "      <td>False</td>\n",
       "      <td>[US-TX]</td>\n",
       "      <td>None</td>\n",
       "      <td>0</td>\n",
       "    </tr>\n",
       "  </tbody>\n",
       "</table>\n",
       "</div>"
      ],
      "text/plain": [
       "         date                    localName                         name  \\\n",
       "0  2024-01-01               New Year's Day               New Year's Day   \n",
       "1  2024-01-15  Martin Luther King, Jr. Day  Martin Luther King, Jr. Day   \n",
       "2  2024-02-19        Washington's Birthday               Presidents Day   \n",
       "3  2024-03-29                  Good Friday                  Good Friday   \n",
       "4  2024-03-29                  Good Friday                  Good Friday   \n",
       "\n",
       "  countryCode  fixed  global  \\\n",
       "0          US  False    True   \n",
       "1          US  False    True   \n",
       "2          US  False    True   \n",
       "3          US  False   False   \n",
       "4          US  False   False   \n",
       "\n",
       "                                            counties launchYear type  \n",
       "0                                               None       None    0  \n",
       "1                                               None       None    0  \n",
       "2                                               None       None    0  \n",
       "3  [US-CT, US-DE, US-HI, US-IN, US-KY, US-LA, US-...       None    0  \n",
       "4                                            [US-TX]       None    0  "
      ]
     },
     "execution_count": 54,
     "metadata": {},
     "output_type": "execute_result"
    }
   ],
   "source": [
    "t.head()"
   ]
  },
  {
   "cell_type": "code",
   "execution_count": null,
   "id": "c3a2c40c-8aa9-44b2-9741-2ba3eb584313",
   "metadata": {},
   "outputs": [],
   "source": []
  },
  {
   "cell_type": "markdown",
   "id": "71f58825-b756-46d4-a18f-e77300bfab3d",
   "metadata": {},
   "source": [
    "### Define dataclass for Holiday"
   ]
  },
  {
   "cell_type": "code",
   "execution_count": 73,
   "id": "36d75d25-5736-4a20-8f30-a1a40850105b",
   "metadata": {},
   "outputs": [],
   "source": []
  },
  {
   "cell_type": "code",
   "execution_count": 79,
   "id": "09594d48-ab32-412b-af21-8938b07296e0",
   "metadata": {},
   "outputs": [],
   "source": [
    "def validate_county_format(v: str):\n",
    "    assert len(v) == 2 and v.isalpha(), f\"County needs to be a 2-letter symbols\"\n",
    "    return v\n",
    "\n",
    "county_format = typing.Annotated[str, AfterValidator(validate_county_format)]\n",
    "\n",
    "class CountyFormatModel(BaseModel):\n",
    "    county: county_format"
   ]
  },
  {
   "cell_type": "code",
   "execution_count": 80,
   "id": "4fb6a156-151b-4314-89e7-9651db086c86",
   "metadata": {},
   "outputs": [
    {
     "name": "stdout",
     "output_type": "stream",
     "text": [
      "county='CT'\n"
     ]
    }
   ],
   "source": [
    "print(CountyFormatModel(county='CT'))"
   ]
  },
  {
   "cell_type": "code",
   "execution_count": 96,
   "id": "71418803-d328-4230-bf3e-ed7fdf40d819",
   "metadata": {},
   "outputs": [],
   "source": [
    "def validate_country_county_format(v: str):\n",
    "    tsplit = v.split('-')\n",
    "\n",
    "    ERROR_MSG = f\"{v} needs to be formatted <COUNTRY>-<COUNTY> ex: 'US-CT'\"\n",
    "    if len(tsplit) != 2:\n",
    "        raise ValueError(ERROR_MSG)\n",
    "\n",
    "    country, county = tsplit\n",
    "    is_valid_country = isinstance(CountryAlpha2(country), CountryAlpha2)\n",
    "    is_valid_county = isinstance(CountyFormatModel(county=county), CountyFormatModel)\n",
    "    assert is_valid_country and is_valid_county, ERROR_MSG\n",
    "    return v\n",
    "\n",
    "country_county_format = typing.Annotated[str, AfterValidator(validate_country_county_format)]\n",
    "\n",
    "class CountryCountyFormat(BaseModel):\n",
    "    country_county: country_county_format"
   ]
  },
  {
   "cell_type": "code",
   "execution_count": 97,
   "id": "bce8a2cd-adc1-4832-9d05-c34919543e5c",
   "metadata": {},
   "outputs": [
    {
     "name": "stdout",
     "output_type": "stream",
     "text": [
      "country_county='US-CT'\n"
     ]
    }
   ],
   "source": [
    "print(CountryCountyFormat(country_county='US-CT'))"
   ]
  },
  {
   "cell_type": "code",
   "execution_count": 100,
   "id": "c048973d-d81a-4999-a3ce-6cd8fd1c22c2",
   "metadata": {},
   "outputs": [],
   "source": [
    "class LaunchYearFormat(BaseModel):\n",
    "    launch_year: yyyymmdd_date_format | None"
   ]
  },
  {
   "cell_type": "code",
   "execution_count": 103,
   "id": "34e4a2f1-02ec-41db-9eb5-0fc76ddc0f3f",
   "metadata": {},
   "outputs": [
    {
     "name": "stdout",
     "output_type": "stream",
     "text": [
      "launch_year=None\n",
      "launch_year='2024-10-12'\n"
     ]
    }
   ],
   "source": [
    "print(LaunchYearFormat(launch_year=None))\n",
    "print(LaunchYearFormat(launch_year='2024-10-12'))"
   ]
  },
  {
   "cell_type": "code",
   "execution_count": null,
   "id": "d6ffa458-48ff-417e-b075-6a10e09d8b34",
   "metadata": {},
   "outputs": [],
   "source": [
    "class Holiday:\n",
    "    date: yyyymmdd_date_format\n",
    "    localName: str\n",
    "    name: str\n",
    "    countryCode: CountryAlpha2\n",
    "    fixed: bool\n",
    "    global: bool\n",
    "    counties: List[CountryCountyFormat]\n",
    "    "
   ]
  },
  {
   "cell_type": "code",
   "execution_count": null,
   "id": "72b708da-35d1-4f43-98f9-aa7d0cbc4c1d",
   "metadata": {},
   "outputs": [],
   "source": []
  },
  {
   "cell_type": "markdown",
   "id": "bb8d1d98-5f11-4cad-b889-cd4ccab706f8",
   "metadata": {},
   "source": [
    "### Concatenate Dataframes"
   ]
  },
  {
   "cell_type": "code",
   "execution_count": null,
   "id": "03e50c72-f91a-4ec6-ad8a-ae6d13507592",
   "metadata": {},
   "outputs": [],
   "source": []
  },
  {
   "cell_type": "code",
   "execution_count": null,
   "id": "0773193d-635a-45a4-8922-bd801b709ed6",
   "metadata": {},
   "outputs": [],
   "source": [
    "countries = ['US', 'CA', 'UK', 'AU'] "
   ]
  },
  {
   "cell_type": "code",
   "execution_count": 82,
   "id": "3eaa5161-2167-4479-b7f5-21e80bf0e2c1",
   "metadata": {},
   "outputs": [],
   "source": [
    "country, county = 'US-CT'.split('-')"
   ]
  },
  {
   "cell_type": "code",
   "execution_count": 84,
   "id": "29e9a493-7df8-40af-b449-8906e0facbbd",
   "metadata": {},
   "outputs": [
    {
     "data": {
      "text/plain": [
       "False"
      ]
     },
     "execution_count": 84,
     "metadata": {},
     "output_type": "execute_result"
    }
   ],
   "source": [
    "isinstance('US', CountryAlpha2)"
   ]
  },
  {
   "cell_type": "code",
   "execution_count": 86,
   "id": "cf8bc0c7-2fee-4ef0-a58a-494892853337",
   "metadata": {},
   "outputs": [
    {
     "data": {
      "text/plain": [
       "False"
      ]
     },
     "execution_count": 86,
     "metadata": {},
     "output_type": "execute_result"
    }
   ],
   "source": [
    "isinstance('CT', CountyFormatModel)"
   ]
  },
  {
   "cell_type": "code",
   "execution_count": null,
   "id": "765cf4a6-dbb6-4687-a877-8a449481b2b2",
   "metadata": {},
   "outputs": [],
   "source": []
  }
 ],
 "metadata": {
  "kernelspec": {
   "display_name": "Python 3 (ipykernel)",
   "language": "python",
   "name": "python3"
  },
  "language_info": {
   "codemirror_mode": {
    "name": "ipython",
    "version": 3
   },
   "file_extension": ".py",
   "mimetype": "text/x-python",
   "name": "python",
   "nbconvert_exporter": "python",
   "pygments_lexer": "ipython3",
   "version": "3.11.6"
  }
 },
 "nbformat": 4,
 "nbformat_minor": 5
}
