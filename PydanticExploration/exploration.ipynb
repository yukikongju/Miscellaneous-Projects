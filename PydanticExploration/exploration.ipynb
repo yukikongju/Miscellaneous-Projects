{
 "cells": [
  {
   "cell_type": "code",
   "execution_count": 31,
   "id": "a5fbf2d5-1975-4223-9580-ca0097a4b75b",
   "metadata": {},
   "outputs": [],
   "source": [
    "import pandas as pd\n",
    "import typing\n",
    "from datetime import datetime, date\n",
    "import requests\n",
    "import json\n",
    "\n",
    "from pydantic import BaseModel, validator\n",
    "from pydantic_extra_types.country import CountryAlpha2\n",
    "from pydantic.functional_validators import AfterValidator"
   ]
  },
  {
   "cell_type": "markdown",
   "id": "ed68edad-24ff-4e68-935a-a45b52161285",
   "metadata": {},
   "source": [
    "### Defining the goals\n",
    "\n",
    "1. Define a pydantic date class to ensure that date format is 'YYYY-MM-DD' ie '%Y-%m-%d'\n",
    "2. complete *get_holiday_calendar(country, year)* function which requests holiday. Define the function parameters (year and country) with pydantic types\n",
    "3. Define *HolidayCalendar* which inherits from pydantic *BaseModel*\n",
    "4. Use functional programming paradigm for the following:\n",
    "   - *concatenate_dataframes(df1, df2)* which concatenates 2 dataframes of the same pydantic type\n",
    "   - *filter_country()* and *filter_year()*\n",
    "   - *get_new_holiday()* [ to define ]"
   ]
  },
  {
   "cell_type": "markdown",
   "id": "724935d0-0f4f-4a6f-9b11-05d54b2f0480",
   "metadata": {},
   "source": [
    "More:\n",
    "- Verify that date is not before 1980"
   ]
  },
  {
   "cell_type": "markdown",
   "id": "543ee5d8-441b-4b11-86e9-32e5b7d9b02a",
   "metadata": {},
   "source": [
    "### Define pydantic dates"
   ]
  },
  {
   "cell_type": "code",
   "execution_count": null,
   "id": "143b0f9d-1880-48b2-a5dc-c1da47920321",
   "metadata": {},
   "outputs": [],
   "source": [
    "def validate_yyyymmdd_dateformat(v: str):\n",
    "    assert datetime.strptime(v, '%Y-%m-%d'), f\"{v} format is not YYYY-MM-DD\"\n",
    "    return v\n",
    "\n",
    "def validate_dateformat(v: str, date_format: str = '%Y-%m-%d'):\n",
    "    assert datetime.strptime(v, date_format), f\"{v} format is not {date_format}\"\n",
    "    return v\n",
    "\n",
    "# calendar_date_format = typing.Annotated[str, AfterValidator(validate_yyyymmdd_dateformat)]\n",
    "calendar_date_format = typing.Annotated[str, AfterValidator(lambda v: validate_dateformat(v, date_format='%Y'))]\n",
    "\n",
    "class YearDateModel(BaseModel):\n",
    "    date: calendar_date_format"
   ]
  },
  {
   "cell_type": "markdown",
   "id": "025fe35d-86f0-4857-86d4-6dd357f5853a",
   "metadata": {},
   "source": [
    "### Requesting data"
   ]
  },
  {
   "cell_type": "code",
   "execution_count": 47,
   "id": "6d330a1b-4bf9-4fa9-acc5-1f0506df81a5",
   "metadata": {},
   "outputs": [],
   "source": []
  },
  {
   "cell_type": "code",
   "execution_count": 48,
   "id": "db52ef25-b9c2-4c59-930d-0cba101cf8f9",
   "metadata": {},
   "outputs": [
    {
     "name": "stdout",
     "output_type": "stream",
     "text": [
      "date='2024'\n"
     ]
    }
   ],
   "source": [
    "print(YearDateModel(date='2024')) "
   ]
  },
  {
   "cell_type": "code",
   "execution_count": 51,
   "id": "959ae827-70d7-4c4a-bce8-ea3e974dee34",
   "metadata": {},
   "outputs": [],
   "source": [
    "def get_holiday_calendar(country: CountryAlpha2, year: YearDateModel):\n",
    "    HOLIDAY_URL = \"https://date.nager.at/api/v2/publicholidays\"\n",
    "    url = f\"{HOLIDAY_URL}/{year}/{country}\"\n",
    "    resp = requests.get(url)\n",
    "\n",
    "    if resp.status_code != 200:\n",
    "        raise requests.exceptions.RequestException(f\"An error has occured when requesting {url}\")\n",
    "\n",
    "    return pd.json_normalize(resp.json())    "
   ]
  },
  {
   "cell_type": "code",
   "execution_count": 52,
   "id": "f071f26b-baac-4f1a-b21f-b210624fd33a",
   "metadata": {},
   "outputs": [],
   "source": [
    "t = get_holiday_calendar(country='US', year=2024)"
   ]
  },
  {
   "cell_type": "code",
   "execution_count": 54,
   "id": "13ccebda-3200-40ad-ac82-0b8c94b40e3e",
   "metadata": {},
   "outputs": [
    {
     "data": {
      "text/html": [
       "<div>\n",
       "<style scoped>\n",
       "    .dataframe tbody tr th:only-of-type {\n",
       "        vertical-align: middle;\n",
       "    }\n",
       "\n",
       "    .dataframe tbody tr th {\n",
       "        vertical-align: top;\n",
       "    }\n",
       "\n",
       "    .dataframe thead th {\n",
       "        text-align: right;\n",
       "    }\n",
       "</style>\n",
       "<table border=\"1\" class=\"dataframe\">\n",
       "  <thead>\n",
       "    <tr style=\"text-align: right;\">\n",
       "      <th></th>\n",
       "      <th>date</th>\n",
       "      <th>localName</th>\n",
       "      <th>name</th>\n",
       "      <th>countryCode</th>\n",
       "      <th>fixed</th>\n",
       "      <th>global</th>\n",
       "      <th>counties</th>\n",
       "      <th>launchYear</th>\n",
       "      <th>type</th>\n",
       "    </tr>\n",
       "  </thead>\n",
       "  <tbody>\n",
       "    <tr>\n",
       "      <th>0</th>\n",
       "      <td>2024-01-01</td>\n",
       "      <td>New Year's Day</td>\n",
       "      <td>New Year's Day</td>\n",
       "      <td>US</td>\n",
       "      <td>False</td>\n",
       "      <td>True</td>\n",
       "      <td>None</td>\n",
       "      <td>None</td>\n",
       "      <td>0</td>\n",
       "    </tr>\n",
       "    <tr>\n",
       "      <th>1</th>\n",
       "      <td>2024-01-15</td>\n",
       "      <td>Martin Luther King, Jr. Day</td>\n",
       "      <td>Martin Luther King, Jr. Day</td>\n",
       "      <td>US</td>\n",
       "      <td>False</td>\n",
       "      <td>True</td>\n",
       "      <td>None</td>\n",
       "      <td>None</td>\n",
       "      <td>0</td>\n",
       "    </tr>\n",
       "    <tr>\n",
       "      <th>2</th>\n",
       "      <td>2024-02-19</td>\n",
       "      <td>Washington's Birthday</td>\n",
       "      <td>Presidents Day</td>\n",
       "      <td>US</td>\n",
       "      <td>False</td>\n",
       "      <td>True</td>\n",
       "      <td>None</td>\n",
       "      <td>None</td>\n",
       "      <td>0</td>\n",
       "    </tr>\n",
       "    <tr>\n",
       "      <th>3</th>\n",
       "      <td>2024-03-29</td>\n",
       "      <td>Good Friday</td>\n",
       "      <td>Good Friday</td>\n",
       "      <td>US</td>\n",
       "      <td>False</td>\n",
       "      <td>False</td>\n",
       "      <td>[US-CT, US-DE, US-HI, US-IN, US-KY, US-LA, US-...</td>\n",
       "      <td>None</td>\n",
       "      <td>0</td>\n",
       "    </tr>\n",
       "    <tr>\n",
       "      <th>4</th>\n",
       "      <td>2024-03-29</td>\n",
       "      <td>Good Friday</td>\n",
       "      <td>Good Friday</td>\n",
       "      <td>US</td>\n",
       "      <td>False</td>\n",
       "      <td>False</td>\n",
       "      <td>[US-TX]</td>\n",
       "      <td>None</td>\n",
       "      <td>0</td>\n",
       "    </tr>\n",
       "  </tbody>\n",
       "</table>\n",
       "</div>"
      ],
      "text/plain": [
       "         date                    localName                         name  \\\n",
       "0  2024-01-01               New Year's Day               New Year's Day   \n",
       "1  2024-01-15  Martin Luther King, Jr. Day  Martin Luther King, Jr. Day   \n",
       "2  2024-02-19        Washington's Birthday               Presidents Day   \n",
       "3  2024-03-29                  Good Friday                  Good Friday   \n",
       "4  2024-03-29                  Good Friday                  Good Friday   \n",
       "\n",
       "  countryCode  fixed  global  \\\n",
       "0          US  False    True   \n",
       "1          US  False    True   \n",
       "2          US  False    True   \n",
       "3          US  False   False   \n",
       "4          US  False   False   \n",
       "\n",
       "                                            counties launchYear type  \n",
       "0                                               None       None    0  \n",
       "1                                               None       None    0  \n",
       "2                                               None       None    0  \n",
       "3  [US-CT, US-DE, US-HI, US-IN, US-KY, US-LA, US-...       None    0  \n",
       "4                                            [US-TX]       None    0  "
      ]
     },
     "execution_count": 54,
     "metadata": {},
     "output_type": "execute_result"
    }
   ],
   "source": [
    "t.head()"
   ]
  },
  {
   "cell_type": "code",
   "execution_count": 32,
   "id": "9223cc00-e1aa-4b52-b73f-d61e7b3d8964",
   "metadata": {},
   "outputs": [],
   "source": []
  },
  {
   "cell_type": "code",
   "execution_count": null,
   "id": "71418803-d328-4230-bf3e-ed7fdf40d819",
   "metadata": {},
   "outputs": [],
   "source": [
    "countries = ['US', 'CA', 'UK', 'AU'] "
   ]
  },
  {
   "cell_type": "code",
   "execution_count": 34,
   "id": "b01bd996-dbaa-4b8b-943c-4ba06b17b517",
   "metadata": {},
   "outputs": [
    {
     "data": {
      "text/plain": [
       "datetime.datetime(2024, 1, 1, 0, 0)"
      ]
     },
     "execution_count": 34,
     "metadata": {},
     "output_type": "execute_result"
    }
   ],
   "source": [
    "datetime.strptime('2024', '%Y')"
   ]
  },
  {
   "cell_type": "code",
   "execution_count": null,
   "id": "03e50c72-f91a-4ec6-ad8a-ae6d13507592",
   "metadata": {},
   "outputs": [],
   "source": []
  },
  {
   "cell_type": "code",
   "execution_count": null,
   "id": "0773193d-635a-45a4-8922-bd801b709ed6",
   "metadata": {},
   "outputs": [],
   "source": []
  }
 ],
 "metadata": {
  "kernelspec": {
   "display_name": "Python 3 (ipykernel)",
   "language": "python",
   "name": "python3"
  },
  "language_info": {
   "codemirror_mode": {
    "name": "ipython",
    "version": 3
   },
   "file_extension": ".py",
   "mimetype": "text/x-python",
   "name": "python",
   "nbconvert_exporter": "python",
   "pygments_lexer": "ipython3",
   "version": "3.11.6"
  }
 },
 "nbformat": 4,
 "nbformat_minor": 5
}
