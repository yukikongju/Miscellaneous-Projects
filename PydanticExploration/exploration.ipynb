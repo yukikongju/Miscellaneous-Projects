{
 "cells": [
  {
   "cell_type": "code",
   "execution_count": 206,
   "id": "a5fbf2d5-1975-4223-9580-ca0097a4b75b",
   "metadata": {},
   "outputs": [],
   "source": [
    "import pandas as pd\n",
    "import pandera as pa\n",
    "import typing\n",
    "from datetime import datetime, date\n",
    "import requests\n",
    "import json\n",
    "\n",
    "from typing import List, Type\n",
    "\n",
    "from pandera import Column, DataFrameSchema\n",
    "from pandera.typing import Series\n",
    "\n",
    "from pydantic import BaseModel, validator, Field\n",
    "from pydantic import PositiveInt, ValidationError\n",
    "from pydantic_extra_types.country import CountryAlpha2\n",
    "from pydantic.functional_validators import AfterValidator\n",
    "from pydantic.dataclasses import dataclass\n",
    "# from pydantic.main import ModelMetaClass"
   ]
  },
  {
   "cell_type": "markdown",
   "id": "ed68edad-24ff-4e68-935a-a45b52161285",
   "metadata": {},
   "source": [
    "### Defining the goals\n",
    "\n",
    "1. Define a pydantic date class to ensure that date format is 'YYYY-MM-DD' ie '%Y-%m-%d'\n",
    "2. complete *get_holiday_calendar(country, year)* function which requests holiday. Define the function parameters (year and country) with pydantic types\n",
    "3. Define *HolidayCalendar* which inherits from pydantic *BaseModel* (or from pandera `DataFrameSchema`)\n",
    "4. Use functional programming paradigm for the following:\n",
    "   - *concatenate_dataframes(df1, df2)* which concatenates 2 dataframes of the same pydantic type\n",
    "   - *filter_country()* and *filter_year()*\n",
    "   - *get_new_holiday()* [ to define ]"
   ]
  },
  {
   "cell_type": "markdown",
   "id": "724935d0-0f4f-4a6f-9b11-05d54b2f0480",
   "metadata": {},
   "source": [
    "More:\n",
    "- Verify that date is not before 1980"
   ]
  },
  {
   "cell_type": "markdown",
   "id": "0eda6b47-01e9-429e-9a7c-a6a6a9533156",
   "metadata": {},
   "source": [
    "Refs:\n",
    "- https://www.inwt-statistics.com/blog/pandas-dataframe-validation-with-pydantic"
   ]
  },
  {
   "cell_type": "markdown",
   "id": "543ee5d8-441b-4b11-86e9-32e5b7d9b02a",
   "metadata": {},
   "source": [
    "### Define pydantic dates"
   ]
  },
  {
   "cell_type": "code",
   "execution_count": 58,
   "id": "143b0f9d-1880-48b2-a5dc-c1da47920321",
   "metadata": {},
   "outputs": [],
   "source": [
    "def validate_yyyymmdd_dateformat(v: str):\n",
    "    assert datetime.strptime(v, '%Y-%m-%d'), f\"{v} format is not YYYY-MM-DD\"\n",
    "    return v\n",
    "\n",
    "def validate_dateformat(v: str, date_format: str = '%Y-%m-%d'):\n",
    "    assert datetime.strptime(v, date_format), f\"{v} format is not {date_format}\"\n",
    "    return v\n",
    "\n",
    "yyyymmdd_date_format = typing.Annotated[str, AfterValidator(validate_yyyymmdd_dateformat)]\n",
    "calendar_date_format = typing.Annotated[str, AfterValidator(lambda v: validate_dateformat(v, date_format='%Y'))]\n",
    "\n",
    "class YearDateModel(BaseModel):\n",
    "    date: calendar_date_format"
   ]
  },
  {
   "cell_type": "code",
   "execution_count": 56,
   "id": "4586b231-2d7f-476a-b01d-aa3a7e500649",
   "metadata": {},
   "outputs": [
    {
     "name": "stdout",
     "output_type": "stream",
     "text": [
      "date='2024'\n"
     ]
    }
   ],
   "source": [
    "print(YearDateModel(date='2024')) "
   ]
  },
  {
   "cell_type": "markdown",
   "id": "025fe35d-86f0-4857-86d4-6dd357f5853a",
   "metadata": {},
   "source": [
    "### Requesting data"
   ]
  },
  {
   "cell_type": "code",
   "execution_count": 51,
   "id": "959ae827-70d7-4c4a-bce8-ea3e974dee34",
   "metadata": {},
   "outputs": [],
   "source": [
    "def get_holiday_calendar(country: CountryAlpha2, year: YearDateModel):\n",
    "    HOLIDAY_URL = \"https://date.nager.at/api/v2/publicholidays\"\n",
    "    url = f\"{HOLIDAY_URL}/{year}/{country}\"\n",
    "    resp = requests.get(url)\n",
    "\n",
    "    if resp.status_code != 200:\n",
    "        raise requests.exceptions.RequestException(f\"An error has occured when requesting {url}\")\n",
    "\n",
    "    return pd.json_normalize(resp.json())    "
   ]
  },
  {
   "cell_type": "code",
   "execution_count": 52,
   "id": "f071f26b-baac-4f1a-b21f-b210624fd33a",
   "metadata": {},
   "outputs": [],
   "source": [
    "t = get_holiday_calendar(country='US', year=2024)"
   ]
  },
  {
   "cell_type": "code",
   "execution_count": 134,
   "id": "aeb46039-c8c9-4c74-8b01-6897ee8bf89d",
   "metadata": {},
   "outputs": [],
   "source": []
  },
  {
   "cell_type": "code",
   "execution_count": 139,
   "id": "13ccebda-3200-40ad-ac82-0b8c94b40e3e",
   "metadata": {},
   "outputs": [
    {
     "data": {
      "text/html": [
       "<div>\n",
       "<style scoped>\n",
       "    .dataframe tbody tr th:only-of-type {\n",
       "        vertical-align: middle;\n",
       "    }\n",
       "\n",
       "    .dataframe tbody tr th {\n",
       "        vertical-align: top;\n",
       "    }\n",
       "\n",
       "    .dataframe thead th {\n",
       "        text-align: right;\n",
       "    }\n",
       "</style>\n",
       "<table border=\"1\" class=\"dataframe\">\n",
       "  <thead>\n",
       "    <tr style=\"text-align: right;\">\n",
       "      <th></th>\n",
       "      <th>date</th>\n",
       "      <th>localName</th>\n",
       "      <th>name</th>\n",
       "      <th>countryCode</th>\n",
       "      <th>fixed</th>\n",
       "      <th>global</th>\n",
       "      <th>counties</th>\n",
       "      <th>launchYear</th>\n",
       "      <th>type</th>\n",
       "    </tr>\n",
       "  </thead>\n",
       "  <tbody>\n",
       "    <tr>\n",
       "      <th>0</th>\n",
       "      <td>2024-01-01</td>\n",
       "      <td>New Year's Day</td>\n",
       "      <td>New Year's Day</td>\n",
       "      <td>US</td>\n",
       "      <td>False</td>\n",
       "      <td>True</td>\n",
       "      <td>None</td>\n",
       "      <td>None</td>\n",
       "      <td>0</td>\n",
       "    </tr>\n",
       "    <tr>\n",
       "      <th>1</th>\n",
       "      <td>2024-01-15</td>\n",
       "      <td>Martin Luther King, Jr. Day</td>\n",
       "      <td>Martin Luther King, Jr. Day</td>\n",
       "      <td>US</td>\n",
       "      <td>False</td>\n",
       "      <td>True</td>\n",
       "      <td>None</td>\n",
       "      <td>None</td>\n",
       "      <td>0</td>\n",
       "    </tr>\n",
       "    <tr>\n",
       "      <th>2</th>\n",
       "      <td>2024-02-19</td>\n",
       "      <td>Washington's Birthday</td>\n",
       "      <td>Presidents Day</td>\n",
       "      <td>US</td>\n",
       "      <td>False</td>\n",
       "      <td>True</td>\n",
       "      <td>None</td>\n",
       "      <td>None</td>\n",
       "      <td>0</td>\n",
       "    </tr>\n",
       "    <tr>\n",
       "      <th>3</th>\n",
       "      <td>2024-03-29</td>\n",
       "      <td>Good Friday</td>\n",
       "      <td>Good Friday</td>\n",
       "      <td>US</td>\n",
       "      <td>False</td>\n",
       "      <td>False</td>\n",
       "      <td>[US-CT, US-DE, US-HI, US-IN, US-KY, US-LA, US-...</td>\n",
       "      <td>None</td>\n",
       "      <td>0</td>\n",
       "    </tr>\n",
       "    <tr>\n",
       "      <th>4</th>\n",
       "      <td>2024-03-29</td>\n",
       "      <td>Good Friday</td>\n",
       "      <td>Good Friday</td>\n",
       "      <td>US</td>\n",
       "      <td>False</td>\n",
       "      <td>False</td>\n",
       "      <td>[US-TX]</td>\n",
       "      <td>None</td>\n",
       "      <td>0</td>\n",
       "    </tr>\n",
       "  </tbody>\n",
       "</table>\n",
       "</div>"
      ],
      "text/plain": [
       "         date                    localName                         name  \\\n",
       "0  2024-01-01               New Year's Day               New Year's Day   \n",
       "1  2024-01-15  Martin Luther King, Jr. Day  Martin Luther King, Jr. Day   \n",
       "2  2024-02-19        Washington's Birthday               Presidents Day   \n",
       "3  2024-03-29                  Good Friday                  Good Friday   \n",
       "4  2024-03-29                  Good Friday                  Good Friday   \n",
       "\n",
       "  countryCode  fixed  global  \\\n",
       "0          US  False    True   \n",
       "1          US  False    True   \n",
       "2          US  False    True   \n",
       "3          US  False   False   \n",
       "4          US  False   False   \n",
       "\n",
       "                                            counties launchYear type  \n",
       "0                                               None       None    0  \n",
       "1                                               None       None    0  \n",
       "2                                               None       None    0  \n",
       "3  [US-CT, US-DE, US-HI, US-IN, US-KY, US-LA, US-...       None    0  \n",
       "4                                            [US-TX]       None    0  "
      ]
     },
     "execution_count": 139,
     "metadata": {},
     "output_type": "execute_result"
    }
   ],
   "source": [
    "t.head()"
   ]
  },
  {
   "cell_type": "code",
   "execution_count": null,
   "id": "c3a2c40c-8aa9-44b2-9741-2ba3eb584313",
   "metadata": {},
   "outputs": [],
   "source": []
  },
  {
   "cell_type": "markdown",
   "id": "71f58825-b756-46d4-a18f-e77300bfab3d",
   "metadata": {},
   "source": [
    "### Define dataclass for Holiday"
   ]
  },
  {
   "cell_type": "code",
   "execution_count": 73,
   "id": "36d75d25-5736-4a20-8f30-a1a40850105b",
   "metadata": {},
   "outputs": [],
   "source": []
  },
  {
   "cell_type": "code",
   "execution_count": 79,
   "id": "09594d48-ab32-412b-af21-8938b07296e0",
   "metadata": {},
   "outputs": [],
   "source": [
    "def validate_county_format(v: str):\n",
    "    assert len(v) == 2 and v.isalpha(), f\"County needs to be a 2-letter symbols\"\n",
    "    return v\n",
    "\n",
    "county_format = typing.Annotated[str, AfterValidator(validate_county_format)]\n",
    "\n",
    "class CountyFormatModel(BaseModel):\n",
    "    county: county_format"
   ]
  },
  {
   "cell_type": "code",
   "execution_count": 80,
   "id": "4fb6a156-151b-4314-89e7-9651db086c86",
   "metadata": {},
   "outputs": [
    {
     "name": "stdout",
     "output_type": "stream",
     "text": [
      "county='CT'\n"
     ]
    }
   ],
   "source": [
    "print(CountyFormatModel(county='CT'))"
   ]
  },
  {
   "cell_type": "code",
   "execution_count": 196,
   "id": "71418803-d328-4230-bf3e-ed7fdf40d819",
   "metadata": {},
   "outputs": [],
   "source": [
    "def validate_country_county_format(v: str):\n",
    "    tsplit = v.split('-')\n",
    "\n",
    "    ERROR_MSG = f\"{v} needs to be formatted <COUNTRY>-<COUNTY> ex: 'US-CT'\"\n",
    "    if len(tsplit) != 2:\n",
    "        raise ValueError(ERROR_MSG)\n",
    "\n",
    "    country, county = tsplit\n",
    "    is_valid_country = isinstance(CountryAlpha2(country), CountryAlpha2)\n",
    "    is_valid_county = isinstance(CountyFormatModel(county=county), CountyFormatModel)\n",
    "    assert is_valid_country and is_valid_county, ERROR_MSG\n",
    "    return v\n",
    "\n",
    "country_county_format = typing.Annotated[str, AfterValidator(validate_country_county_format)]\n",
    "\n",
    "class CountryCountyFormat(BaseModel):\n",
    "    country_county: country_county_format | None"
   ]
  },
  {
   "cell_type": "code",
   "execution_count": 197,
   "id": "bce8a2cd-adc1-4832-9d05-c34919543e5c",
   "metadata": {},
   "outputs": [
    {
     "name": "stdout",
     "output_type": "stream",
     "text": [
      "country_county='US-CT'\n",
      "country_county=None\n"
     ]
    }
   ],
   "source": [
    "print(CountryCountyFormat(country_county='US-CT'))\n",
    "print(CountryCountyFormat(country_county=None))"
   ]
  },
  {
   "cell_type": "code",
   "execution_count": 104,
   "id": "c048973d-d81a-4999-a3ce-6cd8fd1c22c2",
   "metadata": {},
   "outputs": [],
   "source": [
    "class OptionalYYYYMMDDFormat(BaseModel):\n",
    "    launch_year: yyyymmdd_date_format | None"
   ]
  },
  {
   "cell_type": "code",
   "execution_count": 105,
   "id": "34e4a2f1-02ec-41db-9eb5-0fc76ddc0f3f",
   "metadata": {},
   "outputs": [
    {
     "name": "stdout",
     "output_type": "stream",
     "text": [
      "launch_year=None\n",
      "launch_year='2024-10-12'\n"
     ]
    }
   ],
   "source": [
    "print(OptionalYYYYMMDDFormat(launch_year=None))\n",
    "print(OptionalYYYYMMDDFormat(launch_year='2024-10-12'))"
   ]
  },
  {
   "cell_type": "code",
   "execution_count": null,
   "id": "20be892d-5fcd-4b1d-b355-8943a40810f4",
   "metadata": {},
   "outputs": [],
   "source": []
  },
  {
   "cell_type": "code",
   "execution_count": 150,
   "id": "d6ffa458-48ff-417e-b075-6a10e09d8b34",
   "metadata": {},
   "outputs": [],
   "source": [
    "## --- with pydantic dataclasses\n",
    "# @dataclass\n",
    "# class Holiday(BaseModel):\n",
    "#     date: yyyymmdd_date_format\n",
    "#     localName: str\n",
    "#     name: str\n",
    "#     countryCode: CountryAlpha2\n",
    "#     fixed: bool\n",
    "#     _global: bool\n",
    "#     counties: List[CountryCountyFormat]\n",
    "#     launchYear: OptionalYYYYMMDDFormat\n",
    "#     _type: PositiveInt\n",
    "    "
   ]
  },
  {
   "cell_type": "code",
   "execution_count": 177,
   "id": "182db347-f5cf-4c9f-9e91-54d509af0482",
   "metadata": {},
   "outputs": [],
   "source": [
    "class Holiday(BaseModel):\n",
    "    date: yyyymmdd_date_format\n",
    "    localName: str\n",
    "    name: str\n",
    "    countryCode: CountryAlpha2\n",
    "    fixed: bool\n",
    "    _global: bool\n",
    "    # counties: List[CountryCountyFormat]\n",
    "    # launchYear: OptionalYYYYMMDDFormat\n",
    "    _type: PositiveInt\n",
    "    "
   ]
  },
  {
   "cell_type": "code",
   "execution_count": 151,
   "id": "72b708da-35d1-4f43-98f9-aa7d0cbc4c1d",
   "metadata": {},
   "outputs": [],
   "source": [
    "## --- with pandera --- WRONG\n",
    "# holiday_schema = DataFrameSchema({\n",
    "#     \"date\": Column(yyyymmdd_date_format),\n",
    "#     \"localName\": Column(str),\n",
    "#     \"name\": Column(str),\n",
    "#     \"fixed\": Column(bool),\n",
    "#     \"global\": Column(bool),\n",
    "#     \"counties\": Column(List[CountryCountyFormat], required=False),\n",
    "#     \"launchYear\": Column(OptionalYYYYMMDDFormat, required=False),\n",
    "#     \"type\": Column(PositiveInt),\n",
    "# })"
   ]
  },
  {
   "cell_type": "code",
   "execution_count": 152,
   "id": "fbf0b6bd-7094-4106-9a61-28c3b9f224c1",
   "metadata": {},
   "outputs": [],
   "source": [
    "## --- with pandera and pydantic\n",
    "# class Holiday(pandera.DataFrameModel):\n",
    "#     date: Series[yyyymmdd_date_format]\n",
    "#     localName: Series[str]\n",
    "#     name: Series[str]\n",
    "#     countryCode: Series[CountryAlpha2]\n",
    "#     fixed: Series[bool]\n",
    "#     # _global: Series[bool]\n",
    "#     counties: Series[List[CountryCountyFormat]]\n",
    "#     launchYear: Series[OptionalYYYYMMDDFormat]\n",
    "#     # _type: Series[PositiveInt]\n",
    "    "
   ]
  },
  {
   "cell_type": "code",
   "execution_count": 178,
   "id": "2ba370f8-8b4e-4c35-bed8-2714d8bd6447",
   "metadata": {},
   "outputs": [],
   "source": [
    "t0 = t.rename(columns={'global': '_global', 'type': '_type'})\n",
    "# t0 = t0.drop(columns=['_global', '_type', 'counties', 'launchYear'])\n",
    "t0 = t0.drop(columns=['counties', 'launchYear'])"
   ]
  },
  {
   "cell_type": "code",
   "execution_count": 179,
   "id": "9c12f0ae-7bf4-49ca-a41d-8c90284705be",
   "metadata": {},
   "outputs": [
    {
     "name": "stdout",
     "output_type": "stream",
     "text": [
      "{'date': '2024-01-01', 'localName': \"New Year's Day\", 'name': \"New Year's Day\", 'countryCode': 'US', 'fixed': False, '_global': True, '_type': '0'}\n"
     ]
    }
   ],
   "source": [
    "t1 = t0.iloc[0].to_dict()\n",
    "print(t1)"
   ]
  },
  {
   "cell_type": "code",
   "execution_count": 180,
   "id": "46c868de-0a7f-486c-87af-87b85ef81596",
   "metadata": {},
   "outputs": [
    {
     "data": {
      "text/plain": [
       "Holiday(date='2024-01-01', localName=\"New Year's Day\", name=\"New Year's Day\", countryCode='US', fixed=False)"
      ]
     },
     "execution_count": 180,
     "metadata": {},
     "output_type": "execute_result"
    }
   ],
   "source": [
    "\n",
    "Holiday(**t1)"
   ]
  },
  {
   "cell_type": "code",
   "execution_count": 212,
   "id": "62b00d8d-48ea-4a0c-814c-1f84978edb6f",
   "metadata": {},
   "outputs": [
    {
     "ename": "TypeError",
     "evalue": "BaseModel.__init__() takes 1 positional argument but 2 were given",
     "output_type": "error",
     "traceback": [
      "\u001b[0;31m---------------------------------------------------------------------------\u001b[0m",
      "\u001b[0;31mTypeError\u001b[0m                                 Traceback (most recent call last)",
      "Cell \u001b[0;32mIn[212], line 1\u001b[0m\n\u001b[0;32m----> 1\u001b[0m \u001b[43mHoliday\u001b[49m\u001b[43m(\u001b[49m\u001b[43mt\u001b[49m\u001b[43m)\u001b[49m\n",
      "\u001b[0;31mTypeError\u001b[0m: BaseModel.__init__() takes 1 positional argument but 2 were given"
     ]
    }
   ],
   "source": [
    "Holiday(t)"
   ]
  },
  {
   "cell_type": "code",
   "execution_count": 189,
   "id": "52cc9075-19b4-4997-89a8-1fdd2b05aad3",
   "metadata": {},
   "outputs": [],
   "source": [
    "# --- list of dict\n",
    "t.to_dict(orient='records')"
   ]
  },
  {
   "cell_type": "code",
   "execution_count": 190,
   "id": "0968b058-48f2-4b18-ab3e-8809f85b5be1",
   "metadata": {},
   "outputs": [],
   "source": [
    "class HolidayDataFrame(BaseModel):\n",
    "    dct_list: List[Holiday]"
   ]
  },
  {
   "cell_type": "code",
   "execution_count": 193,
   "id": "1555095e-7450-4a5e-b088-22bda3e0ee8b",
   "metadata": {},
   "outputs": [
    {
     "data": {
      "text/plain": [
       "HolidayDataFrame(dct_list=[Holiday(date='2024-01-01', localName=\"New Year's Day\", name=\"New Year's Day\", countryCode='US', fixed=False), Holiday(date='2024-01-15', localName='Martin Luther King, Jr. Day', name='Martin Luther King, Jr. Day', countryCode='US', fixed=False), Holiday(date='2024-02-19', localName=\"Washington's Birthday\", name='Presidents Day', countryCode='US', fixed=False), Holiday(date='2024-03-29', localName='Good Friday', name='Good Friday', countryCode='US', fixed=False), Holiday(date='2024-03-29', localName='Good Friday', name='Good Friday', countryCode='US', fixed=False), Holiday(date='2024-05-27', localName='Memorial Day', name='Memorial Day', countryCode='US', fixed=False), Holiday(date='2024-06-19', localName='Juneteenth National Independence Day', name='Juneteenth National Independence Day', countryCode='US', fixed=False), Holiday(date='2024-07-04', localName='Independence Day', name='Independence Day', countryCode='US', fixed=False), Holiday(date='2024-09-02', localName='Labour Day', name='Labor Day', countryCode='US', fixed=False), Holiday(date='2024-10-14', localName='Columbus Day', name='Columbus Day', countryCode='US', fixed=False), Holiday(date='2024-10-14', localName=\"Indigenous Peoples' Day\", name=\"Indigenous Peoples' Day\", countryCode='US', fixed=False), Holiday(date='2024-11-11', localName='Veterans Day', name='Veterans Day', countryCode='US', fixed=False), Holiday(date='2024-11-28', localName='Thanksgiving Day', name='Thanksgiving Day', countryCode='US', fixed=False), Holiday(date='2024-12-25', localName='Christmas Day', name='Christmas Day', countryCode='US', fixed=False)])"
      ]
     },
     "execution_count": 193,
     "metadata": {},
     "output_type": "execute_result"
    }
   ],
   "source": [
    "HolidayDataFrame(dct_list=t.to_dict(orient='records'))"
   ]
  },
  {
   "cell_type": "markdown",
   "id": "bb8d1d98-5f11-4cad-b889-cd4ccab706f8",
   "metadata": {},
   "source": [
    "### Concatenate Dataframes"
   ]
  },
  {
   "cell_type": "code",
   "execution_count": 230,
   "id": "10bdde1b-ef77-4adc-af15-755060829570",
   "metadata": {},
   "outputs": [],
   "source": [
    "def is_basemodel_instance(df: pd.DataFrame, dataframe_class: Type[BaseModel]) -> bool:\n",
    "    \"\"\"\n",
    "    Function that checks whether the dataframe df is an instance of the BaseModel\n",
    "    \"\"\"\n",
    "    for index, row in df.iterrows():\n",
    "        try:\n",
    "            dataframe_class(**row.to_dict())  # Validate each row\n",
    "        except ValidationError as e:\n",
    "            # raise ValueError(f\"Row {index} is invalid: {e}\")\n",
    "            return False\n",
    "    return True"
   ]
  },
  {
   "cell_type": "code",
   "execution_count": 240,
   "id": "03e50c72-f91a-4ec6-ad8a-ae6d13507592",
   "metadata": {},
   "outputs": [],
   "source": [
    "def concat_dataframes(df1: pd.DataFrame, df2: pd.DataFrame, dataframe_class: Type[BaseModel]):\n",
    "    # check if df1 and df2 have the same dataframe_class\n",
    "    is_df1_valid = is_basemodel_instance(df1, Holiday)\n",
    "    is_df2_valid = is_basemodel_instance(df2, Holiday)\n",
    "\n",
    "    assert is_df1_valid, f\"df1 is not an instance of {dataframe_class.__name__}\"\n",
    "    assert is_df2_valid, f\"df2 is not an instance of {dataframe_class.__name__}\"\n",
    "    \n",
    "\n"
   ]
  },
  {
   "cell_type": "code",
   "execution_count": null,
   "id": "0773193d-635a-45a4-8922-bd801b709ed6",
   "metadata": {},
   "outputs": [],
   "source": [
    "countries = ['US', 'CA', 'UK', 'AU'] "
   ]
  },
  {
   "cell_type": "code",
   "execution_count": null,
   "id": "3eaa5161-2167-4479-b7f5-21e80bf0e2c1",
   "metadata": {},
   "outputs": [],
   "source": []
  },
  {
   "cell_type": "code",
   "execution_count": null,
   "id": "29e9a493-7df8-40af-b449-8906e0facbbd",
   "metadata": {},
   "outputs": [],
   "source": []
  },
  {
   "cell_type": "code",
   "execution_count": 231,
   "id": "cf8bc0c7-2fee-4ef0-a58a-494892853337",
   "metadata": {},
   "outputs": [
    {
     "data": {
      "text/plain": [
       "'Holiday'"
      ]
     },
     "execution_count": 231,
     "metadata": {},
     "output_type": "execute_result"
    }
   ],
   "source": []
  },
  {
   "cell_type": "code",
   "execution_count": null,
   "id": "765cf4a6-dbb6-4687-a877-8a449481b2b2",
   "metadata": {},
   "outputs": [],
   "source": []
  },
  {
   "cell_type": "code",
   "execution_count": 229,
   "id": "3d4e1fdf-57db-42d4-b575-1b15fc453213",
   "metadata": {},
   "outputs": [
    {
     "data": {
      "text/plain": [
       "True"
      ]
     },
     "execution_count": 229,
     "metadata": {},
     "output_type": "execute_result"
    }
   ],
   "source": [
    "validate_dataframe(df=t, dataframe_class=Holiday)\n"
   ]
  },
  {
   "cell_type": "code",
   "execution_count": null,
   "id": "821d201f-6b9a-41ff-924d-a9decee93961",
   "metadata": {},
   "outputs": [],
   "source": []
  }
 ],
 "metadata": {
  "kernelspec": {
   "display_name": "Python 3 (ipykernel)",
   "language": "python",
   "name": "python3"
  },
  "language_info": {
   "codemirror_mode": {
    "name": "ipython",
    "version": 3
   },
   "file_extension": ".py",
   "mimetype": "text/x-python",
   "name": "python",
   "nbconvert_exporter": "python",
   "pygments_lexer": "ipython3",
   "version": "3.11.6"
  }
 },
 "nbformat": 4,
 "nbformat_minor": 5
}
