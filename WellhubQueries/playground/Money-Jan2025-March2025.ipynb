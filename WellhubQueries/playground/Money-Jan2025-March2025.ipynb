{
 "cells": [
  {
   "cell_type": "code",
   "execution_count": null,
   "id": "0",
   "metadata": {},
   "outputs": [],
   "source": [
    "import pandas as pd"
   ]
  },
  {
   "cell_type": "markdown",
   "id": "1",
   "metadata": {},
   "source": [
    "Using queries3.sql\n",
    "\n",
    "1 user action per day up to 5x to get the full payment:\n",
    "\n",
    "- US, UK, IE, DE, ES, IT: 8.75 USD (5 Daily User Actions to Max Partner Payment per User per month)\n",
    "- BR: 7.50 USD (5 Daily User Actions to Max Partner Payment per User per month)\n",
    "- MX, CL, AR: $6.25 USD (5 Daily User Actions to Max Partner Payment per User per month)\n",
    "\n",
    "Day 1 (any user = 1.75$), then throughout the month, they would need to open the app 4 separate days to get full payment\n",
    "\n",
    "Wellhub Data => https://docs.google.com/spreadsheets/d/1YsM0tvf2GOGXO6OcmKPjiMCPYRSpr7r3aXz5494AM-0/edit?gid=1426670745#gid=1426670745"
   ]
  },
  {
   "cell_type": "markdown",
   "id": "2",
   "metadata": {},
   "source": [
    "### Importing data"
   ]
  },
  {
   "cell_type": "code",
   "execution_count": null,
   "id": "3",
   "metadata": {},
   "outputs": [],
   "source": [
    "OUTPUT_DIR = \"/Users/emulie/Data/Wellhub/output\""
   ]
  },
  {
   "cell_type": "code",
   "execution_count": null,
   "id": "4",
   "metadata": {},
   "outputs": [],
   "source": [
    "df_internals = pd.read_csv(\"/Users/emulie/Data/Wellhub/wellhub_internals_20250327.csv\")\n",
    "# df_wellhub = pd.read_csv(\"/Users/emulie/Data/Wellhub/wellhub_users.csv\")"
   ]
  },
  {
   "cell_type": "code",
   "execution_count": null,
   "id": "5",
   "metadata": {},
   "outputs": [],
   "source": [
    "WELLHUB_FILE = \"/Users/emulie/Data/Wellhub/wellhub_data_Jan2025_March2025.xlsx\"\n",
    "df_january = pd.read_excel(WELLHUB_FILE, sheet_name='january', engine='openpyxl')\n",
    "df_february = pd.read_excel(WELLHUB_FILE, sheet_name='february', engine='openpyxl')\n",
    "df_march = pd.read_excel(WELLHUB_FILE, sheet_name='march 1-15', engine='openpyxl')"
   ]
  },
  {
   "cell_type": "code",
   "execution_count": null,
   "id": "6",
   "metadata": {},
   "outputs": [],
   "source": [
    "print(df_january.shape, df_february.shape, df_march.shape)"
   ]
  },
  {
   "cell_type": "code",
   "execution_count": null,
   "id": "7",
   "metadata": {},
   "outputs": [],
   "source": [
    "df_internals.head()"
   ]
  },
  {
   "cell_type": "code",
   "execution_count": null,
   "id": "8",
   "metadata": {},
   "outputs": [],
   "source": [
    "print(df_internals.shape)"
   ]
  },
  {
   "cell_type": "markdown",
   "id": "9",
   "metadata": {},
   "source": [
    "### Counting monthly record per user "
   ]
  },
  {
   "cell_type": "code",
   "execution_count": null,
   "id": "10",
   "metadata": {},
   "outputs": [],
   "source": [
    "GROUPBY_COLS = ['gpw_id']\n",
    "t = df_february.groupby(GROUPBY_COLS).count()"
   ]
  },
  {
   "cell_type": "code",
   "execution_count": null,
   "id": "11",
   "metadata": {},
   "outputs": [],
   "source": [
    "t.shape"
   ]
  },
  {
   "cell_type": "code",
   "execution_count": null,
   "id": "12",
   "metadata": {},
   "outputs": [],
   "source": [
    "# --- find all unique users\n",
    "users_jan = df_january[['Distinct ID', 'gpw_id']].drop_duplicates()\n",
    "users_feb = df_february[['Distinct ID', 'gpw_id']].drop_duplicates()\n",
    "users_march = df_march[['Distinct ID', 'gpw_id']].drop_duplicates()\n",
    "\n",
    "df_users = pd.concat([users_jan, users_feb, users_march], axis=0).drop_duplicates()"
   ]
  },
  {
   "cell_type": "code",
   "execution_count": null,
   "id": "13",
   "metadata": {},
   "outputs": [],
   "source": [
    "print(df_users.shape)"
   ]
  },
  {
   "cell_type": "code",
   "execution_count": null,
   "id": "14",
   "metadata": {},
   "outputs": [],
   "source": [
    "# --- is distinct ID user_id? Yes\n",
    "has_used_bs_mask = df_users['Distinct ID'].isin(df_internals['user_id'].unique())"
   ]
  },
  {
   "cell_type": "code",
   "execution_count": null,
   "id": "15",
   "metadata": {},
   "outputs": [],
   "source": [
    "df_month = df_users[has_used_bs_mask][['Distinct ID', 'gpw_id']].drop_duplicates()"
   ]
  },
  {
   "cell_type": "code",
   "execution_count": null,
   "id": "16",
   "metadata": {},
   "outputs": [],
   "source": [
    "df_merged = pd.merge(df_month, df_internals, left_on='Distinct ID', right_on='user_id', how='left')"
   ]
  },
  {
   "cell_type": "code",
   "execution_count": null,
   "id": "17",
   "metadata": {},
   "outputs": [],
   "source": [
    "df_merged"
   ]
  },
  {
   "cell_type": "code",
   "execution_count": null,
   "id": "18",
   "metadata": {},
   "outputs": [],
   "source": [
    "# --- \n",
    "df_final = df_merged.groupby(['gpw_id', 'email']).sum()[['jan2025', 'feb2025', 'march2025']].reset_index()"
   ]
  },
  {
   "cell_type": "code",
   "execution_count": null,
   "id": "19",
   "metadata": {},
   "outputs": [],
   "source": [
    "df_final"
   ]
  },
  {
   "cell_type": "code",
   "execution_count": null,
   "id": "20",
   "metadata": {},
   "outputs": [],
   "source": [
    "df_final.to_csv(f\"{OUTPUT_DIR}/wellhub_usage_jan2025_march2025.csv\")"
   ]
  },
  {
   "cell_type": "markdown",
   "id": "21",
   "metadata": {},
   "source": [
    "### Merging data"
   ]
  },
  {
   "cell_type": "code",
   "execution_count": null,
   "id": "22",
   "metadata": {},
   "outputs": [],
   "source": []
  },
  {
   "cell_type": "code",
   "execution_count": null,
   "id": "23",
   "metadata": {},
   "outputs": [],
   "source": []
  },
  {
   "cell_type": "code",
   "execution_count": null,
   "id": "24",
   "metadata": {},
   "outputs": [],
   "source": []
  },
  {
   "cell_type": "code",
   "execution_count": null,
   "id": "25",
   "metadata": {},
   "outputs": [],
   "source": []
  },
  {
   "cell_type": "code",
   "execution_count": null,
   "id": "26",
   "metadata": {},
   "outputs": [],
   "source": []
  },
  {
   "cell_type": "code",
   "execution_count": null,
   "id": "27",
   "metadata": {},
   "outputs": [],
   "source": []
  }
 ],
 "metadata": {
  "kernelspec": {
   "display_name": "Python 3 (ipykernel)",
   "language": "python",
   "name": "python3"
  },
  "language_info": {
   "codemirror_mode": {
    "name": "ipython",
    "version": 3
   },
   "file_extension": ".py",
   "mimetype": "text/x-python",
   "name": "python",
   "nbconvert_exporter": "python",
   "pygments_lexer": "ipython3",
   "version": "3.10.2"
  }
 },
 "nbformat": 4,
 "nbformat_minor": 5
}
