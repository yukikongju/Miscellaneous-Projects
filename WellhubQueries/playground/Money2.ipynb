{
 "cells": [
  {
   "cell_type": "code",
   "execution_count": null,
   "id": "0",
   "metadata": {},
   "outputs": [],
   "source": [
    "import pandas as pd"
   ]
  },
  {
   "cell_type": "markdown",
   "id": "1",
   "metadata": {},
   "source": [
    "Using queries3.sql\n",
    "\n",
    "1 user action per day up to 5x to get the full payment:\n",
    "\n",
    "- US, UK, IE, DE, ES, IT: 8.75 USD (5 Daily User Actions to Max Partner Payment per User per month)\n",
    "- BR: 7.50 USD (5 Daily User Actions to Max Partner Payment per User per month)\n",
    "- MX, CL, AR: $6.25 USD (5 Daily User Actions to Max Partner Payment per User per month)\n",
    "\n",
    "Day 1 (any user = 1.75$), then throughout the month, they would need to open the app 4 separate days to get full payment"
   ]
  },
  {
   "cell_type": "markdown",
   "id": "2",
   "metadata": {},
   "source": [
    "### Importing data"
   ]
  },
  {
   "cell_type": "code",
   "execution_count": null,
   "id": "3",
   "metadata": {},
   "outputs": [],
   "source": [
    "OUTPUT_DIR = \"/Users/emulie/Data/Wellhub/output\""
   ]
  },
  {
   "cell_type": "code",
   "execution_count": null,
   "id": "4",
   "metadata": {},
   "outputs": [],
   "source": [
    "df_internals = pd.read_csv(\"/Users/emulie/Data/Wellhub/wellhub_monthly_users_20250129.csv\")\n",
    "df_wellhub = pd.read_csv(\"/Users/emulie/Data/Wellhub/wellhub_users.csv\")"
   ]
  },
  {
   "cell_type": "code",
   "execution_count": null,
   "id": "5",
   "metadata": {},
   "outputs": [],
   "source": [
    "df_internals.head()"
   ]
  },
  {
   "cell_type": "code",
   "execution_count": null,
   "id": "6",
   "metadata": {},
   "outputs": [],
   "source": [
    "df_wellhub.head()"
   ]
  },
  {
   "cell_type": "code",
   "execution_count": null,
   "id": "7",
   "metadata": {},
   "outputs": [],
   "source": [
    "# \n",
    "print(len(df_internals['user_pseudo_id'].unique()))\n",
    "print(df_internals.shape[0])\n",
    "print()\n",
    "print(len(df_wellhub['email'].unique()))\n",
    "print(df_wellhub.shape[0])"
   ]
  },
  {
   "cell_type": "markdown",
   "id": "8",
   "metadata": {},
   "source": [
    "### Cleaning up the data"
   ]
  },
  {
   "cell_type": "code",
   "execution_count": null,
   "id": "9",
   "metadata": {},
   "outputs": [],
   "source": [
    "# --- only keeping one email\n",
    "df_internals_clean = df_internals.drop(columns=['user_id', 'user_pseudo_id'])"
   ]
  },
  {
   "cell_type": "code",
   "execution_count": null,
   "id": "10",
   "metadata": {},
   "outputs": [],
   "source": []
  },
  {
   "cell_type": "code",
   "execution_count": null,
   "id": "11",
   "metadata": {},
   "outputs": [],
   "source": [
    "is_duplicate_mask = df_internals_clean.duplicated()\n",
    "df_duplicates = df_internals_clean[is_duplicate_mask]"
   ]
  },
  {
   "cell_type": "markdown",
   "id": "12",
   "metadata": {},
   "source": [
    "Dropping duplicates is correct"
   ]
  },
  {
   "cell_type": "code",
   "execution_count": null,
   "id": "13",
   "metadata": {},
   "outputs": [],
   "source": [
    "df_internals_clean = df_internals_clean.drop_duplicates()"
   ]
  },
  {
   "cell_type": "code",
   "execution_count": null,
   "id": "14",
   "metadata": {},
   "outputs": [],
   "source": [
    "print(df_internals_clean.shape[0])"
   ]
  },
  {
   "cell_type": "markdown",
   "id": "15",
   "metadata": {},
   "source": [
    "### Merging data"
   ]
  },
  {
   "cell_type": "code",
   "execution_count": null,
   "id": "16",
   "metadata": {},
   "outputs": [],
   "source": [
    "t = pd.merge(df_wellhub, df_internals_clean, on='email', how='inner')\n",
    "print(f\"How many wellhub users used BetterSleep: {t.shape[0]}; Perc: {t.shape[0] / df_wellhub.shape[0] * 100: .2f}%\")"
   ]
  },
  {
   "cell_type": "code",
   "execution_count": null,
   "id": "17",
   "metadata": {},
   "outputs": [],
   "source": [
    "df_merged = pd.merge(df_wellhub, df_internals_clean, on='email', how='left')"
   ]
  },
  {
   "cell_type": "code",
   "execution_count": null,
   "id": "18",
   "metadata": {},
   "outputs": [],
   "source": [
    "df_merged = df_merged.fillna(0.0)"
   ]
  },
  {
   "cell_type": "code",
   "execution_count": null,
   "id": "19",
   "metadata": {},
   "outputs": [],
   "source": [
    "print(df_merged['sep2024'].sum())\n",
    "print(df_merged['oct2024'].sum())\n",
    "print(df_merged['nov2024'].sum())\n",
    "print(df_merged['dec2024'].sum())\n",
    "print(df_merged['jan2025'].sum())"
   ]
  },
  {
   "cell_type": "code",
   "execution_count": null,
   "id": "20",
   "metadata": {},
   "outputs": [],
   "source": [
    "df_merged.head()"
   ]
  },
  {
   "cell_type": "code",
   "execution_count": null,
   "id": "21",
   "metadata": {},
   "outputs": [],
   "source": [
    "df_merged.to_csv(f\"{OUTPUT_DIR}/usage_20250129.csv\")"
   ]
  },
  {
   "cell_type": "markdown",
   "id": "22",
   "metadata": {},
   "source": [
    "### Computing $$"
   ]
  },
  {
   "cell_type": "code",
   "execution_count": null,
   "id": "23",
   "metadata": {},
   "outputs": [],
   "source": [
    "# --- pricing is USD\n",
    "dct_pricing = {\n",
    "    'us': 8.75,\n",
    "    'gb': 8.75, \n",
    "    'uk': 8.75,\n",
    "    'ie': 8.75,\n",
    "    'de': 8.75, \n",
    "    'es': 8.75,\n",
    "    'it': 8.75,\n",
    "    'br': 7.50, \n",
    "    'mx': 6.25,\n",
    "    'cl': 6.25,\n",
    "    'ar': 6.25\n",
    "}\n",
    "\n",
    "months = ['sep2024', 'oct2024', 'nov2024', 'dec2024', 'jan2025']"
   ]
  },
  {
   "cell_type": "code",
   "execution_count": null,
   "id": "24",
   "metadata": {},
   "outputs": [],
   "source": [
    "def get_monthly_fees(country: str, num_usages: int):\n",
    "    if num_usages > 0 and num_usages < 5:\n",
    "        return 1.75\n",
    "    elif num_usages == 0:\n",
    "        return 0\n",
    "    else: # num_usage >=5 \n",
    "        return dct_pricing[country]"
   ]
  },
  {
   "cell_type": "code",
   "execution_count": null,
   "id": "25",
   "metadata": {},
   "outputs": [],
   "source": [
    "df_money = df_merged.copy()\n",
    "for month in months:\n",
    "    df_money[f\"{month}_USD\"] = df_money.apply(lambda x: get_monthly_fees(x['country_code'], x[month]), axis=1)"
   ]
  },
  {
   "cell_type": "code",
   "execution_count": null,
   "id": "26",
   "metadata": {},
   "outputs": [],
   "source": [
    "t = df_money[[f\"{month}_USD\" for month in months]]\n",
    "df_revenues = t.sum().reset_index().rename(columns={'index': 'month', 0: 'revenues (USD)'})\n",
    "df_revenues['Monthly Users'] = t.astype(bool).sum(axis=0).values\n",
    "df_revenues['month'] = months"
   ]
  },
  {
   "cell_type": "code",
   "execution_count": null,
   "id": "27",
   "metadata": {},
   "outputs": [],
   "source": []
  },
  {
   "cell_type": "code",
   "execution_count": null,
   "id": "28",
   "metadata": {},
   "outputs": [],
   "source": [
    "df_revenues.head()"
   ]
  },
  {
   "cell_type": "code",
   "execution_count": null,
   "id": "29",
   "metadata": {},
   "outputs": [],
   "source": [
    "df_revenues.to_csv(f\"{OUTPUT_DIR}/revenues_20250129.csv\")"
   ]
  },
  {
   "cell_type": "code",
   "execution_count": null,
   "id": "30",
   "metadata": {},
   "outputs": [],
   "source": [
    "df_revenues['revenues (USD)'].sum()"
   ]
  },
  {
   "cell_type": "code",
   "execution_count": null,
   "id": "31",
   "metadata": {},
   "outputs": [],
   "source": []
  }
 ],
 "metadata": {
  "kernelspec": {
   "display_name": "Python 3 (ipykernel)",
   "language": "python",
   "name": "python3"
  },
  "language_info": {
   "codemirror_mode": {
    "name": "ipython",
    "version": 3
   },
   "file_extension": ".py",
   "mimetype": "text/x-python",
   "name": "python",
   "nbconvert_exporter": "python",
   "pygments_lexer": "ipython3",
   "version": "3.10.2"
  }
 },
 "nbformat": 4,
 "nbformat_minor": 5
}
