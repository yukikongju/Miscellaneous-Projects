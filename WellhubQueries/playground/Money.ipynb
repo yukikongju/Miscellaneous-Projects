{
 "cells": [
  {
   "cell_type": "code",
   "execution_count": null,
   "id": "0",
   "metadata": {},
   "outputs": [],
   "source": [
    "import pandas as pd"
   ]
  },
  {
   "cell_type": "markdown",
   "id": "1",
   "metadata": {},
   "source": [
    "Using wellhub mixpanel events ie queries1.sql\n",
    "\n",
    "1 user action per day up to 5x to get the full payment:\n",
    "\n",
    "- US, UK, IE, DE, ES, IT: 8.75 USD (5 Daily User Actions to Max Partner Payment per User per month)\n",
    "- BR: 7.50 USD (5 Daily User Actions to Max Partner Payment per User per month)\n",
    "- MX, CL, AR: $6.25 USD (5 Daily User Actions to Max Partner Payment per User per month)\n",
    "\n",
    "Day 1 (any user = 1.75$), then throughout the month, they would need to open the app 4 separate days to get full payment"
   ]
  },
  {
   "cell_type": "code",
   "execution_count": null,
   "id": "2",
   "metadata": {},
   "outputs": [],
   "source": []
  },
  {
   "cell_type": "markdown",
   "id": "3",
   "metadata": {},
   "source": [
    "### Read Data"
   ]
  },
  {
   "cell_type": "code",
   "execution_count": null,
   "id": "4",
   "metadata": {},
   "outputs": [],
   "source": [
    "df_internals = pd.read_csv(\"/Users/emulie/Data/Wellhub/wellhub_internals_20250128.csv\")\n",
    "df_wellhub = pd.read_csv(\"/Users/emulie/Data/Wellhub/wellhub_users.csv\")\n",
    "\n",
    "df_internals['user_pseudo_id'] = df_internals['user_pseudo_id'].astype(str)"
   ]
  },
  {
   "cell_type": "code",
   "execution_count": null,
   "id": "5",
   "metadata": {},
   "outputs": [],
   "source": [
    "df_internals.head()"
   ]
  },
  {
   "cell_type": "code",
   "execution_count": null,
   "id": "6",
   "metadata": {},
   "outputs": [],
   "source": [
    "df_wellhub.head()"
   ]
  },
  {
   "cell_type": "markdown",
   "id": "7",
   "metadata": {},
   "source": [
    "### Join Data"
   ]
  },
  {
   "cell_type": "code",
   "execution_count": null,
   "id": "8",
   "metadata": {},
   "outputs": [],
   "source": [
    "# \n",
    "print(len(df_internals['user_pseudo_id'].unique()))\n",
    "print(df_internals.shape[0])\n",
    "print()\n",
    "print(len(df_wellhub['email'].unique()))\n",
    "print(df_wellhub.shape[0])"
   ]
  },
  {
   "cell_type": "code",
   "execution_count": null,
   "id": "9",
   "metadata": {},
   "outputs": [],
   "source": []
  },
  {
   "cell_type": "code",
   "execution_count": null,
   "id": "10",
   "metadata": {},
   "outputs": [],
   "source": [
    "df_internals = df_internals.groupby(['user_pseudo_id']).sum().reset_index()"
   ]
  },
  {
   "cell_type": "code",
   "execution_count": null,
   "id": "11",
   "metadata": {},
   "outputs": [],
   "source": [
    "df_merged = pd.merge(df_wellhub, df_internals, left_on='email', right_on='email', how='left')"
   ]
  },
  {
   "cell_type": "code",
   "execution_count": null,
   "id": "12",
   "metadata": {},
   "outputs": [],
   "source": []
  },
  {
   "cell_type": "markdown",
   "id": "13",
   "metadata": {},
   "source": [
    "### "
   ]
  },
  {
   "cell_type": "code",
   "execution_count": null,
   "id": "14",
   "metadata": {},
   "outputs": [],
   "source": [
    "has_logged = ~df_merged['user_pseudo_id'].isna()\n",
    "df_logged = df_merged[has_logged]"
   ]
  },
  {
   "cell_type": "code",
   "execution_count": null,
   "id": "15",
   "metadata": {},
   "outputs": [],
   "source": [
    "print(f\"Number of logged users: {df_logged.shape[0]}; Perc: {df_logged.shape[0] / df_merged.shape[0] * 100:.2f}%\")"
   ]
  },
  {
   "cell_type": "code",
   "execution_count": null,
   "id": "16",
   "metadata": {},
   "outputs": [],
   "source": [
    "# df_logged.groupby(['gympass_user_id', 'email', 'country_code', 'firebaseUserId', 'id'], axis=1).sum()"
   ]
  },
  {
   "cell_type": "code",
   "execution_count": null,
   "id": "17",
   "metadata": {},
   "outputs": [],
   "source": [
    "df_logged.columns"
   ]
  },
  {
   "cell_type": "code",
   "execution_count": null,
   "id": "18",
   "metadata": {},
   "outputs": [],
   "source": [
    "keys = ['gympass_user_id', 'country_code', 'email', 'firebaseUserId', 'id', 'user_pseudo_id', 'user_id']\n",
    "df_logged['num_events_fired'] = df_logged.sum(axis=1, numeric_only=True)\n"
   ]
  },
  {
   "cell_type": "code",
   "execution_count": null,
   "id": "19",
   "metadata": {},
   "outputs": [],
   "source": [
    "# --- pricing is USD\n",
    "dct_pricing = {\n",
    "    'us': 8.75,\n",
    "    'gb': 8.75, \n",
    "    'uk': 8.75,\n",
    "    'ie': 8.75,\n",
    "    'de': 8.75, \n",
    "    'es': 8.75,\n",
    "    'it': 8.75,\n",
    "    'br': 7.50, \n",
    "    'mx': 6.25,\n",
    "    'cl': 6.25,\n",
    "    'ar': 6.25\n",
    "}"
   ]
  },
  {
   "cell_type": "code",
   "execution_count": null,
   "id": "20",
   "metadata": {},
   "outputs": [],
   "source": [
    "df_logged['country_code'].unique()"
   ]
  },
  {
   "cell_type": "code",
   "execution_count": null,
   "id": "21",
   "metadata": {},
   "outputs": [],
   "source": []
  },
  {
   "cell_type": "code",
   "execution_count": null,
   "id": "22",
   "metadata": {},
   "outputs": [],
   "source": []
  }
 ],
 "metadata": {
  "kernelspec": {
   "display_name": "Python 3 (ipykernel)",
   "language": "python",
   "name": "python3"
  },
  "language_info": {
   "codemirror_mode": {
    "name": "ipython",
    "version": 3
   },
   "file_extension": ".py",
   "mimetype": "text/x-python",
   "name": "python",
   "nbconvert_exporter": "python",
   "pygments_lexer": "ipython3",
   "version": "3.10.2"
  }
 },
 "nbformat": 4,
 "nbformat_minor": 5
}
