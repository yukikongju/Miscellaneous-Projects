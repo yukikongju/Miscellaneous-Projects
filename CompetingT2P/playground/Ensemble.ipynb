{
 "cells": [
  {
   "cell_type": "code",
   "execution_count": null,
   "id": "0",
   "metadata": {},
   "outputs": [],
   "source": [
    "import pandas as pd\n",
    "import numpy as np\n",
    "import matplotlib.pyplot as plt\n",
    "\n",
    "from sklearn.metrics import mean_squared_error"
   ]
  },
  {
   "cell_type": "code",
   "execution_count": null,
   "id": "1",
   "metadata": {},
   "outputs": [],
   "source": [
    "from datetime import datetime\n",
    "from mlflow.models import infer_signature"
   ]
  },
  {
   "cell_type": "code",
   "execution_count": null,
   "id": "2",
   "metadata": {},
   "outputs": [],
   "source": [
    "from dotenv import load_dotenv\n",
    "import os"
   ]
  },
  {
   "cell_type": "code",
   "execution_count": null,
   "id": "3",
   "metadata": {},
   "outputs": [],
   "source": [
    "load_dotenv()"
   ]
  },
  {
   "cell_type": "code",
   "execution_count": null,
   "id": "4",
   "metadata": {},
   "outputs": [],
   "source": [
    "MLFLOW_URI = os.environ.get(\"MLFLOW_URI\")"
   ]
  },
  {
   "cell_type": "markdown",
   "id": "5",
   "metadata": {},
   "source": [
    "### Define MLFlow Metadata"
   ]
  },
  {
   "cell_type": "code",
   "execution_count": null,
   "id": "6",
   "metadata": {},
   "outputs": [],
   "source": [
    "experiment_description = \"\"\"\n",
    "This is a competing T2P method based on both prefinal data ie the data we get from the API and \n",
    "our internal data ie the trial/paid/refund we get from HAU/UTM attribution.\n",
    "\"\"\""
   ]
  },
  {
   "cell_type": "code",
   "execution_count": null,
   "id": "7",
   "metadata": {},
   "outputs": [],
   "source": [
    "# MLFLOW_URI"
   ]
  },
  {
   "cell_type": "code",
   "execution_count": null,
   "id": "8",
   "metadata": {},
   "outputs": [],
   "source": [
    "import mlflow \n",
    "\n",
    "mlflow.set_tracking_uri(MLFLOW_URI)"
   ]
  },
  {
   "cell_type": "code",
   "execution_count": null,
   "id": "9",
   "metadata": {},
   "outputs": [],
   "source": [
    "EXPERIMENT_NAME = \"T2P Ensemble\"\n",
    "if not mlflow.get_experiment_by_name(name=EXPERIMENT_NAME):\n",
    "    mlflow.create_experiment(name=EXPERIMENT_NAME)\n",
    "experiment = mlflow.get_experiment_by_name(EXPERIMENT_NAME)"
   ]
  },
  {
   "cell_type": "code",
   "execution_count": null,
   "id": "10",
   "metadata": {},
   "outputs": [],
   "source": []
  },
  {
   "cell_type": "markdown",
   "id": "11",
   "metadata": {},
   "source": [
    "### Read Data"
   ]
  },
  {
   "cell_type": "code",
   "execution_count": null,
   "id": "12",
   "metadata": {},
   "outputs": [],
   "source": [
    "df = pd.read_csv(\"/Users/emulie/Documents/poc/T2PArima/data/merged_20250804.csv\")"
   ]
  },
  {
   "cell_type": "code",
   "execution_count": null,
   "id": "13",
   "metadata": {},
   "outputs": [],
   "source": [
    "df.head()"
   ]
  },
  {
   "cell_type": "code",
   "execution_count": null,
   "id": "14",
   "metadata": {},
   "outputs": [],
   "source": [
    "df.columns"
   ]
  },
  {
   "cell_type": "markdown",
   "id": "15",
   "metadata": {},
   "source": [
    "### Cleaning"
   ]
  },
  {
   "cell_type": "code",
   "execution_count": null,
   "id": "16",
   "metadata": {},
   "outputs": [],
   "source": [
    "TRIAL_COL = 'trials_hauutm'\n",
    "PAID_COL = 'paid_hauutm'"
   ]
  },
  {
   "cell_type": "code",
   "execution_count": null,
   "id": "17",
   "metadata": {},
   "outputs": [],
   "source": [
    "valid_country_mask = df['country'].apply(lambda x: isinstance(x, str))\n",
    "zero_country_mask = df['country'] == '0'\n",
    "valid_continent_mask = df['continent'].apply(lambda x: isinstance(x, str))\n",
    "valid_subcontinent_mask = df['sub_continent'].apply(lambda x: isinstance(x, str))\n",
    "\n",
    "df = df[valid_country_mask & ~zero_country_mask & valid_continent_mask & valid_subcontinent_mask]"
   ]
  },
  {
   "cell_type": "code",
   "execution_count": null,
   "id": "18",
   "metadata": {},
   "outputs": [],
   "source": [
    "# --- minimum conversions required\n",
    "df['t2p'] = df[PAID_COL] / df[TRIAL_COL]\n",
    "\n",
    "min_cost_mask = df['cost_usd'] > 5.0\n",
    "min_paid_mask = df[PAID_COL] > 2.0\n",
    "min_trial_mask = df[TRIAL_COL] > 5.0\n",
    "min_t2p_mask = df['t2p'] > 0\n",
    "df_overall = df[min_cost_mask & min_paid_mask & min_trial_mask & min_t2p_mask]"
   ]
  },
  {
   "cell_type": "code",
   "execution_count": null,
   "id": "19",
   "metadata": {},
   "outputs": [],
   "source": [
    "df.shape"
   ]
  },
  {
   "cell_type": "code",
   "execution_count": null,
   "id": "20",
   "metadata": {},
   "outputs": [],
   "source": []
  },
  {
   "cell_type": "markdown",
   "id": "21",
   "metadata": {},
   "source": [
    "### Transformation - "
   ]
  },
  {
   "cell_type": "code",
   "execution_count": null,
   "id": "22",
   "metadata": {},
   "outputs": [],
   "source": [
    "T1_countries = [\n",
    "    \"GU\", \"PR\", \"DK\", \"JE\", \"NO\", \"BE\", \"FR\", \"US\", \"IL\", \"GB\", \"UK\",\n",
    "    \"CA\", \"AU\", \"IE\", \"NL\", \"SE\", \"ES\", \"IT\", \"TW\", \"DE\", \"FI\",\n",
    "    \"NZ\", \"JP\", \"KR\", \"SG\", \"HK\"\n",
    "]\n",
    "T2_countries = [\n",
    "    \"ZA\", \"MT\", \"AE\", \"SA\", \"PL\", \"AT\", \"NO\", \"DK\", \"IS\", \"FI\"\n",
    "]\n",
    "T3_countries = [\n",
    "    \"IN\", \"PH\", \"MY\", \"NG\", \"TH\", \"VN\", \"EG\", \"MN\", \"RO\", \"HU\", \"RS\", \"TR\"\n",
    "]\n",
    "\n",
    "\n",
    "country_tier_map = {country: 'T1' for country in T1_countries} | {country: 'T2' for country in T2_countries} | {country: 'T3' for country in T3_countries}\n",
    "df_overall['country_tier'] = df_overall['country'].apply(lambda x: country_tier_map[x] if x in country_tier_map else 'T4')"
   ]
  },
  {
   "cell_type": "code",
   "execution_count": null,
   "id": "23",
   "metadata": {},
   "outputs": [],
   "source": [
    "# --- encode categorical columns\n",
    "from sklearn.preprocessing import LabelEncoder\n",
    "import joblib\n",
    "\n",
    "run_name = f\"LABEL_ENCODER_{SEGMENTATION}_{datetime.now().strftime('%Y-%m-%d_%H:%M')}\"\n",
    "experiment_tags = {\n",
    "    \"project_name\": EXPERIMENT_NAME, \n",
    "    \"date\": datetime.now().strftime('%Y-%m-%d %H:%M:%S'), # need to be a string\n",
    "    \"model\": \"Label Encoder\", \n",
    "    \"mlflow.note.content\": experiment_description,\n",
    "}\n",
    "\n",
    "\n",
    "with mlflow.start_run(experiment_id=experiment.experiment_id, \n",
    "                                      run_name=run_name, tags=experiment_tags):\n",
    "    for col in ['network', 'platform', 'country', 'continent', 'sub_continent', 'country_tier']:\n",
    "        le = LabelEncoder()\n",
    "        df_overall[f'{col}_encoded'] = le.fit_transform(df_overall[col])\n",
    "        label_encoder_path = f\"labelencoder_{col}.pkl\"\n",
    "        joblib.dump(le, label_encoder_path)\n",
    "        mlflow.log_artifact(label_encoder_path)"
   ]
  },
  {
   "cell_type": "code",
   "execution_count": null,
   "id": "24",
   "metadata": {},
   "outputs": [],
   "source": [
    "SEGMENTATION = 'TIER'"
   ]
  },
  {
   "cell_type": "code",
   "execution_count": null,
   "id": "25",
   "metadata": {},
   "outputs": [],
   "source": []
  },
  {
   "cell_type": "code",
   "execution_count": null,
   "id": "26",
   "metadata": {},
   "outputs": [],
   "source": []
  },
  {
   "cell_type": "markdown",
   "id": "27",
   "metadata": {},
   "source": [
    "### Dataset Split"
   ]
  },
  {
   "cell_type": "markdown",
   "id": "28",
   "metadata": {},
   "source": [
    "Models Aggregation:\n",
    "- Network Level =>\n",
    "    - Web (only 4)\n",
    "- Network-Country Tier Models (to test; postponed for now, not enough data)\n",
    "    - Android T1, T2, T3, T4\n",
    "    - iOS T1, T2, T3, T4\n",
    "    - Web\n",
    "\n"
   ]
  },
  {
   "cell_type": "code",
   "execution_count": null,
   "id": "29",
   "metadata": {},
   "outputs": [],
   "source": [
    "# X_cols = ['week_of_year', 'day_of_week', 'is_holiday', 'network_encoded', 'platform_encoded', 'country_encoded',\n",
    "#        'continent_encoded', 'sub_continent_encoded']"
   ]
  },
  {
   "cell_type": "code",
   "execution_count": null,
   "id": "30",
   "metadata": {},
   "outputs": [],
   "source": []
  },
  {
   "cell_type": "code",
   "execution_count": null,
   "id": "31",
   "metadata": {},
   "outputs": [],
   "source": [
    "# # --- T1 countries - ANDROID\n",
    "# T1_countries = df_overall['country'].isin(['US', 'CA', 'AU', 'UK'])\n",
    "# android_mask = df_overall['platform'] == 'android'\n",
    "\n",
    "# dff = df_overall[T1_countries & android_mask]\n",
    "\n",
    "# SEGMENTATION = \"android_T1\""
   ]
  },
  {
   "cell_type": "code",
   "execution_count": null,
   "id": "32",
   "metadata": {},
   "outputs": [],
   "source": [
    "# # --- T1 countries - iOS\n",
    "# T1_countries = df_overall['country'].isin(['US', 'CA', 'AU', 'UK'])\n",
    "# ios_mask = df_overall['platform'] == 'ios'\n",
    "\n",
    "# dff = df_overall[T1_countries & ios_mask]\n",
    "# SEGMENTATION = \"ios_T1\""
   ]
  },
  {
   "cell_type": "code",
   "execution_count": null,
   "id": "33",
   "metadata": {},
   "outputs": [],
   "source": [
    "# # --- T2 countries \n",
    "# T2_countries = ~df_overall['country'].isin(['US', 'CA', 'AU', 'UK'])\n",
    "# dff = df_overall[T2_countries]\n",
    "# SEGMENTATION = \"mobile_T2\""
   ]
  },
  {
   "cell_type": "code",
   "execution_count": null,
   "id": "34",
   "metadata": {},
   "outputs": [],
   "source": [
    "dff = df_overall.copy()"
   ]
  },
  {
   "cell_type": "code",
   "execution_count": null,
   "id": "35",
   "metadata": {},
   "outputs": [],
   "source": [
    "# --- segmentation\n",
    "t1_mask = df_overall['country'].isin(T1_countries)\n",
    "t1 = df_overall[t1_mask]\n",
    "t2 = df_overall[~t1_mask]"
   ]
  },
  {
   "cell_type": "code",
   "execution_count": null,
   "id": "36",
   "metadata": {},
   "outputs": [],
   "source": [
    "print(t1.shape)\n",
    "print(t2.shape)"
   ]
  },
  {
   "cell_type": "code",
   "execution_count": null,
   "id": "37",
   "metadata": {},
   "outputs": [],
   "source": [
    "# --- SEGMENTATION: ANDROID\n",
    "android_mask = df_overall['platform'] == 'android'\n",
    "dff = df_overall[android_mask]\n",
    "SEGMENTATION = \"android_overall\""
   ]
  },
  {
   "cell_type": "code",
   "execution_count": null,
   "id": "38",
   "metadata": {},
   "outputs": [],
   "source": [
    "# --- SEGMENTATION: iOS\n",
    "ios_mask = df_overall['platform'] == 'ios'\n",
    "dff = df_overall[ios_mask]\n",
    "SEGMENTATION = \"ios_overall\""
   ]
  },
  {
   "cell_type": "code",
   "execution_count": null,
   "id": "39",
   "metadata": {},
   "outputs": [],
   "source": [
    "# # --- SEGMENTATION: WEB (postponed)\n",
    "# web_mask = df_overall['platform'] == 'web'\n",
    "# dff = df_overall[web_mask]\n",
    "# SEGMENTATION = \"web_OVERALL\""
   ]
  },
  {
   "cell_type": "code",
   "execution_count": null,
   "id": "40",
   "metadata": {},
   "outputs": [],
   "source": []
  },
  {
   "cell_type": "code",
   "execution_count": null,
   "id": "41",
   "metadata": {},
   "outputs": [],
   "source": [
    "# X, y_trial, y_paid, y_t2p = dff[X_cols], dff[TRIAL_COL], dff[PAID_COL], dff['t2p']\n",
    "\n",
    "# N = int(len(df) * 0.8)\n",
    "# X_train, X_test, y_trial_train, y_trial_test, y_paid_train, y_paid_test = X[:N], X[N:], y_trial[:N], y_trial[N:], y_paid[:N], y_paid[N:]\n",
    "# y_t2p_train, y_t2p_test = y_t2p[:N], y_t2p[N:]"
   ]
  },
  {
   "cell_type": "code",
   "execution_count": null,
   "id": "42",
   "metadata": {},
   "outputs": [],
   "source": [
    "# dff['country'].unique()"
   ]
  },
  {
   "cell_type": "code",
   "execution_count": null,
   "id": "43",
   "metadata": {},
   "outputs": [],
   "source": [
    "# dff['platform'].unique()"
   ]
  },
  {
   "cell_type": "markdown",
   "id": "44",
   "metadata": {},
   "source": [
    "### Ensemble Model - GLM + XGB"
   ]
  },
  {
   "cell_type": "markdown",
   "id": "45",
   "metadata": {},
   "source": [
    "#### 1. GLM"
   ]
  },
  {
   "cell_type": "markdown",
   "id": "46",
   "metadata": {},
   "source": [
    "##### Transform"
   ]
  },
  {
   "cell_type": "code",
   "execution_count": null,
   "id": "47",
   "metadata": {},
   "outputs": [],
   "source": [
    "X_cols = ['week_of_year', 'day_of_week', 'cost_usd', 'clicks', 'impressions', 'installs']\n",
    "\n",
    "TRIAL_COL = 'trials_hauutm'\n",
    "PAID_COL = 'paid_hauutm'"
   ]
  },
  {
   "cell_type": "code",
   "execution_count": null,
   "id": "48",
   "metadata": {},
   "outputs": [],
   "source": [
    "formula_trial = f\"{TRIAL_COL} ~ week_of_year + day_of_week + cost_usd\"\n",
    "formula_paid = f\"{PAID_COL} ~  week_of_year + day_of_week + cost_usd\"\n",
    "formula_t2p = f\"t2p ~ week_of_year + day_of_week + cost_usd\""
   ]
  },
  {
   "cell_type": "code",
   "execution_count": null,
   "id": "49",
   "metadata": {},
   "outputs": [],
   "source": [
    "cols_to_log_transform = ['cost_usd']"
   ]
  },
  {
   "cell_type": "code",
   "execution_count": null,
   "id": "50",
   "metadata": {},
   "outputs": [],
   "source": [
    "X, y_trial, y_paid, y_t2p = dff[X_cols], dff[TRIAL_COL], dff[PAID_COL], dff['t2p']\n",
    "\n",
    "for col in cols_to_log_transform:\n",
    "    X[col] = np.log(X[col])\n",
    "\n",
    "N = int(len(dff) * 0.8)\n",
    "X_train, X_test, y_trial_train, y_trial_test, y_paid_train, y_paid_test = X[:N], X[N:], y_trial[:N], y_trial[N:], y_paid[:N], y_paid[N:]\n",
    "y_t2p_train, y_t2p_test = y_t2p[:N], y_t2p[N:]"
   ]
  },
  {
   "cell_type": "code",
   "execution_count": null,
   "id": "51",
   "metadata": {},
   "outputs": [],
   "source": []
  },
  {
   "cell_type": "markdown",
   "id": "52",
   "metadata": {},
   "source": [
    "##### Model"
   ]
  },
  {
   "cell_type": "code",
   "execution_count": null,
   "id": "53",
   "metadata": {},
   "outputs": [],
   "source": []
  },
  {
   "cell_type": "code",
   "execution_count": null,
   "id": "54",
   "metadata": {},
   "outputs": [],
   "source": [
    "import statsmodels.api as sm"
   ]
  },
  {
   "cell_type": "code",
   "execution_count": null,
   "id": "55",
   "metadata": {},
   "outputs": [],
   "source": [
    "model_trial = sm.GLM(y_trial_train, X_train, formula=formula_trial, family=sm.families.Poisson()).fit()\n",
    "model_paid = sm.GLM(y_paid_train, X_train, formula=formula_paid, family=sm.families.Poisson()).fit()\n",
    "model_t2p = sm.GLM(y_t2p_train, X_train, formula=formula_t2p, family=sm.families.Poisson()).fit()"
   ]
  },
  {
   "cell_type": "code",
   "execution_count": null,
   "id": "56",
   "metadata": {},
   "outputs": [],
   "source": [
    "y_trial_predicted = model_trial.predict(X)\n",
    "y_paid_predicted = model_paid.predict(X)\n",
    "y_t2p_predicted = model_t2p.predict(X)"
   ]
  },
  {
   "cell_type": "code",
   "execution_count": null,
   "id": "57",
   "metadata": {},
   "outputs": [],
   "source": [
    "mse_glm_trial = mean_squared_error(y_trial_predicted[N:], y_trial_test)\n",
    "mse_glm_paid = mean_squared_error(y_paid_predicted[N:], y_paid_test)\n",
    "\n",
    "mse_glm_t2p = mean_squared_error(y_t2p_predicted[N:], y_t2p_test)\n",
    "mse_glm_trial_paid = mean_squared_error(y_paid_predicted[N:] / y_trial_predicted[N:], y_t2p_test)"
   ]
  },
  {
   "cell_type": "code",
   "execution_count": null,
   "id": "58",
   "metadata": {},
   "outputs": [],
   "source": [
    "print(mse_glm_trial)\n",
    "print(mse_glm_paid)\n",
    "\n",
    "print(mse_glm_t2p)\n",
    "print(mse_glm_trial_paid)"
   ]
  },
  {
   "cell_type": "code",
   "execution_count": null,
   "id": "59",
   "metadata": {},
   "outputs": [],
   "source": []
  },
  {
   "cell_type": "code",
   "execution_count": null,
   "id": "60",
   "metadata": {},
   "outputs": [],
   "source": [
    "run_name = f\"GLM_{SEGMENTATION}_{datetime.now().strftime('%Y-%m-%d_%H:%M')}\"\n",
    "experiment_tags = {\n",
    "    \"project_name\": EXPERIMENT_NAME, \n",
    "    \"date\": datetime.now().strftime('%Y-%m-%d %H:%M:%S'), # need to be a string\n",
    "    \"model\": \"GLM T2P w/ week_of_year, day_of_week, log(cost_usd)\", \n",
    "    \"mlflow.note.content\": experiment_description,\n",
    "}\n",
    "\n",
    "with mlflow.start_run(experiment_id=experiment.experiment_id, \n",
    "                                      run_name=run_name, tags=experiment_tags):\n",
    "    # TODO: add signature\n",
    "    # signature = infer_signature(X_train, predictions)\n",
    "    mlflow.statsmodels.log_model(model_t2p, \"glm_t2p\")\n",
    "    \n",
    "    mlflow.log_metric(\"mse\", mse_glm_t2p)\n",
    "    # mlflow.log_metric(\"r2_score\", r2s)\n",
    "\n",
    "    # mlflow.log_figure(fig, f\"{y_col}_predictions.png\")"
   ]
  },
  {
   "cell_type": "code",
   "execution_count": null,
   "id": "61",
   "metadata": {},
   "outputs": [],
   "source": []
  },
  {
   "cell_type": "markdown",
   "id": "62",
   "metadata": {},
   "source": [
    "#### 2. XGB"
   ]
  },
  {
   "cell_type": "markdown",
   "id": "63",
   "metadata": {},
   "source": [
    "##### Transform"
   ]
  },
  {
   "cell_type": "code",
   "execution_count": null,
   "id": "64",
   "metadata": {},
   "outputs": [],
   "source": []
  },
  {
   "cell_type": "code",
   "execution_count": null,
   "id": "65",
   "metadata": {},
   "outputs": [],
   "source": [
    "X_cols = ['week_of_year', 'day_of_week', 'cost_usd', 'installs']\n",
    "TRIAL_COL = 'trials_hauutm'\n",
    "PAID_COL = 'paid_hauutm'"
   ]
  },
  {
   "cell_type": "code",
   "execution_count": null,
   "id": "66",
   "metadata": {},
   "outputs": [],
   "source": [
    "X, y_trial, y_paid, y_t2p = dff[X_cols], dff[TRIAL_COL], dff[PAID_COL], dff['t2p']\n",
    "\n",
    "y_t2p = np.log(y_t2p)\n",
    "\n",
    "N = int(len(dff) * 0.8)\n",
    "X_train, X_test, y_trial_train, y_trial_test, y_paid_train, y_paid_test = X[:N], X[N:], y_trial[:N], y_trial[N:], y_paid[:N], y_paid[N:]\n",
    "y_t2p_train, y_t2p_test = y_t2p[:N], y_t2p[N:]"
   ]
  },
  {
   "cell_type": "code",
   "execution_count": null,
   "id": "67",
   "metadata": {},
   "outputs": [],
   "source": []
  },
  {
   "cell_type": "markdown",
   "id": "68",
   "metadata": {},
   "source": [
    "##### Model"
   ]
  },
  {
   "cell_type": "code",
   "execution_count": null,
   "id": "69",
   "metadata": {},
   "outputs": [],
   "source": [
    "from sklearn.ensemble import GradientBoostingRegressor\n",
    "\n",
    "params = {\n",
    "    \"n_estimators\": 200,\n",
    "    \"max_depth\": 4,\n",
    "    \"min_samples_split\": 5,\n",
    "    \"learning_rate\": 0.05,\n",
    "    \"loss\": \"squared_error\",\n",
    "}\n",
    "xgb_t2p = GradientBoostingRegressor(**params)\n",
    "xgb_t2p.fit(X_train, y_t2p_train)"
   ]
  },
  {
   "cell_type": "code",
   "execution_count": null,
   "id": "70",
   "metadata": {},
   "outputs": [],
   "source": []
  },
  {
   "cell_type": "code",
   "execution_count": null,
   "id": "71",
   "metadata": {},
   "outputs": [],
   "source": [
    "t2p_pred = np.exp(xgb_t2p.predict(X))"
   ]
  },
  {
   "cell_type": "code",
   "execution_count": null,
   "id": "72",
   "metadata": {},
   "outputs": [],
   "source": [
    "mse_xgb = mean_squared_error(t2p_pred[N:], y_t2p_test)"
   ]
  },
  {
   "cell_type": "code",
   "execution_count": null,
   "id": "73",
   "metadata": {},
   "outputs": [],
   "source": []
  },
  {
   "cell_type": "code",
   "execution_count": null,
   "id": "74",
   "metadata": {},
   "outputs": [],
   "source": [
    "run_name = f\"XGB_{SEGMENTATION}_{datetime.now().strftime('%Y-%m-%d_%H:%M')}\"\n",
    "experiment_tags = {\n",
    "    \"project_name\": EXPERIMENT_NAME, \n",
    "    \"date\": datetime.now().strftime('%Y-%m-%d %H:%M:%S'), # need to be a string\n",
    "    \"model\": \"XGB T2P w/ week_of_year, day_of_week, log(cost_usd)\", \n",
    "    \"mlflow.note.content\": experiment_description,\n",
    "}\n",
    "\n",
    "with mlflow.start_run(experiment_id=experiment.experiment_id, \n",
    "                                      run_name=run_name, tags=experiment_tags):\n",
    "    # TODO: add signature\n",
    "    signature = infer_signature(X_train, t2p_pred)\n",
    "    mlflow.sklearn.log_model(xgb_t2p, \"xgb_t2p\", signature=signature)\n",
    "    \n",
    "    mlflow.log_metric(\"mse\", mse_xgb)\n",
    "\n",
    "    for metric, val in params.items():\n",
    "        mlflow.log_param(metric, val)\n",
    "\n",
    "    # mlflow.log_figure(fig, f\"{y_col}_predictions.png\")"
   ]
  },
  {
   "cell_type": "code",
   "execution_count": null,
   "id": "75",
   "metadata": {},
   "outputs": [],
   "source": []
  },
  {
   "cell_type": "markdown",
   "id": "76",
   "metadata": {},
   "source": [
    "#### 3. Ensemble "
   ]
  },
  {
   "cell_type": "code",
   "execution_count": null,
   "id": "77",
   "metadata": {},
   "outputs": [],
   "source": [
    "dff['t2p_glm'] = y_paid_predicted / y_trial_predicted\n",
    "dff['t2p_xgb'] = t2p_pred"
   ]
  },
  {
   "cell_type": "code",
   "execution_count": null,
   "id": "78",
   "metadata": {},
   "outputs": [],
   "source": [
    "plt.plot(range(len(dff)), dff['t2p_glm'], alpha=0.4, label='glm')\n",
    "plt.plot(range(len(dff)), dff['t2p_xgb'], alpha=0.4, label='xgb')\n",
    "plt.plot(range(len(dff)), dff['t2p'], alpha=0.4, label='actual')\n",
    "plt.legend()\n",
    "plt.show()"
   ]
  },
  {
   "cell_type": "code",
   "execution_count": null,
   "id": "79",
   "metadata": {},
   "outputs": [],
   "source": [
    "# for t2p, t2p_glm, t2p_xgb in zip(dff['t2p'], dff['t2p_glm'], dff['t2p_xgb']):\n",
    "#     print(t2p, t2p_glm, t2p_xgb)"
   ]
  },
  {
   "cell_type": "markdown",
   "id": "80",
   "metadata": {},
   "source": [
    "#### 4.1. Meta Model - Linear Model"
   ]
  },
  {
   "cell_type": "code",
   "execution_count": null,
   "id": "81",
   "metadata": {},
   "outputs": [],
   "source": [
    "from sklearn.linear_model import LinearRegression\n",
    "\n",
    "meta_input = pd.DataFrame({\n",
    "    \"glm_pred\": dff['t2p_glm'], \n",
    "    \"xgb_pred\": dff['t2p_xgb'],\n",
    "    # \"actual\": dff['t2p']\n",
    "})\n",
    "\n",
    "meta_model = LinearRegression().fit(meta_input, dff['t2p'])\n",
    "final_prediction = meta_model.predict(meta_input)"
   ]
  },
  {
   "cell_type": "code",
   "execution_count": null,
   "id": "82",
   "metadata": {},
   "outputs": [],
   "source": [
    "meta_model.coef_"
   ]
  },
  {
   "cell_type": "code",
   "execution_count": null,
   "id": "83",
   "metadata": {},
   "outputs": [],
   "source": [
    "# for t2p, pred in zip(dff['t2p'], final_prediction):\n",
    "#     print(t2p, pred)"
   ]
  },
  {
   "cell_type": "code",
   "execution_count": null,
   "id": "84",
   "metadata": {},
   "outputs": [],
   "source": [
    "mse_meta = mean_squared_error(final_prediction[N:], dff['t2p'][N:])"
   ]
  },
  {
   "cell_type": "code",
   "execution_count": null,
   "id": "85",
   "metadata": {},
   "outputs": [],
   "source": [
    "run_name = f\"META_{SEGMENTATION}_{datetime.now().strftime('%Y-%m-%d_%H:%M')}\"\n",
    "experiment_tags = {\n",
    "    \"project_name\": EXPERIMENT_NAME, \n",
    "    \"date\": datetime.now().strftime('%Y-%m-%d %H:%M:%S'), # need to be a string\n",
    "    \"model\": \"META T2P w/ week_of_year, day_of_week, log(cost_usd)\", \n",
    "    \"mlflow.note.content\": experiment_description,\n",
    "}\n",
    "\n",
    "with mlflow.start_run(experiment_id=experiment.experiment_id, \n",
    "                                      run_name=run_name, tags=experiment_tags):\n",
    "    # TODO: add signature\n",
    "    signature = infer_signature(X_train, final_prediction)\n",
    "    mlflow.sklearn.log_model(meta_model, \"meta_linear_t2p\", signature=signature)\n",
    "    \n",
    "    mlflow.log_metric(\"mse\", mse_meta)\n",
    "\n",
    "    # for metric, val in params.items():\n",
    "    #     mlflow.log_param(metric, val)\n",
    "\n",
    "    # mlflow.log_figure(fig, f\"{y_col}_predictions.png\")"
   ]
  },
  {
   "cell_type": "code",
   "execution_count": null,
   "id": "86",
   "metadata": {},
   "outputs": [],
   "source": []
  },
  {
   "cell_type": "markdown",
   "id": "87",
   "metadata": {},
   "source": [
    "#### 4.2. Meta Model - Random Forest"
   ]
  },
  {
   "cell_type": "code",
   "execution_count": null,
   "id": "88",
   "metadata": {},
   "outputs": [],
   "source": [
    "from sklearn.ensemble import RandomForestRegressor\n",
    "\n",
    "params = {\n",
    "    'n_estimators': 100, \n",
    "    'criterion': 'squared_error', \n",
    "    'max_depth': 10, \n",
    "    'min_samples_split': 2,\n",
    "}\n",
    "\n",
    "rf_model = RandomForestRegressor(**params).fit(meta_input, dff['t2p'])"
   ]
  },
  {
   "cell_type": "code",
   "execution_count": null,
   "id": "89",
   "metadata": {},
   "outputs": [],
   "source": [
    "rf_predictions = rf_model.predict(meta_input)\n",
    "mse_rf = mean_squared_error(rf_predictions[N:], dff['t2p'][N:])"
   ]
  },
  {
   "cell_type": "code",
   "execution_count": null,
   "id": "90",
   "metadata": {},
   "outputs": [],
   "source": [
    "# SEGMENTATION = \"OVERALL\"\n",
    "run_name = f\"META_RANDOMFOREST_{SEGMENTATION}_{datetime.now().strftime('%Y-%m-%d_%H:%M')}\"\n",
    "experiment_tags = {\n",
    "    \"project_name\": EXPERIMENT_NAME, \n",
    "    \"date\": datetime.now().strftime('%Y-%m-%d %H:%M:%S'), # need to be a string\n",
    "    \"model\": \"META Random Forest T2P w/ week_of_year, day_of_week, log(cost_usd)\", \n",
    "    \"mlflow.note.content\": experiment_description,\n",
    "}\n",
    "\n",
    "with mlflow.start_run(experiment_id=experiment.experiment_id, \n",
    "                                      run_name=run_name, tags=experiment_tags):\n",
    "    # TODO: add signature\n",
    "    signature = infer_signature(X_train, final_prediction)\n",
    "    mlflow.sklearn.log_model(rf_model, \"meta_rf_t2p\", signature=signature)\n",
    "    \n",
    "    mlflow.log_metric(\"mse\", mse_rf)\n",
    "\n",
    "    for metric, val in params.items():\n",
    "        mlflow.log_param(metric, val)"
   ]
  },
  {
   "cell_type": "code",
   "execution_count": null,
   "id": "91",
   "metadata": {},
   "outputs": [],
   "source": [
    "# for pred, actual in zip(rf_predictions[N:], dff['t2p'][N:]):\n",
    "#     print(pred, actual)"
   ]
  },
  {
   "cell_type": "code",
   "execution_count": null,
   "id": "92",
   "metadata": {},
   "outputs": [],
   "source": []
  }
 ],
 "metadata": {
  "kernelspec": {
   "display_name": "Python 3 (ipykernel)",
   "language": "python",
   "name": "python3"
  },
  "language_info": {
   "codemirror_mode": {
    "name": "ipython",
    "version": 3
   },
   "file_extension": ".py",
   "mimetype": "text/x-python",
   "name": "python",
   "nbconvert_exporter": "python",
   "pygments_lexer": "ipython3",
   "version": "3.10.2"
  }
 },
 "nbformat": 4,
 "nbformat_minor": 5
}
