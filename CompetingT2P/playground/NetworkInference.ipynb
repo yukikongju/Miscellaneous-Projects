{
 "cells": [
  {
   "cell_type": "code",
   "execution_count": 9,
   "id": "0",
   "metadata": {},
   "outputs": [],
   "source": [
    "import mlflow\n",
    "import numpy as np\n",
    "import pandas as pd\n",
    "\n",
    "import joblib\n",
    "import os\n",
    "from dotenv import load_dotenv\n",
    "\n",
    "from collections import defaultdict\n",
    "\n",
    "import json"
   ]
  },
  {
   "cell_type": "code",
   "execution_count": 10,
   "id": "1",
   "metadata": {},
   "outputs": [],
   "source": [
    "from mlflow.models import Model\n",
    "from mlflow.models.signature import infer_signature"
   ]
  },
  {
   "cell_type": "markdown",
   "id": "2",
   "metadata": {},
   "source": [
    "Some questions: \n",
    "- can we make inference on data with no trial/paid? No, we need to filter out"
   ]
  },
  {
   "cell_type": "markdown",
   "id": "3",
   "metadata": {},
   "source": [
    "### 0. Setup MLFlow"
   ]
  },
  {
   "cell_type": "code",
   "execution_count": null,
   "id": "4",
   "metadata": {},
   "outputs": [],
   "source": []
  },
  {
   "cell_type": "code",
   "execution_count": 11,
   "id": "5",
   "metadata": {},
   "outputs": [
    {
     "data": {
      "text/plain": [
       "True"
      ]
     },
     "execution_count": 11,
     "metadata": {},
     "output_type": "execute_result"
    }
   ],
   "source": [
    "load_dotenv()"
   ]
  },
  {
   "cell_type": "code",
   "execution_count": null,
   "id": "6",
   "metadata": {},
   "outputs": [],
   "source": [
    "MLFLOW_URI = os.environ.get(\"MLFLOW_URI\")\n",
    "mlflow.set_tracking_uri(MLFLOW_URI)"
   ]
  },
  {
   "cell_type": "markdown",
   "id": "7",
   "metadata": {},
   "source": [
    "### 1. Reading the data"
   ]
  },
  {
   "cell_type": "code",
   "execution_count": null,
   "id": "8",
   "metadata": {},
   "outputs": [],
   "source": [
    "df = pd.read_csv(\"/Users/emulie/Documents/poc/T2PArima/data/merged_20250804.csv\")"
   ]
  },
  {
   "cell_type": "code",
   "execution_count": null,
   "id": "9",
   "metadata": {},
   "outputs": [],
   "source": [
    "N = 1000\n",
    "dff = df[:N]"
   ]
  },
  {
   "cell_type": "code",
   "execution_count": null,
   "id": "10",
   "metadata": {},
   "outputs": [],
   "source": []
  },
  {
   "cell_type": "markdown",
   "id": "11",
   "metadata": {},
   "source": [
    "### 2. Loading the model - t2p + labelencoder"
   ]
  },
  {
   "cell_type": "markdown",
   "id": "12",
   "metadata": {},
   "source": [
    "#### Models"
   ]
  },
  {
   "cell_type": "code",
   "execution_count": null,
   "id": "13",
   "metadata": {},
   "outputs": [],
   "source": [
    "# GLM_ANDROID_MODEL_URI = \"mlflow-artifacts:/5/f229eb7575fa4f3eabfcf87c060065ed/artifacts/glm_t2p\"\n",
    "# XGB_ANDROID_MODEL_URI = \"mlflow-artifacts:/5/2c216ad97c47402887493cf2500fe44f/artifacts/xgb_t2p\"\n",
    "# META_ANDROID_MODEL_URI = \"mlflow-artifacts:/5/522908f93fac450d81a9de1abd552336/artifacts/meta_rf_t2p\"\n",
    "\n",
    "# GLM_IOS_MODEL_URI = \"mlflow-artifacts:/5/459fbd2a2f8b4552b68556c4eb43b257/artifacts/glm_t2p\"\n",
    "# XGB_IOS_MODEL_URI = \"mlflow-artifacts:/5/86a78174c1f94c87a6e8366939c87fbe/artifacts/xgb_t2p\"\n",
    "# META_IOS_MODEL_URI = \"mlflow-artifacts:/5/c15c62f08fc6479c9821b2ff1ecb36cc/artifacts/meta_rf_t2p\"\n",
    "\n",
    "# glm_android_model = mlflow.pyfunc.load_model(GLM_ANDROID_MODEL_URI)\n",
    "# xgb_android_model = mlflow.pyfunc.load_model(XGB_ANDROID_MODEL_URI)\n",
    "# meta_android_model = mlflow.pyfunc.load_model(META_ANDROID_MODEL_URI)\n",
    "\n",
    "# glm_ios_model = mlflow.pyfunc.load_model(GLM_IOS_MODEL_URI)\n",
    "# xgb_ios_model = mlflow.pyfunc.load_model(XGB_IOS_MODEL_URI)\n",
    "# meta_ios_model = mlflow.pyfunc.load_model(META_IOS_MODEL_URI)"
   ]
  },
  {
   "cell_type": "code",
   "execution_count": null,
   "id": "14",
   "metadata": {},
   "outputs": [],
   "source": [
    "models_dct = {\n",
    "    \"glm_android\": {\n",
    "        \"uri\": \"mlflow-artifacts:/5/a1f2f2af04924ce5b021d588c55c2242/artifacts/glm_t2p\", \n",
    "    },\n",
    "    \"xgb_android\": {\n",
    "        \"uri\": \"mlflow-artifacts:/5/2c216ad97c47402887493cf2500fe44f/artifacts/xgb_t2p\", \n",
    "    },\n",
    "    \"meta_android\": {\n",
    "        \"uri\": \"mlflow-artifacts:/5/522908f93fac450d81a9de1abd552336/artifacts/meta_rf_t2p\", \n",
    "    },\n",
    "    \"glm_ios\": {\n",
    "        \"uri\": \"mlflow-artifacts:/5/6515f8a031ab42998864a1d361ca6689/artifacts/glm_t2p\", \n",
    "    },\n",
    "    \"xgb_ios\": {\n",
    "        \"uri\": \"mlflow-artifacts:/5/86a78174c1f94c87a6e8366939c87fbe/artifacts/xgb_t2p\", \n",
    "    },\n",
    "    \"meta_ios\": {\n",
    "        \"uri\": \"mlflow-artifacts:/5/c15c62f08fc6479c9821b2ff1ecb36cc/artifacts/meta_rf_t2p\", \n",
    "    },\n",
    "}\n"
   ]
  },
  {
   "cell_type": "code",
   "execution_count": null,
   "id": "15",
   "metadata": {},
   "outputs": [],
   "source": [
    "models = defaultdict(dict)\n",
    "for model_name, model_dct in models_dct.items():\n",
    "    uri = model_dct['uri']\n",
    "    model_path = mlflow.pyfunc.load_model(uri)\n",
    "    model_metadata = mlflow.models.get_model_info(uri)\n",
    "    models[model_name]['model_path'] = model_path\n",
    "    models[model_name]['metadata'] = model_metadata\n",
    "    models[model_name]['signature'] = model_metadata._signature_dict\n",
    "    models[model_name]['X_cols'] = [item['name'] for item in json.loads(models[model_name]['signature']['inputs'])]"
   ]
  },
  {
   "cell_type": "code",
   "execution_count": null,
   "id": "16",
   "metadata": {},
   "outputs": [],
   "source": []
  },
  {
   "cell_type": "code",
   "execution_count": null,
   "id": "17",
   "metadata": {},
   "outputs": [],
   "source": []
  },
  {
   "cell_type": "markdown",
   "id": "18",
   "metadata": {},
   "source": [
    "#### Get Model Signature from MLModel"
   ]
  },
  {
   "cell_type": "code",
   "execution_count": null,
   "id": "19",
   "metadata": {},
   "outputs": [],
   "source": []
  },
  {
   "cell_type": "code",
   "execution_count": null,
   "id": "20",
   "metadata": {},
   "outputs": [],
   "source": []
  },
  {
   "cell_type": "markdown",
   "id": "21",
   "metadata": {},
   "source": [
    "#### Label Encoder Artifacts"
   ]
  },
  {
   "cell_type": "code",
   "execution_count": null,
   "id": "22",
   "metadata": {},
   "outputs": [],
   "source": [
    "# LABELENCODER_BASE_URI = \"mlflow-artifacts:/5/7ce897e47d524068881351b0dc4d22fe/artifacts/labelencoder_country.pkl\"\n",
    "LABELENCODER_BASE_URI = \"mlflow-artifacts:/5/7ce897e47d524068881351b0dc4d22fe/artifacts\"\n",
    "\n",
    "encoders = {}\n",
    "for col in ['network', 'country', 'platform']:\n",
    "    encoder_uri = os.path.join(LABELENCODER_BASE_URI, f\"labelencoder_{col}.pkl\")\n",
    "    encoder = mlflow.artifacts.download_artifacts(encoder_uri)\n",
    "    encoders[col] = joblib.load(encoder)"
   ]
  },
  {
   "cell_type": "code",
   "execution_count": null,
   "id": "23",
   "metadata": {},
   "outputs": [],
   "source": [
    "# --- OPTIONAL: filtering out unknown label (TODO)\n"
   ]
  },
  {
   "cell_type": "code",
   "execution_count": null,
   "id": "24",
   "metadata": {},
   "outputs": [],
   "source": []
  },
  {
   "cell_type": "code",
   "execution_count": null,
   "id": "25",
   "metadata": {},
   "outputs": [],
   "source": [
    "# for col in ['network', 'country', 'platform']:\n",
    "#     dff[f\"{col}_encoded\"] = encoders[col].transform(dff[col], handle_unknown='ignore')"
   ]
  },
  {
   "cell_type": "code",
   "execution_count": null,
   "id": "26",
   "metadata": {},
   "outputs": [],
   "source": [
    "# encoders['network'].classes_"
   ]
  },
  {
   "cell_type": "markdown",
   "id": "27",
   "metadata": {},
   "source": [
    "### 3. Data Transformation - Encoding Categorical Variable "
   ]
  },
  {
   "cell_type": "code",
   "execution_count": null,
   "id": "28",
   "metadata": {},
   "outputs": [],
   "source": []
  },
  {
   "cell_type": "code",
   "execution_count": null,
   "id": "29",
   "metadata": {},
   "outputs": [],
   "source": []
  },
  {
   "cell_type": "markdown",
   "id": "30",
   "metadata": {},
   "source": [
    "### 4. Making the Inference"
   ]
  },
  {
   "cell_type": "code",
   "execution_count": null,
   "id": "31",
   "metadata": {},
   "outputs": [],
   "source": [
    "android_mask = dff['platform'] == 'android'\n",
    "ios_mask = dff['platform'] == 'ios'\n",
    "\n",
    "dff_android = dff[android_mask]\n",
    "dff_ios = dff[ios_mask]"
   ]
  },
  {
   "cell_type": "markdown",
   "id": "32",
   "metadata": {},
   "source": [
    "#### ANDROID GLM Inference"
   ]
  },
  {
   "cell_type": "code",
   "execution_count": null,
   "id": "33",
   "metadata": {},
   "outputs": [],
   "source": [
    "\n",
    "X_cols = models['glm_android']['X_cols']\n",
    "df_glm_android = dff_android[X_cols]"
   ]
  },
  {
   "cell_type": "code",
   "execution_count": null,
   "id": "34",
   "metadata": {},
   "outputs": [],
   "source": [
    "df_glm_android['cost_usd'] = np.log(df_glm_android['cost_usd'])"
   ]
  },
  {
   "cell_type": "code",
   "execution_count": null,
   "id": "35",
   "metadata": {},
   "outputs": [],
   "source": [
    "df_glm_android['t2p_prediction'] = models['glm_android']['model_path'].predict(df_glm_android)"
   ]
  },
  {
   "cell_type": "code",
   "execution_count": null,
   "id": "36",
   "metadata": {},
   "outputs": [],
   "source": [
    "# type(df_glm_android['t2p_prediction'].iloc[df_glm_android.shape[0]-1])"
   ]
  },
  {
   "cell_type": "code",
   "execution_count": null,
   "id": "37",
   "metadata": {},
   "outputs": [],
   "source": []
  },
  {
   "cell_type": "code",
   "execution_count": null,
   "id": "38",
   "metadata": {},
   "outputs": [],
   "source": [
    "inf_mask = np.isinf(df_glm_android['t2p_prediction'])"
   ]
  },
  {
   "cell_type": "code",
   "execution_count": null,
   "id": "39",
   "metadata": {},
   "outputs": [],
   "source": [
    "any(inf_mask)"
   ]
  },
  {
   "cell_type": "markdown",
   "id": "40",
   "metadata": {},
   "source": [
    "#### ANDROID XGB Inference"
   ]
  },
  {
   "cell_type": "code",
   "execution_count": null,
   "id": "41",
   "metadata": {},
   "outputs": [],
   "source": [
    "X_cols = models['xgb_android']['X_cols']\n",
    "df_xgb_android = dff_android[X_cols]"
   ]
  },
  {
   "cell_type": "code",
   "execution_count": null,
   "id": "42",
   "metadata": {},
   "outputs": [],
   "source": [
    "df_xgb_android['t2p_predictions'] = models['xgb_android']['model_path'].predict(df_xgb_android)"
   ]
  },
  {
   "cell_type": "code",
   "execution_count": null,
   "id": "43",
   "metadata": {},
   "outputs": [],
   "source": []
  },
  {
   "cell_type": "markdown",
   "id": "44",
   "metadata": {},
   "source": [
    "#### ANDROID RF Inference"
   ]
  },
  {
   "cell_type": "code",
   "execution_count": null,
   "id": "45",
   "metadata": {},
   "outputs": [],
   "source": [
    "X_cols"
   ]
  },
  {
   "cell_type": "code",
   "execution_count": null,
   "id": "46",
   "metadata": {},
   "outputs": [],
   "source": [
    "X_cols = models['meta_android']['X_cols']\n",
    "df_rf_android = dff_android[X_cols]"
   ]
  },
  {
   "cell_type": "code",
   "execution_count": null,
   "id": "47",
   "metadata": {},
   "outputs": [],
   "source": [
    "df_rf_android['t2p_predictions'] = models['meta_android']['model_path'].predict(df_xgb_android)"
   ]
  },
  {
   "cell_type": "code",
   "execution_count": null,
   "id": "48",
   "metadata": {},
   "outputs": [],
   "source": []
  },
  {
   "cell_type": "code",
   "execution_count": null,
   "id": "49",
   "metadata": {},
   "outputs": [],
   "source": [
    "model_name = \"GLM_android_overall\"\n",
    "stage = \"1\" # latest\n",
    "model_uri = f\"models:/{model_name}/{stage}\""
   ]
  },
  {
   "cell_type": "code",
   "execution_count": null,
   "id": "50",
   "metadata": {},
   "outputs": [],
   "source": [
    "model_test = mlflow.pyfunc.load_model(model_uri)"
   ]
  },
  {
   "cell_type": "code",
   "execution_count": null,
   "id": "51",
   "metadata": {},
   "outputs": [],
   "source": []
  },
  {
   "cell_type": "code",
   "execution_count": 12,
   "id": "52",
   "metadata": {},
   "outputs": [
    {
     "name": "stderr",
     "output_type": "stream",
     "text": [
      "Downloading artifacts: 100%|█████████████████████████████████████████████████████████████████████████████████████████████████████████████████████████| 5/5 [00:00<00:00,  7.26it/s]\n"
     ]
    }
   ],
   "source": [
    "# model_uri_test = \"models:/GLM_android_overall/latest\"\n",
    "model_uri_test = \"models:/META_android_overall/latest\"\n",
    "model2 = mlflow.pyfunc.load_model(model_uri_test)"
   ]
  },
  {
   "cell_type": "code",
   "execution_count": null,
   "id": "53",
   "metadata": {},
   "outputs": [],
   "source": [
    "# t = mlflow.pyfunc.get_model_dependencies(model_uri_test)"
   ]
  },
  {
   "cell_type": "code",
   "execution_count": null,
   "id": "54",
   "metadata": {},
   "outputs": [],
   "source": []
  },
  {
   "cell_type": "code",
   "execution_count": null,
   "id": "55",
   "metadata": {},
   "outputs": [],
   "source": []
  },
  {
   "cell_type": "code",
   "execution_count": null,
   "id": "56",
   "metadata": {},
   "outputs": [],
   "source": []
  }
 ],
 "metadata": {
  "kernelspec": {
   "display_name": "Python 3 (ipykernel)",
   "language": "python",
   "name": "python3"
  },
  "language_info": {
   "codemirror_mode": {
    "name": "ipython",
    "version": 3
   },
   "file_extension": ".py",
   "mimetype": "text/x-python",
   "name": "python",
   "nbconvert_exporter": "python",
   "pygments_lexer": "ipython3",
   "version": "3.10.2"
  }
 },
 "nbformat": 4,
 "nbformat_minor": 5
}
