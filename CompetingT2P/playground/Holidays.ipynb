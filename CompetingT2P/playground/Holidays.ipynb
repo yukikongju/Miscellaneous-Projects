{
 "cells": [
  {
   "cell_type": "code",
   "execution_count": null,
   "id": "0",
   "metadata": {},
   "outputs": [],
   "source": [
    "import holidays\n",
    "import pandas as pd"
   ]
  },
  {
   "cell_type": "code",
   "execution_count": null,
   "id": "1",
   "metadata": {},
   "outputs": [],
   "source": []
  },
  {
   "cell_type": "code",
   "execution_count": null,
   "id": "2",
   "metadata": {},
   "outputs": [],
   "source": [
    "def is_holiday(date: str, country: str):\n",
    "    \"\"\"\n",
    "    Parameters\n",
    "    ----------\n",
    "    day: str\n",
    "        > format: 'YYYY-MM-DD' -> '2024-01-01'\n",
    "    country: str\n",
    "        > format: 'CC' symbol -> 'US'\n",
    "    \"\"\"\n",
    "    try:\n",
    "        country = country.upper()\n",
    "        country_holidays = holidays.country_holidays(country)\n",
    "    except: # country holidays not supported\n",
    "        return False \n",
    "        \n",
    "    return True if country_holidays.get(date) else False"
   ]
  },
  {
   "cell_type": "code",
   "execution_count": null,
   "id": "3",
   "metadata": {},
   "outputs": [],
   "source": [
    "def get_week_of_year(date: str):\n",
    "    \"\"\"\n",
    "    Given the day in format 'YYYY-MM-DD', give the week of the year as an int [0,52]\n",
    "    \"\"\"\n",
    "    return datetime.strptime(date, '%Y-%m-%d').isocalendar()[1]\n",
    "\n",
    "def get_weekday(date: str):\n",
    "    \"\"\"\n",
    "    Given the day in format 'YYYY-MM-DD', give the week of the year as an int [0,52]\n",
    "    \"\"\"\n",
    "    return datetime.strptime(date, '%Y-%m-%d').isocalendar()[2]\n"
   ]
  },
  {
   "cell_type": "markdown",
   "id": "4",
   "metadata": {},
   "source": [
    "### Populate "
   ]
  },
  {
   "cell_type": "code",
   "execution_count": null,
   "id": "5",
   "metadata": {},
   "outputs": [],
   "source": []
  },
  {
   "cell_type": "code",
   "execution_count": null,
   "id": "6",
   "metadata": {},
   "outputs": [],
   "source": []
  },
  {
   "cell_type": "markdown",
   "id": "7",
   "metadata": {},
   "source": [
    "### Populate Holidays-Country DataFrame"
   ]
  },
  {
   "cell_type": "code",
   "execution_count": null,
   "id": "8",
   "metadata": {},
   "outputs": [],
   "source": [
    "countries = ['US', 'CA', 'FR', 'DE']\n",
    "years = [2024, 2025]\n",
    "\n",
    "data = []\n",
    "for country in countries:\n",
    "    for year in years:\n",
    "        for date, name in holidays.CountryHoliday(country, years=[year]).items():\n",
    "            data.append({\n",
    "                'date': date,\n",
    "                'country': country,\n",
    "                'holiday': name\n",
    "            })\n",
    "\n",
    "df_holidays = pd.DataFrame(data)\n",
    "\n",
    "# Sort by date and country\n",
    "df_holidays.sort_values(by=['country', 'date'], inplace=True)\n"
   ]
  },
  {
   "cell_type": "code",
   "execution_count": null,
   "id": "9",
   "metadata": {},
   "outputs": [],
   "source": [
    "df_holidays.head()"
   ]
  },
  {
   "cell_type": "code",
   "execution_count": null,
   "id": "10",
   "metadata": {},
   "outputs": [],
   "source": [
    "import pandas as pd\n",
    "import holidays\n",
    "from datetime import date\n",
    "\n",
    "# Parameters\n",
    "start_date = \"2025-01-01\"\n",
    "end_date = \"2025-12-31\"\n",
    "countries = ['US', 'CA', 'FR', 'DE']  # ISO country codes supported by `holidays`\n",
    "\n",
    "# Generate all dates\n",
    "date_range = pd.date_range(start=start_date, end=end_date)\n",
    "\n",
    "# Create DataFrame of all date-country combinations\n",
    "df = pd.DataFrame([(d, c) for d in date_range for c in countries], columns=[\"date\", \"country\"])\n",
    "\n",
    "# Initialize holiday objects for each country\n",
    "holiday_dict = {\n",
    "    country: holidays.CountryHoliday(country, years=[2025])\n",
    "    for country in countries\n",
    "}\n",
    "\n",
    "def get_holiday_info(row):\n",
    "    h = holiday_dict[row['country']]\n",
    "    date = row['date'].date()\n",
    "    if date in h:\n",
    "        return pd.Series([True, h[date]])\n",
    "    else:\n",
    "        return pd.Series([False, None])\n",
    "\n",
    "df[['is_holiday', 'holiday_name']] = df.apply(get_holiday_info, axis=1)\n",
    "\n",
    "print(df.head(10))\n"
   ]
  },
  {
   "cell_type": "code",
   "execution_count": null,
   "id": "11",
   "metadata": {},
   "outputs": [],
   "source": []
  },
  {
   "cell_type": "code",
   "execution_count": null,
   "id": "12",
   "metadata": {},
   "outputs": [],
   "source": []
  },
  {
   "cell_type": "code",
   "execution_count": null,
   "id": "13",
   "metadata": {},
   "outputs": [],
   "source": []
  },
  {
   "cell_type": "code",
   "execution_count": null,
   "id": "14",
   "metadata": {},
   "outputs": [],
   "source": []
  },
  {
   "cell_type": "code",
   "execution_count": null,
   "id": "15",
   "metadata": {},
   "outputs": [],
   "source": []
  }
 ],
 "metadata": {
  "kernelspec": {
   "display_name": "Python 3 (ipykernel)",
   "language": "python",
   "name": "python3"
  },
  "language_info": {
   "codemirror_mode": {
    "name": "ipython",
    "version": 3
   },
   "file_extension": ".py",
   "mimetype": "text/x-python",
   "name": "python",
   "nbconvert_exporter": "python",
   "pygments_lexer": "ipython3",
   "version": "3.10.2"
  }
 },
 "nbformat": 4,
 "nbformat_minor": 5
}
