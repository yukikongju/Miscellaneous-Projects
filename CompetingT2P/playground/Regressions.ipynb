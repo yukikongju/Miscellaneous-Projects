{
 "cells": [
  {
   "cell_type": "code",
   "execution_count": null,
   "id": "0",
   "metadata": {},
   "outputs": [],
   "source": [
    "import pandas as pd\n",
    "import numpy as np\n",
    "from datetime import datetime\n",
    "\n",
    "import mlflow \n",
    "from mlflow.models import infer_signature\n",
    "\n",
    "from sklearn.linear_model import LinearRegression\n",
    "from sklearn.metrics import mean_squared_error, r2_score\n",
    "\n",
    "import os\n",
    "import configparser\n",
    "import ssl"
   ]
  },
  {
   "cell_type": "markdown",
   "id": "1",
   "metadata": {},
   "source": [
    "### Importing Model URI"
   ]
  },
  {
   "cell_type": "code",
   "execution_count": null,
   "id": "2",
   "metadata": {},
   "outputs": [],
   "source": [
    "# missing ssh import needed to connect to model URI\n",
    "ssl._create_default_https_context = ssl._create_unverified_context\n",
    "\n",
    "# \n",
    "# script_dir = os.path.dirname(os.path.abspath(__file__))\n",
    "script_dir = os.path.dirname(os.path.abspath(\"\"))\n",
    "config_path = os.path.join(script_dir, \"config.ini\")\n",
    "print(f\"config_path: {config_path}\")\n",
    "\n",
    "# parse \n",
    "config = configparser.ConfigParser()\n",
    "config.read(config_path)\n",
    "\n",
    "# define mlflow uri\n",
    "mlflow_uri = config[\"mlflow-server\"][\"Url\"]\n",
    "TRACKING_URI = mlflow_uri"
   ]
  },
  {
   "cell_type": "markdown",
   "id": "3",
   "metadata": {},
   "source": [
    "### Import Dataset"
   ]
  },
  {
   "cell_type": "code",
   "execution_count": null,
   "id": "4",
   "metadata": {},
   "outputs": [],
   "source": [
    "df = pd.read_csv(\"/Users/emulie/Documents/poc/T2PArima/data/data_merged.csv\")"
   ]
  },
  {
   "cell_type": "code",
   "execution_count": null,
   "id": "5",
   "metadata": {},
   "outputs": [],
   "source": [
    "df_raw = df"
   ]
  },
  {
   "cell_type": "code",
   "execution_count": null,
   "id": "6",
   "metadata": {},
   "outputs": [],
   "source": [
    "df.head()"
   ]
  },
  {
   "cell_type": "code",
   "execution_count": null,
   "id": "7",
   "metadata": {},
   "outputs": [],
   "source": []
  },
  {
   "cell_type": "markdown",
   "id": "8",
   "metadata": {},
   "source": [
    "### Train model "
   ]
  },
  {
   "cell_type": "code",
   "execution_count": null,
   "id": "9",
   "metadata": {},
   "outputs": [],
   "source": [
    "def filter_by_network_platform_country(df: pd.DataFrame, network: str, platform: str, country: str):\n",
    "    network_mask = df['network'] == network\n",
    "    platform_mask = df['platform'] == platform\n",
    "    country_mask = df['country'] == country\n",
    "    df_filtered = df[network_mask & platform_mask & country_mask]\n",
    "    df_filtered.sort_values('date')\n",
    "    return df_filtered"
   ]
  },
  {
   "cell_type": "code",
   "execution_count": null,
   "id": "10",
   "metadata": {},
   "outputs": [],
   "source": [
    "from sklearn.linear_model import LinearRegression, Ridge, ElasticNetCV\n",
    "from sklearn.metrics import r2_score, mean_squared_error\n",
    "import matplotlib.pyplot as plt\n",
    "import numpy as np\n",
    "\n",
    "def get_linear_regression_model(df: pd.DataFrame, x_cols: [str], y_col: str, plot_title: str):\n",
    "    # --- Split data\n",
    "    df.sort_values('date')\n",
    "    X, y = df[x_cols], df[[y_col]]\n",
    "    N = int(len(df) * 0.8)\n",
    "    X_train, X_test, y_train, y_test = X[:N], X[N:], y[:N], y[N:]\n",
    "\n",
    "    # --- train model\n",
    "    model = LinearRegression().fit(X_train, y_train)\n",
    "    # model = Ridge(alpha=1.0).fit(X_train, y_train)\n",
    "    # model = ElasticNetCV(cv=10).fit(X_train, y_train)\n",
    "\n",
    "    # --- predictions + model metrics (accuracy, precision, ...)\n",
    "    predictions = model.predict(X_test)\n",
    "    mse = mean_squared_error(predictions, y_test)\n",
    "    r2s = r2_score(predictions, y_test)\n",
    "    print(f\"MSE: {mse}; R2 score: {r2s}\")\n",
    "\n",
    "    # --- plot \n",
    "    df_test = df[N:]\n",
    "    df_test['predicted'] = np.array(predictions).flatten()\n",
    "    print(len(np.array(predictions).flatten()), df_test.shape[0])\n",
    "    fig, ax = plt.subplots(figsize=(6,6))\n",
    "    ax.plot(df_test['date'], df_test[y_col], label='true')\n",
    "    ax.plot(df_test['date'], df_test['predicted'], label='predicted')\n",
    "    ax.legend()\n",
    "    ax.set_title(plot_title)\n",
    "    # plt.show()\n",
    "\n",
    "    return model, mse, r2s, fig\n",
    "\n"
   ]
  },
  {
   "cell_type": "code",
   "execution_count": null,
   "id": "11",
   "metadata": {},
   "outputs": [],
   "source": [
    "# --- TODO: test \n",
    "network, platform, country = 'Facebook Ads', 'android', 'US'\n",
    "df_fb_android_us = filter_by_network_platform_country(df=df, \n",
    "    network=network, platform=platform, country=country)\n",
    "reg, mse, r2s, fig = get_linear_regression_model(df_fb_android_us, \n",
    "                                                 x_cols=x_cols, \n",
    "                                                 y_col='paid_prefinal', \n",
    "                                                plot_title=f\"{network} {platform} {country} paid_prefinal\")\n",
    "# reg = get_linear_regression_model(df_fb_android_us, x_cols=x_cols, y_col='paid_hauutm')"
   ]
  },
  {
   "cell_type": "code",
   "execution_count": null,
   "id": "12",
   "metadata": {},
   "outputs": [],
   "source": []
  },
  {
   "cell_type": "code",
   "execution_count": null,
   "id": "13",
   "metadata": {},
   "outputs": [],
   "source": []
  },
  {
   "cell_type": "code",
   "execution_count": null,
   "id": "14",
   "metadata": {},
   "outputs": [],
   "source": []
  },
  {
   "cell_type": "markdown",
   "id": "15",
   "metadata": {},
   "source": [
    "### Push model on MLFlow"
   ]
  },
  {
   "cell_type": "code",
   "execution_count": null,
   "id": "16",
   "metadata": {},
   "outputs": [],
   "source": [
    "platforms = ['android', 'ios']\n",
    "networks = [\n",
    "    \"Facebook Ads\", \"Apple Search Ads\", \"googleadwords_int\", \n",
    "    \"tiktokglobal_int\", \"snapchat_int\", \n",
    "    # \"tatari_linear\", \"tatari_streaming\", \"tatari_programmatic\"\n",
    "]\n",
    "countries = ['US']\n",
    "x_cols = ['impressions', 'clicks', 'installs', 'trials_prefinal', 'cost_cad']\n",
    "y_cols = ['paid_hauutm', 'paid_prefinal']"
   ]
  },
  {
   "cell_type": "code",
   "execution_count": null,
   "id": "17",
   "metadata": {},
   "outputs": [],
   "source": [
    "mlflow.set_tracking_uri(TRACKING_URI)\n",
    "\n",
    "# --- create exp if doesn't exist\n",
    "EXPERIMENT_NAME = \"Competing T2P\"\n",
    "if not mlflow.get_experiment_by_name(name=EXPERIMENT_NAME):\n",
    "    mlflow.create_experiment(name=EXPERIMENT_NAME)\n",
    "experiment = mlflow.get_experiment_by_name(EXPERIMENT_NAME)\n",
    "\n",
    "# --- train the model\n",
    "for network in networks:\n",
    "    for platform in platforms:\n",
    "        for country in countries:\n",
    "            for y_col in y_cols: \n",
    "                # model metadata\n",
    "                run_name = f\"{network}_{platform}_{country}_{y_col}_{datetime.now().strftime('%Y-%m-%d_%H:%M')}\"\n",
    "                tags = {\n",
    "                    'env': 'test',\n",
    "                    'data_date': datetime.now().strftime('%Y-%m-%d_%H:%M'),\n",
    "                    'model_type': \"LinearRegression\", \n",
    "                    'experiment_description': f\"T2P Linear Regression for (network-platform) pair on {y_col}\"\n",
    "                }\n",
    "\n",
    "                # split train-test\n",
    "    \n",
    "                # train model + get predictions error\n",
    "                dff = filter_by_network_platform_country(df=df, \n",
    "                    network=network, platform=platform, country=country)\n",
    "                reg, mse, r2s, fig = get_linear_regression_model(df_fb_android_us, \n",
    "                                                 x_cols=x_cols, \n",
    "                                                 y_col=y_col, \n",
    "                                                plot_title=f\"{network} {platform} {country} {y_col}\")\n",
    "    \n",
    "                # log to MLFlow\n",
    "                with mlflow.start_run(experiment_id=experiment.experiment_id, \n",
    "                                      run_name=run_name, tags=tags):\n",
    "                    # TODO: add signature\n",
    "                    # signature = infer_signature(X_train, predictions)\n",
    "                    mlflow.sklearn.log_model(reg, \"model\")\n",
    "                    \n",
    "                    mlflow.log_metric(\"mse\", mse)\n",
    "                    mlflow.log_metric(\"r2_score\", r2s)\n",
    "\n",
    "                    mlflow.log_figure(fig, f\"{y_col}_predictions.png\")\n",
    "                    \n",
    "                \n"
   ]
  },
  {
   "cell_type": "code",
   "execution_count": null,
   "id": "18",
   "metadata": {},
   "outputs": [],
   "source": []
  },
  {
   "cell_type": "code",
   "execution_count": null,
   "id": "19",
   "metadata": {},
   "outputs": [],
   "source": []
  },
  {
   "cell_type": "code",
   "execution_count": null,
   "id": "20",
   "metadata": {},
   "outputs": [],
   "source": []
  },
  {
   "cell_type": "code",
   "execution_count": null,
   "id": "21",
   "metadata": {},
   "outputs": [],
   "source": []
  },
  {
   "cell_type": "code",
   "execution_count": null,
   "id": "22",
   "metadata": {},
   "outputs": [],
   "source": []
  }
 ],
 "metadata": {
  "kernelspec": {
   "display_name": "Python 3 (ipykernel)",
   "language": "python",
   "name": "python3"
  },
  "language_info": {
   "codemirror_mode": {
    "name": "ipython",
    "version": 3
   },
   "file_extension": ".py",
   "mimetype": "text/x-python",
   "name": "python",
   "nbconvert_exporter": "python",
   "pygments_lexer": "ipython3",
   "version": "3.10.2"
  }
 },
 "nbformat": 4,
 "nbformat_minor": 5
}
