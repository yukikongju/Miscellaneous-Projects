{
 "cells": [
  {
   "cell_type": "markdown",
   "id": "4a740c3e-5462-4aaf-b161-bdc1db15c235",
   "metadata": {},
   "source": [
    "Improvements from First Try:\n",
    "- Look for leakage => no leakage found\n",
    "- Train with network\n",
    "- Evaluate if model is underfitting/overfitting => it's underfitting\n",
    "- Add additional features => polynomial, interaction effects, dimension reduction"
   ]
  },
  {
   "cell_type": "code",
   "execution_count": 1,
   "id": "3c3ffcd7-e5ba-4ccc-959e-5ca4b811405c",
   "metadata": {},
   "outputs": [],
   "source": [
    "import pandas as pd\n",
    "import numpy as np\n",
    "import matplotlib.pyplot as plt\n",
    "\n",
    "from sklearn.metrics import mean_squared_error"
   ]
  },
  {
   "cell_type": "code",
   "execution_count": 2,
   "id": "80befffe-b877-4a21-bdec-58e26eb651b2",
   "metadata": {},
   "outputs": [],
   "source": [
    "from datetime import datetime\n",
    "from mlflow.models import infer_signature"
   ]
  },
  {
   "cell_type": "code",
   "execution_count": 3,
   "id": "75d640ef-face-446a-ac3a-ff8b73c68b5f",
   "metadata": {},
   "outputs": [],
   "source": [
    "from dotenv import load_dotenv\n",
    "import os"
   ]
  },
  {
   "cell_type": "code",
   "execution_count": 4,
   "id": "4c3fff8a-a6af-4ab8-8623-f812f1f3279d",
   "metadata": {},
   "outputs": [],
   "source": [
    "load_dotenv()\n",
    "MLFLOW_URI = os.environ.get(\"MLFLOW_URI\")"
   ]
  },
  {
   "cell_type": "code",
   "execution_count": 5,
   "id": "9e52f17f-bb8d-46aa-baef-f9bae8b8b0f4",
   "metadata": {
    "scrolled": true
   },
   "outputs": [
    {
     "name": "stdout",
     "output_type": "stream",
     "text": [
      "mlflow                                   2.22.0\n",
      "mlflow-skinny                            2.22.0\n",
      "\u001b[33mWARNING: You are using pip version 21.2.4; however, version 25.1.1 is available.\n",
      "You should consider upgrading via the '/Library/Frameworks/Python.framework/Versions/3.10/bin/python3.10 -m pip install --upgrade pip' command.\u001b[0m\n",
      "pandas                                   1.3.4\n",
      "\u001b[33mWARNING: You are using pip version 21.2.4; however, version 25.1.1 is available.\n",
      "You should consider upgrading via the '/Library/Frameworks/Python.framework/Versions/3.10/bin/python3.10 -m pip install --upgrade pip' command.\u001b[0m\n",
      "scipy                                    1.10.0\n",
      "\u001b[33mWARNING: You are using pip version 21.2.4; however, version 25.1.1 is available.\n",
      "You should consider upgrading via the '/Library/Frameworks/Python.framework/Versions/3.10/bin/python3.10 -m pip install --upgrade pip' command.\u001b[0m\n",
      "numpy                                    1.23.3\n",
      "\u001b[33mWARNING: You are using pip version 21.2.4; however, version 25.1.1 is available.\n",
      "You should consider upgrading via the '/Library/Frameworks/Python.framework/Versions/3.10/bin/python3.10 -m pip install --upgrade pip' command.\u001b[0m\n",
      "statsmodels                              0.13.5\n",
      "\u001b[33mWARNING: You are using pip version 21.2.4; however, version 25.1.1 is available.\n",
      "You should consider upgrading via the '/Library/Frameworks/Python.framework/Versions/3.10/bin/python3.10 -m pip install --upgrade pip' command.\u001b[0m\n"
     ]
    }
   ],
   "source": [
    "!pip3 list | grep mlflow \n",
    "!pip3 list | grep pandas \n",
    "!pip3 list | grep scipy \n",
    "!pip3 list | grep numpy \n",
    "!pip3 list | grep statsmodels "
   ]
  },
  {
   "cell_type": "code",
   "execution_count": 6,
   "id": "ec3cd4d8-05bf-42aa-a34f-d528c8ba66d1",
   "metadata": {},
   "outputs": [],
   "source": [
    "import mlflow \n",
    "\n",
    "mlflow.set_tracking_uri(MLFLOW_URI)\n",
    "\n",
    "EXPERIMENT_NAME = \"T2P Ensemble\"\n",
    "if not mlflow.get_experiment_by_name(name=EXPERIMENT_NAME):\n",
    "    mlflow.create_experiment(name=EXPERIMENT_NAME)\n",
    "experiment = mlflow.get_experiment_by_name(EXPERIMENT_NAME)"
   ]
  },
  {
   "cell_type": "markdown",
   "id": "3ace10ca-7cdb-41ed-be40-248d79ef3e77",
   "metadata": {},
   "source": [
    "## Read Data"
   ]
  },
  {
   "cell_type": "code",
   "execution_count": 8,
   "id": "2e25f852-84ac-4910-9e6c-a2df7370137f",
   "metadata": {},
   "outputs": [],
   "source": [
    "df = pd.read_csv(\"/Users/emulie/Documents/poc/T2PArima/data/merged_20250804.csv\")"
   ]
  },
  {
   "cell_type": "markdown",
   "id": "47ccbf37-1add-49dc-a149-c9c703308323",
   "metadata": {},
   "source": [
    "## Cleaning Data"
   ]
  },
  {
   "cell_type": "code",
   "execution_count": 9,
   "id": "4e4c5563-e44a-4a28-b357-ae80c49134c9",
   "metadata": {},
   "outputs": [],
   "source": [
    "TRIAL_COL = 'trials_hauutm'\n",
    "PAID_COL = 'paid_hauutm'\n",
    "\n",
    "valid_country_mask = df['country'].apply(lambda x: isinstance(x, str))\n",
    "zero_country_mask = df['country'] == '0'\n",
    "valid_continent_mask = df['continent'].apply(lambda x: isinstance(x, str))\n",
    "valid_subcontinent_mask = df['sub_continent'].apply(lambda x: isinstance(x, str))\n",
    "\n",
    "df = df[valid_country_mask & ~zero_country_mask & valid_continent_mask & valid_subcontinent_mask]"
   ]
  },
  {
   "cell_type": "code",
   "execution_count": 10,
   "id": "a2154c66-0be6-476d-b75e-0886d62e4e65",
   "metadata": {},
   "outputs": [],
   "source": [
    "# --- minimum conversions required\n",
    "df['t2p'] = df[PAID_COL] / df[TRIAL_COL]\n",
    "\n",
    "min_cost_mask = df['cost_usd'] > 5.0\n",
    "min_paid_mask = df[PAID_COL] > 2.0\n",
    "min_trial_mask = df[TRIAL_COL] > 5.0\n",
    "min_t2p_mask = df['t2p'] > 0\n",
    "df_overall = df[min_cost_mask & min_paid_mask & min_trial_mask & min_t2p_mask]"
   ]
  },
  {
   "cell_type": "code",
   "execution_count": 22,
   "id": "bb1e5ec0-d256-46d2-a227-dba99b161df1",
   "metadata": {},
   "outputs": [
    {
     "name": "stderr",
     "output_type": "stream",
     "text": [
      "/var/folders/rq/6nv9m_7j7wnb5x_4cztrwm0h0000gp/T/ipykernel_92623/4183239120.py:15: SettingWithCopyWarning: \n",
      "A value is trying to be set on a copy of a slice from a DataFrame.\n",
      "Try using .loc[row_indexer,col_indexer] = value instead\n",
      "\n",
      "See the caveats in the documentation: https://pandas.pydata.org/pandas-docs/stable/user_guide/indexing.html#returning-a-view-versus-a-copy\n",
      "  df_overall['country_tier'] = df_overall['country'].apply(lambda x: country_tier_map[x] if x in country_tier_map else 'T4')\n"
     ]
    }
   ],
   "source": [
    "T1_countries = [\n",
    "    \"GU\", \"PR\", \"DK\", \"JE\", \"NO\", \"BE\", \"FR\", \"US\", \"IL\", \"GB\", \"UK\",\n",
    "    \"CA\", \"AU\", \"IE\", \"NL\", \"SE\", \"ES\", \"IT\", \"TW\", \"DE\", \"FI\",\n",
    "    \"NZ\", \"JP\", \"KR\", \"SG\", \"HK\"\n",
    "]\n",
    "T2_countries = [\n",
    "    \"ZA\", \"MT\", \"AE\", \"SA\", \"PL\", \"AT\", \"NO\", \"DK\", \"IS\", \"FI\"\n",
    "]\n",
    "T3_countries = [\n",
    "    \"IN\", \"PH\", \"MY\", \"NG\", \"TH\", \"VN\", \"EG\", \"MN\", \"RO\", \"HU\", \"RS\", \"TR\"\n",
    "]\n",
    "\n",
    "\n",
    "country_tier_map = {country: 'T1' for country in T1_countries} | {country: 'T2' for country in T2_countries} | {country: 'T3' for country in T3_countries}\n",
    "df_overall['country_tier'] = df_overall['country'].apply(lambda x: country_tier_map[x] if x in country_tier_map else 'T4')"
   ]
  },
  {
   "cell_type": "markdown",
   "id": "ae8ce0e5-baf8-4515-a5c3-b538e53c3e1e",
   "metadata": {},
   "source": [
    "## Feature Encoding"
   ]
  },
  {
   "cell_type": "code",
   "execution_count": 23,
   "id": "e896dfed-8d31-4cad-89a7-8cb7ee9d7323",
   "metadata": {},
   "outputs": [],
   "source": [
    "# # --- encode categorical columns\n",
    "# from sklearn.preprocessing import LabelEncoder\n",
    "# import joblib\n",
    "\n",
    "# run_name = f\"LABEL_ENCODER_{SEGMENTATION}_{datetime.now().strftime('%Y-%m-%d_%H:%M')}\"\n",
    "# experiment_tags = {\n",
    "#     \"project_name\": EXPERIMENT_NAME, \n",
    "#     \"date\": datetime.now().strftime('%Y-%m-%d %H:%M:%S'), # need to be a string\n",
    "#     \"model\": \"Label Encoder\", \n",
    "#     \"mlflow.note.content\": experiment_description,\n",
    "# }\n",
    "\n",
    "\n",
    "# with mlflow.start_run(experiment_id=experiment.experiment_id, \n",
    "#                                       run_name=run_name, tags=experiment_tags):\n",
    "#     for col in ['network', 'platform', 'country', 'continent', 'sub_continent', 'country_tier']:\n",
    "#         le = LabelEncoder()\n",
    "#         df_overall[f'{col}_encoded'] = le.fit_transform(df_overall[col])\n",
    "#         label_encoder_path = f\"labelencoder_{col}.pkl\"\n",
    "#         joblib.dump(le, label_encoder_path)\n",
    "#         mlflow.log_artifact(label_encoder_path)"
   ]
  },
  {
   "cell_type": "code",
   "execution_count": 24,
   "id": "88f0fd35-3320-4818-a978-a324acb8a369",
   "metadata": {},
   "outputs": [
    {
     "data": {
      "text/plain": [
       "array(['Apple Search Ads', 'Facebook Ads', 'googleadwords_int',\n",
       "       'tiktokglobal_int', 'tatari_streaming', 'snapchat_int'],\n",
       "      dtype=object)"
      ]
     },
     "execution_count": 24,
     "metadata": {},
     "output_type": "execute_result"
    }
   ],
   "source": [
    "df_overall['network'].unique()"
   ]
  },
  {
   "cell_type": "code",
   "execution_count": 25,
   "id": "1d4fea33-a23e-41a4-9b05-386326da5e75",
   "metadata": {},
   "outputs": [],
   "source": [
    "network_map = {\n",
    "    'Apple Search Ads': 0, \n",
    "    'Facebook Ads': 1, \n",
    "    'googleadwords_int': 2, \n",
    "    'tiktokglobal_int': 3, \n",
    "    'tatari_streaming': 4, \n",
    "    'snapchat_int': 5,\n",
    "    'other': 6,\n",
    "}\n",
    "\n",
    "platform_map = {\n",
    "    'android': 0, \n",
    "    'ios': 1, \n",
    "    'web': 2\n",
    "}\n",
    "\n",
    "country_tier_map = {\n",
    "    'T1': 0, \n",
    "    'T2': 1, \n",
    "    'T3': 2, \n",
    "    'T4': 3\n",
    "}"
   ]
  },
  {
   "cell_type": "code",
   "execution_count": 27,
   "id": "ad4be522-c937-4040-bfa4-32f52624b1ac",
   "metadata": {},
   "outputs": [],
   "source": [
    "df_encoded = df_overall.copy()\n",
    "df_encoded['network'] = df_encoded['network'].apply(lambda x: network_map[x])\n",
    "df_encoded['platform'] = df_encoded['platform'].apply(lambda x: platform_map[x])\n",
    "df_encoded['country_tier'] = df_encoded['country_tier'].apply(lambda x: country_tier_map[x])"
   ]
  },
  {
   "cell_type": "code",
   "execution_count": 28,
   "id": "01113f89-4dc2-42ac-b8eb-d146c167b545",
   "metadata": {},
   "outputs": [
    {
     "data": {
      "text/html": [
       "<div>\n",
       "<style scoped>\n",
       "    .dataframe tbody tr th:only-of-type {\n",
       "        vertical-align: middle;\n",
       "    }\n",
       "\n",
       "    .dataframe tbody tr th {\n",
       "        vertical-align: top;\n",
       "    }\n",
       "\n",
       "    .dataframe thead th {\n",
       "        text-align: right;\n",
       "    }\n",
       "</style>\n",
       "<table border=\"1\" class=\"dataframe\">\n",
       "  <thead>\n",
       "    <tr style=\"text-align: right;\">\n",
       "      <th></th>\n",
       "      <th>date</th>\n",
       "      <th>network</th>\n",
       "      <th>platform</th>\n",
       "      <th>country</th>\n",
       "      <th>cost_cad</th>\n",
       "      <th>cost_usd</th>\n",
       "      <th>clicks</th>\n",
       "      <th>impressions</th>\n",
       "      <th>installs</th>\n",
       "      <th>trials_prefinal</th>\n",
       "      <th>...</th>\n",
       "      <th>trials_hauutm</th>\n",
       "      <th>paid_hauutm</th>\n",
       "      <th>revenue</th>\n",
       "      <th>refund</th>\n",
       "      <th>refunded_amount</th>\n",
       "      <th>is_holiday</th>\n",
       "      <th>week_of_year</th>\n",
       "      <th>day_of_week</th>\n",
       "      <th>t2p</th>\n",
       "      <th>country_tier</th>\n",
       "    </tr>\n",
       "  </thead>\n",
       "  <tbody>\n",
       "    <tr>\n",
       "      <th>7</th>\n",
       "      <td>2023-01-01</td>\n",
       "      <td>0</td>\n",
       "      <td>1</td>\n",
       "      <td>US</td>\n",
       "      <td>14.775428</td>\n",
       "      <td>10.9084</td>\n",
       "      <td>17.0</td>\n",
       "      <td>4134.0</td>\n",
       "      <td>68.0</td>\n",
       "      <td>7.0</td>\n",
       "      <td>...</td>\n",
       "      <td>177.0</td>\n",
       "      <td>73.0</td>\n",
       "      <td>2666.489000</td>\n",
       "      <td>6.0</td>\n",
       "      <td>-230.9580</td>\n",
       "      <td>True</td>\n",
       "      <td>52</td>\n",
       "      <td>7</td>\n",
       "      <td>0.412429</td>\n",
       "      <td>0</td>\n",
       "    </tr>\n",
       "    <tr>\n",
       "      <th>306</th>\n",
       "      <td>2023-01-01</td>\n",
       "      <td>1</td>\n",
       "      <td>0</td>\n",
       "      <td>DE</td>\n",
       "      <td>295.725005</td>\n",
       "      <td>218.3278</td>\n",
       "      <td>516.0</td>\n",
       "      <td>77445.0</td>\n",
       "      <td>155.0</td>\n",
       "      <td>11.0</td>\n",
       "      <td>...</td>\n",
       "      <td>20.0</td>\n",
       "      <td>6.0</td>\n",
       "      <td>232.686699</td>\n",
       "      <td>0.0</td>\n",
       "      <td>0.0000</td>\n",
       "      <td>True</td>\n",
       "      <td>52</td>\n",
       "      <td>7</td>\n",
       "      <td>0.300000</td>\n",
       "      <td>0</td>\n",
       "    </tr>\n",
       "    <tr>\n",
       "      <th>337</th>\n",
       "      <td>2023-01-01</td>\n",
       "      <td>1</td>\n",
       "      <td>0</td>\n",
       "      <td>UK</td>\n",
       "      <td>1279.944256</td>\n",
       "      <td>944.9570</td>\n",
       "      <td>1547.0</td>\n",
       "      <td>256323.0</td>\n",
       "      <td>376.0</td>\n",
       "      <td>30.0</td>\n",
       "      <td>...</td>\n",
       "      <td>54.0</td>\n",
       "      <td>13.0</td>\n",
       "      <td>719.587120</td>\n",
       "      <td>0.0</td>\n",
       "      <td>0.0000</td>\n",
       "      <td>True</td>\n",
       "      <td>52</td>\n",
       "      <td>7</td>\n",
       "      <td>0.240741</td>\n",
       "      <td>0</td>\n",
       "    </tr>\n",
       "    <tr>\n",
       "      <th>338</th>\n",
       "      <td>2023-01-01</td>\n",
       "      <td>1</td>\n",
       "      <td>0</td>\n",
       "      <td>US</td>\n",
       "      <td>3170.896420</td>\n",
       "      <td>2341.0088</td>\n",
       "      <td>1882.0</td>\n",
       "      <td>312940.0</td>\n",
       "      <td>86.0</td>\n",
       "      <td>8.0</td>\n",
       "      <td>...</td>\n",
       "      <td>78.0</td>\n",
       "      <td>23.0</td>\n",
       "      <td>722.304500</td>\n",
       "      <td>1.0</td>\n",
       "      <td>-50.9915</td>\n",
       "      <td>True</td>\n",
       "      <td>52</td>\n",
       "      <td>7</td>\n",
       "      <td>0.294872</td>\n",
       "      <td>0</td>\n",
       "    </tr>\n",
       "    <tr>\n",
       "      <th>362</th>\n",
       "      <td>2023-01-01</td>\n",
       "      <td>1</td>\n",
       "      <td>1</td>\n",
       "      <td>US</td>\n",
       "      <td>6608.950220</td>\n",
       "      <td>4879.2545</td>\n",
       "      <td>21845.0</td>\n",
       "      <td>1822490.0</td>\n",
       "      <td>2435.0</td>\n",
       "      <td>472.0</td>\n",
       "      <td>...</td>\n",
       "      <td>370.0</td>\n",
       "      <td>194.0</td>\n",
       "      <td>6737.512989</td>\n",
       "      <td>16.0</td>\n",
       "      <td>-601.8880</td>\n",
       "      <td>True</td>\n",
       "      <td>52</td>\n",
       "      <td>7</td>\n",
       "      <td>0.524324</td>\n",
       "      <td>0</td>\n",
       "    </tr>\n",
       "  </tbody>\n",
       "</table>\n",
       "<p>5 rows × 25 columns</p>\n",
       "</div>"
      ],
      "text/plain": [
       "           date  network  platform country     cost_cad   cost_usd   clicks  \\\n",
       "7    2023-01-01        0         1      US    14.775428    10.9084     17.0   \n",
       "306  2023-01-01        1         0      DE   295.725005   218.3278    516.0   \n",
       "337  2023-01-01        1         0      UK  1279.944256   944.9570   1547.0   \n",
       "338  2023-01-01        1         0      US  3170.896420  2341.0088   1882.0   \n",
       "362  2023-01-01        1         1      US  6608.950220  4879.2545  21845.0   \n",
       "\n",
       "     impressions  installs  trials_prefinal  ...  trials_hauutm  paid_hauutm  \\\n",
       "7         4134.0      68.0              7.0  ...          177.0         73.0   \n",
       "306      77445.0     155.0             11.0  ...           20.0          6.0   \n",
       "337     256323.0     376.0             30.0  ...           54.0         13.0   \n",
       "338     312940.0      86.0              8.0  ...           78.0         23.0   \n",
       "362    1822490.0    2435.0            472.0  ...          370.0        194.0   \n",
       "\n",
       "         revenue refund refunded_amount  is_holiday  week_of_year  \\\n",
       "7    2666.489000    6.0       -230.9580        True            52   \n",
       "306   232.686699    0.0          0.0000        True            52   \n",
       "337   719.587120    0.0          0.0000        True            52   \n",
       "338   722.304500    1.0        -50.9915        True            52   \n",
       "362  6737.512989   16.0       -601.8880        True            52   \n",
       "\n",
       "     day_of_week       t2p  country_tier  \n",
       "7              7  0.412429             0  \n",
       "306            7  0.300000             0  \n",
       "337            7  0.240741             0  \n",
       "338            7  0.294872             0  \n",
       "362            7  0.524324             0  \n",
       "\n",
       "[5 rows x 25 columns]"
      ]
     },
     "execution_count": 28,
     "metadata": {},
     "output_type": "execute_result"
    }
   ],
   "source": [
    "df_encoded.head()"
   ]
  },
  {
   "cell_type": "markdown",
   "id": "dc3b328f-ca5c-43e4-89fb-8c94cdcf3837",
   "metadata": {},
   "source": [
    "## Training - "
   ]
  },
  {
   "cell_type": "code",
   "execution_count": 37,
   "id": "81197bf0-9a51-4e6e-8b01-64e0708c723e",
   "metadata": {},
   "outputs": [],
   "source": [
    "dff = df_encoded.copy()"
   ]
  },
  {
   "cell_type": "markdown",
   "id": "c5c430e6-08b1-4958-90d7-2e8943449ff1",
   "metadata": {},
   "source": [
    "### 1. GLM"
   ]
  },
  {
   "cell_type": "markdown",
   "id": "d563d644-c70c-4e14-afb4-ea49af1e4d69",
   "metadata": {},
   "source": [
    "#### Transform"
   ]
  },
  {
   "cell_type": "code",
   "execution_count": 38,
   "id": "32733b71-c72e-4463-86bc-04150aae5203",
   "metadata": {},
   "outputs": [],
   "source": [
    "X_cols = ['network', 'platform', 'week_of_year', 'day_of_week', 'cost_usd']\n",
    "\n",
    "TRIAL_COL = 'trials_hauutm'\n",
    "PAID_COL = 'paid_hauutm'\n",
    "\n",
    "formula_t2p = f\"t2p ~ {' + '.join(X_cols)}\"\n",
    "cols_to_log_transform = ['cost_usd']"
   ]
  },
  {
   "cell_type": "code",
   "execution_count": 39,
   "id": "f898fcaf-92b5-4c3f-9f9a-2def62f53606",
   "metadata": {},
   "outputs": [
    {
     "data": {
      "text/plain": [
       "'t2p ~ network + platform + week_of_year + day_of_week + cost_usd'"
      ]
     },
     "execution_count": 39,
     "metadata": {},
     "output_type": "execute_result"
    }
   ],
   "source": [
    "formula_t2p"
   ]
  },
  {
   "cell_type": "code",
   "execution_count": 40,
   "id": "1e0f2a64-be3f-46bb-9d10-3a077b544ca0",
   "metadata": {},
   "outputs": [
    {
     "name": "stderr",
     "output_type": "stream",
     "text": [
      "/var/folders/rq/6nv9m_7j7wnb5x_4cztrwm0h0000gp/T/ipykernel_92623/4081549504.py:4: SettingWithCopyWarning: \n",
      "A value is trying to be set on a copy of a slice from a DataFrame.\n",
      "Try using .loc[row_indexer,col_indexer] = value instead\n",
      "\n",
      "See the caveats in the documentation: https://pandas.pydata.org/pandas-docs/stable/user_guide/indexing.html#returning-a-view-versus-a-copy\n",
      "  X[col] = np.log(X[col])\n"
     ]
    }
   ],
   "source": [
    "X, y_trial, y_paid, y_t2p = dff[X_cols], dff[TRIAL_COL], dff[PAID_COL], dff['t2p']\n",
    "\n",
    "for col in cols_to_log_transform:\n",
    "    X[col] = np.log(X[col])\n",
    "\n",
    "N = int(len(dff) * 0.8)\n",
    "X_train, X_test, y_trial_train, y_trial_test, y_paid_train, y_paid_test = X[:N], X[N:], y_trial[:N], y_trial[N:], y_paid[:N], y_paid[N:]\n",
    "y_t2p_train, y_t2p_test = y_t2p[:N], y_t2p[N:]"
   ]
  },
  {
   "cell_type": "code",
   "execution_count": null,
   "id": "cf3b9111-f8dd-4bbc-9fb3-8cb8d1091bed",
   "metadata": {},
   "outputs": [],
   "source": []
  },
  {
   "cell_type": "markdown",
   "id": "b1d85cc3-ee7a-40f5-af6a-5686de437c57",
   "metadata": {},
   "source": [
    "#### Model"
   ]
  },
  {
   "cell_type": "code",
   "execution_count": 48,
   "id": "69b685c8-3998-4b68-a24c-53a70ec0b7e0",
   "metadata": {},
   "outputs": [],
   "source": [
    "import statsmodels.api as sm\n",
    "\n",
    "model_t2p = sm.GLM(y_t2p_train, X_train, formula=formula_t2p, family=sm.families.Poisson()).fit()\n",
    "glm_predicted = model_t2p.predict(X_test)"
   ]
  },
  {
   "cell_type": "code",
   "execution_count": 49,
   "id": "78c3ce60-585b-4b83-b63e-567c75ce2ff3",
   "metadata": {},
   "outputs": [
    {
     "name": "stdout",
     "output_type": "stream",
     "text": [
      "0.017731860001266107\n"
     ]
    }
   ],
   "source": [
    "mse_glm_t2p = mean_squared_error(glm_predicted, y_t2p_test)\n",
    "print(mse_glm_t2p)"
   ]
  },
  {
   "cell_type": "code",
   "execution_count": 58,
   "id": "943f9309-58b9-49ba-bb68-1e7e658d722e",
   "metadata": {},
   "outputs": [],
   "source": [
    "glm_relative_errors = [abs(pred - actual)/actual for pred, actual in zip(glm_predicted, y_t2p_test)]"
   ]
  },
  {
   "cell_type": "code",
   "execution_count": 59,
   "id": "86e98bd5-a47c-4ccc-8870-a893fbea8df2",
   "metadata": {},
   "outputs": [
    {
     "data": {
      "text/plain": [
       "0.42457746189508927"
      ]
     },
     "execution_count": 59,
     "metadata": {},
     "output_type": "execute_result"
    }
   ],
   "source": [
    "np.mean(glm_relative_errors)"
   ]
  },
  {
   "cell_type": "code",
   "execution_count": null,
   "id": "8966c50f-5094-4195-82cc-c95b69ca4732",
   "metadata": {},
   "outputs": [],
   "source": []
  },
  {
   "cell_type": "markdown",
   "id": "18e8ab22-7b4c-47d5-8eac-0205abcc6824",
   "metadata": {},
   "source": [
    "### 2. XGB"
   ]
  },
  {
   "cell_type": "markdown",
   "id": "7c08df72-2a91-4dfc-9ded-0430feb83cb5",
   "metadata": {},
   "source": [
    "#### Transform"
   ]
  },
  {
   "cell_type": "code",
   "execution_count": 141,
   "id": "fcdff741-b7da-4a86-86de-6aef70fcb4dc",
   "metadata": {},
   "outputs": [],
   "source": [
    "X_cols = ['network', 'platform', 'week_of_year', 'day_of_week', 'cost_usd', 'impressions', 'clicks', 'installs']\n",
    "TRIAL_COL = 'trials_hauutm'\n",
    "PAID_COL = 'paid_hauutm'"
   ]
  },
  {
   "cell_type": "code",
   "execution_count": 142,
   "id": "93c134aa-f960-4d22-b548-6bcf12e45145",
   "metadata": {},
   "outputs": [],
   "source": [
    "X, y_trial, y_paid, y_t2p = dff[X_cols], dff[TRIAL_COL], dff[PAID_COL], dff['t2p']\n",
    "\n",
    "# N = int(len(dff) * 0.8)\n",
    "# X_train, X_test, y_trial_train, y_trial_test, y_paid_train, y_paid_test = X[:N], X[N:], y_trial[:N], y_trial[N:], y_paid[:N], y_paid[N:]\n",
    "# y_t2p_train, y_t2p_test = y_t2p[:N], y_t2p[N:]"
   ]
  },
  {
   "cell_type": "code",
   "execution_count": null,
   "id": "35410365-cd55-48f8-a77c-b5bc18cbf432",
   "metadata": {},
   "outputs": [],
   "source": []
  },
  {
   "cell_type": "code",
   "execution_count": null,
   "id": "10695d66-ae47-4855-b1b5-536c0bba7f51",
   "metadata": {},
   "outputs": [],
   "source": []
  },
  {
   "cell_type": "markdown",
   "id": "da49e029-f454-4f64-9ada-49041ae89937",
   "metadata": {},
   "source": [
    "#### Model"
   ]
  },
  {
   "cell_type": "code",
   "execution_count": 143,
   "id": "031d09f1-2d66-49e5-9c44-a57a89349c8d",
   "metadata": {},
   "outputs": [],
   "source": [
    "from sklearn.ensemble import GradientBoostingRegressor\n",
    "from sklearn.model_selection import RandomizedSearchCV\n",
    "from scipy.stats import randint, uniform\n",
    "\n",
    "# params = {\n",
    "#     \"n_estimators\": 200,\n",
    "#     \"max_depth\": 4,\n",
    "#     \"min_samples_split\": 5,\n",
    "#     \"learning_rate\": 0.05,\n",
    "#     \"loss\": \"squared_error\",\n",
    "# }\n",
    "\n",
    "param_dist = {\n",
    "    \"n_estimators\": randint(50, 300),\n",
    "    \"max_depth\": randint(2, 8),\n",
    "    \"min_samples_split\": randint(2, 10),\n",
    "    \"learning_rate\": uniform(0.005, 0.1),\n",
    "    \"loss\": [\"squared_error\", \"absolute_error\"],\n",
    "}\n",
    "xgb_t2p = GradientBoostingRegressor(random_state=42)\n"
   ]
  },
  {
   "cell_type": "code",
   "execution_count": 144,
   "id": "06626032-9c74-455a-9853-9c5f8786e197",
   "metadata": {},
   "outputs": [
    {
     "name": "stdout",
     "output_type": "stream",
     "text": [
      "Fitting 5 folds for each of 20 candidates, totalling 100 fits\n"
     ]
    },
    {
     "data": {
      "text/html": [
       "<style>#sk-container-id-7 {color: black;background-color: white;}#sk-container-id-7 pre{padding: 0;}#sk-container-id-7 div.sk-toggleable {background-color: white;}#sk-container-id-7 label.sk-toggleable__label {cursor: pointer;display: block;width: 100%;margin-bottom: 0;padding: 0.3em;box-sizing: border-box;text-align: center;}#sk-container-id-7 label.sk-toggleable__label-arrow:before {content: \"▸\";float: left;margin-right: 0.25em;color: #696969;}#sk-container-id-7 label.sk-toggleable__label-arrow:hover:before {color: black;}#sk-container-id-7 div.sk-estimator:hover label.sk-toggleable__label-arrow:before {color: black;}#sk-container-id-7 div.sk-toggleable__content {max-height: 0;max-width: 0;overflow: hidden;text-align: left;background-color: #f0f8ff;}#sk-container-id-7 div.sk-toggleable__content pre {margin: 0.2em;color: black;border-radius: 0.25em;background-color: #f0f8ff;}#sk-container-id-7 input.sk-toggleable__control:checked~div.sk-toggleable__content {max-height: 200px;max-width: 100%;overflow: auto;}#sk-container-id-7 input.sk-toggleable__control:checked~label.sk-toggleable__label-arrow:before {content: \"▾\";}#sk-container-id-7 div.sk-estimator input.sk-toggleable__control:checked~label.sk-toggleable__label {background-color: #d4ebff;}#sk-container-id-7 div.sk-label input.sk-toggleable__control:checked~label.sk-toggleable__label {background-color: #d4ebff;}#sk-container-id-7 input.sk-hidden--visually {border: 0;clip: rect(1px 1px 1px 1px);clip: rect(1px, 1px, 1px, 1px);height: 1px;margin: -1px;overflow: hidden;padding: 0;position: absolute;width: 1px;}#sk-container-id-7 div.sk-estimator {font-family: monospace;background-color: #f0f8ff;border: 1px dotted black;border-radius: 0.25em;box-sizing: border-box;margin-bottom: 0.5em;}#sk-container-id-7 div.sk-estimator:hover {background-color: #d4ebff;}#sk-container-id-7 div.sk-parallel-item::after {content: \"\";width: 100%;border-bottom: 1px solid gray;flex-grow: 1;}#sk-container-id-7 div.sk-label:hover label.sk-toggleable__label {background-color: #d4ebff;}#sk-container-id-7 div.sk-serial::before {content: \"\";position: absolute;border-left: 1px solid gray;box-sizing: border-box;top: 0;bottom: 0;left: 50%;z-index: 0;}#sk-container-id-7 div.sk-serial {display: flex;flex-direction: column;align-items: center;background-color: white;padding-right: 0.2em;padding-left: 0.2em;position: relative;}#sk-container-id-7 div.sk-item {position: relative;z-index: 1;}#sk-container-id-7 div.sk-parallel {display: flex;align-items: stretch;justify-content: center;background-color: white;position: relative;}#sk-container-id-7 div.sk-item::before, #sk-container-id-7 div.sk-parallel-item::before {content: \"\";position: absolute;border-left: 1px solid gray;box-sizing: border-box;top: 0;bottom: 0;left: 50%;z-index: -1;}#sk-container-id-7 div.sk-parallel-item {display: flex;flex-direction: column;z-index: 1;position: relative;background-color: white;}#sk-container-id-7 div.sk-parallel-item:first-child::after {align-self: flex-end;width: 50%;}#sk-container-id-7 div.sk-parallel-item:last-child::after {align-self: flex-start;width: 50%;}#sk-container-id-7 div.sk-parallel-item:only-child::after {width: 0;}#sk-container-id-7 div.sk-dashed-wrapped {border: 1px dashed gray;margin: 0 0.4em 0.5em 0.4em;box-sizing: border-box;padding-bottom: 0.4em;background-color: white;}#sk-container-id-7 div.sk-label label {font-family: monospace;font-weight: bold;display: inline-block;line-height: 1.2em;}#sk-container-id-7 div.sk-label-container {text-align: center;}#sk-container-id-7 div.sk-container {/* jupyter's `normalize.less` sets `[hidden] { display: none; }` but bootstrap.min.css set `[hidden] { display: none !important; }` so we also need the `!important` here to be able to override the default hidden behavior on the sphinx rendered scikit-learn.org. See: https://github.com/scikit-learn/scikit-learn/issues/21755 */display: inline-block !important;position: relative;}#sk-container-id-7 div.sk-text-repr-fallback {display: none;}</style><div id=\"sk-container-id-7\" class=\"sk-top-container\"><div class=\"sk-text-repr-fallback\"><pre>RandomizedSearchCV(cv=KFold(n_splits=5, random_state=420, shuffle=True),\n",
       "                   estimator=GradientBoostingRegressor(random_state=42),\n",
       "                   n_iter=20, n_jobs=-1,\n",
       "                   param_distributions={&#x27;learning_rate&#x27;: &lt;scipy.stats._distn_infrastructure.rv_continuous_frozen object at 0x16a975c30&gt;,\n",
       "                                        &#x27;loss&#x27;: [&#x27;squared_error&#x27;,\n",
       "                                                 &#x27;absolute_error&#x27;],\n",
       "                                        &#x27;max_depth&#x27;: &lt;scipy.stats._distn_infrastructure.rv_discrete_frozen object at 0x16a976380&gt;,\n",
       "                                        &#x27;min_samples_split&#x27;: &lt;scipy.stats._distn_infrastructure.rv_discrete_frozen object at 0x16a976830&gt;,\n",
       "                                        &#x27;n_estimators&#x27;: &lt;scipy.stats._distn_infrastructure.rv_discrete_frozen object at 0x16a857850&gt;},\n",
       "                   random_state=42, scoring=&#x27;neg_mean_squared_error&#x27;,\n",
       "                   verbose=1)</pre><b>In a Jupyter environment, please rerun this cell to show the HTML representation or trust the notebook. <br />On GitHub, the HTML representation is unable to render, please try loading this page with nbviewer.org.</b></div><div class=\"sk-container\" hidden><div class=\"sk-item sk-dashed-wrapped\"><div class=\"sk-label-container\"><div class=\"sk-label sk-toggleable\"><input class=\"sk-toggleable__control sk-hidden--visually\" id=\"sk-estimator-id-13\" type=\"checkbox\" ><label for=\"sk-estimator-id-13\" class=\"sk-toggleable__label sk-toggleable__label-arrow\">RandomizedSearchCV</label><div class=\"sk-toggleable__content\"><pre>RandomizedSearchCV(cv=KFold(n_splits=5, random_state=420, shuffle=True),\n",
       "                   estimator=GradientBoostingRegressor(random_state=42),\n",
       "                   n_iter=20, n_jobs=-1,\n",
       "                   param_distributions={&#x27;learning_rate&#x27;: &lt;scipy.stats._distn_infrastructure.rv_continuous_frozen object at 0x16a975c30&gt;,\n",
       "                                        &#x27;loss&#x27;: [&#x27;squared_error&#x27;,\n",
       "                                                 &#x27;absolute_error&#x27;],\n",
       "                                        &#x27;max_depth&#x27;: &lt;scipy.stats._distn_infrastructure.rv_discrete_frozen object at 0x16a976380&gt;,\n",
       "                                        &#x27;min_samples_split&#x27;: &lt;scipy.stats._distn_infrastructure.rv_discrete_frozen object at 0x16a976830&gt;,\n",
       "                                        &#x27;n_estimators&#x27;: &lt;scipy.stats._distn_infrastructure.rv_discrete_frozen object at 0x16a857850&gt;},\n",
       "                   random_state=42, scoring=&#x27;neg_mean_squared_error&#x27;,\n",
       "                   verbose=1)</pre></div></div></div><div class=\"sk-parallel\"><div class=\"sk-parallel-item\"><div class=\"sk-item\"><div class=\"sk-label-container\"><div class=\"sk-label sk-toggleable\"><input class=\"sk-toggleable__control sk-hidden--visually\" id=\"sk-estimator-id-14\" type=\"checkbox\" ><label for=\"sk-estimator-id-14\" class=\"sk-toggleable__label sk-toggleable__label-arrow\">estimator: GradientBoostingRegressor</label><div class=\"sk-toggleable__content\"><pre>GradientBoostingRegressor(random_state=42)</pre></div></div></div><div class=\"sk-serial\"><div class=\"sk-item\"><div class=\"sk-estimator sk-toggleable\"><input class=\"sk-toggleable__control sk-hidden--visually\" id=\"sk-estimator-id-15\" type=\"checkbox\" ><label for=\"sk-estimator-id-15\" class=\"sk-toggleable__label sk-toggleable__label-arrow\">GradientBoostingRegressor</label><div class=\"sk-toggleable__content\"><pre>GradientBoostingRegressor(random_state=42)</pre></div></div></div></div></div></div></div></div></div></div>"
      ],
      "text/plain": [
       "RandomizedSearchCV(cv=KFold(n_splits=5, random_state=420, shuffle=True),\n",
       "                   estimator=GradientBoostingRegressor(random_state=42),\n",
       "                   n_iter=20, n_jobs=-1,\n",
       "                   param_distributions={'learning_rate': <scipy.stats._distn_infrastructure.rv_continuous_frozen object at 0x16a975c30>,\n",
       "                                        'loss': ['squared_error',\n",
       "                                                 'absolute_error'],\n",
       "                                        'max_depth': <scipy.stats._distn_infrastructure.rv_discrete_frozen object at 0x16a976380>,\n",
       "                                        'min_samples_split': <scipy.stats._distn_infrastructure.rv_discrete_frozen object at 0x16a976830>,\n",
       "                                        'n_estimators': <scipy.stats._distn_infrastructure.rv_discrete_frozen object at 0x16a857850>},\n",
       "                   random_state=42, scoring='neg_mean_squared_error',\n",
       "                   verbose=1)"
      ]
     },
     "execution_count": 144,
     "metadata": {},
     "output_type": "execute_result"
    }
   ],
   "source": [
    "random_search = RandomizedSearchCV(\n",
    "    xgb_t2p,\n",
    "    param_distributions=param_dist,\n",
    "    n_iter=20,\n",
    "    scoring=\"neg_mean_squared_error\",\n",
    "    cv=skf,\n",
    "    verbose=1,\n",
    "    random_state=42,\n",
    "    n_jobs=-1,\n",
    ")\n",
    "\n",
    "random_search.fit(X, y_t2p)"
   ]
  },
  {
   "cell_type": "code",
   "execution_count": 145,
   "id": "23e94e53-2281-4ba1-a8e4-c81daebf3cf1",
   "metadata": {
    "scrolled": true
   },
   "outputs": [
    {
     "name": "stdout",
     "output_type": "stream",
     "text": [
      "Best parameters: {'learning_rate': 0.05092488919658671, 'loss': 'squared_error', 'max_depth': 5, 'min_samples_split': 9, 'n_estimators': 201}\n"
     ]
    }
   ],
   "source": [
    "xgb_best_model = random_search.best_estimator_\n",
    "print(\"Best parameters:\", random_search.best_params_)"
   ]
  },
  {
   "cell_type": "code",
   "execution_count": 146,
   "id": "4496f69c-0129-4ec6-988b-6eb3725de118",
   "metadata": {},
   "outputs": [],
   "source": [
    "from sklearn.model_selection import KFold\n",
    "\n",
    "n_splits = 5\n",
    "skf = KFold(n_splits=n_splits, shuffle=True, random_state=420)"
   ]
  },
  {
   "cell_type": "code",
   "execution_count": 147,
   "id": "d494569a-1f86-49ed-8398-4f8ccbb3f9f5",
   "metadata": {},
   "outputs": [
    {
     "name": "stdout",
     "output_type": "stream",
     "text": [
      "---- Fold 0 ----\n",
      "MSE: 0.013004506060438046; Relative Error: 0.3420953895539513\n",
      "\n",
      "---- Fold 1 ----\n",
      "MSE: 0.01334213424127205; Relative Error: 0.31120264046052365\n",
      "\n",
      "---- Fold 2 ----\n",
      "MSE: 0.013992439476378623; Relative Error: 0.3383812371573845\n",
      "\n",
      "---- Fold 3 ----\n",
      "MSE: 0.01350726401617012; Relative Error: 0.32829631039851365\n",
      "\n",
      "---- Fold 4 ----\n",
      "MSE: 0.012536254617171134; Relative Error: 0.3380013381834185\n",
      "\n"
     ]
    }
   ],
   "source": [
    "from sklearn.metrics import mean_squared_error\n",
    "import numpy as np\n",
    "\n",
    "# Evaluate best XGBoost model with cross-validation\n",
    "for i, (train_index, test_index) in enumerate(skf.split(X, y_t2p)):\n",
    "    X_train, X_test = X.iloc[train_index], X.iloc[test_index]\n",
    "    y_train, y_test = y_t2p.iloc[train_index], y_t2p.iloc[test_index]\n",
    "\n",
    "    # Train model\n",
    "    xgb_best_model.fit(X_train, y_train)\n",
    "\n",
    "    # Predict\n",
    "    y_pred_train = xgb_best_model.predict(X_train)\n",
    "    y_pred_test = xgb_best_model.predict(X_test)\n",
    "\n",
    "    # Compute metrics\n",
    "    xgb_mse_train = mean_squared_error(y_train, y_pred_train)\n",
    "    xgb_mse_test = mean_squared_error(y_test, y_pred_test)\n",
    "\n",
    "    xgb_rel_error_train = np.mean(np.abs(y_pred_train - y_train) / y_train)\n",
    "    xgb_rel_error_test = np.mean(np.abs(y_pred_test - y_test) / y_test)\n",
    "\n",
    "    # Output\n",
    "    print(f\"---- Fold {i} ----\")\n",
    "    print(f\"Training => MSE: {xgb_mse_train:.4f}; Mean Relative Error: {xgb_rel_error_train:.4f}\")\n",
    "    print(f\"Testing  => MSE: {xgb_mse_test:.4f}; Mean Relative Error: {xgb_rel_error\n"
   ]
  },
  {
   "cell_type": "code",
   "execution_count": null,
   "id": "e92370b5-9ca1-4da7-ae90-685642bfb727",
   "metadata": {},
   "outputs": [],
   "source": []
  },
  {
   "cell_type": "markdown",
   "id": "2743d431-a6b6-44d5-9572-1a191e463280",
   "metadata": {},
   "source": [
    "### 3. Random Forest"
   ]
  },
  {
   "cell_type": "markdown",
   "id": "98724724-2917-4677-8722-548c54214c70",
   "metadata": {},
   "source": [
    "#### Transform"
   ]
  },
  {
   "cell_type": "code",
   "execution_count": 148,
   "id": "1b7b2311-9adc-45a1-b771-c9ae17105d82",
   "metadata": {},
   "outputs": [],
   "source": [
    "X_cols = ['network', 'platform', 'week_of_year', 'day_of_week', 'cost_usd', 'impressions', 'clicks', 'installs']\n",
    "TRIAL_COL = 'trials_hauutm'\n",
    "PAID_COL = 'paid_hauutm'\n",
    "\n",
    "X, y_trial, y_paid, y_t2p = dff[X_cols], dff[TRIAL_COL], dff[PAID_COL], dff['t2p']"
   ]
  },
  {
   "cell_type": "code",
   "execution_count": null,
   "id": "755fd6db-138f-472b-9044-5650ebfc3262",
   "metadata": {},
   "outputs": [],
   "source": []
  },
  {
   "cell_type": "code",
   "execution_count": null,
   "id": "feaf426a-6810-4737-ada0-1c0b4b8fe7aa",
   "metadata": {},
   "outputs": [],
   "source": []
  },
  {
   "cell_type": "markdown",
   "id": "75bf3b13-e967-48bc-9c0b-577df226a150",
   "metadata": {},
   "source": [
    "#### Model"
   ]
  },
  {
   "cell_type": "code",
   "execution_count": 159,
   "id": "67111663-f1bf-4732-bccd-d3e3c66b824d",
   "metadata": {},
   "outputs": [],
   "source": [
    "from sklearn.ensemble import RandomForestRegressor\n",
    "\n",
    "param_dist = {\n",
    "    'n_estimators': randint(50, 300),\n",
    "    'max_depth': randint(3, 20),\n",
    "    'min_samples_split': randint(2, 20),\n",
    "    'min_samples_leaf': randint(1, 10),\n",
    "    'max_features': ['sqrt', 'log2', None],\n",
    "    'bootstrap': [True, False],\n",
    "}\n",
    "rf = RandomForestRegressor(random_state=42, n_jobs=-1)\n",
    "\n",
    "# note: increasing search space to 3000 and 200 doesn't improve training nor testing"
   ]
  },
  {
   "cell_type": "code",
   "execution_count": 160,
   "id": "0762a518-40c2-4b02-8c36-325e7b218258",
   "metadata": {},
   "outputs": [
    {
     "name": "stdout",
     "output_type": "stream",
     "text": [
      "Fitting 5 folds for each of 20 candidates, totalling 100 fits\n"
     ]
    },
    {
     "data": {
      "text/html": [
       "<style>#sk-container-id-9 {color: black;background-color: white;}#sk-container-id-9 pre{padding: 0;}#sk-container-id-9 div.sk-toggleable {background-color: white;}#sk-container-id-9 label.sk-toggleable__label {cursor: pointer;display: block;width: 100%;margin-bottom: 0;padding: 0.3em;box-sizing: border-box;text-align: center;}#sk-container-id-9 label.sk-toggleable__label-arrow:before {content: \"▸\";float: left;margin-right: 0.25em;color: #696969;}#sk-container-id-9 label.sk-toggleable__label-arrow:hover:before {color: black;}#sk-container-id-9 div.sk-estimator:hover label.sk-toggleable__label-arrow:before {color: black;}#sk-container-id-9 div.sk-toggleable__content {max-height: 0;max-width: 0;overflow: hidden;text-align: left;background-color: #f0f8ff;}#sk-container-id-9 div.sk-toggleable__content pre {margin: 0.2em;color: black;border-radius: 0.25em;background-color: #f0f8ff;}#sk-container-id-9 input.sk-toggleable__control:checked~div.sk-toggleable__content {max-height: 200px;max-width: 100%;overflow: auto;}#sk-container-id-9 input.sk-toggleable__control:checked~label.sk-toggleable__label-arrow:before {content: \"▾\";}#sk-container-id-9 div.sk-estimator input.sk-toggleable__control:checked~label.sk-toggleable__label {background-color: #d4ebff;}#sk-container-id-9 div.sk-label input.sk-toggleable__control:checked~label.sk-toggleable__label {background-color: #d4ebff;}#sk-container-id-9 input.sk-hidden--visually {border: 0;clip: rect(1px 1px 1px 1px);clip: rect(1px, 1px, 1px, 1px);height: 1px;margin: -1px;overflow: hidden;padding: 0;position: absolute;width: 1px;}#sk-container-id-9 div.sk-estimator {font-family: monospace;background-color: #f0f8ff;border: 1px dotted black;border-radius: 0.25em;box-sizing: border-box;margin-bottom: 0.5em;}#sk-container-id-9 div.sk-estimator:hover {background-color: #d4ebff;}#sk-container-id-9 div.sk-parallel-item::after {content: \"\";width: 100%;border-bottom: 1px solid gray;flex-grow: 1;}#sk-container-id-9 div.sk-label:hover label.sk-toggleable__label {background-color: #d4ebff;}#sk-container-id-9 div.sk-serial::before {content: \"\";position: absolute;border-left: 1px solid gray;box-sizing: border-box;top: 0;bottom: 0;left: 50%;z-index: 0;}#sk-container-id-9 div.sk-serial {display: flex;flex-direction: column;align-items: center;background-color: white;padding-right: 0.2em;padding-left: 0.2em;position: relative;}#sk-container-id-9 div.sk-item {position: relative;z-index: 1;}#sk-container-id-9 div.sk-parallel {display: flex;align-items: stretch;justify-content: center;background-color: white;position: relative;}#sk-container-id-9 div.sk-item::before, #sk-container-id-9 div.sk-parallel-item::before {content: \"\";position: absolute;border-left: 1px solid gray;box-sizing: border-box;top: 0;bottom: 0;left: 50%;z-index: -1;}#sk-container-id-9 div.sk-parallel-item {display: flex;flex-direction: column;z-index: 1;position: relative;background-color: white;}#sk-container-id-9 div.sk-parallel-item:first-child::after {align-self: flex-end;width: 50%;}#sk-container-id-9 div.sk-parallel-item:last-child::after {align-self: flex-start;width: 50%;}#sk-container-id-9 div.sk-parallel-item:only-child::after {width: 0;}#sk-container-id-9 div.sk-dashed-wrapped {border: 1px dashed gray;margin: 0 0.4em 0.5em 0.4em;box-sizing: border-box;padding-bottom: 0.4em;background-color: white;}#sk-container-id-9 div.sk-label label {font-family: monospace;font-weight: bold;display: inline-block;line-height: 1.2em;}#sk-container-id-9 div.sk-label-container {text-align: center;}#sk-container-id-9 div.sk-container {/* jupyter's `normalize.less` sets `[hidden] { display: none; }` but bootstrap.min.css set `[hidden] { display: none !important; }` so we also need the `!important` here to be able to override the default hidden behavior on the sphinx rendered scikit-learn.org. See: https://github.com/scikit-learn/scikit-learn/issues/21755 */display: inline-block !important;position: relative;}#sk-container-id-9 div.sk-text-repr-fallback {display: none;}</style><div id=\"sk-container-id-9\" class=\"sk-top-container\"><div class=\"sk-text-repr-fallback\"><pre>RandomizedSearchCV(cv=KFold(n_splits=5, random_state=420, shuffle=True),\n",
       "                   estimator=RandomForestRegressor(n_jobs=-1, random_state=42),\n",
       "                   n_iter=20, n_jobs=-1,\n",
       "                   param_distributions={&#x27;bootstrap&#x27;: [True, False],\n",
       "                                        &#x27;max_depth&#x27;: &lt;scipy.stats._distn_infrastructure.rv_discrete_frozen object at 0x16a9aca90&gt;,\n",
       "                                        &#x27;max_features&#x27;: [&#x27;sqrt&#x27;, &#x27;log2&#x27;, None],\n",
       "                                        &#x27;min_samples_leaf&#x27;: &lt;scipy.stats._distn_infrastructure.rv_discrete_frozen object at 0x16a9acd00&gt;,\n",
       "                                        &#x27;min_samples_split&#x27;: &lt;scipy.stats._distn_infrastructure.rv_discrete_frozen object at 0x16a856fe0&gt;,\n",
       "                                        &#x27;n_estimators&#x27;: &lt;scipy.stats._distn_infrastructure.rv_discrete_frozen object at 0x16a9759c0&gt;},\n",
       "                   random_state=42, scoring=&#x27;neg_mean_squared_error&#x27;,\n",
       "                   verbose=1)</pre><b>In a Jupyter environment, please rerun this cell to show the HTML representation or trust the notebook. <br />On GitHub, the HTML representation is unable to render, please try loading this page with nbviewer.org.</b></div><div class=\"sk-container\" hidden><div class=\"sk-item sk-dashed-wrapped\"><div class=\"sk-label-container\"><div class=\"sk-label sk-toggleable\"><input class=\"sk-toggleable__control sk-hidden--visually\" id=\"sk-estimator-id-19\" type=\"checkbox\" ><label for=\"sk-estimator-id-19\" class=\"sk-toggleable__label sk-toggleable__label-arrow\">RandomizedSearchCV</label><div class=\"sk-toggleable__content\"><pre>RandomizedSearchCV(cv=KFold(n_splits=5, random_state=420, shuffle=True),\n",
       "                   estimator=RandomForestRegressor(n_jobs=-1, random_state=42),\n",
       "                   n_iter=20, n_jobs=-1,\n",
       "                   param_distributions={&#x27;bootstrap&#x27;: [True, False],\n",
       "                                        &#x27;max_depth&#x27;: &lt;scipy.stats._distn_infrastructure.rv_discrete_frozen object at 0x16a9aca90&gt;,\n",
       "                                        &#x27;max_features&#x27;: [&#x27;sqrt&#x27;, &#x27;log2&#x27;, None],\n",
       "                                        &#x27;min_samples_leaf&#x27;: &lt;scipy.stats._distn_infrastructure.rv_discrete_frozen object at 0x16a9acd00&gt;,\n",
       "                                        &#x27;min_samples_split&#x27;: &lt;scipy.stats._distn_infrastructure.rv_discrete_frozen object at 0x16a856fe0&gt;,\n",
       "                                        &#x27;n_estimators&#x27;: &lt;scipy.stats._distn_infrastructure.rv_discrete_frozen object at 0x16a9759c0&gt;},\n",
       "                   random_state=42, scoring=&#x27;neg_mean_squared_error&#x27;,\n",
       "                   verbose=1)</pre></div></div></div><div class=\"sk-parallel\"><div class=\"sk-parallel-item\"><div class=\"sk-item\"><div class=\"sk-label-container\"><div class=\"sk-label sk-toggleable\"><input class=\"sk-toggleable__control sk-hidden--visually\" id=\"sk-estimator-id-20\" type=\"checkbox\" ><label for=\"sk-estimator-id-20\" class=\"sk-toggleable__label sk-toggleable__label-arrow\">estimator: RandomForestRegressor</label><div class=\"sk-toggleable__content\"><pre>RandomForestRegressor(n_jobs=-1, random_state=42)</pre></div></div></div><div class=\"sk-serial\"><div class=\"sk-item\"><div class=\"sk-estimator sk-toggleable\"><input class=\"sk-toggleable__control sk-hidden--visually\" id=\"sk-estimator-id-21\" type=\"checkbox\" ><label for=\"sk-estimator-id-21\" class=\"sk-toggleable__label sk-toggleable__label-arrow\">RandomForestRegressor</label><div class=\"sk-toggleable__content\"><pre>RandomForestRegressor(n_jobs=-1, random_state=42)</pre></div></div></div></div></div></div></div></div></div></div>"
      ],
      "text/plain": [
       "RandomizedSearchCV(cv=KFold(n_splits=5, random_state=420, shuffle=True),\n",
       "                   estimator=RandomForestRegressor(n_jobs=-1, random_state=42),\n",
       "                   n_iter=20, n_jobs=-1,\n",
       "                   param_distributions={'bootstrap': [True, False],\n",
       "                                        'max_depth': <scipy.stats._distn_infrastructure.rv_discrete_frozen object at 0x16a9aca90>,\n",
       "                                        'max_features': ['sqrt', 'log2', None],\n",
       "                                        'min_samples_leaf': <scipy.stats._distn_infrastructure.rv_discrete_frozen object at 0x16a9acd00>,\n",
       "                                        'min_samples_split': <scipy.stats._distn_infrastructure.rv_discrete_frozen object at 0x16a856fe0>,\n",
       "                                        'n_estimators': <scipy.stats._distn_infrastructure.rv_discrete_frozen object at 0x16a9759c0>},\n",
       "                   random_state=42, scoring='neg_mean_squared_error',\n",
       "                   verbose=1)"
      ]
     },
     "execution_count": 160,
     "metadata": {},
     "output_type": "execute_result"
    }
   ],
   "source": [
    "random_search = RandomizedSearchCV(\n",
    "    estimator=rf,\n",
    "    param_distributions=param_dist,\n",
    "    n_iter=20,\n",
    "    scoring='neg_mean_squared_error',\n",
    "    cv=skf,\n",
    "    verbose=1,\n",
    "    random_state=42,\n",
    "    n_jobs=-1\n",
    ")\n",
    "random_search.fit(X, y_t2p)"
   ]
  },
  {
   "cell_type": "code",
   "execution_count": 161,
   "id": "70aba97a-16d2-4b61-95f8-a27632a67fef",
   "metadata": {},
   "outputs": [
    {
     "name": "stdout",
     "output_type": "stream",
     "text": [
      "Best parameters found:\n",
      " {'bootstrap': True, 'max_depth': 169, 'max_features': 'log2', 'min_samples_leaf': 4, 'min_samples_split': 15, 'n_estimators': 291}\n"
     ]
    }
   ],
   "source": [
    "best_rf = random_search.best_estimator_\n",
    "print(\"Best parameters found:\\n\", random_search.best_params_)"
   ]
  },
  {
   "cell_type": "code",
   "execution_count": 162,
   "id": "64dfc7c4-0f38-4671-9005-457fbb819482",
   "metadata": {},
   "outputs": [],
   "source": [
    "n_splits = 5\n",
    "skf = KFold(n_splits=n_splits, shuffle=True, random_state=420)"
   ]
  },
  {
   "cell_type": "code",
   "execution_count": 163,
   "id": "76123175-e692-4121-86ca-02f68a1ec8fc",
   "metadata": {},
   "outputs": [
    {
     "name": "stdout",
     "output_type": "stream",
     "text": [
      "---- Fold 0 ----\n",
      "Training => MSE: 0.0078; Mean Relative Error: 0.2501\n",
      "Training => MSE: 0.0124; Mean Relative Error: 0.3330\n",
      "\n",
      "---- Fold 1 ----\n",
      "Training => MSE: 0.0077; Mean Relative Error: 0.2514\n",
      "Training => MSE: 0.0129; Mean Relative Error: 0.3070\n",
      "\n",
      "---- Fold 2 ----\n",
      "Training => MSE: 0.0075; Mean Relative Error: 0.2476\n",
      "Training => MSE: 0.0138; Mean Relative Error: 0.3341\n",
      "\n",
      "---- Fold 3 ----\n",
      "Training => MSE: 0.0076; Mean Relative Error: 0.2490\n",
      "Training => MSE: 0.0130; Mean Relative Error: 0.3235\n",
      "\n",
      "---- Fold 4 ----\n",
      "Training => MSE: 0.0078; Mean Relative Error: 0.2491\n",
      "Training => MSE: 0.0121; Mean Relative Error: 0.3309\n",
      "\n"
     ]
    }
   ],
   "source": [
    "# Evaluate best model with cross-validation\n",
    "for i, (train_index, test_index) in enumerate(skf.split(X, y_t2p)):\n",
    "    X_train, X_test = X.iloc[train_index], X.iloc[test_index]\n",
    "    y_train, y_test = y_t2p.iloc[train_index], y_t2p.iloc[test_index]\n",
    "\n",
    "    best_rf.fit(X_train, y_train)\n",
    "    y_pred_train = best_rf.predict(X_train)\n",
    "    y_pred_test = best_rf.predict(X_test)\n",
    "\n",
    "    rf_mse_test = mean_squared_error(y_test, y_pred_test)\n",
    "    rf_mse_train = mean_squared_error(y_train, y_pred_train)\n",
    "    rf_rel_error_test = np.mean(np.abs(y_pred_test - y_test) / (y_test))\n",
    "    rf_rel_error_train = np.mean(np.abs(y_pred_train - y_train) / (y_train))\n",
    "\n",
    "    print(f\"---- Fold {i} ----\")\n",
    "    print(f\"Training => MSE: {rf_mse_train:.4f}; Mean Relative Error: {rf_rel_error_train:.4f}\")\n",
    "    print(f\"Training => MSE: {rf_mse_test:.4f}; Mean Relative Error: {rf_rel_error_test:.4f}\\n\")\n"
   ]
  },
  {
   "cell_type": "markdown",
   "id": "b4a64e62-1a1f-40df-8062-e1186125e01b",
   "metadata": {},
   "source": [
    "Model is underfitting"
   ]
  },
  {
   "cell_type": "markdown",
   "id": "ffc167bb-f965-49a8-bf06-086154c33671",
   "metadata": {},
   "source": [
    "### 4. LightGBM"
   ]
  },
  {
   "cell_type": "code",
   "execution_count": null,
   "id": "d627c8d3-62f1-4fd3-85a6-f8d452ad422e",
   "metadata": {},
   "outputs": [],
   "source": []
  },
  {
   "cell_type": "code",
   "execution_count": null,
   "id": "b891768b-613c-48cd-8411-690ffa648ce4",
   "metadata": {},
   "outputs": [],
   "source": []
  },
  {
   "cell_type": "code",
   "execution_count": null,
   "id": "a71ddb0e-9d6f-4b59-9e8a-6b310f4a5071",
   "metadata": {},
   "outputs": [],
   "source": []
  },
  {
   "cell_type": "code",
   "execution_count": null,
   "id": "54ac30f4-1f83-489b-9a1c-be722f2c8df2",
   "metadata": {},
   "outputs": [],
   "source": []
  },
  {
   "cell_type": "code",
   "execution_count": null,
   "id": "9aa1f7fe-3782-4f20-8538-4c690754afa7",
   "metadata": {},
   "outputs": [],
   "source": []
  },
  {
   "cell_type": "markdown",
   "id": "c1747a17-bfad-4b43-8b8a-cd8e3189ce9f",
   "metadata": {},
   "source": [
    "### 5. CatBoost"
   ]
  },
  {
   "cell_type": "code",
   "execution_count": null,
   "id": "9e8474b6-c5be-4ca0-ba99-09e33b3d3574",
   "metadata": {},
   "outputs": [],
   "source": []
  },
  {
   "cell_type": "code",
   "execution_count": null,
   "id": "8daa2d71-7f6e-45ad-b48d-76b01a83dbd9",
   "metadata": {},
   "outputs": [],
   "source": []
  },
  {
   "cell_type": "code",
   "execution_count": null,
   "id": "0fa5945c-23ac-4c70-9e11-b1fd056a16dc",
   "metadata": {},
   "outputs": [],
   "source": []
  },
  {
   "cell_type": "markdown",
   "id": "1a9e509b-9d22-4df2-a276-19a016a584a0",
   "metadata": {},
   "source": [
    "### 6. MLP"
   ]
  },
  {
   "cell_type": "code",
   "execution_count": null,
   "id": "d00955ec-2dc6-4fcd-8602-46631fcdc640",
   "metadata": {},
   "outputs": [],
   "source": []
  },
  {
   "cell_type": "code",
   "execution_count": 178,
   "id": "714082ac-ac1a-405c-ab0f-3fa8c067e3d3",
   "metadata": {},
   "outputs": [
    {
     "data": {
      "text/plain": [
       "Index(['date', 'network', 'platform', 'country', 'cost_cad', 'cost_usd',\n",
       "       'clicks', 'impressions', 'installs', 'trials_prefinal', 'paid_prefinal',\n",
       "       'revenues', 'install_date', 'continent', 'sub_continent',\n",
       "       'trials_hauutm', 'paid_hauutm', 'revenue', 'refund', 'refunded_amount',\n",
       "       'is_holiday', 'week_of_year', 'day_of_week', 't2p', 'country_tier'],\n",
       "      dtype='object')"
      ]
     },
     "execution_count": 178,
     "metadata": {},
     "output_type": "execute_result"
    }
   ],
   "source": [
    "df_weekly.columns"
   ]
  },
  {
   "cell_type": "markdown",
   "id": "6d32532f-ed40-4591-9973-8fddde6f9bdb",
   "metadata": {},
   "source": [
    "## --- Weekly Evaluation ---"
   ]
  },
  {
   "cell_type": "code",
   "execution_count": 179,
   "id": "702ccfdc-faba-471a-af70-9e3ed2fa1a6c",
   "metadata": {},
   "outputs": [],
   "source": [
    "df_weekly = dff.copy()\n",
    "df_weekly['date'] = pd.to_datetime(df['date'])\n",
    "df_weekly = df_weekly.groupby([pd.Grouper(key='date', freq='W-MON')]).agg({\n",
    "    'cost_usd': 'sum', \n",
    "    'impressions': 'sum', \n",
    "    'clicks': 'sum', \n",
    "    'installs': 'sum',\n",
    "    'trials_hauutm': 'sum', \n",
    "    'paid_hauutm': 'sum', \n",
    "}).reset_index()"
   ]
  },
  {
   "cell_type": "code",
   "execution_count": 180,
   "id": "f66d5f31-a7eb-4d03-b07e-9518941c54af",
   "metadata": {},
   "outputs": [
    {
     "data": {
      "text/html": [
       "<div>\n",
       "<style scoped>\n",
       "    .dataframe tbody tr th:only-of-type {\n",
       "        vertical-align: middle;\n",
       "    }\n",
       "\n",
       "    .dataframe tbody tr th {\n",
       "        vertical-align: top;\n",
       "    }\n",
       "\n",
       "    .dataframe thead th {\n",
       "        text-align: right;\n",
       "    }\n",
       "</style>\n",
       "<table border=\"1\" class=\"dataframe\">\n",
       "  <thead>\n",
       "    <tr style=\"text-align: right;\">\n",
       "      <th></th>\n",
       "      <th>date</th>\n",
       "      <th>cost_usd</th>\n",
       "      <th>impressions</th>\n",
       "      <th>clicks</th>\n",
       "      <th>installs</th>\n",
       "      <th>trials_hauutm</th>\n",
       "      <th>paid_hauutm</th>\n",
       "    </tr>\n",
       "  </thead>\n",
       "  <tbody>\n",
       "    <tr>\n",
       "      <th>0</th>\n",
       "      <td>2023-01-02</td>\n",
       "      <td>45152.681891</td>\n",
       "      <td>9.006742e+06</td>\n",
       "      <td>105806.000000</td>\n",
       "      <td>15915.000000</td>\n",
       "      <td>2508.0</td>\n",
       "      <td>1076.0</td>\n",
       "    </tr>\n",
       "    <tr>\n",
       "      <th>1</th>\n",
       "      <td>2023-01-09</td>\n",
       "      <td>203995.209782</td>\n",
       "      <td>2.403994e+07</td>\n",
       "      <td>312050.000000</td>\n",
       "      <td>77441.280731</td>\n",
       "      <td>11376.0</td>\n",
       "      <td>4911.0</td>\n",
       "    </tr>\n",
       "    <tr>\n",
       "      <th>2</th>\n",
       "      <td>2023-01-16</td>\n",
       "      <td>346760.606197</td>\n",
       "      <td>3.665180e+07</td>\n",
       "      <td>397455.000000</td>\n",
       "      <td>94020.726051</td>\n",
       "      <td>13984.0</td>\n",
       "      <td>5975.0</td>\n",
       "    </tr>\n",
       "    <tr>\n",
       "      <th>3</th>\n",
       "      <td>2023-01-23</td>\n",
       "      <td>310384.235154</td>\n",
       "      <td>3.351956e+07</td>\n",
       "      <td>354789.000000</td>\n",
       "      <td>89196.177301</td>\n",
       "      <td>13324.0</td>\n",
       "      <td>5814.0</td>\n",
       "    </tr>\n",
       "    <tr>\n",
       "      <th>4</th>\n",
       "      <td>2023-01-30</td>\n",
       "      <td>191421.817307</td>\n",
       "      <td>1.933858e+07</td>\n",
       "      <td>258146.000000</td>\n",
       "      <td>58654.276916</td>\n",
       "      <td>9032.0</td>\n",
       "      <td>3903.0</td>\n",
       "    </tr>\n",
       "    <tr>\n",
       "      <th>...</th>\n",
       "      <td>...</td>\n",
       "      <td>...</td>\n",
       "      <td>...</td>\n",
       "      <td>...</td>\n",
       "      <td>...</td>\n",
       "      <td>...</td>\n",
       "      <td>...</td>\n",
       "    </tr>\n",
       "    <tr>\n",
       "      <th>96</th>\n",
       "      <td>2024-11-04</td>\n",
       "      <td>30144.028474</td>\n",
       "      <td>5.547419e+06</td>\n",
       "      <td>39045.000000</td>\n",
       "      <td>9109.530384</td>\n",
       "      <td>1113.0</td>\n",
       "      <td>381.0</td>\n",
       "    </tr>\n",
       "    <tr>\n",
       "      <th>97</th>\n",
       "      <td>2024-11-11</td>\n",
       "      <td>21762.954158</td>\n",
       "      <td>3.709424e+06</td>\n",
       "      <td>27179.175904</td>\n",
       "      <td>7223.791015</td>\n",
       "      <td>960.0</td>\n",
       "      <td>304.0</td>\n",
       "    </tr>\n",
       "    <tr>\n",
       "      <th>98</th>\n",
       "      <td>2024-11-18</td>\n",
       "      <td>23789.226376</td>\n",
       "      <td>2.977140e+06</td>\n",
       "      <td>27076.000000</td>\n",
       "      <td>6502.539477</td>\n",
       "      <td>765.0</td>\n",
       "      <td>297.0</td>\n",
       "    </tr>\n",
       "    <tr>\n",
       "      <th>99</th>\n",
       "      <td>2024-11-25</td>\n",
       "      <td>21904.834363</td>\n",
       "      <td>1.945136e+06</td>\n",
       "      <td>18129.139576</td>\n",
       "      <td>6306.028311</td>\n",
       "      <td>728.0</td>\n",
       "      <td>213.0</td>\n",
       "    </tr>\n",
       "    <tr>\n",
       "      <th>100</th>\n",
       "      <td>2024-12-02</td>\n",
       "      <td>7524.018868</td>\n",
       "      <td>4.729050e+05</td>\n",
       "      <td>7668.000000</td>\n",
       "      <td>2221.000000</td>\n",
       "      <td>207.0</td>\n",
       "      <td>47.0</td>\n",
       "    </tr>\n",
       "  </tbody>\n",
       "</table>\n",
       "<p>101 rows × 7 columns</p>\n",
       "</div>"
      ],
      "text/plain": [
       "          date       cost_usd   impressions         clicks      installs  \\\n",
       "0   2023-01-02   45152.681891  9.006742e+06  105806.000000  15915.000000   \n",
       "1   2023-01-09  203995.209782  2.403994e+07  312050.000000  77441.280731   \n",
       "2   2023-01-16  346760.606197  3.665180e+07  397455.000000  94020.726051   \n",
       "3   2023-01-23  310384.235154  3.351956e+07  354789.000000  89196.177301   \n",
       "4   2023-01-30  191421.817307  1.933858e+07  258146.000000  58654.276916   \n",
       "..         ...            ...           ...            ...           ...   \n",
       "96  2024-11-04   30144.028474  5.547419e+06   39045.000000   9109.530384   \n",
       "97  2024-11-11   21762.954158  3.709424e+06   27179.175904   7223.791015   \n",
       "98  2024-11-18   23789.226376  2.977140e+06   27076.000000   6502.539477   \n",
       "99  2024-11-25   21904.834363  1.945136e+06   18129.139576   6306.028311   \n",
       "100 2024-12-02    7524.018868  4.729050e+05    7668.000000   2221.000000   \n",
       "\n",
       "     trials_hauutm  paid_hauutm  \n",
       "0           2508.0       1076.0  \n",
       "1          11376.0       4911.0  \n",
       "2          13984.0       5975.0  \n",
       "3          13324.0       5814.0  \n",
       "4           9032.0       3903.0  \n",
       "..             ...          ...  \n",
       "96          1113.0        381.0  \n",
       "97           960.0        304.0  \n",
       "98           765.0        297.0  \n",
       "99           728.0        213.0  \n",
       "100          207.0         47.0  \n",
       "\n",
       "[101 rows x 7 columns]"
      ]
     },
     "execution_count": 180,
     "metadata": {},
     "output_type": "execute_result"
    }
   ],
   "source": [
    "df_weekly"
   ]
  },
  {
   "cell_type": "code",
   "execution_count": null,
   "id": "e3973ffe-631a-4b36-9450-8f8c0d3d2102",
   "metadata": {},
   "outputs": [],
   "source": []
  },
  {
   "cell_type": "code",
   "execution_count": null,
   "id": "8df53469-3a34-444d-8fe5-2a0b187230af",
   "metadata": {},
   "outputs": [],
   "source": []
  }
 ],
 "metadata": {
  "kernelspec": {
   "display_name": "Python 3 (ipykernel)",
   "language": "python",
   "name": "python3"
  },
  "language_info": {
   "codemirror_mode": {
    "name": "ipython",
    "version": 3
   },
   "file_extension": ".py",
   "mimetype": "text/x-python",
   "name": "python",
   "nbconvert_exporter": "python",
   "pygments_lexer": "ipython3",
   "version": "3.10.2"
  }
 },
 "nbformat": 4,
 "nbformat_minor": 5
}
