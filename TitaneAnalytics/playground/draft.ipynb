{
 "cells": [
  {
   "cell_type": "code",
   "execution_count": null,
   "id": "0",
   "metadata": {},
   "outputs": [],
   "source": [
    "import pandas as pd"
   ]
  },
  {
   "cell_type": "markdown",
   "id": "1",
   "metadata": {},
   "source": [
    "**Quoi investiguer**\n",
    "\n",
    "Croissance par annee:\n",
    "- Nombre de Events\n",
    "- Athletes par quartier (seulement garder athlete <20 ans)\n",
    "- Tranches d'age par annee\n",
    "- Nombre d'athletes par genre\n",
    "- Revenue\n",
    "- Nombre de benevoles\n",
    "\n",
    "Retention:\n",
    "- 1 an, 2 ans, 3 ans\n",
    "- Par age\n",
    "- equipe/coach\n",
    "\n"
   ]
  },
  {
   "cell_type": "markdown",
   "id": "2",
   "metadata": {},
   "source": [
    "### Reading the data"
   ]
  },
  {
   "cell_type": "code",
   "execution_count": null,
   "id": "3",
   "metadata": {},
   "outputs": [],
   "source": [
    "df_2020 = pd.read_csv(\"/Users/emulie/Downloads/titane_registrations_2020.csv\")\n",
    "df_2021 = pd.read_csv(\"/Users/emulie/Downloads/titane_registrations_2021.csv\")\n",
    "df_2022 = pd.read_csv(\"/Users/emulie/Downloads/titane_registrations_2022.csv\")\n",
    "df_2023 = pd.read_csv(\"/Users/emulie/Downloads/titane_registrations_2023.csv\")\n",
    "df_2024 = pd.read_csv(\"/Users/emulie/Downloads/titane_registrations_2024.csv\")"
   ]
  },
  {
   "cell_type": "code",
   "execution_count": null,
   "id": "4",
   "metadata": {},
   "outputs": [],
   "source": [
    "# --- add year\n",
    "df_2020['year'] = 2020\n",
    "df_2021['year'] = 2021\n",
    "df_2022['year'] = 2022\n",
    "df_2023['year'] = 2023\n",
    "df_2024['year'] = 2024"
   ]
  },
  {
   "cell_type": "code",
   "execution_count": null,
   "id": "5",
   "metadata": {},
   "outputs": [],
   "source": [
    "df = pd.concat([df_2020, df_2021, df_2022, df_2023, df_2024])"
   ]
  },
  {
   "cell_type": "code",
   "execution_count": null,
   "id": "6",
   "metadata": {},
   "outputs": [],
   "source": [
    "df['full_name'] = df['first_name'] + ' ' + df['last_name']"
   ]
  },
  {
   "cell_type": "code",
   "execution_count": null,
   "id": "7",
   "metadata": {},
   "outputs": [],
   "source": [
    "df.head()"
   ]
  },
  {
   "cell_type": "code",
   "execution_count": null,
   "id": "8",
   "metadata": {},
   "outputs": [],
   "source": [
    "df.columns"
   ]
  },
  {
   "cell_type": "code",
   "execution_count": null,
   "id": "9",
   "metadata": {},
   "outputs": [],
   "source": [
    "print(df.shape)"
   ]
  },
  {
   "cell_type": "markdown",
   "id": "10",
   "metadata": {},
   "source": [
    "## EDA"
   ]
  },
  {
   "cell_type": "markdown",
   "id": "11",
   "metadata": {},
   "source": [
    "### Number of Events by year"
   ]
  },
  {
   "cell_type": "code",
   "execution_count": null,
   "id": "12",
   "metadata": {},
   "outputs": [],
   "source": [
    "df_events = df.groupby(['year'])['event_name'].nunique().reset_index().rename(columns={'event_name': 'num_events'})\n",
    "df_events_name = df.groupby('year')['event_name'].agg(lambda x: list(set(x))).reset_index()\n",
    "df_events = pd.merge(df_events, df_events_name, on='year')"
   ]
  },
  {
   "cell_type": "code",
   "execution_count": null,
   "id": "13",
   "metadata": {},
   "outputs": [],
   "source": [
    "df_events"
   ]
  },
  {
   "cell_type": "markdown",
   "id": "14",
   "metadata": {},
   "source": [
    "### Number of Player per year"
   ]
  },
  {
   "cell_type": "code",
   "execution_count": null,
   "id": "15",
   "metadata": {},
   "outputs": [],
   "source": [
    "is_player_mask = df['age'] < 25\n",
    "df_players = df[is_player_mask]\n",
    "df_players['full_name'] = df_players['first_name'] + ' ' + df_players['last_name']\n",
    "df_players_per_year = df_players.groupby(['year'])['full_name'].nunique().reset_index()"
   ]
  },
  {
   "cell_type": "code",
   "execution_count": null,
   "id": "16",
   "metadata": {},
   "outputs": [],
   "source": [
    "df_players_per_year"
   ]
  },
  {
   "cell_type": "markdown",
   "id": "17",
   "metadata": {},
   "source": [
    "### Number of player per gender by year"
   ]
  },
  {
   "cell_type": "code",
   "execution_count": null,
   "id": "18",
   "metadata": {},
   "outputs": [],
   "source": [
    "has_valid_birthdate = df['birth_date'] != 'private'\n",
    "is_valid_player = df['age'] < 25\n",
    "df_ages = df[has_valid_birthdate & is_valid_player]\n",
    "df_gender = df_ages.groupby(['year', 'gender']).count()['full_name'].reset_index(name='count')"
   ]
  },
  {
   "cell_type": "code",
   "execution_count": null,
   "id": "19",
   "metadata": {},
   "outputs": [],
   "source": [
    "df_gender['total'] = df_gender.groupby('year')['count'].transform(sum)\n",
    "df_gender['perc'] = df_gender['count'] / df_gender['total']"
   ]
  },
  {
   "cell_type": "code",
   "execution_count": null,
   "id": "20",
   "metadata": {},
   "outputs": [],
   "source": [
    "df_gender"
   ]
  },
  {
   "cell_type": "code",
   "execution_count": null,
   "id": "21",
   "metadata": {},
   "outputs": [],
   "source": [
    "# --- gender growth over year"
   ]
  },
  {
   "cell_type": "markdown",
   "id": "22",
   "metadata": {},
   "source": [
    "### Revenue per Year"
   ]
  },
  {
   "cell_type": "code",
   "execution_count": null,
   "id": "23",
   "metadata": {},
   "outputs": [],
   "source": [
    "df.groupby(['year'])['event_cost'].sum().reset_index()"
   ]
  },
  {
   "cell_type": "markdown",
   "id": "24",
   "metadata": {},
   "source": [
    "### Age Distribution per Year"
   ]
  },
  {
   "cell_type": "code",
   "execution_count": null,
   "id": "25",
   "metadata": {},
   "outputs": [],
   "source": [
    "has_valid_birthdate = df['birth_date'] != 'private'\n",
    "is_valid_player = df['age'] < 25\n",
    "df_ages = df[has_valid_birthdate & is_valid_player]\n",
    "df_ages['full_name'] = df_ages['first_name'] + ' ' + df_ages['last_name']\n",
    "df_ages['birth_date'] = pd.to_datetime(df_ages['birth_date'])\n",
    "df_ages['age'] = df_ages['year'] - df_ages['birth_date'].dt.year"
   ]
  },
  {
   "cell_type": "code",
   "execution_count": null,
   "id": "26",
   "metadata": {},
   "outputs": [],
   "source": []
  },
  {
   "cell_type": "code",
   "execution_count": null,
   "id": "27",
   "metadata": {},
   "outputs": [],
   "source": [
    "df_age_distr_long = df_ages.groupby(['year', 'age'])['full_name'].nunique().reset_index()\n",
    "df_age_distr_wide = pd.pivot_table(df_age_distr_long, index='year', values=['full_name'], columns=['age']).fillna(0).reset_index()"
   ]
  },
  {
   "cell_type": "code",
   "execution_count": null,
   "id": "28",
   "metadata": {},
   "outputs": [],
   "source": [
    "df_age_distr_wide"
   ]
  },
  {
   "cell_type": "code",
   "execution_count": null,
   "id": "29",
   "metadata": {},
   "outputs": [],
   "source": [
    "df_age_distr_long.head()"
   ]
  },
  {
   "cell_type": "markdown",
   "id": "30",
   "metadata": {},
   "source": [
    "### Nombre de joueurs par arrondissement (TODO)"
   ]
  },
  {
   "cell_type": "code",
   "execution_count": null,
   "id": "31",
   "metadata": {},
   "outputs": [],
   "source": [
    "df['locality'].unique()"
   ]
  },
  {
   "cell_type": "code",
   "execution_count": null,
   "id": "32",
   "metadata": {},
   "outputs": [],
   "source": [
    "# --- TODO: map similar locality to the same"
   ]
  },
  {
   "cell_type": "code",
   "execution_count": null,
   "id": "33",
   "metadata": {},
   "outputs": [],
   "source": [
    "df_locality_long = df.groupby(['year', 'locality'])['full_name'].nunique().reset_index(name='count')"
   ]
  },
  {
   "cell_type": "code",
   "execution_count": null,
   "id": "34",
   "metadata": {},
   "outputs": [],
   "source": [
    "df_locality_long"
   ]
  },
  {
   "cell_type": "code",
   "execution_count": null,
   "id": "35",
   "metadata": {},
   "outputs": [],
   "source": [
    "df_locality_wide = pd.pivot_table(df_locality_long, index='year', columns='locality', values='count').fillna(0)"
   ]
  },
  {
   "cell_type": "code",
   "execution_count": null,
   "id": "36",
   "metadata": {},
   "outputs": [],
   "source": [
    "df_locality_wide"
   ]
  },
  {
   "cell_type": "markdown",
   "id": "37",
   "metadata": {},
   "source": [
    "### Number of Benevoles (TODO)"
   ]
  },
  {
   "cell_type": "code",
   "execution_count": null,
   "id": "38",
   "metadata": {},
   "outputs": [],
   "source": []
  },
  {
   "cell_type": "code",
   "execution_count": null,
   "id": "39",
   "metadata": {},
   "outputs": [],
   "source": []
  },
  {
   "cell_type": "code",
   "execution_count": null,
   "id": "40",
   "metadata": {},
   "outputs": [],
   "source": []
  },
  {
   "cell_type": "markdown",
   "id": "41",
   "metadata": {},
   "source": [
    "## Retention Analysis"
   ]
  },
  {
   "cell_type": "markdown",
   "id": "42",
   "metadata": {},
   "source": [
    "### Overall - How many year do player spend in Titane "
   ]
  },
  {
   "cell_type": "code",
   "execution_count": null,
   "id": "43",
   "metadata": {},
   "outputs": [],
   "source": [
    "df_active = df.groupby(['full_name'])['year'].nunique().reset_index(name='year_active')\n",
    "df_active = df_active.groupby('year_active').count().reset_index().rename(columns={'full_name': 'count'})\n",
    "df_active['total'] = df_active['count'].sum()\n",
    "df_active['perc'] = df_active['count'] / df_active['total']"
   ]
  },
  {
   "cell_type": "code",
   "execution_count": null,
   "id": "44",
   "metadata": {},
   "outputs": [],
   "source": [
    "df_active"
   ]
  },
  {
   "cell_type": "code",
   "execution_count": null,
   "id": "45",
   "metadata": {},
   "outputs": [],
   "source": []
  },
  {
   "cell_type": "code",
   "execution_count": null,
   "id": "46",
   "metadata": {},
   "outputs": [],
   "source": []
  },
  {
   "cell_type": "markdown",
   "id": "47",
   "metadata": {},
   "source": [
    "### Retention per year (TODO)"
   ]
  },
  {
   "cell_type": "code",
   "execution_count": null,
   "id": "48",
   "metadata": {},
   "outputs": [],
   "source": []
  },
  {
   "cell_type": "code",
   "execution_count": null,
   "id": "49",
   "metadata": {},
   "outputs": [],
   "source": []
  }
 ],
 "metadata": {
  "kernelspec": {
   "display_name": "Python 3 (ipykernel)",
   "language": "python",
   "name": "python3"
  },
  "language_info": {
   "codemirror_mode": {
    "name": "ipython",
    "version": 3
   },
   "file_extension": ".py",
   "mimetype": "text/x-python",
   "name": "python",
   "nbconvert_exporter": "python",
   "pygments_lexer": "ipython3",
   "version": "3.10.2"
  }
 },
 "nbformat": 4,
 "nbformat_minor": 5
}
