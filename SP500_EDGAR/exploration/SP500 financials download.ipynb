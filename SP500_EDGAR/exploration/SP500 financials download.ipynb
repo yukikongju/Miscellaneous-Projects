{
 "cells": [
  {
   "cell_type": "code",
   "execution_count": 19,
   "id": "4908c45a",
   "metadata": {},
   "outputs": [],
   "source": [
    "import requests \n",
    "import pandas as pd\n",
    "import yfinance as yf\n",
    "import os"
   ]
  },
  {
   "cell_type": "code",
   "execution_count": null,
   "id": "3d8f8f88",
   "metadata": {},
   "outputs": [],
   "source": []
  },
  {
   "cell_type": "markdown",
   "id": "96f97816",
   "metadata": {},
   "source": [
    "### Fetch Ticker for SP500 companies"
   ]
  },
  {
   "cell_type": "code",
   "execution_count": 3,
   "id": "da346813",
   "metadata": {},
   "outputs": [],
   "source": [
    "def get_sp500_df():\n",
    "    SP_URL = \"https://en.wikipedia.org/wiki/List_of_S%26P_500_companies\"\n",
    "    dfs = pd.read_html(SP_URL)\n",
    "    stocks = dfs[0]\n",
    "    changes = dfs[1]\n",
    "    return stocks\n",
    "\n",
    "\n",
    "def get_sp500_tickers():\n",
    "    \"\"\" \n",
    "    Return list of all S&P500 tickers as list\n",
    "    \"\"\"\n",
    "    df = get_sp500_df()\n",
    "    return df['Symbol'].to_list()\n",
    "\n",
    "sp500_tickers = get_sp500_tickers()"
   ]
  },
  {
   "cell_type": "code",
   "execution_count": 5,
   "id": "b0579098",
   "metadata": {},
   "outputs": [],
   "source": [
    "sp500 = get_sp500_df()"
   ]
  },
  {
   "cell_type": "markdown",
   "id": "8672f5e4",
   "metadata": {},
   "source": [
    "### Download Financial Sheets for SP500"
   ]
  },
  {
   "cell_type": "code",
   "execution_count": 23,
   "id": "d14c29cf",
   "metadata": {},
   "outputs": [],
   "source": [
    "DATA_DIR = 'data'\n",
    "\n",
    "def download_data(symbol):\n",
    "    ticker = yf.Ticker(symbol)\n",
    "    hist = ticker.history(period='max')\n",
    "\n",
    "    # fetch financials from yfinance\n",
    "    financials = ticker.financials\n",
    "    quarterly_financials = ticker.quarterly_financials\n",
    "    balance_sheet = ticker.balance_sheet\n",
    "    quarterly_balance_sheet = ticker.quarterly_balance_sheet\n",
    "    cashflow = ticker.cashflow\n",
    "    quarterly_cashflow = ticker.quarterly_cashflow\n",
    "    earnings = ticker.earnings\n",
    "    quarterly_earnings = ticker.quarterly_earnings\n",
    "    \n",
    "    # create path is not exist\n",
    "    path = f\"{DATA_DIR}/{symbol}\"\n",
    "    if not os.path.exists(path):\n",
    "        os.makedirs(path)\n",
    "    \n",
    "    \n",
    "    # download financials as csv\n",
    "    financials.to_csv(f\"{DATA_DIR}/{symbol}/financials.csv\")\n",
    "    quarterly_financials.to_csv(f\"{DATA_DIR}/{symbol}/quarterly_financials.csv\")\n",
    "    balance_sheet.to_csv(f\"{DATA_DIR}/{symbol}/balance_sheet.csv\")\n",
    "    balance_sheet.to_csv(f\"{DATA_DIR}/{symbol}/quarterly_balance_sheet.csv\")\n",
    "    cashflow.to_csv(f\"{DATA_DIR}/{symbol}/cashflow.csv\")\n",
    "    quarterly_cashflow.to_csv(f\"{DATA_DIR}/{symbol}/quarterly_cashflow.csv\")\n",
    "    earnings.to_csv(f\"{DATA_DIR}/{symbol}/earnings.csv\")\n",
    "    quarterly_earnings.to_csv(f\"{DATA_DIR}/{symbol}/quarterly_earnings.csv\")\n",
    "    \n",
    "    print(f\"Successfully downloaded {symbol} financials\")\n",
    "    "
   ]
  },
  {
   "cell_type": "code",
   "execution_count": 24,
   "id": "8dd6cee3",
   "metadata": {},
   "outputs": [
    {
     "name": "stdout",
     "output_type": "stream",
     "text": [
      "Successfully downloaded MSFT financials\n"
     ]
    }
   ],
   "source": [
    "download_data('MSFT')"
   ]
  },
  {
   "cell_type": "code",
   "execution_count": null,
   "id": "b59953ff",
   "metadata": {},
   "outputs": [],
   "source": [
    "for symbol in sp500_tickers:\n",
    "    download_data(symbol)"
   ]
  }
 ],
 "metadata": {
  "kernelspec": {
   "display_name": "Python 3 (ipykernel)",
   "language": "python",
   "name": "python3"
  },
  "language_info": {
   "codemirror_mode": {
    "name": "ipython",
    "version": 3
   },
   "file_extension": ".py",
   "mimetype": "text/x-python",
   "name": "python",
   "nbconvert_exporter": "python",
   "pygments_lexer": "ipython3",
   "version": "3.8.10"
  }
 },
 "nbformat": 4,
 "nbformat_minor": 5
}
