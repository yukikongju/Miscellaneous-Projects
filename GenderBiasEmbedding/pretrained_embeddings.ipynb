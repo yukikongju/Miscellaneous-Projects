{
 "cells": [
  {
   "cell_type": "code",
   "execution_count": 32,
   "id": "519e3205-de2b-461e-9576-030c3f4ea7dd",
   "metadata": {},
   "outputs": [],
   "source": [
    "import pandas as pd\n",
    "import numpy as np\n",
    "import matplotlib.pyplot as plt\n",
    "from torchmetrics.regression import MinkowskiDistance"
   ]
  },
  {
   "cell_type": "code",
   "execution_count": null,
   "id": "5997bf98-9187-4d09-80df-0290e8961355",
   "metadata": {},
   "outputs": [],
   "source": []
  },
  {
   "cell_type": "markdown",
   "id": "dac2360c-d246-4f27-880e-0c871b2dd140",
   "metadata": {},
   "source": [
    "## 1. Common gendered words"
   ]
  },
  {
   "cell_type": "markdown",
   "id": "7d9b08f9-480b-4824-9167-05d4c7f051e3",
   "metadata": {},
   "source": [
    "- common gendered word\n",
    "- common non-gendered word\n",
    "\n",
    "Comparison:\n",
    "- distance between word \"man/male\" and \"woman/female\"\n",
    "- reverse gendered word\n"
   ]
  },
  {
   "cell_type": "code",
   "execution_count": null,
   "id": "a5cbc732-a583-4546-acac-c9f559180ecf",
   "metadata": {},
   "outputs": [],
   "source": [
    "# person, individual, leader, worker, parent, partner, child, sibling\n",
    "# talented, intelligent, creative, diligent\n",
    "# doctor, engineer, "
   ]
  },
  {
   "cell_type": "code",
   "execution_count": null,
   "id": "53fa6c95-0117-4b50-9536-f0a80b8ab751",
   "metadata": {},
   "outputs": [],
   "source": []
  },
  {
   "cell_type": "code",
   "execution_count": null,
   "id": "10ee933f-868c-4c83-b45e-c405e693caa2",
   "metadata": {},
   "outputs": [],
   "source": []
  },
  {
   "cell_type": "code",
   "execution_count": null,
   "id": "0e9a0f83-b444-4dbd-b594-f4b6b900be41",
   "metadata": {},
   "outputs": [],
   "source": []
  },
  {
   "cell_type": "markdown",
   "id": "e55c3641-a4f2-4fe8-9288-6607ec897cc7",
   "metadata": {},
   "source": [
    "## 2. Gender Bias in Pre-trained Embeddings "
   ]
  },
  {
   "cell_type": "markdown",
   "id": "a4747d45-589d-47b9-b205-d2fafd3e7cbf",
   "metadata": {},
   "source": [
    "### 2.1. Word2Vec\n"
   ]
  },
  {
   "cell_type": "code",
   "execution_count": null,
   "id": "8ba0fc10-97ca-4963-8136-f0e243802b6f",
   "metadata": {},
   "outputs": [],
   "source": [
    "from gensim.models import Word2Vec"
   ]
  },
  {
   "cell_type": "code",
   "execution_count": null,
   "id": "4b735b25-fafb-4d6d-94e8-8f33d91f0c75",
   "metadata": {},
   "outputs": [],
   "source": []
  },
  {
   "cell_type": "markdown",
   "id": "63572750-f4d3-47b4-8ff9-784182be656c",
   "metadata": {},
   "source": [
    "### 2.2. GloVe"
   ]
  },
  {
   "cell_type": "code",
   "execution_count": null,
   "id": "8ef1e698-affc-4f87-9643-7cb8073c7ca3",
   "metadata": {},
   "outputs": [],
   "source": []
  },
  {
   "cell_type": "code",
   "execution_count": null,
   "id": "2e542750-8fe1-46da-9245-ae17000b21cf",
   "metadata": {},
   "outputs": [],
   "source": []
  },
  {
   "cell_type": "markdown",
   "id": "cee3654d-c412-4be5-8247-900c1c42e11b",
   "metadata": {},
   "source": [
    "### 2.3. FastText"
   ]
  },
  {
   "cell_type": "code",
   "execution_count": null,
   "id": "6e1a1181-62bd-4cbc-a2ae-69ff8b6e39c1",
   "metadata": {},
   "outputs": [],
   "source": []
  },
  {
   "cell_type": "code",
   "execution_count": null,
   "id": "dd312128-3cdb-4cf4-ad57-8ea63c38d985",
   "metadata": {},
   "outputs": [],
   "source": []
  },
  {
   "cell_type": "markdown",
   "id": "c83703c1-6f76-43bd-83d5-69310cbbb973",
   "metadata": {},
   "source": [
    "### 2.4. Elmo"
   ]
  },
  {
   "cell_type": "code",
   "execution_count": 44,
   "id": "787c5942-69c9-4d53-970e-da508c09330b",
   "metadata": {},
   "outputs": [],
   "source": [
    "# from allennlp.commands.elmo import ElmoEmbedder"
   ]
  },
  {
   "cell_type": "code",
   "execution_count": null,
   "id": "7c462d4c-73cd-4964-9ddb-57293e93e4d9",
   "metadata": {},
   "outputs": [],
   "source": []
  },
  {
   "cell_type": "markdown",
   "id": "608f4f6d-b3de-4073-b95c-5bff5ed912af",
   "metadata": {},
   "source": [
    "### 2.5. BERT"
   ]
  },
  {
   "cell_type": "code",
   "execution_count": 6,
   "id": "916a1641-adb5-432a-88aa-09c717973fb6",
   "metadata": {},
   "outputs": [],
   "source": [
    "from transformers import BertTokenizer, BertModel"
   ]
  },
  {
   "cell_type": "code",
   "execution_count": 18,
   "id": "c080fdb1-8638-4065-be70-3cdc8cbf7cd6",
   "metadata": {},
   "outputs": [
    {
     "name": "stderr",
     "output_type": "stream",
     "text": [
      "/Library/Frameworks/Python.framework/Versions/3.11/lib/python3.11/site-packages/transformers/tokenization_utils_base.py:1601: FutureWarning: `clean_up_tokenization_spaces` was not set. It will be set to `True` by default. This behavior will be depracted in transformers v4.45, and will be then set to `False` by default. For more details check this issue: https://github.com/huggingface/transformers/issues/31884\n",
      "  warnings.warn(\n",
      "A parameter name that contains `beta` will be renamed internally to `bias`. Please use a different name to suppress this warning.\n",
      "A parameter name that contains `gamma` will be renamed internally to `weight`. Please use a different name to suppress this warning.\n",
      "A parameter name that contains `beta` will be renamed internally to `bias`. Please use a different name to suppress this warning.\n",
      "A parameter name that contains `gamma` will be renamed internally to `weight`. Please use a different name to suppress this warning.\n",
      "A parameter name that contains `beta` will be renamed internally to `bias`. Please use a different name to suppress this warning.\n",
      "A parameter name that contains `gamma` will be renamed internally to `weight`. Please use a different name to suppress this warning.\n",
      "A parameter name that contains `beta` will be renamed internally to `bias`. Please use a different name to suppress this warning.\n",
      "A parameter name that contains `gamma` will be renamed internally to `weight`. Please use a different name to suppress this warning.\n",
      "A parameter name that contains `beta` will be renamed internally to `bias`. Please use a different name to suppress this warning.\n",
      "A parameter name that contains `gamma` will be renamed internally to `weight`. Please use a different name to suppress this warning.\n",
      "A parameter name that contains `beta` will be renamed internally to `bias`. Please use a different name to suppress this warning.\n",
      "A parameter name that contains `gamma` will be renamed internally to `weight`. Please use a different name to suppress this warning.\n",
      "A parameter name that contains `beta` will be renamed internally to `bias`. Please use a different name to suppress this warning.\n",
      "A parameter name that contains `gamma` will be renamed internally to `weight`. Please use a different name to suppress this warning.\n",
      "A parameter name that contains `beta` will be renamed internally to `bias`. Please use a different name to suppress this warning.\n",
      "A parameter name that contains `gamma` will be renamed internally to `weight`. Please use a different name to suppress this warning.\n",
      "A parameter name that contains `beta` will be renamed internally to `bias`. Please use a different name to suppress this warning.\n",
      "A parameter name that contains `gamma` will be renamed internally to `weight`. Please use a different name to suppress this warning.\n",
      "A parameter name that contains `beta` will be renamed internally to `bias`. Please use a different name to suppress this warning.\n",
      "A parameter name that contains `gamma` will be renamed internally to `weight`. Please use a different name to suppress this warning.\n",
      "A parameter name that contains `beta` will be renamed internally to `bias`. Please use a different name to suppress this warning.\n",
      "A parameter name that contains `gamma` will be renamed internally to `weight`. Please use a different name to suppress this warning.\n",
      "A parameter name that contains `beta` will be renamed internally to `bias`. Please use a different name to suppress this warning.\n",
      "A parameter name that contains `gamma` will be renamed internally to `weight`. Please use a different name to suppress this warning.\n",
      "A parameter name that contains `beta` will be renamed internally to `bias`. Please use a different name to suppress this warning.\n",
      "A parameter name that contains `gamma` will be renamed internally to `weight`. Please use a different name to suppress this warning.\n",
      "A parameter name that contains `beta` will be renamed internally to `bias`. Please use a different name to suppress this warning.\n",
      "A parameter name that contains `gamma` will be renamed internally to `weight`. Please use a different name to suppress this warning.\n",
      "A parameter name that contains `beta` will be renamed internally to `bias`. Please use a different name to suppress this warning.\n",
      "A parameter name that contains `gamma` will be renamed internally to `weight`. Please use a different name to suppress this warning.\n",
      "A parameter name that contains `beta` will be renamed internally to `bias`. Please use a different name to suppress this warning.\n",
      "A parameter name that contains `gamma` will be renamed internally to `weight`. Please use a different name to suppress this warning.\n",
      "A parameter name that contains `beta` will be renamed internally to `bias`. Please use a different name to suppress this warning.\n",
      "A parameter name that contains `gamma` will be renamed internally to `weight`. Please use a different name to suppress this warning.\n",
      "A parameter name that contains `beta` will be renamed internally to `bias`. Please use a different name to suppress this warning.\n",
      "A parameter name that contains `gamma` will be renamed internally to `weight`. Please use a different name to suppress this warning.\n",
      "A parameter name that contains `beta` will be renamed internally to `bias`. Please use a different name to suppress this warning.\n",
      "A parameter name that contains `gamma` will be renamed internally to `weight`. Please use a different name to suppress this warning.\n",
      "A parameter name that contains `beta` will be renamed internally to `bias`. Please use a different name to suppress this warning.\n",
      "A parameter name that contains `gamma` will be renamed internally to `weight`. Please use a different name to suppress this warning.\n",
      "A parameter name that contains `beta` will be renamed internally to `bias`. Please use a different name to suppress this warning.\n",
      "A parameter name that contains `gamma` will be renamed internally to `weight`. Please use a different name to suppress this warning.\n",
      "A parameter name that contains `beta` will be renamed internally to `bias`. Please use a different name to suppress this warning.\n",
      "A parameter name that contains `gamma` will be renamed internally to `weight`. Please use a different name to suppress this warning.\n",
      "A parameter name that contains `beta` will be renamed internally to `bias`. Please use a different name to suppress this warning.\n",
      "A parameter name that contains `gamma` will be renamed internally to `weight`. Please use a different name to suppress this warning.\n",
      "A parameter name that contains `beta` will be renamed internally to `bias`. Please use a different name to suppress this warning.\n",
      "A parameter name that contains `gamma` will be renamed internally to `weight`. Please use a different name to suppress this warning.\n",
      "A parameter name that contains `beta` will be renamed internally to `bias`. Please use a different name to suppress this warning.\n",
      "A parameter name that contains `gamma` will be renamed internally to `weight`. Please use a different name to suppress this warning.\n",
      "A parameter name that contains `beta` will be renamed internally to `bias`. Please use a different name to suppress this warning.\n",
      "A parameter name that contains `gamma` will be renamed internally to `weight`. Please use a different name to suppress this warning.\n"
     ]
    }
   ],
   "source": [
    "# init bert model\n",
    "bert_model_name = \"bert-base-uncased\"\n",
    "bert_tokenizer = BertTokenizer.from_pretrained(bert_model_name, use_safetensors=True)\n",
    "bert_model = BertModel.from_pretrained(bert_model_name, use_safetensors=True, return_dict=False,\n",
    "                                 attn_implementation=\"sdpa\")"
   ]
  },
  {
   "cell_type": "code",
   "execution_count": 19,
   "id": "ca148547-042a-4548-adef-2053f0d0de1c",
   "metadata": {},
   "outputs": [],
   "source": [
    "\n",
    "#\n",
    "word = \"doctor\"\n",
    "encoded_word = bert_tokenizer(word, return_tensors='pt')\n",
    "output = bert_model(**encoded_word)"
   ]
  },
  {
   "cell_type": "code",
   "execution_count": 33,
   "id": "07ccb11e-ca2e-4d7b-af78-4617d01a9ece",
   "metadata": {},
   "outputs": [
    {
     "data": {
      "text/plain": [
       "tensor(0., grad_fn=<CloneBackward0>)"
      ]
     },
     "execution_count": 33,
     "metadata": {},
     "output_type": "execute_result"
    }
   ],
   "source": [
    "# encoded_word, output\n",
    "minkowski_distance = MinkowskiDistance(3)\n",
    "t = output[0]\n",
    "minkowski_distance(t, t)"
   ]
  },
  {
   "cell_type": "code",
   "execution_count": 42,
   "id": "2a9e4ac2-9ddb-4d18-9684-12ed1c5277fa",
   "metadata": {},
   "outputs": [],
   "source": [
    "# computing difference between \"man\" and \"woman\"\n",
    "def get_bert_distance(w1: str, w2: str) -> float:\n",
    "    \"\"\"\n",
    "    Function that compute distance between words in bert embedding\n",
    "    \"\"\"\n",
    "    # encoding words\n",
    "    w1_encoding = bert_model(**bert_tokenizer(w1, return_tensors='pt'))[0]\n",
    "    w2_encoding = bert_model(**bert_tokenizer(w2, return_tensors='pt'))[0]\n",
    "    \n",
    "    # computing distance\n",
    "    minkowski_distance = MinkowskiDistance(3)\n",
    "    distance = minkowski_distance(w1_encoding, w2_encoding).item()\n",
    "    return distance\n",
    "\n",
    "# TODO: define function that compute gender bias for word"
   ]
  },
  {
   "cell_type": "code",
   "execution_count": 41,
   "id": "b736db3e-e506-4b11-873b-29f6dcf9fa88",
   "metadata": {},
   "outputs": [
    {
     "name": "stdout",
     "output_type": "stream",
     "text": [
      "6.56220006942749 5.690108299255371 4.191605567932129 6.562363147735596\n"
     ]
    }
   ],
   "source": [
    "d1 = get_bert_distance(\"man\", \"male\")\n",
    "d2 = get_bert_distance(\"woman\", \"female\")\n",
    "d3 = get_bert_distance(\"doctor\", \"man\")\n",
    "d4 = get_bert_distance(\"doctor\", \"female\")\n",
    "print(d1, d2, d3, d4)"
   ]
  },
  {
   "cell_type": "code",
   "execution_count": null,
   "id": "28fb5581-08f6-4933-8c82-7308b96317d1",
   "metadata": {},
   "outputs": [],
   "source": []
  }
 ],
 "metadata": {
  "kernelspec": {
   "display_name": "Python 3 (ipykernel)",
   "language": "python",
   "name": "python3"
  },
  "language_info": {
   "codemirror_mode": {
    "name": "ipython",
    "version": 3
   },
   "file_extension": ".py",
   "mimetype": "text/x-python",
   "name": "python",
   "nbconvert_exporter": "python",
   "pygments_lexer": "ipython3",
   "version": "3.11.6"
  }
 },
 "nbformat": 4,
 "nbformat_minor": 5
}
