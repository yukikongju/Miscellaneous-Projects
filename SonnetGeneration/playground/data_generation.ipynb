{
 "cells": [
  {
   "cell_type": "code",
   "execution_count": 7,
   "id": "7ed545fb-e53a-45e6-a769-b0e266e06e5a",
   "metadata": {},
   "outputs": [],
   "source": [
    "import pandas as pd\n",
    "import urllib3\n",
    "import requests"
   ]
  },
  {
   "cell_type": "markdown",
   "id": "3acab66b-079d-4221-9d0b-cb8abf742340",
   "metadata": {},
   "source": [
    "### 1. Reading the files"
   ]
  },
  {
   "cell_type": "markdown",
   "id": "0baf697b-7955-4147-8587-b7924b87896c",
   "metadata": {},
   "source": [
    "- sonnets: https://github.com/enerrio/Generate-Shakespeare-Sonnets/blob/master/sonnets.txt\n",
    "- tinyshakespeare: https://github.com/karpathy/char-rnn/blob/master/data/tinyshakespeare/input.txt"
   ]
  },
  {
   "cell_type": "code",
   "execution_count": 39,
   "id": "b441599e-68b8-4b9d-bfd7-e435bed6159c",
   "metadata": {},
   "outputs": [],
   "source": [
    "def get_github_txt_file(url):\n",
    "    resp = requests.get(url)\n",
    "    data = resp.text\n",
    "    return data.split('\\n')"
   ]
  },
  {
   "cell_type": "markdown",
   "id": "0e0918b7-1434-4382-868c-56dd9fbb2b6c",
   "metadata": {},
   "source": [
    "#### 1.1. sonnets"
   ]
  },
  {
   "cell_type": "code",
   "execution_count": 40,
   "id": "3f7d53c2-7929-4e21-9343-16492a090be9",
   "metadata": {},
   "outputs": [],
   "source": [
    "SONNET_URL = \"https://raw.githubusercontent.com/enerrio/Generate-Shakespeare-Sonnets/master/sonnets.txt\"\n",
    "sonnets_data = get_github_txt_file(SONNET_URL)"
   ]
  },
  {
   "cell_type": "code",
   "execution_count": 41,
   "id": "664f4a95-7dfa-4f22-a2d0-dd5f0663c510",
   "metadata": {},
   "outputs": [
    {
     "data": {
      "text/plain": [
       "['From fairest creatures we desire increase,',\n",
       " \"That thereby beauty's rose might never die,\",\n",
       " 'But as the riper should by time decease,',\n",
       " 'His tender heir might bear his memory:',\n",
       " 'But thou contracted to thine own bright eyes,',\n",
       " \"Feed'st thy light's flame with self-substantial fuel,\",\n",
       " 'Making a famine where abundance lies,',\n",
       " 'Thy self thy foe, to thy sweet self too cruel:',\n",
       " \"Thou that art now the world's fresh ornament,\",\n",
       " 'And only herald to the gaudy spring,',\n",
       " 'Within thine own bud buriest thy content,',\n",
       " \"And, tender churl, mak'st waste in niggarding:\",\n",
       " 'Pity the world, or else this glutton be,',\n",
       " \"To eat the world's due, by the grave and thee.\",\n",
       " '',\n",
       " 'When forty winters shall besiege thy brow,',\n",
       " \"And dig deep trenches in thy beauty's field,\",\n",
       " \"Thy youth's proud livery so gazed on now,\",\n",
       " \"Will be a totter'd weed of small worth held:\",\n",
       " 'Then being asked, where all thy beauty lies,']"
      ]
     },
     "execution_count": 41,
     "metadata": {},
     "output_type": "execute_result"
    }
   ],
   "source": [
    "sonnets_data[:20]"
   ]
  },
  {
   "cell_type": "code",
   "execution_count": 57,
   "id": "a1bc35ee-cbf9-4ecf-b4f1-79869b15e859",
   "metadata": {},
   "outputs": [],
   "source": [
    "# cleanup\n",
    "sonnets_clean = sonnets_data"
   ]
  },
  {
   "cell_type": "markdown",
   "id": "8b97720d-a8c9-425b-8d8c-5a8377fce706",
   "metadata": {},
   "source": [
    "#### 1.2. tinyshakespeare"
   ]
  },
  {
   "cell_type": "code",
   "execution_count": 42,
   "id": "4d090207-d86a-4d52-8726-9cf450e08577",
   "metadata": {},
   "outputs": [],
   "source": [
    "TINYSHAKESPEARE_URL = \"https://raw.githubusercontent.com/karpathy/char-rnn/master/data/tinyshakespeare/input.txt\"\n",
    "tinyshakespeare_data = get_github_txt_file(TINYSHAKESPEARE_URL)"
   ]
  },
  {
   "cell_type": "code",
   "execution_count": 56,
   "id": "a2338860-49b4-4872-a7cc-251f76ee33c1",
   "metadata": {},
   "outputs": [
    {
     "data": {
      "text/plain": [
       "['First Citizen:',\n",
       " 'Before we proceed any further, hear me speak.',\n",
       " '',\n",
       " 'All:',\n",
       " 'Speak, speak.',\n",
       " '',\n",
       " 'First Citizen:',\n",
       " 'You are all resolved rather to die than to famish?',\n",
       " '',\n",
       " 'All:',\n",
       " 'Resolved. resolved.',\n",
       " '',\n",
       " 'First Citizen:',\n",
       " 'First, you know Caius Marcius is chief enemy to the people.',\n",
       " '',\n",
       " 'All:',\n",
       " \"We know't, we know't.\",\n",
       " '',\n",
       " 'First Citizen:',\n",
       " \"Let us kill him, and we'll have corn at our own price.\"]"
      ]
     },
     "execution_count": 56,
     "metadata": {},
     "output_type": "execute_result"
    }
   ],
   "source": [
    "tinyshakespeare_data[:20]"
   ]
  },
  {
   "cell_type": "code",
   "execution_count": 53,
   "id": "03d32af9-a504-4f8a-9298-1c1ec62b3b4c",
   "metadata": {},
   "outputs": [],
   "source": [
    "# remove all lines with character ie ending with \":\" \n",
    "tinyshakespeare_clean = [line for line in tinyshakespeare_data if not line.endswith(':')]\n",
    "\n",
    "# remove all paragraph with less than one line\n",
    "def filter_paragraphs_with_lines_min(data: [str], num_lines_min_per_paragraphs: int = 2):\n",
    "    \"\"\"\n",
    "    Given array of string, remove all paragraphs without min number of lines\n",
    "    \"\"\"\n",
    "    num_lines = 0\n",
    "    data_filtered = []\n",
    "    tmp = []\n",
    "    for line in data:\n",
    "        if len(line) > 0:\n",
    "            num_lines += 1\n",
    "            tmp.append(line)\n",
    "        elif len(line) == 0 and num_lines >= num_lines_min_per_paragraphs:\n",
    "            data_filtered += tmp + ['']\n",
    "            tmp = []\n",
    "            num_lines = 0\n",
    "        else: \n",
    "            tmp = []\n",
    "            num_lines = 0\n",
    "    return data_filtered\n",
    "tinyshakespeare_clean = filter_paragraphs_with_lines_min(tinyshakespeare_clean, 3)"
   ]
  },
  {
   "cell_type": "code",
   "execution_count": 55,
   "id": "3caf9065-f586-4c7c-a27a-cfc9a482a851",
   "metadata": {},
   "outputs": [
    {
     "data": {
      "text/plain": [
       "['We are accounted poor citizens, the patricians good.',\n",
       " 'What authority surfeits on would relieve us: if they',\n",
       " 'would yield us but the superfluity, while it were',\n",
       " 'wholesome, we might guess they relieved us humanely;',\n",
       " 'but they think we are too dear: the leanness that',\n",
       " 'afflicts us, the object of our misery, is as an',\n",
       " 'inventory to particularise their abundance; our',\n",
       " 'sufferance is a gain to them Let us revenge this with',\n",
       " 'our pikes, ere we become rakes: for the gods know I',\n",
       " 'speak this in hunger for bread, not in thirst for revenge.',\n",
       " '',\n",
       " 'I say unto you, what he hath done famously, he did',\n",
       " 'it to that end: though soft-conscienced men can be',\n",
       " 'content to say it was for his country he did it to',\n",
       " 'please his mother and to be partly proud; which he',\n",
       " 'is, even till the altitude of his virtue.',\n",
       " '',\n",
       " 'If I must not, I need not be barren of accusations;',\n",
       " 'he hath faults, with surplus, to tire in repetition.',\n",
       " \"What shouts are these? The other side o' the city\"]"
      ]
     },
     "execution_count": 55,
     "metadata": {},
     "output_type": "execute_result"
    }
   ],
   "source": [
    "tinyshakespeare_clean[:20]"
   ]
  },
  {
   "cell_type": "markdown",
   "id": "c4979e80-e8e8-4a27-baa9-6c038d8d8d92",
   "metadata": {},
   "source": [
    "#### 1.3. concat datasets"
   ]
  },
  {
   "cell_type": "code",
   "execution_count": 58,
   "id": "14d5271d-250f-47a0-9df6-4a9ee747684b",
   "metadata": {},
   "outputs": [],
   "source": [
    "data = sonnets_clean + tinyshakespeare_clean"
   ]
  },
  {
   "cell_type": "code",
   "execution_count": 61,
   "id": "cf82b5f4-3d58-41f1-9a7f-72662a79716c",
   "metadata": {},
   "outputs": [],
   "source": [
    "with open('../data/data.txt', 'w') as f:\n",
    "    for line in data:\n",
    "        f.write(line + '\\n')"
   ]
  },
  {
   "cell_type": "code",
   "execution_count": null,
   "id": "d4bc0ee1-e7ac-4b99-8a84-ac45ea8312bf",
   "metadata": {},
   "outputs": [],
   "source": []
  },
  {
   "cell_type": "code",
   "execution_count": null,
   "id": "d3f878bc-ee06-4f60-a762-2dd316d22314",
   "metadata": {},
   "outputs": [],
   "source": []
  }
 ],
 "metadata": {
  "kernelspec": {
   "display_name": "Python 3 (ipykernel)",
   "language": "python",
   "name": "python3"
  },
  "language_info": {
   "codemirror_mode": {
    "name": "ipython",
    "version": 3
   },
   "file_extension": ".py",
   "mimetype": "text/x-python",
   "name": "python",
   "nbconvert_exporter": "python",
   "pygments_lexer": "ipython3",
   "version": "3.11.6"
  }
 },
 "nbformat": 4,
 "nbformat_minor": 5
}
