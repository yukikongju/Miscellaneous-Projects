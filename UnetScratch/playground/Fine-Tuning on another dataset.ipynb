{
 "cells": [
  {
   "cell_type": "code",
   "execution_count": 129,
   "id": "d561f58d",
   "metadata": {},
   "outputs": [],
   "source": [
    "import pandas as pd\n",
    "import torch \n",
    "import torch.nn.functional as F\n",
    "import torch.nn as nn\n",
    "from torch.utils.data import Dataset, DataLoader\n",
    "import torchvision \n",
    "import torchvision.transforms as transforms\n",
    "import numpy as np\n",
    "\n",
    "import matplotlib.pyplot as plt\n",
    "from PIL import Image\n",
    "\n",
    "import requests\n",
    "import json\n",
    "import ast\n",
    "import os\n",
    "\n",
    "import difflib\n",
    "import random"
   ]
  },
  {
   "cell_type": "markdown",
   "id": "a7558bda",
   "metadata": {},
   "source": [
    "### Comparing Classes from Caltech101 dataset and ImageNet"
   ]
  },
  {
   "cell_type": "code",
   "execution_count": 17,
   "id": "9b3ab432",
   "metadata": {},
   "outputs": [
    {
     "name": "stderr",
     "output_type": "stream",
     "text": [
      "/Users/emulie/pvenv/lib/python3.11/site-packages/urllib3/connectionpool.py:1099: InsecureRequestWarning: Unverified HTTPS request is being made to host 'gist.github.com'. Adding certificate verification is strongly advised. See: https://urllib3.readthedocs.io/en/latest/advanced-usage.html#tls-warnings\n",
      "  warnings.warn(\n",
      "/Users/emulie/pvenv/lib/python3.11/site-packages/urllib3/connectionpool.py:1099: InsecureRequestWarning: Unverified HTTPS request is being made to host 'gist.githubusercontent.com'. Adding certificate verification is strongly advised. See: https://urllib3.readthedocs.io/en/latest/advanced-usage.html#tls-warnings\n",
      "  warnings.warn(\n"
     ]
    }
   ],
   "source": [
    "# --- get dictionary for image net\n",
    "imagenet_dct_url = \"https://gist.github.com/yrevar/942d3a0ac09ec9e5eb3a/raw\"\n",
    "resp = requests.get(imagenet_dct_url, verify=False)\n",
    "dct_imagenet = ast.literal_eval(resp.text)"
   ]
  },
  {
   "cell_type": "code",
   "execution_count": 5,
   "id": "fad82dba",
   "metadata": {},
   "outputs": [],
   "source": []
  },
  {
   "cell_type": "code",
   "execution_count": 7,
   "id": "84724635",
   "metadata": {},
   "outputs": [],
   "source": [
    "# --- get classes names for caltech101\n",
    "with open('../caltech-dct.txt', 'r') as f:\n",
    "    classes_caltech101 = f.readlines()\n",
    "classes_caltech101 = [name.strip().lower() for name in classes_caltech101]"
   ]
  },
  {
   "cell_type": "code",
   "execution_count": null,
   "id": "a0d7da7c",
   "metadata": {},
   "outputs": [],
   "source": []
  },
  {
   "cell_type": "code",
   "execution_count": 9,
   "id": "d3d753d3",
   "metadata": {},
   "outputs": [
    {
     "data": {
      "text/plain": [
       "['faces', 'faces_easy', 'leopards', 'motorbikes', 'accordion']"
      ]
     },
     "execution_count": 9,
     "metadata": {},
     "output_type": "execute_result"
    }
   ],
   "source": [
    "classes_caltech101[:5]"
   ]
  },
  {
   "cell_type": "code",
   "execution_count": 21,
   "id": "174a4547",
   "metadata": {},
   "outputs": [
    {
     "data": {
      "text/plain": [
       "['tench, tinca tinca',\n",
       " 'goldfish, carassius auratus',\n",
       " 'great white shark, white shark, man-eater, man-eating shark, carcharodon carcharias',\n",
       " 'tiger shark, galeocerdo cuvieri',\n",
       " 'hammerhead, hammerhead shark']"
      ]
     },
     "execution_count": 21,
     "metadata": {},
     "output_type": "execute_result"
    }
   ],
   "source": [
    "classes_imagenet = [name.lower() for name in dct_imagenet.values()]\n",
    "classes_imagenet[:5]"
   ]
  },
  {
   "cell_type": "code",
   "execution_count": 22,
   "id": "2de7de7e",
   "metadata": {},
   "outputs": [],
   "source": [
    "# --- compute overlapping classes\n",
    "classes_imagenet_split = [classe.split(', ') for classe in classes_imagenet]\n",
    "classes_imagenet_split = [[word.replace(' ', '_') for word in classe] for classe in classes_imagenet_split]\n",
    "classes_imagenet_split[:5]"
   ]
  },
  {
   "cell_type": "code",
   "execution_count": 62,
   "id": "9466e937",
   "metadata": {},
   "outputs": [],
   "source": [
    "classes_imagenet_flat_lst = [word for classe in classes_imagenet for word in classe]"
   ]
  },
  {
   "cell_type": "code",
   "execution_count": 80,
   "id": "f47d4233",
   "metadata": {},
   "outputs": [
    {
     "data": {
      "text/plain": [
       "['tench', 'tinca', 'tinca', 'goldfish', 'carassius']"
      ]
     },
     "execution_count": 80,
     "metadata": {},
     "output_type": "execute_result"
    }
   ],
   "source": [
    "classes_imagenet_flat_lst2 = [word for classe in classes_imagenet for word in classe.replace(',', '').split(' ')]\n",
    "classes_imagenet_flat_lst2[:5]"
   ]
  },
  {
   "cell_type": "code",
   "execution_count": null,
   "id": "bd0d2171",
   "metadata": {},
   "outputs": [],
   "source": []
  },
  {
   "cell_type": "code",
   "execution_count": null,
   "id": "981982c2",
   "metadata": {},
   "outputs": [],
   "source": []
  },
  {
   "cell_type": "code",
   "execution_count": 75,
   "id": "3767b8a6",
   "metadata": {},
   "outputs": [],
   "source": [
    "missing_classes = []\n",
    "matching_classes = []\n",
    "for caltech101_class in classes_caltech101:\n",
    "    closest_classes = difflib.get_close_matches(caltech101_class, classes_imagenet_flat_lst2, n=1, cutoff=0.8)\n",
    "    \n",
    "    if len(closest_classes) == 0:\n",
    "        missing_classes.append(caltech101_class)\n",
    "    else:\n",
    "        matching_classes.append((caltech101_class, closest_classes))\n",
    "        "
   ]
  },
  {
   "cell_type": "code",
   "execution_count": 77,
   "id": "b35f0a8c",
   "metadata": {},
   "outputs": [
    {
     "data": {
      "text/plain": [
       "[('faces', ['face']),\n",
       " ('leopards', ['leopard']),\n",
       " ('accordion', ['accordion']),\n",
       " ('airplanes', ['warplane']),\n",
       " ('ant', ['ant']),\n",
       " ('barrel', ['barrel']),\n",
       " ('bass', ['brass']),\n",
       " ('beaver', ['beaver']),\n",
       " ('binocular', ['binoculars']),\n",
       " ('bonsai', ['bonasa']),\n",
       " ('brain', ['brain']),\n",
       " ('butterfly', ['butterfly']),\n",
       " ('camera', ['camera']),\n",
       " ('cannon', ['cannon']),\n",
       " ('cellphone', ['cellphone']),\n",
       " ('chair', ['chair']),\n",
       " ('crab', ['crab']),\n",
       " ('crayfish', ['crayfish']),\n",
       " ('crocodile', ['crocodile']),\n",
       " ('cup', ['cup']),\n",
       " ('dalmatian', ['dalmatian']),\n",
       " ('dragonfly', ['dragonfly']),\n",
       " ('elephant', ['elephant']),\n",
       " ('ewer', ['ewer']),\n",
       " ('ferry', ['kerry']),\n",
       " ('flamingo', ['flamingo']),\n",
       " ('hedgehog', ['hedgehog']),\n",
       " ('kangaroo', ['kangaroo']),\n",
       " ('lamp', ['lamp']),\n",
       " ('laptop', ['laptop']),\n",
       " ('llama', ['llama']),\n",
       " ('lobster', ['lobster']),\n",
       " ('nautilus', ['nautilus']),\n",
       " ('panda', ['panda']),\n",
       " ('pizza', ['pizza']),\n",
       " ('platypus', ['platypus']),\n",
       " ('revolver', ['revolver']),\n",
       " ('saxophone', ['saxophone']),\n",
       " ('schooner', ['schooner']),\n",
       " ('scorpion', ['scorpion']),\n",
       " ('sea_horse', ['seashore']),\n",
       " ('stapler', ['taper']),\n",
       " ('starfish', ['starfish']),\n",
       " ('strawberry', ['strawberry']),\n",
       " ('tick', ['tick']),\n",
       " ('trilobite', ['trilobite']),\n",
       " ('umbrella', ['umbrella']),\n",
       " ('watch', ['watch']),\n",
       " ('wrench', ['trench'])]"
      ]
     },
     "execution_count": 77,
     "metadata": {},
     "output_type": "execute_result"
    }
   ],
   "source": [
    "matching_classes"
   ]
  },
  {
   "cell_type": "code",
   "execution_count": 78,
   "id": "7a7e636e",
   "metadata": {},
   "outputs": [
    {
     "data": {
      "text/plain": [
       "['faces_easy',\n",
       " 'motorbikes',\n",
       " 'anchor',\n",
       " 'brontosaurus',\n",
       " 'buddha',\n",
       " 'car_side',\n",
       " 'ceiling_fan',\n",
       " 'chandelier',\n",
       " 'cougar_body',\n",
       " 'cougar_face',\n",
       " 'crocodile_head',\n",
       " 'dollar_bill',\n",
       " 'dolphin',\n",
       " 'electric_guitar',\n",
       " 'emu',\n",
       " 'euphonium',\n",
       " 'flamingo_head',\n",
       " 'garfield',\n",
       " 'gerenuk',\n",
       " 'gramophone',\n",
       " 'grand_piano',\n",
       " 'hawksbill',\n",
       " 'headphone',\n",
       " 'helicopter',\n",
       " 'ibis',\n",
       " 'inline_skate',\n",
       " 'joshua_tree',\n",
       " 'ketch',\n",
       " 'lotus',\n",
       " 'mandolin',\n",
       " 'mayfly',\n",
       " 'menorah',\n",
       " 'metronome',\n",
       " 'minaret',\n",
       " 'octopus',\n",
       " 'okapi',\n",
       " 'pagoda',\n",
       " 'pigeon',\n",
       " 'pyramid',\n",
       " 'rhino',\n",
       " 'rooster',\n",
       " 'scissors',\n",
       " 'snoopy',\n",
       " 'soccer_ball',\n",
       " 'stegosaurus',\n",
       " 'stop_sign',\n",
       " 'sunflower',\n",
       " 'water_lilly',\n",
       " 'wheelchair',\n",
       " 'wild_cat',\n",
       " 'windsor_chair',\n",
       " 'yin_yang']"
      ]
     },
     "execution_count": 78,
     "metadata": {},
     "output_type": "execute_result"
    }
   ],
   "source": [
    "missing_classes"
   ]
  },
  {
   "cell_type": "code",
   "execution_count": 88,
   "id": "3427e723",
   "metadata": {},
   "outputs": [
    {
     "name": "stdout",
     "output_type": "stream",
     "text": [
      "Missing classes: 51.485149% (52/101)\n"
     ]
    }
   ],
   "source": [
    "print(f\"Missing classes: {len(missing_classes) / len(classes_caltech101) * 100:2f}% ({len(missing_classes)}/{len(classes_caltech101)})\")"
   ]
  },
  {
   "cell_type": "markdown",
   "id": "f05c9a00",
   "metadata": {},
   "source": [
    "### Load CalTech101 Dataset"
   ]
  },
  {
   "cell_type": "code",
   "execution_count": 107,
   "id": "9f38efe9",
   "metadata": {},
   "outputs": [
    {
     "name": "stdout",
     "output_type": "stream",
     "text": [
      "Downloading from https://www.kaggle.com/api/v1/datasets/download/imbikramsaha/caltech-101?dataset_version_number=1...\n"
     ]
    },
    {
     "name": "stderr",
     "output_type": "stream",
     "text": [
      "100%|████████████████████████████████████████████████████████████████████| 131M/131M [00:04<00:00, 27.5MB/s]"
     ]
    },
    {
     "name": "stdout",
     "output_type": "stream",
     "text": [
      "Extracting files...\n"
     ]
    },
    {
     "name": "stderr",
     "output_type": "stream",
     "text": [
      "\n"
     ]
    }
   ],
   "source": [
    "# TODO: download data from kaggle https://www.kaggle.com/datasets/imbikramsaha/caltech-101\n",
    "import kagglehub\n",
    "\n",
    "path = kagglehub.dataset_download(\"imbikramsaha/caltech-101\")"
   ]
  },
  {
   "cell_type": "code",
   "execution_count": 108,
   "id": "439f2fa8",
   "metadata": {},
   "outputs": [
    {
     "data": {
      "text/plain": [
       "'/Users/emulie/.cache/kagglehub/datasets/imbikramsaha/caltech-101/versions/1'"
      ]
     },
     "execution_count": 108,
     "metadata": {},
     "output_type": "execute_result"
    }
   ],
   "source": [
    "path"
   ]
  },
  {
   "cell_type": "code",
   "execution_count": 219,
   "id": "b80b4216",
   "metadata": {},
   "outputs": [
    {
     "data": {
      "text/plain": [
       "<torch._C.Generator at 0x134af4c50>"
      ]
     },
     "execution_count": 219,
     "metadata": {},
     "output_type": "execute_result"
    }
   ],
   "source": [
    "torch.manual_seed(42)"
   ]
  },
  {
   "cell_type": "code",
   "execution_count": 220,
   "id": "35f90370",
   "metadata": {},
   "outputs": [],
   "source": [
    "class Caltech101Dataset(Dataset):\n",
    "    \n",
    "    def __init__(self, dataset_dir: int, split: str, transform=None, train_split: float = 0.8):\n",
    "        self.dataset_dir = dataset_dir\n",
    "        self.transform = transform\n",
    "        self.split = split\n",
    "        self.train_split = train_split\n",
    "        \n",
    "        self.classes = os.listdir(dataset_dir)\n",
    "        self.class_to_idx = {cls: idx for idx, cls in enumerate(self.classes)}\n",
    "        self.idx_to_class = {idx: cls for idx, cls in enumerate(self.classes)}\n",
    "        self.images = self._load_images()\n",
    "    \n",
    "    def _load_images(self):\n",
    "        images = []\n",
    "        for cls in self.classes:\n",
    "            class_dir = os.path.join(self.dataset_dir, cls)\n",
    "            for img_name in os.listdir(class_dir):\n",
    "                img_path = os.path.join(class_dir, img_name)\n",
    "                images.append((img_path, self.class_to_idx[cls]))\n",
    "                \n",
    "        random.shuffle(images)\n",
    "        \n",
    "        e_train = int(len(images) * self.train_split)\n",
    "        if self.split == \"train\":\n",
    "            images = images[:e_train]\n",
    "        elif self.split == \"test\":\n",
    "            images = images[e_train:]\n",
    "        else:\n",
    "            raise ValueError(\"Invalid split value. Specify 'train' or 'test' \")\n",
    "        \n",
    "        return images\n",
    "\n",
    "    def __len__(self):\n",
    "        return len(self.images)\n",
    "\n",
    "    def __getitem__(self, idx):\n",
    "        img_path, label = self.images[idx]\n",
    "        image = Image.open(img_path).convert('RGB')\n",
    "\n",
    "        if self.transform:\n",
    "            image = self.transform(image)\n",
    "        else:\n",
    "            image = image.resize((64, 64))\n",
    "            image = np.asarray(image) / 255\n",
    "            image = np.transpose(image, (2, 0, 1))\n",
    "            image = torch.tensor(image, dtype=torch.float32)\n",
    "\n",
    "        return image, label"
   ]
  },
  {
   "cell_type": "code",
   "execution_count": 221,
   "id": "293c391d",
   "metadata": {},
   "outputs": [],
   "source": [
    "dataset_dir = path + '/caltech-101/'\n",
    "train_dataset = Caltech101Dataset(dataset_dir, split='train')\n",
    "test_dataset = Caltech101Dataset(dataset_dir, split='test')\n",
    "\n",
    "train_dataloader = DataLoader(train_dataset, batch_size=8)\n",
    "test_dataloader = DataLoader(test_dataset, batch_size=8)"
   ]
  },
  {
   "cell_type": "code",
   "execution_count": 228,
   "id": "6234ed1b",
   "metadata": {},
   "outputs": [],
   "source": [
    "# --- TODO: visualize image \n",
    "batch, labels = next(iter(train_dataloader))"
   ]
  },
  {
   "cell_type": "code",
   "execution_count": 229,
   "id": "0fb57c49",
   "metadata": {},
   "outputs": [
    {
     "data": {
      "image/png": "[encoded data removed]",
      "text/plain": [
       "<Figure size 640x480 with 1 Axes>"
      ]
     },
     "metadata": {},
     "output_type": "display_data"
    }
   ],
   "source": [
    "for image, label in zip(batch, labels):\n",
    "    plt.imshow(image.permute(1, 2, 0))"
   ]
  },
  {
   "cell_type": "code",
   "execution_count": 230,
   "id": "d030b0af",
   "metadata": {},
   "outputs": [
    {
     "data": {
      "text/plain": [
       "torch.Size([8, 3, 64, 64])"
      ]
     },
     "execution_count": 230,
     "metadata": {},
     "output_type": "execute_result"
    }
   ],
   "source": [
    "batch.shape"
   ]
  },
  {
   "cell_type": "code",
   "execution_count": null,
   "id": "c314af1f",
   "metadata": {},
   "outputs": [],
   "source": []
  },
  {
   "cell_type": "code",
   "execution_count": null,
   "id": "4a7a6c8b",
   "metadata": {},
   "outputs": [],
   "source": []
  },
  {
   "cell_type": "code",
   "execution_count": null,
   "id": "07888fd6",
   "metadata": {},
   "outputs": [],
   "source": []
  },
  {
   "cell_type": "code",
   "execution_count": null,
   "id": "82e4530b",
   "metadata": {},
   "outputs": [],
   "source": []
  },
  {
   "cell_type": "markdown",
   "id": "a946e704",
   "metadata": {},
   "source": [
    "### VGG19 performance on CalTech101 dataset"
   ]
  },
  {
   "cell_type": "code",
   "execution_count": 225,
   "id": "d1bc6574",
   "metadata": {},
   "outputs": [
    {
     "data": {
      "text/plain": [
       "VGG(\n",
       "  (features): Sequential(\n",
       "    (0): Conv2d(3, 64, kernel_size=(3, 3), stride=(1, 1), padding=(1, 1))\n",
       "    (1): ReLU(inplace=True)\n",
       "    (2): Conv2d(64, 64, kernel_size=(3, 3), stride=(1, 1), padding=(1, 1))\n",
       "    (3): ReLU(inplace=True)\n",
       "    (4): MaxPool2d(kernel_size=2, stride=2, padding=0, dilation=1, ceil_mode=False)\n",
       "    (5): Conv2d(64, 128, kernel_size=(3, 3), stride=(1, 1), padding=(1, 1))\n",
       "    (6): ReLU(inplace=True)\n",
       "    (7): Conv2d(128, 128, kernel_size=(3, 3), stride=(1, 1), padding=(1, 1))\n",
       "    (8): ReLU(inplace=True)\n",
       "    (9): MaxPool2d(kernel_size=2, stride=2, padding=0, dilation=1, ceil_mode=False)\n",
       "    (10): Conv2d(128, 256, kernel_size=(3, 3), stride=(1, 1), padding=(1, 1))\n",
       "    (11): ReLU(inplace=True)\n",
       "    (12): Conv2d(256, 256, kernel_size=(3, 3), stride=(1, 1), padding=(1, 1))\n",
       "    (13): ReLU(inplace=True)\n",
       "    (14): Conv2d(256, 256, kernel_size=(3, 3), stride=(1, 1), padding=(1, 1))\n",
       "    (15): ReLU(inplace=True)\n",
       "    (16): Conv2d(256, 256, kernel_size=(3, 3), stride=(1, 1), padding=(1, 1))\n",
       "    (17): ReLU(inplace=True)\n",
       "    (18): MaxPool2d(kernel_size=2, stride=2, padding=0, dilation=1, ceil_mode=False)\n",
       "    (19): Conv2d(256, 512, kernel_size=(3, 3), stride=(1, 1), padding=(1, 1))\n",
       "    (20): ReLU(inplace=True)\n",
       "    (21): Conv2d(512, 512, kernel_size=(3, 3), stride=(1, 1), padding=(1, 1))\n",
       "    (22): ReLU(inplace=True)\n",
       "    (23): Conv2d(512, 512, kernel_size=(3, 3), stride=(1, 1), padding=(1, 1))\n",
       "    (24): ReLU(inplace=True)\n",
       "    (25): Conv2d(512, 512, kernel_size=(3, 3), stride=(1, 1), padding=(1, 1))\n",
       "    (26): ReLU(inplace=True)\n",
       "    (27): MaxPool2d(kernel_size=2, stride=2, padding=0, dilation=1, ceil_mode=False)\n",
       "    (28): Conv2d(512, 512, kernel_size=(3, 3), stride=(1, 1), padding=(1, 1))\n",
       "    (29): ReLU(inplace=True)\n",
       "    (30): Conv2d(512, 512, kernel_size=(3, 3), stride=(1, 1), padding=(1, 1))\n",
       "    (31): ReLU(inplace=True)\n",
       "    (32): Conv2d(512, 512, kernel_size=(3, 3), stride=(1, 1), padding=(1, 1))\n",
       "    (33): ReLU(inplace=True)\n",
       "    (34): Conv2d(512, 512, kernel_size=(3, 3), stride=(1, 1), padding=(1, 1))\n",
       "    (35): ReLU(inplace=True)\n",
       "    (36): MaxPool2d(kernel_size=2, stride=2, padding=0, dilation=1, ceil_mode=False)\n",
       "  )\n",
       "  (avgpool): AdaptiveAvgPool2d(output_size=(7, 7))\n",
       "  (classifier): Sequential(\n",
       "    (0): Linear(in_features=25088, out_features=4096, bias=True)\n",
       "    (1): ReLU(inplace=True)\n",
       "    (2): Dropout(p=0.5, inplace=False)\n",
       "    (3): Linear(in_features=4096, out_features=4096, bias=True)\n",
       "    (4): ReLU(inplace=True)\n",
       "    (5): Dropout(p=0.5, inplace=False)\n",
       "    (6): Linear(in_features=4096, out_features=1000, bias=True)\n",
       "  )\n",
       ")"
      ]
     },
     "execution_count": 225,
     "metadata": {},
     "output_type": "execute_result"
    }
   ],
   "source": [
    "vgg19 = torchvision.models.vgg19(weights='DEFAULT')\n",
    "vgg19.eval()"
   ]
  },
  {
   "cell_type": "code",
   "execution_count": 226,
   "id": "0857d815",
   "metadata": {},
   "outputs": [],
   "source": [
    "def get_top_image_classification(model, img_tensors, top_k: int = 5):\n",
    "    # compute prediction\n",
    "    output = model(img_tensors)\n",
    "    probs = F.softmax(output)\n",
    "    topk_prob, topk_catid = torch.topk(probs, top_k)\n",
    "    \n",
    "    # convert prediction classes to class name\n",
    "    top_results = []\n",
    "    batch_size = topk_prob.shape[0]\n",
    "    for batch_idx in range(batch_size):\n",
    "        batch_res = []\n",
    "        for prob, catid in zip(topk_prob[batch_idx], topk_catid[batch_idx]):\n",
    "            idx = catid.item()\n",
    "            batch_res.append((idx, dct_imagenet[idx], prob.item()))\n",
    "        top_results.append(batch_res)\n",
    "    \n",
    "    return top_results"
   ]
  },
  {
   "cell_type": "code",
   "execution_count": 232,
   "id": "5b996edf",
   "metadata": {},
   "outputs": [
    {
     "name": "stderr",
     "output_type": "stream",
     "text": [
      "/var/folders/ft/zzyxfrm96v3dk85k23qrmdww0000gp/T/ipykernel_94094/1960274079.py:4: UserWarning: Implicit dimension choice for softmax has been deprecated. Change the call to include dim=X as an argument.\n",
      "  probs = F.softmax(output)\n"
     ]
    },
    {
     "data": {
      "text/plain": [
       "[[(416, 'balance beam, beam', 0.6272812485694885),\n",
       "  (697, \"pajama, pyjama, pj's, jammies\", 0.07593285292387009),\n",
       "  (870, 'tricycle, trike, velocipede', 0.06633879244327545),\n",
       "  (430, 'basketball', 0.04983018711209297),\n",
       "  (876, 'tub, vat', 0.049529340118169785)]]"
      ]
     },
     "execution_count": 232,
     "metadata": {},
     "output_type": "execute_result"
    }
   ],
   "source": [
    "get_top_image_classification(vgg19, batch[7].unsqueeze(0), top_k=5)"
   ]
  },
  {
   "cell_type": "code",
   "execution_count": 231,
   "id": "0f42d265",
   "metadata": {},
   "outputs": [
    {
     "name": "stdout",
     "output_type": "stream",
     "text": [
      "Faces\n"
     ]
    }
   ],
   "source": [
    "print(train_dataset.idx_to_class[labels[7].item()])"
   ]
  },
  {
   "cell_type": "markdown",
   "id": "ee6076dd",
   "metadata": {},
   "source": [
    "### Fine-Tuning VGG19 model"
   ]
  },
  {
   "cell_type": "code",
   "execution_count": 92,
   "id": "965c62c4",
   "metadata": {},
   "outputs": [],
   "source": []
  },
  {
   "cell_type": "code",
   "execution_count": null,
   "id": "0814c0e2",
   "metadata": {},
   "outputs": [],
   "source": []
  },
  {
   "cell_type": "code",
   "execution_count": 100,
   "id": "6d9c2feb",
   "metadata": {},
   "outputs": [],
   "source": [
    "class VGG19_Caltech(nn.Module):\n",
    "    \n",
    "    def __init__(self, num_classes=101):\n",
    "        super(VGG19_Caltech, self).__init__()\n",
    "        self.num_classes = num_classes\n",
    "\n",
    "        self.features = vgg19.features\n",
    "        self.avgpool = nn.AdaptiveAvgPool2d((7, 7))\n",
    "        self.classifier = nn.Sequential(\n",
    "            nn.Linear(512 * 7 * 7, 4096),\n",
    "            nn.ReLU(inplace=True),\n",
    "            nn.Dropout(p=0.5),\n",
    "            nn.Linear(4096, 4096),\n",
    "            nn.ReLU(inplace=True),\n",
    "            nn.Dropout(p=0.5),\n",
    "            nn.Linear(4096, num_classes),\n",
    "        )\n",
    "        \n",
    "    def forward(self, x):\n",
    "        x = self.features(x)\n",
    "        x = self.avgpool(x)\n",
    "        x = self.classifier(x)\n",
    "        return x"
   ]
  },
  {
   "cell_type": "code",
   "execution_count": 101,
   "id": "9aca2acc",
   "metadata": {},
   "outputs": [],
   "source": [
    "model = VGG19_Caltech()"
   ]
  },
  {
   "cell_type": "code",
   "execution_count": null,
   "id": "feecd8b9",
   "metadata": {},
   "outputs": [],
   "source": [
    "# --- TODO: training model with caltech data"
   ]
  },
  {
   "cell_type": "code",
   "execution_count": null,
   "id": "729c22e1",
   "metadata": {},
   "outputs": [],
   "source": [
    "# --- TODO: compare vgg19 performance vs vgg19 performance"
   ]
  }
 ],
 "metadata": {
  "kernelspec": {
   "display_name": "Python 3 (ipykernel)",
   "language": "python",
   "name": "python3"
  },
  "language_info": {
   "codemirror_mode": {
    "name": "ipython",
    "version": 3
   },
   "file_extension": ".py",
   "mimetype": "text/x-python",
   "name": "python",
   "nbconvert_exporter": "python",
   "pygments_lexer": "ipython3",
   "version": "3.11.6"
  }
 },
 "nbformat": 4,
 "nbformat_minor": 5
}
