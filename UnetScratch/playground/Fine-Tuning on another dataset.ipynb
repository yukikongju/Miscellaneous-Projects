{
 "cells": [
  {
   "cell_type": "code",
   "execution_count": 111,
   "id": "95e2cfba",
   "metadata": {},
   "outputs": [],
   "source": [
    "import pandas as pd\n",
    "import torch \n",
    "import torch.nn.functional as F\n",
    "import torch.nn as nn\n",
    "from torch.utils.data import Dataset\n",
    "import torchvision \n",
    "import torchvision.transforms as transforms\n",
    "import numpy as np\n",
    "\n",
    "import matplotlib.pyplot as plt\n",
    "from PIL import Image\n",
    "\n",
    "import requests\n",
    "import json\n",
    "import ast\n",
    "import os\n",
    "\n",
    "import difflib"
   ]
  },
  {
   "cell_type": "markdown",
   "id": "ba49a5bb",
   "metadata": {},
   "source": [
    "### Comparing Classes from Caltech101 dataset and ImageNet"
   ]
  },
  {
   "cell_type": "code",
   "execution_count": 17,
   "id": "458d4ffa",
   "metadata": {},
   "outputs": [
    {
     "name": "stderr",
     "output_type": "stream",
     "text": [
      "/Users/emulie/pvenv/lib/python3.11/site-packages/urllib3/connectionpool.py:1099: InsecureRequestWarning: Unverified HTTPS request is being made to host 'gist.github.com'. Adding certificate verification is strongly advised. See: https://urllib3.readthedocs.io/en/latest/advanced-usage.html#tls-warnings\n",
      "  warnings.warn(\n",
      "/Users/emulie/pvenv/lib/python3.11/site-packages/urllib3/connectionpool.py:1099: InsecureRequestWarning: Unverified HTTPS request is being made to host 'gist.githubusercontent.com'. Adding certificate verification is strongly advised. See: https://urllib3.readthedocs.io/en/latest/advanced-usage.html#tls-warnings\n",
      "  warnings.warn(\n"
     ]
    }
   ],
   "source": [
    "# --- get dictionary for image net\n",
    "imagenet_dct_url = \"https://gist.github.com/yrevar/942d3a0ac09ec9e5eb3a/raw\"\n",
    "resp = requests.get(imagenet_dct_url, verify=False)\n",
    "dct_imagenet = ast.literal_eval(resp.text)"
   ]
  },
  {
   "cell_type": "code",
   "execution_count": 5,
   "id": "bef93248",
   "metadata": {},
   "outputs": [],
   "source": []
  },
  {
   "cell_type": "code",
   "execution_count": 7,
   "id": "e52e34b4",
   "metadata": {},
   "outputs": [],
   "source": [
    "# --- get classes names for caltech101\n",
    "with open('../caltech-dct.txt', 'r') as f:\n",
    "    classes_caltech101 = f.readlines()\n",
    "classes_caltech101 = [name.strip().lower() for name in classes_caltech101]"
   ]
  },
  {
   "cell_type": "code",
   "execution_count": null,
   "id": "bc6e2773",
   "metadata": {},
   "outputs": [],
   "source": []
  },
  {
   "cell_type": "code",
   "execution_count": 9,
   "id": "45399ef8",
   "metadata": {},
   "outputs": [
    {
     "data": {
      "text/plain": [
       "['faces', 'faces_easy', 'leopards', 'motorbikes', 'accordion']"
      ]
     },
     "execution_count": 9,
     "metadata": {},
     "output_type": "execute_result"
    }
   ],
   "source": [
    "classes_caltech101[:5]"
   ]
  },
  {
   "cell_type": "code",
   "execution_count": 21,
   "id": "65003862",
   "metadata": {},
   "outputs": [
    {
     "data": {
      "text/plain": [
       "['tench, tinca tinca',\n",
       " 'goldfish, carassius auratus',\n",
       " 'great white shark, white shark, man-eater, man-eating shark, carcharodon carcharias',\n",
       " 'tiger shark, galeocerdo cuvieri',\n",
       " 'hammerhead, hammerhead shark']"
      ]
     },
     "execution_count": 21,
     "metadata": {},
     "output_type": "execute_result"
    }
   ],
   "source": [
    "classes_imagenet = [name.lower() for name in dct_imagenet.values()]\n",
    "classes_imagenet[:5]"
   ]
  },
  {
   "cell_type": "code",
   "execution_count": 22,
   "id": "dd21b30c",
   "metadata": {},
   "outputs": [],
   "source": [
    "# --- compute overlapping classes\n",
    "classes_imagenet_split = [classe.split(', ') for classe in classes_imagenet]\n",
    "classes_imagenet_split = [[word.replace(' ', '_') for word in classe] for classe in classes_imagenet_split]\n",
    "classes_imagenet_split[:5]"
   ]
  },
  {
   "cell_type": "code",
   "execution_count": 62,
   "id": "c3f9d986",
   "metadata": {},
   "outputs": [],
   "source": [
    "classes_imagenet_flat_lst = [word for classe in classes_imagenet for word in classe]"
   ]
  },
  {
   "cell_type": "code",
   "execution_count": 80,
   "id": "14c6aedb",
   "metadata": {},
   "outputs": [
    {
     "data": {
      "text/plain": [
       "['tench', 'tinca', 'tinca', 'goldfish', 'carassius']"
      ]
     },
     "execution_count": 80,
     "metadata": {},
     "output_type": "execute_result"
    }
   ],
   "source": [
    "classes_imagenet_flat_lst2 = [word for classe in classes_imagenet for word in classe.replace(',', '').split(' ')]\n",
    "classes_imagenet_flat_lst2[:5]"
   ]
  },
  {
   "cell_type": "code",
   "execution_count": null,
   "id": "dcf69a4b",
   "metadata": {},
   "outputs": [],
   "source": []
  },
  {
   "cell_type": "code",
   "execution_count": null,
   "id": "66c39adf",
   "metadata": {},
   "outputs": [],
   "source": []
  },
  {
   "cell_type": "code",
   "execution_count": 75,
   "id": "41fc9bb8",
   "metadata": {},
   "outputs": [],
   "source": [
    "missing_classes = []\n",
    "matching_classes = []\n",
    "for caltech101_class in classes_caltech101:\n",
    "    closest_classes = difflib.get_close_matches(caltech101_class, classes_imagenet_flat_lst2, n=1, cutoff=0.8)\n",
    "    \n",
    "    if len(closest_classes) == 0:\n",
    "        missing_classes.append(caltech101_class)\n",
    "    else:\n",
    "        matching_classes.append((caltech101_class, closest_classes))\n",
    "        "
   ]
  },
  {
   "cell_type": "code",
   "execution_count": 77,
   "id": "95603985",
   "metadata": {},
   "outputs": [
    {
     "data": {
      "text/plain": [
       "[('faces', ['face']),\n",
       " ('leopards', ['leopard']),\n",
       " ('accordion', ['accordion']),\n",
       " ('airplanes', ['warplane']),\n",
       " ('ant', ['ant']),\n",
       " ('barrel', ['barrel']),\n",
       " ('bass', ['brass']),\n",
       " ('beaver', ['beaver']),\n",
       " ('binocular', ['binoculars']),\n",
       " ('bonsai', ['bonasa']),\n",
       " ('brain', ['brain']),\n",
       " ('butterfly', ['butterfly']),\n",
       " ('camera', ['camera']),\n",
       " ('cannon', ['cannon']),\n",
       " ('cellphone', ['cellphone']),\n",
       " ('chair', ['chair']),\n",
       " ('crab', ['crab']),\n",
       " ('crayfish', ['crayfish']),\n",
       " ('crocodile', ['crocodile']),\n",
       " ('cup', ['cup']),\n",
       " ('dalmatian', ['dalmatian']),\n",
       " ('dragonfly', ['dragonfly']),\n",
       " ('elephant', ['elephant']),\n",
       " ('ewer', ['ewer']),\n",
       " ('ferry', ['kerry']),\n",
       " ('flamingo', ['flamingo']),\n",
       " ('hedgehog', ['hedgehog']),\n",
       " ('kangaroo', ['kangaroo']),\n",
       " ('lamp', ['lamp']),\n",
       " ('laptop', ['laptop']),\n",
       " ('llama', ['llama']),\n",
       " ('lobster', ['lobster']),\n",
       " ('nautilus', ['nautilus']),\n",
       " ('panda', ['panda']),\n",
       " ('pizza', ['pizza']),\n",
       " ('platypus', ['platypus']),\n",
       " ('revolver', ['revolver']),\n",
       " ('saxophone', ['saxophone']),\n",
       " ('schooner', ['schooner']),\n",
       " ('scorpion', ['scorpion']),\n",
       " ('sea_horse', ['seashore']),\n",
       " ('stapler', ['taper']),\n",
       " ('starfish', ['starfish']),\n",
       " ('strawberry', ['strawberry']),\n",
       " ('tick', ['tick']),\n",
       " ('trilobite', ['trilobite']),\n",
       " ('umbrella', ['umbrella']),\n",
       " ('watch', ['watch']),\n",
       " ('wrench', ['trench'])]"
      ]
     },
     "execution_count": 77,
     "metadata": {},
     "output_type": "execute_result"
    }
   ],
   "source": [
    "matching_classes"
   ]
  },
  {
   "cell_type": "code",
   "execution_count": 78,
   "id": "571206ef",
   "metadata": {},
   "outputs": [
    {
     "data": {
      "text/plain": [
       "['faces_easy',\n",
       " 'motorbikes',\n",
       " 'anchor',\n",
       " 'brontosaurus',\n",
       " 'buddha',\n",
       " 'car_side',\n",
       " 'ceiling_fan',\n",
       " 'chandelier',\n",
       " 'cougar_body',\n",
       " 'cougar_face',\n",
       " 'crocodile_head',\n",
       " 'dollar_bill',\n",
       " 'dolphin',\n",
       " 'electric_guitar',\n",
       " 'emu',\n",
       " 'euphonium',\n",
       " 'flamingo_head',\n",
       " 'garfield',\n",
       " 'gerenuk',\n",
       " 'gramophone',\n",
       " 'grand_piano',\n",
       " 'hawksbill',\n",
       " 'headphone',\n",
       " 'helicopter',\n",
       " 'ibis',\n",
       " 'inline_skate',\n",
       " 'joshua_tree',\n",
       " 'ketch',\n",
       " 'lotus',\n",
       " 'mandolin',\n",
       " 'mayfly',\n",
       " 'menorah',\n",
       " 'metronome',\n",
       " 'minaret',\n",
       " 'octopus',\n",
       " 'okapi',\n",
       " 'pagoda',\n",
       " 'pigeon',\n",
       " 'pyramid',\n",
       " 'rhino',\n",
       " 'rooster',\n",
       " 'scissors',\n",
       " 'snoopy',\n",
       " 'soccer_ball',\n",
       " 'stegosaurus',\n",
       " 'stop_sign',\n",
       " 'sunflower',\n",
       " 'water_lilly',\n",
       " 'wheelchair',\n",
       " 'wild_cat',\n",
       " 'windsor_chair',\n",
       " 'yin_yang']"
      ]
     },
     "execution_count": 78,
     "metadata": {},
     "output_type": "execute_result"
    }
   ],
   "source": [
    "missing_classes"
   ]
  },
  {
   "cell_type": "code",
   "execution_count": 88,
   "id": "006e5865",
   "metadata": {},
   "outputs": [
    {
     "name": "stdout",
     "output_type": "stream",
     "text": [
      "Missing classes: 51.485149% (52/101)\n"
     ]
    }
   ],
   "source": [
    "print(f\"Missing classes: {len(missing_classes) / len(classes_caltech101) * 100:2f}% ({len(missing_classes)}/{len(classes_caltech101)})\")"
   ]
  },
  {
   "cell_type": "markdown",
   "id": "d9d547f5",
   "metadata": {},
   "source": [
    "### Load CalTech101 Dataset"
   ]
  },
  {
   "cell_type": "code",
   "execution_count": 107,
   "id": "906e9234",
   "metadata": {},
   "outputs": [
    {
     "name": "stdout",
     "output_type": "stream",
     "text": [
      "Downloading from https://www.kaggle.com/api/v1/datasets/download/imbikramsaha/caltech-101?dataset_version_number=1...\n"
     ]
    },
    {
     "name": "stderr",
     "output_type": "stream",
     "text": [
      "100%|████████████████████████████████████████████████████████████████████| 131M/131M [00:04<00:00, 27.5MB/s]"
     ]
    },
    {
     "name": "stdout",
     "output_type": "stream",
     "text": [
      "Extracting files...\n"
     ]
    },
    {
     "name": "stderr",
     "output_type": "stream",
     "text": [
      "\n"
     ]
    }
   ],
   "source": [
    "# TODO: download data from kaggle https://www.kaggle.com/datasets/imbikramsaha/caltech-101\n",
    "import kagglehub\n",
    "\n",
    "path = kagglehub.dataset_download(\"imbikramsaha/caltech-101\")"
   ]
  },
  {
   "cell_type": "code",
   "execution_count": 108,
   "id": "6331e4d4",
   "metadata": {},
   "outputs": [
    {
     "data": {
      "text/plain": [
       "'/Users/emulie/.cache/kagglehub/datasets/imbikramsaha/caltech-101/versions/1'"
      ]
     },
     "execution_count": 108,
     "metadata": {},
     "output_type": "execute_result"
    }
   ],
   "source": [
    "path"
   ]
  },
  {
   "cell_type": "code",
   "execution_count": null,
   "id": "47f31b5e",
   "metadata": {},
   "outputs": [],
   "source": []
  },
  {
   "cell_type": "markdown",
   "id": "9b1b43c9",
   "metadata": {},
   "source": [
    "### VGG19 performance on CalTech101 dataset"
   ]
  },
  {
   "cell_type": "code",
   "execution_count": null,
   "id": "179f8f29",
   "metadata": {},
   "outputs": [],
   "source": [
    "vgg19 = torchvision.models.vgg19(weights='DEFAULT')"
   ]
  },
  {
   "cell_type": "code",
   "execution_count": null,
   "id": "3e69816f",
   "metadata": {},
   "outputs": [],
   "source": [
    "# TODO"
   ]
  },
  {
   "cell_type": "markdown",
   "id": "0bd36344",
   "metadata": {},
   "source": [
    "### Fine-Tuning VGG19 model"
   ]
  },
  {
   "cell_type": "code",
   "execution_count": 92,
   "id": "1a1f34b9",
   "metadata": {},
   "outputs": [],
   "source": []
  },
  {
   "cell_type": "code",
   "execution_count": 93,
   "id": "18133e33",
   "metadata": {},
   "outputs": [
    {
     "data": {
      "text/plain": [
       "VGG(\n",
       "  (features): Sequential(\n",
       "    (0): Conv2d(3, 64, kernel_size=(3, 3), stride=(1, 1), padding=(1, 1))\n",
       "    (1): ReLU(inplace=True)\n",
       "    (2): Conv2d(64, 64, kernel_size=(3, 3), stride=(1, 1), padding=(1, 1))\n",
       "    (3): ReLU(inplace=True)\n",
       "    (4): MaxPool2d(kernel_size=2, stride=2, padding=0, dilation=1, ceil_mode=False)\n",
       "    (5): Conv2d(64, 128, kernel_size=(3, 3), stride=(1, 1), padding=(1, 1))\n",
       "    (6): ReLU(inplace=True)\n",
       "    (7): Conv2d(128, 128, kernel_size=(3, 3), stride=(1, 1), padding=(1, 1))\n",
       "    (8): ReLU(inplace=True)\n",
       "    (9): MaxPool2d(kernel_size=2, stride=2, padding=0, dilation=1, ceil_mode=False)\n",
       "    (10): Conv2d(128, 256, kernel_size=(3, 3), stride=(1, 1), padding=(1, 1))\n",
       "    (11): ReLU(inplace=True)\n",
       "    (12): Conv2d(256, 256, kernel_size=(3, 3), stride=(1, 1), padding=(1, 1))\n",
       "    (13): ReLU(inplace=True)\n",
       "    (14): Conv2d(256, 256, kernel_size=(3, 3), stride=(1, 1), padding=(1, 1))\n",
       "    (15): ReLU(inplace=True)\n",
       "    (16): Conv2d(256, 256, kernel_size=(3, 3), stride=(1, 1), padding=(1, 1))\n",
       "    (17): ReLU(inplace=True)\n",
       "    (18): MaxPool2d(kernel_size=2, stride=2, padding=0, dilation=1, ceil_mode=False)\n",
       "    (19): Conv2d(256, 512, kernel_size=(3, 3), stride=(1, 1), padding=(1, 1))\n",
       "    (20): ReLU(inplace=True)\n",
       "    (21): Conv2d(512, 512, kernel_size=(3, 3), stride=(1, 1), padding=(1, 1))\n",
       "    (22): ReLU(inplace=True)\n",
       "    (23): Conv2d(512, 512, kernel_size=(3, 3), stride=(1, 1), padding=(1, 1))\n",
       "    (24): ReLU(inplace=True)\n",
       "    (25): Conv2d(512, 512, kernel_size=(3, 3), stride=(1, 1), padding=(1, 1))\n",
       "    (26): ReLU(inplace=True)\n",
       "    (27): MaxPool2d(kernel_size=2, stride=2, padding=0, dilation=1, ceil_mode=False)\n",
       "    (28): Conv2d(512, 512, kernel_size=(3, 3), stride=(1, 1), padding=(1, 1))\n",
       "    (29): ReLU(inplace=True)\n",
       "    (30): Conv2d(512, 512, kernel_size=(3, 3), stride=(1, 1), padding=(1, 1))\n",
       "    (31): ReLU(inplace=True)\n",
       "    (32): Conv2d(512, 512, kernel_size=(3, 3), stride=(1, 1), padding=(1, 1))\n",
       "    (33): ReLU(inplace=True)\n",
       "    (34): Conv2d(512, 512, kernel_size=(3, 3), stride=(1, 1), padding=(1, 1))\n",
       "    (35): ReLU(inplace=True)\n",
       "    (36): MaxPool2d(kernel_size=2, stride=2, padding=0, dilation=1, ceil_mode=False)\n",
       "  )\n",
       "  (avgpool): AdaptiveAvgPool2d(output_size=(7, 7))\n",
       "  (classifier): Sequential(\n",
       "    (0): Linear(in_features=25088, out_features=4096, bias=True)\n",
       "    (1): ReLU(inplace=True)\n",
       "    (2): Dropout(p=0.5, inplace=False)\n",
       "    (3): Linear(in_features=4096, out_features=4096, bias=True)\n",
       "    (4): ReLU(inplace=True)\n",
       "    (5): Dropout(p=0.5, inplace=False)\n",
       "    (6): Linear(in_features=4096, out_features=1000, bias=True)\n",
       "  )\n",
       ")"
      ]
     },
     "execution_count": 93,
     "metadata": {},
     "output_type": "execute_result"
    }
   ],
   "source": [
    "vgg19"
   ]
  },
  {
   "cell_type": "code",
   "execution_count": 100,
   "id": "37a1753d",
   "metadata": {},
   "outputs": [],
   "source": [
    "class VGG19_Caltech(nn.Module):\n",
    "    \n",
    "    def __init__(self, num_classes=101):\n",
    "        super(VGG19_Caltech, self).__init__()\n",
    "        self.num_classes = num_classes\n",
    "\n",
    "        self.features = vgg19.features\n",
    "        self.avgpool = nn.AdaptiveAvgPool2d((7, 7))\n",
    "        self.classifier = nn.Sequential(\n",
    "            nn.Linear(512 * 7 * 7, 4096),\n",
    "            nn.ReLU(inplace=True),\n",
    "            nn.Dropout(p=0.5),\n",
    "            nn.Linear(4096, 4096),\n",
    "            nn.ReLU(inplace=True),\n",
    "            nn.Dropout(p=0.5),\n",
    "            nn.Linear(4096, num_classes),\n",
    "        )\n",
    "        \n",
    "    def forward(self, x):\n",
    "        x = self.features(x)\n",
    "        x = self.avgpool(x)\n",
    "        x = self.classifier(x)\n",
    "        return x"
   ]
  },
  {
   "cell_type": "code",
   "execution_count": 101,
   "id": "8783dfc2",
   "metadata": {},
   "outputs": [],
   "source": [
    "model = VGG19_Caltech()"
   ]
  },
  {
   "cell_type": "code",
   "execution_count": null,
   "id": "d29bcc54",
   "metadata": {},
   "outputs": [],
   "source": [
    "# --- TODO: training model with caltech data"
   ]
  },
  {
   "cell_type": "code",
   "execution_count": null,
   "id": "9b6511ce",
   "metadata": {},
   "outputs": [],
   "source": [
    "# --- TODO: compare vgg19 performance vs vgg19 performance"
   ]
  }
 ],
 "metadata": {
  "kernelspec": {
   "display_name": "Python 3 (ipykernel)",
   "language": "python",
   "name": "python3"
  },
  "language_info": {
   "codemirror_mode": {
    "name": "ipython",
    "version": 3
   },
   "file_extension": ".py",
   "mimetype": "text/x-python",
   "name": "python",
   "nbconvert_exporter": "python",
   "pygments_lexer": "ipython3",
   "version": "3.11.6"
  }
 },
 "nbformat": 4,
 "nbformat_minor": 5
}
