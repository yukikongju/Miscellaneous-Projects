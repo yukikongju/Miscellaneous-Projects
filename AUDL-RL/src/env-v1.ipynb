{
 "cells": [
  {
   "cell_type": "markdown",
   "id": "3108fa7d-8f0f-4a21-bc2a-799f6caf615b",
   "metadata": {},
   "source": [
    "Notebook Overview:\n",
    "1. Code for Ultimate Gym Env using UltimateField class\n",
    "   - [ ] write step() function + test episode in main.py\n",
    "3. Code RL Agent\n",
    "4. Train agent\n",
    "5. Visualize Value Function"
   ]
  },
  {
   "cell_type": "code",
   "execution_count": 1,
   "id": "941f81b9-e9b2-421a-a9ab-625121aa4a38",
   "metadata": {},
   "outputs": [],
   "source": [
    "import pandas as pd\n",
    "import numpy as np\n",
    "import matplotlib.pyplot as plt"
   ]
  },
  {
   "cell_type": "markdown",
   "id": "c95fc116-26a4-44ca-8acd-146e40f1f008",
   "metadata": {},
   "source": [
    "## 1. Code Gym Environment "
   ]
  },
  {
   "cell_type": "code",
   "execution_count": 2,
   "id": "e25b1eb8-e55c-4e98-94bb-8637ef9e5d83",
   "metadata": {},
   "outputs": [
    {
     "name": "stdout",
     "output_type": "stream",
     "text": [
      "check error\n"
     ]
    },
    {
     "name": "stderr",
     "output_type": "stream",
     "text": [
      "/home/yukikongju/.local/lib/python3.8/site-packages/pandas/core/indexing.py:1667: SettingWithCopyWarning: \n",
      "A value is trying to be set on a copy of a slice from a DataFrame.\n",
      "Try using .loc[row_indexer,col_indexer] = value instead\n",
      "\n",
      "See the caveats in the documentation: https://pandas.pydata.org/pandas-docs/stable/user_guide/indexing.html#returning-a-view-versus-a-copy\n",
      "  self.obj[key] = value\n",
      "/home/yukikongju/.local/lib/python3.8/site-packages/pandas/core/indexing.py:1773: SettingWithCopyWarning: \n",
      "A value is trying to be set on a copy of a slice from a DataFrame.\n",
      "Try using .loc[row_indexer,col_indexer] = value instead\n",
      "\n",
      "See the caveats in the documentation: https://pandas.pydata.org/pandas-docs/stable/user_guide/indexing.html#returning-a-view-versus-a-copy\n",
      "  self._setitem_single_column(ilocs[0], value, pi)\n"
     ]
    }
   ],
   "source": [
    "from UltimateField import UltimateGameResults\n",
    "\n",
    "GAME_ID, TEAM_EXT_ID = \"2023-08-26-SLC-NY\", \"empire\"\n",
    "game = UltimateGameResults(game_id=GAME_ID, team_ext_id=TEAM_EXT_ID)"
   ]
  },
  {
   "cell_type": "code",
   "execution_count": 3,
   "id": "aefc4c29-0f15-4c51-b3aa-6b9ad929cb07",
   "metadata": {},
   "outputs": [
    {
     "data": {
      "text/plain": [
       "1.0"
      ]
     },
     "execution_count": 3,
     "metadata": {},
     "output_type": "execute_result"
    }
   ],
   "source": [
    "game.throws_distributions.throws_distribution[('dump', 'left')][0][0].surface_proba_mean.item()"
   ]
  },
  {
   "cell_type": "code",
   "execution_count": 7,
   "id": "f1d54e10-4709-4d76-b84f-b77d6d400df9",
   "metadata": {},
   "outputs": [
    {
     "data": {
      "text/plain": [
       "10"
      ]
     },
     "execution_count": 7,
     "metadata": {},
     "output_type": "execute_result"
    }
   ],
   "source": [
    "# game.field_width\n",
    "len(game.throws_distributions.throws_distribution)"
   ]
  },
  {
   "cell_type": "code",
   "execution_count": 9,
   "id": "cb33f583-b479-4038-b69f-ceb762d1227d",
   "metadata": {},
   "outputs": [
    {
     "data": {
      "text/plain": [
       "17"
      ]
     },
     "execution_count": 9,
     "metadata": {},
     "output_type": "execute_result"
    }
   ],
   "source": [
    "np.random.choice(range(20))"
   ]
  },
  {
   "cell_type": "code",
   "execution_count": 10,
   "id": "8938a7ff-b78b-4c51-96b8-886673ac998f",
   "metadata": {},
   "outputs": [
    {
     "data": {
      "text/plain": [
       "dict_keys([('dump', 'left'), ('dump', 'right'), ('swing', 'left'), ('swing', 'right'), ('dish', 'left'), ('dish', 'right'), ('huck', 'left'), ('huck', 'right'), ('pass', 'left'), ('pass', 'right')])"
      ]
     },
     "execution_count": 10,
     "metadata": {},
     "output_type": "execute_result"
    }
   ],
   "source": [
    "game.throws_distributions.throws_distribution.keys()"
   ]
  },
  {
   "cell_type": "code",
   "execution_count": 23,
   "id": "780449cb-9054-4963-b3b3-605eb9db3d9a",
   "metadata": {},
   "outputs": [
    {
     "data": {
      "text/plain": [
       "0"
      ]
     },
     "execution_count": 23,
     "metadata": {},
     "output_type": "execute_result"
    }
   ],
   "source": [
    "# tt, ts = list(game.throws_distributions.throws_distribution.keys())[0]\n",
    "t = {action: throws for action, throws in enumerate(game.throws_distributions.throws_distribution.keys())}\n",
    "t1 = {throws: action for action, throws in t.items()}\n",
    "t1[('dump', 'left')]"
   ]
  },
  {
   "cell_type": "code",
   "execution_count": 26,
   "id": "dbab404e-dfc7-4ffd-a08b-2dbf7b1ec104",
   "metadata": {},
   "outputs": [
    {
     "data": {
      "text/plain": [
       "0.28620535163581884"
      ]
     },
     "execution_count": 26,
     "metadata": {},
     "output_type": "execute_result"
    }
   ],
   "source": [
    "np.random.uniform()"
   ]
  },
  {
   "cell_type": "code",
   "execution_count": 29,
   "id": "55ea646c-ef87-4c92-96d6-572d88f5cdda",
   "metadata": {},
   "outputs": [
    {
     "data": {
      "text/plain": [
       "1.0"
      ]
     },
     "execution_count": 29,
     "metadata": {},
     "output_type": "execute_result"
    }
   ],
   "source": [
    "getattr(game.throws_distributions.throws_distribution[('dump', 'left')][0][0], 'surface_proba_mean').item()"
   ]
  },
  {
   "cell_type": "code",
   "execution_count": 168,
   "id": "59bca65f-c189-4c1e-a81e-0ac8cb156853",
   "metadata": {},
   "outputs": [],
   "source": [
    "import math\n",
    "import numpy as np\n",
    "import pandas as pd\n",
    "import gymnasium as gym\n",
    "\n",
    "from UltimateField import UltimateGameResults\n",
    "\n",
    "\n",
    "class UltimateFrisbeeEnv(gym.Env):\n",
    "\n",
    "\n",
    "    def __init__(self, game_results: UltimateGameResults):\n",
    "        \"\"\"\n",
    "\n",
    "        Parameters\n",
    "        ----------\n",
    "        action_space:\n",
    "            > (throw_type, distance, angle)\n",
    "\n",
    "        \"\"\"\n",
    "        self.game_results = game_results\n",
    "        self.field_width = game_results.field_width\n",
    "        self.field_length = game_results.field_length\n",
    "        self.endzone_length = game_results.endzone_length\n",
    "        #  self.offset_width = game_results.offset_width\n",
    "\n",
    "        # define observation and action space\n",
    "        self.n_actions = len(self.game_results.throws_distributions.throws_distribution)\n",
    "        self.n_states = self.field_width * self.field_length\n",
    "        self.observation_space = gym.spaces.Discrete(self.n_states)\n",
    "        self.action_space = gym.spaces.Discrete(self.n_actions)\n",
    "\n",
    "        # init (throw_type, throw_side) <-> action mapping\n",
    "        self.dct_action_to_throws, self.dct_throws_to_action = self._init_throw_action_mapping()\n",
    "\n",
    "        # reset environment state\n",
    "        self.state, self.info = self.reset()\n",
    "\n",
    "    def reset(self):\n",
    "        \"\"\"\n",
    "        Start catching the pull at a random position. \n",
    "        Assumptions: \n",
    "            - pull is always caught\n",
    "            - pull is thrown in the last third of the field\n",
    "\n",
    "        Parameters\n",
    "        ----------\n",
    "        state: (int, int)\n",
    "            > disc position\n",
    "        info: dict\n",
    "\n",
    "        \"\"\"\n",
    "        # generate where the pull is caught \n",
    "        x = np.random.choice(range(self.field_width))\n",
    "        y = np.random.choice(range(self.field_length // 3))\n",
    "        state = (x, y)\n",
    "        # print(state)\n",
    "        info = {}\n",
    "        return state, info\n",
    "\n",
    "    def _init_throw_action_mapping(self):\n",
    "        \"\"\"\n",
    "\n",
    "        Returns\n",
    "        -------\n",
    "        dct_action_to_throws: dict => (action: int, (throw_type: str, throw_side: str))\n",
    "            > dictionary that maps action to (throw_type, throw_side)\n",
    "        dct_throws_to_action: dict => ((throw_type: str, throw_side: str), action: int)\n",
    "            > dictionary that maps (throw_type, throw_side) to action\n",
    "        \"\"\"\n",
    "        dct_action_to_throws = {action: throws for action, throws in enumerate(game.throws_distributions.throws_distribution.keys())}\n",
    "        dct_throws_to_action = {throws: action for action, throws in dct_action_to_throws.items()}\n",
    "        return dct_action_to_throws, dct_throws_to_action\n",
    "\n",
    "    def get_type_side_map(self, throw_type: str, throw_side: str) -> int: \n",
    "        \"\"\"\n",
    "        Given throw_type and throw_side, return action number\n",
    "        See get_action_type_side() for its inverse\n",
    "        \n",
    "        Example\n",
    "        -------\n",
    "        > get_type_side_map(throw_type='dump', throw_side='left')\n",
    "        > 1\n",
    "        \"\"\"\n",
    "        return self.dct_throws_to_action[(throw_type, throw_side)]\n",
    "\n",
    "\n",
    "    def get_action_type_side(self, action: int) -> (str, str):\n",
    "        \"\"\"\n",
    "        Given action, return throw_type and throw_side\n",
    "        See get_type_side_map() for its inverse\n",
    "        \"\"\"\n",
    "        return self.dct_action_to_throws[action]\n",
    "\n",
    "    def get_current_throw_distribution(self, action: int, param: str):\n",
    "        \"\"\"\n",
    "        Given action, return throw distribution for current state-action\n",
    "\n",
    "        \"\"\"\n",
    "\n",
    "        x_pos, y_pos = self.state\n",
    "        throw_type, throw_side = self.get_action_type_side(action)\n",
    "        #  print(action, x_pos, y_pos, throw_type, throw_side)\n",
    "        param_value = getattr(self.game_results.throws_distributions.throws_distribution[(throw_type, throw_side)][x_pos][y_pos], param).item()\n",
    "        return param_value\n",
    "\n",
    "\n",
    "    def step(self, action: int): # TO TEST\n",
    "        \"\"\"\n",
    "\n",
    "        \"\"\"\n",
    "        # make the throw + determine if success or not + update state\n",
    "        is_throw_successful = self._is_throw_successful(action)\n",
    "\n",
    "        # give reward + determine if we are done (turnover or endzone) + info\n",
    "        next_state, reward, done, info = self.__step(action, is_throw_successful)\n",
    "        # print(next_state)\n",
    "        self.state = next_state\n",
    "\n",
    "        return next_state, reward, done, info \n",
    "\n",
    "    def _is_throw_successful(self, action) -> bool:\n",
    "        \"\"\" \n",
    "        Helper function for step() : determine whether a throw is successful or\n",
    "        not\n",
    "\n",
    "        Parameters\n",
    "        ----------\n",
    "        action: int\n",
    "\n",
    "        Returns\n",
    "        -------\n",
    "        is_successful: bool\n",
    "            > True if throw was successful (ie caught); False if turnover or stall\n",
    "        \"\"\"\n",
    "        success_mean = self.get_current_throw_distribution(action, 'surface_proba_mean')\n",
    "        success_var = self.get_current_throw_distribution(action, 'surface_proba_var')\n",
    "\n",
    "        # what if proba > 1 or proba < 0\n",
    "        expected_proba = np.random.normal(success_mean, np.sqrt(success_var))\n",
    "        success_proba_upper = min(1.0, expected_proba)\n",
    "        success_proba_lower = max(0.0, expected_proba)\n",
    "        success_proba = min(success_proba_upper, success_proba_lower)\n",
    "        #  print(success_proba)\n",
    "\n",
    "        return np.random.uniform() <= success_proba\n",
    "\n",
    "\n",
    "    def __step(self, action: int, is_throw_successful: bool):\n",
    "        \"\"\"\n",
    "        Helper function for step() : return next_state, reward, done, info given a \n",
    "        successful throw\n",
    "\n",
    "        Reward function:\n",
    "        > -1 per throw\n",
    "        > +200 per endzone completion\n",
    "        > -200 per turnover\n",
    "\n",
    "        Returns\n",
    "        -------\n",
    "        next_state: (int, int)\n",
    "            > disc position after throw is caught\n",
    "        reward: int\n",
    "            > reward of successful pass or a throw\n",
    "        done: bool\n",
    "            > determine if point is over ie if a turnover occured or point scored\n",
    "        info: dict\n",
    "            > additional information\n",
    "        \"\"\"\n",
    "        # \n",
    "        if not is_throw_successful:\n",
    "            return self.state, -200, True, {'outcome': 'turnover'}\n",
    "\n",
    "        # - determine next state from x_delta and y_delta\n",
    "        x_delta_mean = self.get_current_throw_distribution(action, 'x_delta_mean')\n",
    "        x_delta_var = self.get_current_throw_distribution(action, 'x_delta_var')\n",
    "        y_delta_mean = self.get_current_throw_distribution(action, 'y_delta_mean')\n",
    "        y_delta_var = self.get_current_throw_distribution(action, 'y_delta_var')\n",
    "\n",
    "        # compute throw distance with normal distribution\n",
    "        x_delta = math.floor(np.random.normal(x_delta_mean, np.sqrt(x_delta_var)))\n",
    "        y_delta = math.floor(np.random.normal(y_delta_mean, np.sqrt(y_delta_var)))\n",
    "\n",
    "        # make sure that throw is inbounds \n",
    "        x_pos, y_pos = self.state\n",
    "        x_new_pos = max(0, min(x_pos + x_delta, self.field_width - 1))\n",
    "        y_new_pos = max(0, min(y_pos + y_delta, self.field_length - 1))\n",
    "        next_state = (x_new_pos, y_new_pos)\n",
    "        #  print(next_state)\n",
    "\n",
    "        # - verify if team has scored\n",
    "        if (self.field_length - self.endzone_length < y_new_pos < self.field_length):\n",
    "            #  print(self.field_length - self.endzone_length, y_new_pos, self.field_length)\n",
    "            done = True\n",
    "            reward = 100\n",
    "            info = {'outcome': 'goal'}\n",
    "        else: \n",
    "            done = False\n",
    "            reward = -1\n",
    "            info = {'outcome': 'in progress'}\n",
    "\n",
    "        return next_state, reward, done, info\n",
    "        \n",
    "\n",
    "    def render(self, ): # TODO\n",
    "        \"\"\"\n",
    "\n",
    "        \"\"\"\n",
    "        pass\n",
    "        \n"
   ]
  },
  {
   "cell_type": "code",
   "execution_count": 169,
   "id": "26599def-74fc-47ca-8cb3-3d21e45ab01d",
   "metadata": {},
   "outputs": [],
   "source": [
    "env = UltimateFrisbeeEnv(game_results=game)"
   ]
  },
  {
   "cell_type": "code",
   "execution_count": null,
   "id": "af515eef-ce33-4a27-9183-b87f7bf0c8d1",
   "metadata": {},
   "outputs": [],
   "source": [
    "# --- testing one episode\n",
    "\n",
    "for _ in range(100):\n",
    "    state = env.reset()\n",
    "    done = False\n",
    "    while not done: \n",
    "        selected_action = np.random.choice(range(env.n_actions))\n",
    "        next_state, reward, done, info = env.step(selected_action)\n",
    "        # print(info)\n",
    "\n"
   ]
  },
  {
   "cell_type": "code",
   "execution_count": null,
   "id": "07ec08e8-6a7d-450f-b7d3-1da68da8ceb1",
   "metadata": {},
   "outputs": [],
   "source": []
  },
  {
   "cell_type": "code",
   "execution_count": null,
   "id": "929ac8b3-b839-49e4-86da-fe55f8e025c7",
   "metadata": {},
   "outputs": [],
   "source": []
  }
 ],
 "metadata": {
  "kernelspec": {
   "display_name": "Python 3 (ipykernel)",
   "language": "python",
   "name": "python3"
  },
  "language_info": {
   "codemirror_mode": {
    "name": "ipython",
    "version": 3
   },
   "file_extension": ".py",
   "mimetype": "text/x-python",
   "name": "python",
   "nbconvert_exporter": "python",
   "pygments_lexer": "ipython3",
   "version": "3.8.10"
  }
 },
 "nbformat": 4,
 "nbformat_minor": 5
}
