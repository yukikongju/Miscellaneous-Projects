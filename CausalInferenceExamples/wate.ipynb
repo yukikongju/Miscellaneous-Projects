{
 "cells": [
  {
   "cell_type": "markdown",
   "metadata": {},
   "source": [
    "# WATE"
   ]
  },
  {
   "cell_type": "markdown",
   "metadata": {},
   "source": [
    "**Subclassification Method => weighting differences in means by strate-specific weights**\n",
    "\n",
    "Question: Was being seated in first class improve your odds of survival during the Titanic sink?\n",
    "\n",
    "Variables:\n",
    "- D: is First Class\n",
    "- Y: Survived?\n",
    "- W: is woman?\n",
    "- C: is child?\n",
    "\n",
    "WATE Assumptions:\n",
    "- Common Support Assumption => there exist observations in both treatment and control in each strata\n",
    "- Backdoor Criterion => \n",
    "\n",
    "https://mixtape.scunning.com/05-matching_and_subclassification"
   ]
  },
  {
   "cell_type": "markdown",
   "metadata": {},
   "source": [
    "### Reading the data"
   ]
  },
  {
   "cell_type": "code",
   "execution_count": null,
   "metadata": {},
   "outputs": [],
   "source": [
    "import numpy as np \n",
    "import pandas as pd \n",
    "import statsmodels.api as sm \n",
    "import statsmodels.formula.api as smf \n",
    "from itertools import combinations \n",
    "# import plotnine as p\n",
    "\n",
    "# read data\n",
    "import ssl\n",
    "ssl._create_default_https_context = ssl._create_unverified_context\n",
    "def read_data(file): \n",
    "    return pd.read_stata(\"https://github.com/scunning1975/mixtape/raw/master/\" + file)\n",
    "\n",
    "df = read_data(\"titanic.dta\")"
   ]
  },
  {
   "cell_type": "markdown",
   "metadata": {},
   "source": [
    "### Data Exploration"
   ]
  },
  {
   "cell_type": "code",
   "execution_count": null,
   "metadata": {},
   "outputs": [],
   "source": [
    "for col in df.columns:\n",
    "    print(col, df[col].unique())"
   ]
  },
  {
   "cell_type": "markdown",
   "metadata": {},
   "source": [
    "### Method 1: Computing Simple Difference in Outcomes (SDO)"
   ]
  },
  {
   "cell_type": "code",
   "execution_count": null,
   "metadata": {},
   "outputs": [],
   "source": [
    "Y1 = df[df['class'] == '1st class'] ['survived']\n",
    "# Y0 = df[df['class'].isin(['2nd class', '3rd class'])] ['survived']\n",
    "Y0 = df[df['class'] != '1st class'] ['survived']\n"
   ]
  },
  {
   "cell_type": "code",
   "execution_count": null,
   "metadata": {},
   "outputs": [],
   "source": [
    "EY1 = sum([1 for val in Y1 if val == 'yes']) / len(Y1)\n"
   ]
  },
  {
   "cell_type": "code",
   "execution_count": null,
   "metadata": {},
   "outputs": [],
   "source": [
    "EY0 = sum([1 for val in Y0 if val == 'yes']) / len(Y0)\n"
   ]
  },
  {
   "cell_type": "code",
   "execution_count": null,
   "metadata": {},
   "outputs": [],
   "source": [
    "print(f\"SDO: {EY1 - EY0}\")"
   ]
  },
  {
   "cell_type": "markdown",
   "metadata": {},
   "source": [
    "### Method 2: Subclassification - Considering Age and Sex (DEPR)"
   ]
  },
  {
   "cell_type": "markdown",
   "metadata": {},
   "source": [
    "Weighted average between each class:\n",
    "- Row - D: young male, young female, adult male, adult female\n",
    "- Column - Yi: Survived\n",
    "- Column - C: Count"
   ]
  },
  {
   "cell_type": "code",
   "execution_count": null,
   "metadata": {},
   "outputs": [],
   "source": [
    "dff = df.copy()\n",
    "# dff[dff['class'] != '1st class']['class'] = '2nd class+'\n",
    "dff['class'] = dff['class'].replace({'2nd class': 'other class', '3rd class': 'other class'\n",
    "                                    , 'crew': 'other class'\n",
    "                                     })\n",
    "dff['survived'] = dff['survived'].replace({'yes': 1, 'no': 0})"
   ]
  },
  {
   "cell_type": "code",
   "execution_count": null,
   "metadata": {},
   "outputs": [],
   "source": [
    "t = dff.groupby(['class', 'age', 'sex']).agg({'survived': ['count', 'mean']}).reset_index()\n",
    "# t.columns = t.columns.get_level_values(0)\n",
    "# t.columns = ['_'.join(col).strip() if col[1] else col[0] for col in t.columns.values ]\n",
    "t.columns = [col[1] if col[1] else col[0] for col in t.columns.values ]"
   ]
  },
  {
   "cell_type": "code",
   "execution_count": null,
   "metadata": {},
   "outputs": [],
   "source": [
    "t1 = t.pivot_table(values=['mean', 'count'], columns=['class'], index=['age', 'sex']).reset_index()\n"
   ]
  },
  {
   "cell_type": "code",
   "execution_count": null,
   "metadata": {},
   "outputs": [],
   "source": [
    "t1"
   ]
  },
  {
   "cell_type": "code",
   "execution_count": null,
   "metadata": {},
   "outputs": [],
   "source": [
    "def compute_subclass_average(df: pd.DataFrame, subclass: str):\n",
    "    N = t1[('count', subclass)].sum().sum()\n",
    "    # EY = (t1[('count', subclass)] / N * t1[('mean', subclass)]).sum()\n",
    "    EY = ((t1[('count', subclass)] * t1[('mean', subclass)]).sum()) / N\n",
    "    return EY"
   ]
  },
  {
   "cell_type": "code",
   "execution_count": null,
   "metadata": {},
   "outputs": [],
   "source": [
    "EY1 = compute_subclass_average(t1, '1st class')\n",
    "EY0 = compute_subclass_average(t1, 'other class')\n",
    "# EY2 = compute_subclass_average(t1, 'crew')"
   ]
  },
  {
   "cell_type": "code",
   "execution_count": null,
   "metadata": {},
   "outputs": [],
   "source": [
    "# print(f\"Weighted ATE 1st class: {EY1}\")\n",
    "# print(f\"Weighted ATE 1st class: {EY0}\")\n",
    "# print(f\"Weighted ATE 1st class: {EY1 - EY2}\")"
   ]
  },
  {
   "cell_type": "code",
   "execution_count": null,
   "metadata": {},
   "outputs": [],
   "source": []
  },
  {
   "cell_type": "markdown",
   "metadata": {},
   "source": [
    "### Method 2: Weighted Average Treatement Effect (WATE)"
   ]
  },
  {
   "cell_type": "code",
   "execution_count": null,
   "metadata": {},
   "outputs": [],
   "source": [
    "dff = df.copy()\n",
    "dff['d'] = 0\n",
    "dff.loc[dff['class'] == '1st class', 'd'] = 1\n",
    "\n",
    "dff['age_d'] = 0\n",
    "dff.loc[dff['age'] == 'adults', 'age_d'] = 1\n",
    "\n",
    "dff['sex_d'] = 0\n",
    "dff.loc[dff['sex'] == 'man', 'sex_d'] = 1\n",
    "\n",
    "dff['survived_d'] = 0\n",
    "dff.loc[dff['survived'] == 'yes', 'survived_d'] = 1"
   ]
  },
  {
   "cell_type": "code",
   "execution_count": null,
   "metadata": {},
   "outputs": [],
   "source": [
    "ey0 = dff.loc[dff['d'] == 0, 'survived_d'].mean()\n",
    "ey1 = dff.loc[dff['d'] == 1, 'survived_d'].mean()\n",
    "print(f\"Simple Difference Outcome (SDO): {ey1 - ey0}\")"
   ]
  },
  {
   "cell_type": "code",
   "execution_count": null,
   "metadata": {},
   "outputs": [],
   "source": [
    "dff['s'] = 0\n",
    "dff.loc[(dff['age_d'] == 0) & (dff['sex_d'] == 0), 's'] = 1\n",
    "dff.loc[(dff['age_d'] == 1) & (dff['sex_d'] == 0), 's'] = 2\n",
    "dff.loc[(dff['age_d'] == 0) & (dff['sex_d'] == 1), 's'] = 3\n",
    "dff.loc[(dff['age_d'] == 1) & (dff['sex_d'] == 1), 's'] = 4"
   ]
  },
  {
   "cell_type": "code",
   "execution_count": null,
   "metadata": {},
   "outputs": [],
   "source": [
    "def compute_wate(df: pd.DataFrame):\n",
    "    df1 = df.loc[df['d'] == 1, 'survived_d']\n",
    "    df0 = df.loc[df['d'] == 0, 'survived_d']\n",
    "    diff = df1.mean() - df0.mean()\n",
    "    weight = df[df['d'] == 0].shape[0] / obs\n",
    "    return weight * diff\n",
    "\n",
    "obs = dff.loc[dff['d'] == 0].shape[0]\n",
    "wate = dff.groupby('s').apply(compute_wate).sum()\n",
    "print(f\"Weight Average Treatment Effect: {wate}\")"
   ]
  },
  {
   "cell_type": "markdown",
   "metadata": {},
   "source": [
    "Using SDO, we see that the average probability of survival in the first class is 35%, but using WATE, this percentage is reduced to 18%"
   ]
  },
  {
   "cell_type": "markdown",
   "metadata": {},
   "source": []
  }
 ],
 "metadata": {
  "kernelspec": {
   "display_name": "dashboards310",
   "language": "python",
   "name": "python3"
  },
  "language_info": {
   "codemirror_mode": {
    "name": "ipython",
    "version": 3
   },
   "file_extension": ".py",
   "mimetype": "text/x-python",
   "name": "python",
   "nbconvert_exporter": "python",
   "pygments_lexer": "ipython3",
   "version": "3.10.0"
  }
 },
 "nbformat": 4,
 "nbformat_minor": 2
}
