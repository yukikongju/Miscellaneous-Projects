{
 "cells": [
  {
   "cell_type": "code",
   "execution_count": null,
   "id": "0",
   "metadata": {},
   "outputs": [],
   "source": [
    "import pandas as pd\n"
   ]
  },
  {
   "cell_type": "markdown",
   "id": "1",
   "metadata": {},
   "source": [
    "### Analyses Ideas"
   ]
  },
  {
   "cell_type": "markdown",
   "id": "2",
   "metadata": {},
   "source": [
    "- "
   ]
  },
  {
   "cell_type": "code",
   "execution_count": null,
   "id": "3",
   "metadata": {},
   "outputs": [],
   "source": []
  },
  {
   "cell_type": "markdown",
   "id": "4",
   "metadata": {},
   "source": [
    "### Read the data"
   ]
  },
  {
   "cell_type": "code",
   "execution_count": null,
   "id": "5",
   "metadata": {},
   "outputs": [],
   "source": [
    "FILE_PATH = \"/Users/emulie/Downloads/bq-results-20250220-145824-1740063653584.csv\"\n",
    "df_raw = pd.read_csv(FILE_PATH)"
   ]
  },
  {
   "cell_type": "code",
   "execution_count": null,
   "id": "6",
   "metadata": {},
   "outputs": [],
   "source": [
    "df_raw.head()"
   ]
  },
  {
   "cell_type": "code",
   "execution_count": null,
   "id": "7",
   "metadata": {},
   "outputs": [],
   "source": [
    "max(df_raw['days_since_first_open'])"
   ]
  },
  {
   "cell_type": "code",
   "execution_count": null,
   "id": "8",
   "metadata": {},
   "outputs": [],
   "source": [
    "metrics = [\n",
    "    'listening_sessions', 'play_content',\n",
    "       'pause_content', 'play_previous', 'play_next', 'screen_content_playing',\n",
    "       'screen_recorder', 'download_content', 'screen_playlist_modal',\n",
    "       'sleep_recorder_landed', 'create_timer', 'toggle_favorite',\n",
    "       'create_favorite', 'create_favorite_result', 'mixer_add_music',\n",
    "       'show_isochronic_dialog', 'mixer_drawer_clear_all'\n",
    "]"
   ]
  },
  {
   "cell_type": "code",
   "execution_count": null,
   "id": "9",
   "metadata": {},
   "outputs": [],
   "source": [
    "USER_PSEUDO_ID = \"B01640707036421AB94DAC64D95CDC50\"\n",
    "df = df_raw[df_raw['user_pseudo_id'] == USER_PSEUDO_ID]"
   ]
  },
  {
   "cell_type": "code",
   "execution_count": null,
   "id": "10",
   "metadata": {},
   "outputs": [],
   "source": [
    "df"
   ]
  },
  {
   "cell_type": "markdown",
   "id": "11",
   "metadata": {},
   "source": [
    "### Cohorting users based on max day in app"
   ]
  },
  {
   "cell_type": "markdown",
   "id": "12",
   "metadata": {},
   "source": [
    "We are looking at users for 2 months and are classifying them into tiers:\n",
    "- T0: only logged day 0\n",
    "- T1: logged day 1\n",
    "- T2: logged between day 2 and 7\n",
    "- T3: logged between day 8 and 30\n",
    "- T4: logged between day 31 and  60\n",
    "\n",
    "To be considered in each tier, every user needs to at least:\n",
    "- go to mixer/player ie go to `screen_content_playing` or `screen_mixer`"
   ]
  },
  {
   "cell_type": "code",
   "execution_count": null,
   "id": "13",
   "metadata": {},
   "outputs": [],
   "source": [
    "df_cohort = df_raw.groupby(['user_pseudo_id']).agg({'days_since_first_open': ['max']}).reset_index()\n",
    "# df_cohort = df_cohort.rename(columns={('days_since_first_open', 'max'): 'max_days_open', \n",
    "#                                       ('days_since_first_open', 'min'): 'first_day_open'})\n",
    "df_cohort.columns = ['user_pseudo_id', 'max_days_open']"
   ]
  },
  {
   "cell_type": "code",
   "execution_count": null,
   "id": "14",
   "metadata": {},
   "outputs": [],
   "source": []
  },
  {
   "cell_type": "code",
   "execution_count": null,
   "id": "15",
   "metadata": {},
   "outputs": [],
   "source": [
    "num_users = df_cohort.shape[0]\n",
    "df_cohort['max_days_open'].value_counts() / num_users * 100"
   ]
  },
  {
   "cell_type": "code",
   "execution_count": null,
   "id": "16",
   "metadata": {},
   "outputs": [],
   "source": []
  },
  {
   "cell_type": "code",
   "execution_count": null,
   "id": "17",
   "metadata": {},
   "outputs": [],
   "source": []
  },
  {
   "cell_type": "markdown",
   "id": "18",
   "metadata": {},
   "source": [
    "### joining user cohort "
   ]
  },
  {
   "cell_type": "code",
   "execution_count": null,
   "id": "19",
   "metadata": {},
   "outputs": [],
   "source": [
    "df_cohorted = pd.merge(df_raw, df_cohort, on='user_pseudo_id')"
   ]
  },
  {
   "cell_type": "code",
   "execution_count": null,
   "id": "20",
   "metadata": {},
   "outputs": [],
   "source": [
    "def get_user_cohort(day: int):\n",
    "    if day == 0:\n",
    "        return 'T0'\n",
    "    elif day == 1:\n",
    "        return 'T1'\n",
    "    elif 1 <= day <= 7:\n",
    "        return 'T2'\n",
    "    elif 8 <= day <= 30:\n",
    "        return 'T3'\n",
    "    else: \n",
    "        return 'T4'\n",
    "\n",
    "df_cohorted['cohort'] = df_cohort['max_days_open'].apply(lambda x: get_user_cohort(x))"
   ]
  },
  {
   "cell_type": "code",
   "execution_count": null,
   "id": "21",
   "metadata": {},
   "outputs": [],
   "source": [
    "# --- get distribution per Tiers\n",
    "df_cohorted['cohort'].value_counts() / num_users * 100"
   ]
  },
  {
   "cell_type": "code",
   "execution_count": null,
   "id": "22",
   "metadata": {},
   "outputs": [],
   "source": [
    "df_cohorted.head()"
   ]
  },
  {
   "cell_type": "markdown",
   "id": "23",
   "metadata": {},
   "source": [
    "### Comparing users behaviors per cohort"
   ]
  },
  {
   "cell_type": "markdown",
   "id": "24",
   "metadata": {},
   "source": [
    "- perform correlation analysis on each cohort"
   ]
  },
  {
   "cell_type": "code",
   "execution_count": null,
   "id": "25",
   "metadata": {},
   "outputs": [],
   "source": [
    "def get_cohort_metric_correlation(df_cohorted, cohort):\n",
    "    return df_cohorted[df_cohorted['cohort'] == cohort][metrics].corr()"
   ]
  },
  {
   "cell_type": "code",
   "execution_count": null,
   "id": "26",
   "metadata": {},
   "outputs": [],
   "source": [
    "correlation_matrices = {}\n",
    "cohorts = df_cohorted['cohort'].unique()\n",
    "for cohort in cohorts:\n",
    "    correlation_matrices[cohort] = get_cohort_metric_correlation(df_cohorted, cohort)"
   ]
  },
  {
   "cell_type": "code",
   "execution_count": null,
   "id": "27",
   "metadata": {},
   "outputs": [],
   "source": []
  },
  {
   "cell_type": "code",
   "execution_count": null,
   "id": "28",
   "metadata": {},
   "outputs": [],
   "source": [
    "# --- visualizing correlation with heatmaps\n",
    "\n",
    "import seaborn as sns\n",
    "import matplotlib.pyplot as plt\n",
    "\n",
    "fig, axes = plt.subplots(1, len(cohorts), figsize=(15, 5))\n",
    "\n",
    "for i, cohort in enumerate(cohorts):\n",
    "    sns.heatmap(correlation_matrices[cohort], annot=True, cmap=\"coolwarm\", ax=axes[i])\n",
    "    axes[i].set_title(f\"Correlation Matrix - {cohort}\")\n",
    "\n",
    "plt.show()\n"
   ]
  },
  {
   "cell_type": "code",
   "execution_count": null,
   "id": "29",
   "metadata": {},
   "outputs": [],
   "source": [
    "# --- Compute Correlation difference between cohorts\n",
    "import numpy as np\n",
    "\n",
    "def compare_cohort_correlation(correlation_matrices, cohort1, cohort2):\n",
    "    # Compute absolute difference\n",
    "    correlation_diff = correlation_matrices[cohort1] - correlation_matrices[cohort2]\n",
    "\n",
    "    # Plot heatmap\n",
    "    plt.figure(figsize=(8, 6))\n",
    "    sns.heatmap(correlation_diff, annot=True, cmap=\"coolwarm\", center=0)\n",
    "    plt.title(f\"Correlation Difference: {cohort1} vs {cohort2}\")\n",
    "    plt.show()\n"
   ]
  },
  {
   "cell_type": "code",
   "execution_count": null,
   "id": "30",
   "metadata": {},
   "outputs": [],
   "source": [
    "compare_cohort_correlation(correlation_matrices, 'T0', 'T1')"
   ]
  },
  {
   "cell_type": "code",
   "execution_count": null,
   "id": "31",
   "metadata": {},
   "outputs": [],
   "source": [
    "# --- compute statistical significance of correlation differences\n",
    "from scipy.stats import fisher_exact\n",
    "\n",
    "def fisher_z_test(r1, r2, n1, n2):\n",
    "    \"\"\" Fisher’s Z-test for correlation differences \"\"\"\n",
    "    z1 = 0.5 * np.log((1 + r1) / (1 - r1))\n",
    "    z2 = 0.5 * np.log((1 + r2) / (1 - r2))\n",
    "    se = np.sqrt(1 / (n1 - 3) + 1 / (n2 - 3))\n",
    "    z_score = (z1 - z2) / se\n",
    "    return z_score\n",
    "\n",
    "def compute_statistical_correlation_differences(correlation_matrices, cohort1, cohort2, metric1, metric2):\n",
    "    r1 = correlation_matrices[cohort1].loc[metric1, metric2]\n",
    "    r2 = correlation_matrices[cohort2].loc[metric1, metric2]\n",
    "\n",
    "    n1 = len(df[df['cohort'] == cohort1])\n",
    "    n2 = len(df[df['cohort'] == cohort2])\n",
    "\n",
    "    z_score = fisher_z_test(r1, r2, n1, n2)\n",
    "    return z_score\n",
    "\n",
    "def find_cohorts_correlation_difference(correlation_matrices, cohort1, cohort2): # todo: upper triangle only\n",
    "    THRESHOLD = 1.96\n",
    "    for i, metric1 in enumerate(metrics):\n",
    "        for j, metric2 in enumerate(metrics[i+1:]):\n",
    "            z_score = compute_statistical_correlation_differences(correlation_matrices, cohort1, cohort2, metric1, metric2)\n",
    "            if z_score > THRESHOLD:\n",
    "                print(f\"Correlation {cohort1}-{cohort2} for {metric1}-{metric2}: {z_score}\")\n"
   ]
  },
  {
   "cell_type": "code",
   "execution_count": null,
   "id": "32",
   "metadata": {},
   "outputs": [],
   "source": [
    "find_cohorts_correlation_difference(correlation_matrices, 'T0', 'T4')"
   ]
  },
  {
   "cell_type": "code",
   "execution_count": null,
   "id": "33",
   "metadata": {},
   "outputs": [],
   "source": [
    "find_cohorts_correlation_difference(correlation_matrices, 'T0', 'T1')\n"
   ]
  },
  {
   "cell_type": "code",
   "execution_count": null,
   "id": "34",
   "metadata": {},
   "outputs": [],
   "source": []
  },
  {
   "cell_type": "code",
   "execution_count": null,
   "id": "35",
   "metadata": {},
   "outputs": [],
   "source": []
  },
  {
   "cell_type": "code",
   "execution_count": null,
   "id": "36",
   "metadata": {},
   "outputs": [],
   "source": [
    "get_cohort_metric_correlation(df_cohorted, 'T0')"
   ]
  },
  {
   "cell_type": "code",
   "execution_count": null,
   "id": "37",
   "metadata": {},
   "outputs": [],
   "source": [
    "get_cohort_metric_correlation(df_cohorted, 'T1')"
   ]
  },
  {
   "cell_type": "code",
   "execution_count": null,
   "id": "38",
   "metadata": {},
   "outputs": [],
   "source": [
    "get_cohort_metric_correlation(df_cohorted, 'T2')"
   ]
  },
  {
   "cell_type": "code",
   "execution_count": null,
   "id": "39",
   "metadata": {},
   "outputs": [],
   "source": [
    "get_cohort_metric_correlation(df_cohorted, 'T3')"
   ]
  },
  {
   "cell_type": "code",
   "execution_count": null,
   "id": "40",
   "metadata": {},
   "outputs": [],
   "source": [
    "get_cohort_metric_correlation(df_cohorted, 'T4')"
   ]
  },
  {
   "cell_type": "code",
   "execution_count": null,
   "id": "41",
   "metadata": {},
   "outputs": [],
   "source": []
  },
  {
   "cell_type": "code",
   "execution_count": null,
   "id": "42",
   "metadata": {},
   "outputs": [],
   "source": []
  },
  {
   "cell_type": "markdown",
   "id": "43",
   "metadata": {},
   "source": [
    "### Comparing cohort behavior on their first day"
   ]
  },
  {
   "cell_type": "markdown",
   "id": "44",
   "metadata": {},
   "source": [
    "Z = \\frac{(X1 - X2) - \\mu}{\\sqrt{\\sigma_1^2 + \\sigma_2^2}}"
   ]
  },
  {
   "cell_type": "code",
   "execution_count": null,
   "id": "45",
   "metadata": {},
   "outputs": [],
   "source": [
    "df_cohorted.head()"
   ]
  },
  {
   "cell_type": "code",
   "execution_count": null,
   "id": "46",
   "metadata": {},
   "outputs": [],
   "source": [
    "# filtering user rows from their first day\n",
    "is_first_day = df_cohorted['first_open_date'] == df_cohorted['event_date']\n",
    "df_firstday = df_cohorted[is_first_day]"
   ]
  },
  {
   "cell_type": "code",
   "execution_count": null,
   "id": "47",
   "metadata": {},
   "outputs": [],
   "source": []
  },
  {
   "cell_type": "code",
   "execution_count": null,
   "id": "48",
   "metadata": {},
   "outputs": [],
   "source": [
    "# --- computing the average user for T0\n",
    "tierA = 'T0'\n",
    "tierB = 'T3'\n",
    "is_tierA, is_tierB = df_firstday['cohort'] == tierA, df_firstday['cohort'] == tierB\n",
    "df_tierA, df_tierB = df_firstday[is_tierA], df_firstday[is_tierB]\n",
    "df_tierA = df_tierA.drop(columns=['user_pseudo_id', 'os', 'first_open_date', 'event_date', 'time_bucket', 'cohort'])\n",
    "df_tierB = df_tierB.drop(columns=['user_pseudo_id', 'os', 'first_open_date', 'event_date', 'time_bucket', 'cohort'])\n",
    "\n"
   ]
  },
  {
   "cell_type": "code",
   "execution_count": null,
   "id": "49",
   "metadata": {},
   "outputs": [],
   "source": [
    "(df_tierA.mean() - df_tierB.mean()) / (np.sqrt(df_tierA.var() + df_tierB.var()))"
   ]
  },
  {
   "cell_type": "code",
   "execution_count": null,
   "id": "50",
   "metadata": {},
   "outputs": [],
   "source": [
    "from scipy.stats import zscore\n",
    "\n",
    "z_tierA = df_tierA.apply(zscore)\n",
    "z_tierB = df_tierB.apply(zscore)\n",
    "\n",
    "zscore_diff = z_tierA.mean() - z_tierB.mean()\n"
   ]
  },
  {
   "cell_type": "code",
   "execution_count": null,
   "id": "51",
   "metadata": {},
   "outputs": [],
   "source": []
  },
  {
   "cell_type": "code",
   "execution_count": null,
   "id": "52",
   "metadata": {},
   "outputs": [],
   "source": []
  },
  {
   "cell_type": "code",
   "execution_count": null,
   "id": "53",
   "metadata": {},
   "outputs": [],
   "source": [
    "# --- computing the average user for T4"
   ]
  }
 ],
 "metadata": {
  "kernelspec": {
   "display_name": "Python 3 (ipykernel)",
   "language": "python",
   "name": "python3"
  },
  "language_info": {
   "codemirror_mode": {
    "name": "ipython",
    "version": 3
   },
   "file_extension": ".py",
   "mimetype": "text/x-python",
   "name": "python",
   "nbconvert_exporter": "python",
   "pygments_lexer": "ipython3",
   "version": "3.10.2"
  }
 },
 "nbformat": 4,
 "nbformat_minor": 5
}
